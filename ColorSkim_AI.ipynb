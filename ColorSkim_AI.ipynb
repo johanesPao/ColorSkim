{
 "cells": [
  {
   "cell_type": "markdown",
   "metadata": {},
   "source": [
    "# ColorSkim Machine Learning AI\n",
    "\n"
   ]
  },
  {
   "cell_type": "code",
   "execution_count": 21,
   "metadata": {},
   "outputs": [],
   "source": [
    " # * import modul dasar\n",
    "import os\n",
    "import random\n",
    "\n",
    " # * import pandas, numpy dan tensorflow\n",
    "import pandas as pd\n",
    "import numpy as np\n",
    "import tensorflow as tf\n",
    "\n",
    " # * import daftar device terdeteksi oleh tensorflow\n",
    "from tensorflow.python.client.device_lib import list_local_devices\n",
    "\n",
    " # * import utilitas umum tensorflow\n",
    "from tensorflow.config import run_functions_eagerly # type: ignore\n",
    "from tensorflow.data.experimental import enable_debug_mode # type: ignore\n",
    "\n",
    " # * import pembuatan dataset\n",
    "from sklearn.model_selection import train_test_split\n",
    "\"\"\"\n",
    "! karena struktur objek dalam tf.data.Dataset, from_tensor_slices() \n",
    "! tidak dapat dipanggil secara langsung dalam modul import\n",
    "\"\"\"\n",
    "from_tensor_slices = tf.data.Dataset.from_tensor_slices\n",
    "\n",
    " # * import preprocessing data\n",
    "from sklearn.preprocessing import OneHotEncoder, LabelEncoder\n",
    "import tensorflow_hub as hub\n",
    "\n",
    "\n",
    " # * import pipeline scikit untuk model_0\n",
    "from sklearn.pipeline import Pipeline\n",
    "\n",
    " # * import layer neural network\n",
    "from sklearn.feature_extraction.text import TfidfVectorizer\n",
    "from sklearn.naive_bayes import MultinomialNB\n",
    "from tensorflow.keras.layers import Input, Conv1D, Dense, GlobalMaxPooling1D# type: ignore\n",
    "from tensorflow.keras.layers import TextVectorization # type: ignore\n",
    "from tensorflow.keras.layers import Embedding # type: ignore\n",
    "\n",
    " # * import fungsi loss dan optimizer\n",
    "from tensorflow.keras.losses import BinaryCrossentropy # type: ignore\n",
    "from tensorflow.keras.optimizers import Adam # type: ignore\n",
    "\n",
    " # * import model Functional API tensorflow\n",
    "from tensorflow.keras import Model # type: ignore\n",
    "\n",
    " # * import callbacks untuk tensorflow\n",
    "from tensorflow.keras.callbacks import ModelCheckpoint, EarlyStopping, ReduceLROnPlateau # type: ignore\n",
    "\n",
    " # * import model terbaik, metriks dan alat evaluasi\n",
    "from sklearn.metrics import accuracy_score, precision_recall_fscore_support, confusion_matrix\n",
    "from tensorflow.keras.models import load_model # type: ignore\n",
    "\n",
    " # * import grafik\n",
    "import matplotlib.pyplot as plt\n",
    "import seaborn as sns\n",
    "\n",
    " # * import display untuk menampilkan dataframe berdasar settingan tertentu (situasional)\n",
    "from IPython.display import display\n",
    "\n",
    " # * import library log untuk training\n",
    "import wandb as wb\n",
    "from wandb.keras import WandbCallback\n",
    "\n",
    " # * import kunci untuk login wandb\n",
    "from rahasia import API_KEY_WANDB # type: ignore\n",
    "\n",
    " # ! set output tensorflow\n",
    "run_functions_eagerly(True)\n",
    "enable_debug_mode()\n",
    "\n",
    " # ! set matplotlib untuk menggunakan tampilan seaborn\n",
    "sns.set()"
   ]
  },
  {
   "cell_type": "code",
   "execution_count": 22,
   "metadata": {},
   "outputs": [
    {
     "data": {
      "text/plain": [
       "name: \"/device:GPU:0\"\n",
       "device_type: \"GPU\"\n",
       "memory_limit: 1408103015\n",
       "locality {\n",
       "  bus_id: 1\n",
       "  links {\n",
       "  }\n",
       "}\n",
       "incarnation: 3857043846198243145\n",
       "physical_device_desc: \"device: 0, name: NVIDIA GeForce MX250, pci bus id: 0000:02:00.0, compute capability: 6.1\"\n",
       "xla_global_id: 416903419"
      ]
     },
     "execution_count": 22,
     "metadata": {},
     "output_type": "execute_result"
    }
   ],
   "source": [
    " # ? cek ketersediaan GPU untuk modeling\n",
    " # * NVidia GeForce MX250 - office\n",
    " # * NVidia GeForce GTX1060 - home\n",
    "list_local_devices()[1]"
   ]
  },
  {
   "cell_type": "markdown",
   "metadata": {},
   "source": [
    "## Variabel Global"
   ]
  },
  {
   "cell_type": "code",
   "execution_count": 23,
   "metadata": {},
   "outputs": [],
   "source": [
    "DIR_MODEL_CHECKPOINT = 'colorskim_checkpoint'\n",
    " # * kita akan mengatur toleransi_es sebagai fraksi (fraksi_toleransi) tertentu dari jumlah total epoch\n",
    " # * dan toleransi_rlop sebagai toleransi_es dibagi dengan jumlah kesempatan (kesempatan_rlop)\n",
    " # * dilakukannya reduksi pada learning_rate \n",
    "EPOCHS = 1000\n",
    "UKURAN_BATCH = 32\n",
    "FRAKSI_TOLERANSI = 0.01\n",
    "KESEMPATAN_RLOP = 5\n",
    "TOLERANSI_ES = int(EPOCHS*FRAKSI_TOLERANSI)\n",
    "TOLERANSI_RLOP = int(TOLERANSI_ES/KESEMPATAN_RLOP)\n",
    "FRAKSI_REDUKSI_LR = 0.1\n",
    "METRIK_MONITOR = 'val_accuracy'\n",
    "RANDOM_STATE = 11\n",
    " # ! untuk mencegah overfitting, kita akan memberikan ruang yang cukup besar \n",
    " # ! untuk test_data dan memperkecil porsi train_data dengan jumlah epoch\n",
    " # ! yang besar sehingga model masih memiliki waktu untuk melakukan\n",
    " # ! training pada train_data\n",
    "RASIO_TEST_TRAIN = 0.4\n",
    "\n",
    " # * wandb init\n",
    "wandb = {'proyek': 'ColorSkim',\n",
    "         'user': 'jpao'}"
   ]
  },
  {
   "cell_type": "markdown",
   "metadata": {},
   "source": [
    "## Callbacks\n",
    "\n",
    "Beberapa *callbacks* yang akan digunakan dalam proses *training* model diantaranya:\n",
    "* `WandbCallback` - *Callback* ke [wandb.ai](https://wandb.ai) untuk mencatat log dari sesi *training* model.\n",
    "* `ModelCheckpoint` - Untuk menyimpan model dengan *val_loss* terbaik dari seluruh *epoch* dalam *training* model.\n",
    "* `EarlyStopping` (ES) - *Callback* ini digunakan untuk menghentikan proses *training* model jika selama beberapa *epoch* model tidak mengalami perbaikan pada metrik *val_loss*-nya. *Callback* ini juga digunakan bersama dengan `ReduceLROnPlateau` dimana *patience* ES > *patience* RLOP.\n",
    "* `ReduceLROnPlateau` (RLOP) - *Callback* ini digunakan untuk memperkecil *learning_rate* dari model jika tidak mengalami perbaikan *val_loss* selama beberapa *epoch*.\n",
    "\n",
    "*Patience* dari ES di-set lebih tinggi dari *patience* RLOP untuk memberikan kesempatan bagi RLOP untuk memperkecil *learning_rate* beberapa kali sebelum proses *training* model dihentikan oleh ES setelah tidak berhasil mendapatkan *val_loss* yang lebih baik selama beberapa *epoch*."
   ]
  },
  {
   "cell_type": "code",
   "execution_count": 24,
   "metadata": {},
   "outputs": [
    {
     "name": "stderr",
     "output_type": "stream",
     "text": [
      "\u001b[34m\u001b[1mwandb\u001b[0m: \u001b[33mWARNING\u001b[0m If you're specifying your api key in code, ensure this code is not shared publicly.\n",
      "\u001b[34m\u001b[1mwandb\u001b[0m: \u001b[33mWARNING\u001b[0m Consider setting the WANDB_API_KEY environment variable, or running `wandb login` from the command line.\n",
      "\u001b[34m\u001b[1mwandb\u001b[0m: Appending key for api.wandb.ai to your netrc file: C:\\Users\\jPao/.netrc\n"
     ]
    }
   ],
   "source": [
    "\n",
    " # * Login ke wandb\n",
    "wb.login(key=API_KEY_WANDB)\n",
    "\n",
    " # * Pembuatan fungsi callback\n",
    "def wandb_callback(data_training):\n",
    "    return WandbCallback(save_model=False, # model akan disimpan menggunakan callback ModelCheckpoint\n",
    "                         log_weights=True, # weight akan disimpan untuk visualisasi di wandb\n",
    "                         log_gradients=True,\n",
    "                         training_data=data_training) # gradient akan disimpan untuk visualisasi di wandb\n",
    "def model_checkpoint(nama_model):\n",
    "    return ModelCheckpoint(filepath=os.path.join(DIR_MODEL_CHECKPOINT, nama_model),\n",
    "                           verbose=0,\n",
    "                           monitor=METRIK_MONITOR,\n",
    "                           save_best_only=True) # model dengan 'val_loss' terbaik akan disimpan\n",
    "def early_stopping():\n",
    "    return EarlyStopping(patience=TOLERANSI_ES,\n",
    "                         monitor=METRIK_MONITOR)\n",
    "def reduce_lr_on_plateau():\n",
    "    return ReduceLROnPlateau(factor=FRAKSI_REDUKSI_LR, # pengurangan learning_rate diset sebesar 0.1 * learning_rate\n",
    "                             patience=TOLERANSI_RLOP,\n",
    "                             monitor=METRIK_MONITOR,\n",
    "                             verbose=0)"
   ]
  },
  {
   "cell_type": "markdown",
   "metadata": {},
   "source": [
    "## Data\n",
    "\n",
    "Data yang dipergunakan adalah sebanyak 101,077 kata. Terdapat 2 versi data, data versi 1 hanya memiliki 56,751 kata dan data versi 2 adalah data lengkap.\n",
    "* Data 1: 56,751 kata, terdiri dari 34,174 kata dengan label `bukan_warna` dan 22,577 kata dengan label `warna` atau rasio 1.51 : 1 `bukan_warna` berbanding `warna`\n",
    "* Data 2: 101,077 kata, rincian menyusul....\n",
    "\n",
    "`brand`, `urut_kata` dan `total_kata` akan digunakan sebagai alternatif variabel independen tambahan dalam model tertentu."
   ]
  },
  {
   "cell_type": "code",
   "execution_count": 25,
   "metadata": {},
   "outputs": [
    {
     "data": {
      "text/html": [
       "<div>\n",
       "<style scoped>\n",
       "    .dataframe tbody tr th:only-of-type {\n",
       "        vertical-align: middle;\n",
       "    }\n",
       "\n",
       "    .dataframe tbody tr th {\n",
       "        vertical-align: top;\n",
       "    }\n",
       "\n",
       "    .dataframe thead th {\n",
       "        text-align: right;\n",
       "    }\n",
       "</style>\n",
       "<table border=\"1\" class=\"dataframe\">\n",
       "  <thead>\n",
       "    <tr style=\"text-align: right;\">\n",
       "      <th></th>\n",
       "      <th>brand</th>\n",
       "      <th>nama_artikel</th>\n",
       "      <th>kata</th>\n",
       "      <th>label</th>\n",
       "      <th>urut_kata</th>\n",
       "      <th>total_kata</th>\n",
       "    </tr>\n",
       "  </thead>\n",
       "  <tbody>\n",
       "    <tr>\n",
       "      <th>0</th>\n",
       "      <td>ADI</td>\n",
       "      <td>ADISSAGE-BLACK/BLACK/RUNWHT</td>\n",
       "      <td>ADISSAGE</td>\n",
       "      <td>bukan_warna</td>\n",
       "      <td>1.0</td>\n",
       "      <td>4.0</td>\n",
       "    </tr>\n",
       "    <tr>\n",
       "      <th>1</th>\n",
       "      <td>ADI</td>\n",
       "      <td>ADISSAGE-BLACK/BLACK/RUNWHT</td>\n",
       "      <td>BLACK</td>\n",
       "      <td>warna</td>\n",
       "      <td>2.0</td>\n",
       "      <td>4.0</td>\n",
       "    </tr>\n",
       "    <tr>\n",
       "      <th>2</th>\n",
       "      <td>ADI</td>\n",
       "      <td>ADISSAGE-BLACK/BLACK/RUNWHT</td>\n",
       "      <td>BLACK</td>\n",
       "      <td>warna</td>\n",
       "      <td>3.0</td>\n",
       "      <td>4.0</td>\n",
       "    </tr>\n",
       "    <tr>\n",
       "      <th>3</th>\n",
       "      <td>ADI</td>\n",
       "      <td>ADISSAGE-BLACK/BLACK/RUNWHT</td>\n",
       "      <td>RUNWHT</td>\n",
       "      <td>warna</td>\n",
       "      <td>4.0</td>\n",
       "      <td>4.0</td>\n",
       "    </tr>\n",
       "    <tr>\n",
       "      <th>4</th>\n",
       "      <td>ADI</td>\n",
       "      <td>ADISSAGE-N.NAVY/N.NAVY/RUNWHT</td>\n",
       "      <td>ADISSAGE</td>\n",
       "      <td>bukan_warna</td>\n",
       "      <td>1.0</td>\n",
       "      <td>4.0</td>\n",
       "    </tr>\n",
       "    <tr>\n",
       "      <th>...</th>\n",
       "      <td>...</td>\n",
       "      <td>...</td>\n",
       "      <td>...</td>\n",
       "      <td>...</td>\n",
       "      <td>...</td>\n",
       "      <td>...</td>\n",
       "    </tr>\n",
       "    <tr>\n",
       "      <th>56746</th>\n",
       "      <td>WAR</td>\n",
       "      <td>125CM PAISLEY WHITE FLAT</td>\n",
       "      <td>PAISLEY</td>\n",
       "      <td>warna</td>\n",
       "      <td>2.0</td>\n",
       "      <td>4.0</td>\n",
       "    </tr>\n",
       "    <tr>\n",
       "      <th>56747</th>\n",
       "      <td>WAR</td>\n",
       "      <td>125CM PAISLEY WHITE FLAT</td>\n",
       "      <td>WHITE</td>\n",
       "      <td>warna</td>\n",
       "      <td>3.0</td>\n",
       "      <td>4.0</td>\n",
       "    </tr>\n",
       "    <tr>\n",
       "      <th>56748</th>\n",
       "      <td>WAR</td>\n",
       "      <td>125CM VINTAGE ORANGE</td>\n",
       "      <td>125CM</td>\n",
       "      <td>bukan_warna</td>\n",
       "      <td>1.0</td>\n",
       "      <td>3.0</td>\n",
       "    </tr>\n",
       "    <tr>\n",
       "      <th>56749</th>\n",
       "      <td>WAR</td>\n",
       "      <td>125CM VINTAGE ORANGE</td>\n",
       "      <td>VINTAGE</td>\n",
       "      <td>warna</td>\n",
       "      <td>2.0</td>\n",
       "      <td>3.0</td>\n",
       "    </tr>\n",
       "    <tr>\n",
       "      <th>56750</th>\n",
       "      <td>WAR</td>\n",
       "      <td>125CM VINTAGE ORANGE</td>\n",
       "      <td>ORANGE</td>\n",
       "      <td>warna</td>\n",
       "      <td>3.0</td>\n",
       "      <td>3.0</td>\n",
       "    </tr>\n",
       "  </tbody>\n",
       "</table>\n",
       "<p>56751 rows × 6 columns</p>\n",
       "</div>"
      ],
      "text/plain": [
       "      brand                   nama_artikel      kata        label  urut_kata  \\\n",
       "0       ADI    ADISSAGE-BLACK/BLACK/RUNWHT  ADISSAGE  bukan_warna        1.0   \n",
       "1       ADI    ADISSAGE-BLACK/BLACK/RUNWHT     BLACK        warna        2.0   \n",
       "2       ADI    ADISSAGE-BLACK/BLACK/RUNWHT     BLACK        warna        3.0   \n",
       "3       ADI    ADISSAGE-BLACK/BLACK/RUNWHT    RUNWHT        warna        4.0   \n",
       "4       ADI  ADISSAGE-N.NAVY/N.NAVY/RUNWHT  ADISSAGE  bukan_warna        1.0   \n",
       "...     ...                            ...       ...          ...        ...   \n",
       "56746   WAR       125CM PAISLEY WHITE FLAT   PAISLEY        warna        2.0   \n",
       "56747   WAR       125CM PAISLEY WHITE FLAT     WHITE        warna        3.0   \n",
       "56748   WAR           125CM VINTAGE ORANGE     125CM  bukan_warna        1.0   \n",
       "56749   WAR           125CM VINTAGE ORANGE   VINTAGE        warna        2.0   \n",
       "56750   WAR           125CM VINTAGE ORANGE    ORANGE        warna        3.0   \n",
       "\n",
       "       total_kata  \n",
       "0             4.0  \n",
       "1             4.0  \n",
       "2             4.0  \n",
       "3             4.0  \n",
       "4             4.0  \n",
       "...           ...  \n",
       "56746         4.0  \n",
       "56747         4.0  \n",
       "56748         3.0  \n",
       "56749         3.0  \n",
       "56750         3.0  \n",
       "\n",
       "[56751 rows x 6 columns]"
      ]
     },
     "execution_count": 25,
     "metadata": {},
     "output_type": "execute_result"
    }
   ],
   "source": [
    "\"\"\" \n",
    "* Membaca data ke dalam DataFrame pandas\n",
    "* Merubah kolom `urut_kata` dan 'total_kata' menjadi float32\n",
    "\"\"\"\n",
    "data = pd.read_csv('data/setengah_dataset_artikel.csv')\n",
    "data = data.astype({'urut_kata': np.float32, 'total_kata': np.float32})\n",
    " # lakukan: Untuk dokumentasi, gunakan format markdown untuk rendering dataframe\n",
    " # ? print(data.to_markdown())\n",
    "data"
   ]
  },
  {
   "cell_type": "markdown",
   "metadata": {},
   "source": [
    "### Eksplorasi Data"
   ]
  },
  {
   "cell_type": "code",
   "execution_count": 26,
   "metadata": {},
   "outputs": [
    {
     "name": "stdout",
     "output_type": "stream",
     "text": [
      "bukan_warna    34174\n",
      "warna          22577\n",
      "Name: label, dtype: int64\n"
     ]
    },
    {
     "data": {
      "text/plain": [
       "<AxesSubplot:>"
      ]
     },
     "execution_count": 26,
     "metadata": {},
     "output_type": "execute_result"
    },
    {
     "data": {
      "image/png": "[encoded data removed]",
      "text/plain": [
       "<Figure size 432x288 with 1 Axes>"
      ]
     },
     "metadata": {},
     "output_type": "display_data"
    }
   ],
   "source": [
    " # * distribusi label dalam data\n",
    "print(data['label'].value_counts())\n",
    "data['label'].value_counts().plot(kind='bar')"
   ]
  },
  {
   "cell_type": "code",
   "execution_count": 27,
   "metadata": {},
   "outputs": [
    {
     "name": "stdout",
     "output_type": "stream",
     "text": [
      "label  bukan_warna    warna\n",
      "brand                      \n",
      "NIK        13396.0  10807.0\n",
      "ADI        10028.0   7073.0\n",
      "PUM         4279.0   2062.0\n",
      "BBC         1174.0    367.0\n",
      "CAO          887.0     61.0\n",
      "HER          868.0    287.0\n",
      "AGL          611.0    212.0\n",
      "KIP          554.0    321.0\n",
      "STN          494.0    255.0\n",
      "WAR          404.0    298.0\n"
     ]
    },
    {
     "data": {
      "text/plain": [
       "<AxesSubplot:xlabel='brand'>"
      ]
     },
     "execution_count": 27,
     "metadata": {},
     "output_type": "execute_result"
    },
    {
     "data": {
      "image/png": "[encoded data removed]",
      "text/plain": [
       "<Figure size 432x288 with 1 Axes>"
      ]
     },
     "metadata": {},
     "output_type": "display_data"
    }
   ],
   "source": [
    " # * distribusi label dalam brand (data hanya menunjukkan 10 teratas)\n",
    "print(data[['brand', 'label']].value_counts().unstack().sort_values(by='bukan_warna', ascending=False)[:10])\n",
    "data[['brand', 'label']].value_counts().unstack().sort_values(by='bukan_warna', ascending=False)[:10].plot(kind='bar')"
   ]
  },
  {
   "cell_type": "markdown",
   "metadata": {},
   "source": [
    "### Konversi Fitur dan Label ke dalam numerik\n",
    "\n",
    "Kita akan melakukan pengkonversian fitur dan label ke dalam bentuk numerik, dikarenakan jaringan saraf buatan hanya dapat bekerja dalam data numerik. \n",
    "\n",
    "Terdapat dua jenis *encoding* untuk data yang bersifat kategorikal:\n",
    "* `OneHotEncoder`\n",
    "* `LabelEncoder`\n",
    "\n",
    "**OneHotEncoder**\n",
    "*Encoding* ini akan merubah data satu kolom menjadi multi-kolom dengan nilai 1 dan 0 dimana jumlah kolom sama dengan jumlah kategori, seperti berikut:\n",
    "| brand | brand_NIK | brand_ADI | brand_SPE | brand_PIE | brand_... |\n",
    "| --- | --- | --- | --- | --- | --- |\n",
    "| NIK | 1 | 0 | 0 | 0 | ... |\n",
    "| SPE | 0 | 0 | 1 | 0 | ... |\n",
    "| PIE | 0 | 0 | 0 | 1 | ... |\n",
    "| ADI | 0 | 1 | 0 | 0 | ... |\n",
    "| SPE | 0 | 0 | 1 | 0 | ... |\n",
    "| ... | ... | ... | ... | ... | ... |\n",
    "\n",
    "**LabelEncoder**\n",
    "*Encoding* ini akan merubah data pada satu kolom menjadi 0, 1, 2, 3.. dstnya sesuai dengan jumlah kategorinya, seperti berikut:\n",
    "| brand | brand_label_encoded |\n",
    "| --- | --- |\n",
    "| NIK | 0 |\n",
    "| SPE | 1 |\n",
    "| PIE | 2 |\n",
    "| ADI | 3 |\n",
    "| SPE | 1 |\n",
    "| ... | ... |\n",
    "\n",
    "**Kapan menggunakan `OneHotEncoder` atau `LabelEncoder` dalam sebuah proses encoding?** Kita dapat menggunakan `OneHotEncoder` ketika kita tidak menginginkan suatu bentuk hubungan hirarki di dalam data kategorikal yang kita miliki. Dalam hal ini ketika kita tidak ingin jaringan saraf buatan untuk memandang ADI (3) lebih signifikan dari NIK (0) dalam hal nilainya jika dilakukan label *encoding*, maka kita dapat menggunakan `OneHotEncoder`.\n",
    "Jika kategori bersifat biner seperti 'Pria' atau 'Wanita', 'Ya' atau 'Tidak' dsbnya, penggunaan `LabelEncoder` dinilai lebih efektif.\n",
    "\n",
    "> Dengan pertimbangan di atas dan melihat struktur data kita, maka kita akan menggunakan `OneHotEncoder` untuk kolom *brand* (fitur) dan menggunakan `LabelEncoder` untuk kolom *label* (target), kecuali untuk **Model 0** yang akan menggunakan fungsi ekstraksi fitur dengan `TfIdfVectorizer` kita hanya akan menggunakan kolom 'label' yang belum di-*encode*."
   ]
  },
  {
   "cell_type": "code",
   "execution_count": 28,
   "metadata": {},
   "outputs": [
    {
     "data": {
      "text/html": [
       "<div>\n",
       "<style scoped>\n",
       "    .dataframe tbody tr th:only-of-type {\n",
       "        vertical-align: middle;\n",
       "    }\n",
       "\n",
       "    .dataframe tbody tr th {\n",
       "        vertical-align: top;\n",
       "    }\n",
       "\n",
       "    .dataframe thead th {\n",
       "        text-align: right;\n",
       "    }\n",
       "</style>\n",
       "<table border=\"1\" class=\"dataframe\">\n",
       "  <thead>\n",
       "    <tr style=\"text-align: right;\">\n",
       "      <th></th>\n",
       "      <th>brand</th>\n",
       "      <th>nama_artikel</th>\n",
       "      <th>kata</th>\n",
       "      <th>label</th>\n",
       "      <th>urut_kata</th>\n",
       "      <th>total_kata</th>\n",
       "      <th>brand_ADI</th>\n",
       "      <th>brand_ADS</th>\n",
       "      <th>brand_AGL</th>\n",
       "      <th>brand_AND</th>\n",
       "      <th>...</th>\n",
       "      <th>brand_PTG</th>\n",
       "      <th>brand_PUM</th>\n",
       "      <th>brand_REL</th>\n",
       "      <th>brand_SAU</th>\n",
       "      <th>brand_SOC</th>\n",
       "      <th>brand_STN</th>\n",
       "      <th>brand_UME</th>\n",
       "      <th>brand_VAP</th>\n",
       "      <th>brand_WAR</th>\n",
       "      <th>label_encoded</th>\n",
       "    </tr>\n",
       "  </thead>\n",
       "  <tbody>\n",
       "    <tr>\n",
       "      <th>0</th>\n",
       "      <td>ADI</td>\n",
       "      <td>ADISSAGE-BLACK/BLACK/RUNWHT</td>\n",
       "      <td>ADISSAGE</td>\n",
       "      <td>bukan_warna</td>\n",
       "      <td>1.0</td>\n",
       "      <td>4.0</td>\n",
       "      <td>1.0</td>\n",
       "      <td>0.0</td>\n",
       "      <td>0.0</td>\n",
       "      <td>0.0</td>\n",
       "      <td>...</td>\n",
       "      <td>0.0</td>\n",
       "      <td>0.0</td>\n",
       "      <td>0.0</td>\n",
       "      <td>0.0</td>\n",
       "      <td>0.0</td>\n",
       "      <td>0.0</td>\n",
       "      <td>0.0</td>\n",
       "      <td>0.0</td>\n",
       "      <td>0.0</td>\n",
       "      <td>0</td>\n",
       "    </tr>\n",
       "    <tr>\n",
       "      <th>1</th>\n",
       "      <td>ADI</td>\n",
       "      <td>ADISSAGE-BLACK/BLACK/RUNWHT</td>\n",
       "      <td>BLACK</td>\n",
       "      <td>warna</td>\n",
       "      <td>2.0</td>\n",
       "      <td>4.0</td>\n",
       "      <td>1.0</td>\n",
       "      <td>0.0</td>\n",
       "      <td>0.0</td>\n",
       "      <td>0.0</td>\n",
       "      <td>...</td>\n",
       "      <td>0.0</td>\n",
       "      <td>0.0</td>\n",
       "      <td>0.0</td>\n",
       "      <td>0.0</td>\n",
       "      <td>0.0</td>\n",
       "      <td>0.0</td>\n",
       "      <td>0.0</td>\n",
       "      <td>0.0</td>\n",
       "      <td>0.0</td>\n",
       "      <td>1</td>\n",
       "    </tr>\n",
       "    <tr>\n",
       "      <th>2</th>\n",
       "      <td>ADI</td>\n",
       "      <td>ADISSAGE-BLACK/BLACK/RUNWHT</td>\n",
       "      <td>BLACK</td>\n",
       "      <td>warna</td>\n",
       "      <td>3.0</td>\n",
       "      <td>4.0</td>\n",
       "      <td>1.0</td>\n",
       "      <td>0.0</td>\n",
       "      <td>0.0</td>\n",
       "      <td>0.0</td>\n",
       "      <td>...</td>\n",
       "      <td>0.0</td>\n",
       "      <td>0.0</td>\n",
       "      <td>0.0</td>\n",
       "      <td>0.0</td>\n",
       "      <td>0.0</td>\n",
       "      <td>0.0</td>\n",
       "      <td>0.0</td>\n",
       "      <td>0.0</td>\n",
       "      <td>0.0</td>\n",
       "      <td>1</td>\n",
       "    </tr>\n",
       "    <tr>\n",
       "      <th>3</th>\n",
       "      <td>ADI</td>\n",
       "      <td>ADISSAGE-BLACK/BLACK/RUNWHT</td>\n",
       "      <td>RUNWHT</td>\n",
       "      <td>warna</td>\n",
       "      <td>4.0</td>\n",
       "      <td>4.0</td>\n",
       "      <td>1.0</td>\n",
       "      <td>0.0</td>\n",
       "      <td>0.0</td>\n",
       "      <td>0.0</td>\n",
       "      <td>...</td>\n",
       "      <td>0.0</td>\n",
       "      <td>0.0</td>\n",
       "      <td>0.0</td>\n",
       "      <td>0.0</td>\n",
       "      <td>0.0</td>\n",
       "      <td>0.0</td>\n",
       "      <td>0.0</td>\n",
       "      <td>0.0</td>\n",
       "      <td>0.0</td>\n",
       "      <td>1</td>\n",
       "    </tr>\n",
       "    <tr>\n",
       "      <th>4</th>\n",
       "      <td>ADI</td>\n",
       "      <td>ADISSAGE-N.NAVY/N.NAVY/RUNWHT</td>\n",
       "      <td>ADISSAGE</td>\n",
       "      <td>bukan_warna</td>\n",
       "      <td>1.0</td>\n",
       "      <td>4.0</td>\n",
       "      <td>1.0</td>\n",
       "      <td>0.0</td>\n",
       "      <td>0.0</td>\n",
       "      <td>0.0</td>\n",
       "      <td>...</td>\n",
       "      <td>0.0</td>\n",
       "      <td>0.0</td>\n",
       "      <td>0.0</td>\n",
       "      <td>0.0</td>\n",
       "      <td>0.0</td>\n",
       "      <td>0.0</td>\n",
       "      <td>0.0</td>\n",
       "      <td>0.0</td>\n",
       "      <td>0.0</td>\n",
       "      <td>0</td>\n",
       "    </tr>\n",
       "    <tr>\n",
       "      <th>...</th>\n",
       "      <td>...</td>\n",
       "      <td>...</td>\n",
       "      <td>...</td>\n",
       "      <td>...</td>\n",
       "      <td>...</td>\n",
       "      <td>...</td>\n",
       "      <td>...</td>\n",
       "      <td>...</td>\n",
       "      <td>...</td>\n",
       "      <td>...</td>\n",
       "      <td>...</td>\n",
       "      <td>...</td>\n",
       "      <td>...</td>\n",
       "      <td>...</td>\n",
       "      <td>...</td>\n",
       "      <td>...</td>\n",
       "      <td>...</td>\n",
       "      <td>...</td>\n",
       "      <td>...</td>\n",
       "      <td>...</td>\n",
       "      <td>...</td>\n",
       "    </tr>\n",
       "    <tr>\n",
       "      <th>56746</th>\n",
       "      <td>WAR</td>\n",
       "      <td>125CM PAISLEY WHITE FLAT</td>\n",
       "      <td>PAISLEY</td>\n",
       "      <td>warna</td>\n",
       "      <td>2.0</td>\n",
       "      <td>4.0</td>\n",
       "      <td>0.0</td>\n",
       "      <td>0.0</td>\n",
       "      <td>0.0</td>\n",
       "      <td>0.0</td>\n",
       "      <td>...</td>\n",
       "      <td>0.0</td>\n",
       "      <td>0.0</td>\n",
       "      <td>0.0</td>\n",
       "      <td>0.0</td>\n",
       "      <td>0.0</td>\n",
       "      <td>0.0</td>\n",
       "      <td>0.0</td>\n",
       "      <td>0.0</td>\n",
       "      <td>1.0</td>\n",
       "      <td>1</td>\n",
       "    </tr>\n",
       "    <tr>\n",
       "      <th>56747</th>\n",
       "      <td>WAR</td>\n",
       "      <td>125CM PAISLEY WHITE FLAT</td>\n",
       "      <td>WHITE</td>\n",
       "      <td>warna</td>\n",
       "      <td>3.0</td>\n",
       "      <td>4.0</td>\n",
       "      <td>0.0</td>\n",
       "      <td>0.0</td>\n",
       "      <td>0.0</td>\n",
       "      <td>0.0</td>\n",
       "      <td>...</td>\n",
       "      <td>0.0</td>\n",
       "      <td>0.0</td>\n",
       "      <td>0.0</td>\n",
       "      <td>0.0</td>\n",
       "      <td>0.0</td>\n",
       "      <td>0.0</td>\n",
       "      <td>0.0</td>\n",
       "      <td>0.0</td>\n",
       "      <td>1.0</td>\n",
       "      <td>1</td>\n",
       "    </tr>\n",
       "    <tr>\n",
       "      <th>56748</th>\n",
       "      <td>WAR</td>\n",
       "      <td>125CM VINTAGE ORANGE</td>\n",
       "      <td>125CM</td>\n",
       "      <td>bukan_warna</td>\n",
       "      <td>1.0</td>\n",
       "      <td>3.0</td>\n",
       "      <td>0.0</td>\n",
       "      <td>0.0</td>\n",
       "      <td>0.0</td>\n",
       "      <td>0.0</td>\n",
       "      <td>...</td>\n",
       "      <td>0.0</td>\n",
       "      <td>0.0</td>\n",
       "      <td>0.0</td>\n",
       "      <td>0.0</td>\n",
       "      <td>0.0</td>\n",
       "      <td>0.0</td>\n",
       "      <td>0.0</td>\n",
       "      <td>0.0</td>\n",
       "      <td>1.0</td>\n",
       "      <td>0</td>\n",
       "    </tr>\n",
       "    <tr>\n",
       "      <th>56749</th>\n",
       "      <td>WAR</td>\n",
       "      <td>125CM VINTAGE ORANGE</td>\n",
       "      <td>VINTAGE</td>\n",
       "      <td>warna</td>\n",
       "      <td>2.0</td>\n",
       "      <td>3.0</td>\n",
       "      <td>0.0</td>\n",
       "      <td>0.0</td>\n",
       "      <td>0.0</td>\n",
       "      <td>0.0</td>\n",
       "      <td>...</td>\n",
       "      <td>0.0</td>\n",
       "      <td>0.0</td>\n",
       "      <td>0.0</td>\n",
       "      <td>0.0</td>\n",
       "      <td>0.0</td>\n",
       "      <td>0.0</td>\n",
       "      <td>0.0</td>\n",
       "      <td>0.0</td>\n",
       "      <td>1.0</td>\n",
       "      <td>1</td>\n",
       "    </tr>\n",
       "    <tr>\n",
       "      <th>56750</th>\n",
       "      <td>WAR</td>\n",
       "      <td>125CM VINTAGE ORANGE</td>\n",
       "      <td>ORANGE</td>\n",
       "      <td>warna</td>\n",
       "      <td>3.0</td>\n",
       "      <td>3.0</td>\n",
       "      <td>0.0</td>\n",
       "      <td>0.0</td>\n",
       "      <td>0.0</td>\n",
       "      <td>0.0</td>\n",
       "      <td>...</td>\n",
       "      <td>0.0</td>\n",
       "      <td>0.0</td>\n",
       "      <td>0.0</td>\n",
       "      <td>0.0</td>\n",
       "      <td>0.0</td>\n",
       "      <td>0.0</td>\n",
       "      <td>0.0</td>\n",
       "      <td>0.0</td>\n",
       "      <td>1.0</td>\n",
       "      <td>1</td>\n",
       "    </tr>\n",
       "  </tbody>\n",
       "</table>\n",
       "<p>56751 rows × 44 columns</p>\n",
       "</div>"
      ],
      "text/plain": [
       "      brand                   nama_artikel      kata        label  urut_kata  \\\n",
       "0       ADI    ADISSAGE-BLACK/BLACK/RUNWHT  ADISSAGE  bukan_warna        1.0   \n",
       "1       ADI    ADISSAGE-BLACK/BLACK/RUNWHT     BLACK        warna        2.0   \n",
       "2       ADI    ADISSAGE-BLACK/BLACK/RUNWHT     BLACK        warna        3.0   \n",
       "3       ADI    ADISSAGE-BLACK/BLACK/RUNWHT    RUNWHT        warna        4.0   \n",
       "4       ADI  ADISSAGE-N.NAVY/N.NAVY/RUNWHT  ADISSAGE  bukan_warna        1.0   \n",
       "...     ...                            ...       ...          ...        ...   \n",
       "56746   WAR       125CM PAISLEY WHITE FLAT   PAISLEY        warna        2.0   \n",
       "56747   WAR       125CM PAISLEY WHITE FLAT     WHITE        warna        3.0   \n",
       "56748   WAR           125CM VINTAGE ORANGE     125CM  bukan_warna        1.0   \n",
       "56749   WAR           125CM VINTAGE ORANGE   VINTAGE        warna        2.0   \n",
       "56750   WAR           125CM VINTAGE ORANGE    ORANGE        warna        3.0   \n",
       "\n",
       "       total_kata  brand_ADI  brand_ADS  brand_AGL  brand_AND  ...  brand_PTG  \\\n",
       "0             4.0        1.0        0.0        0.0        0.0  ...        0.0   \n",
       "1             4.0        1.0        0.0        0.0        0.0  ...        0.0   \n",
       "2             4.0        1.0        0.0        0.0        0.0  ...        0.0   \n",
       "3             4.0        1.0        0.0        0.0        0.0  ...        0.0   \n",
       "4             4.0        1.0        0.0        0.0        0.0  ...        0.0   \n",
       "...           ...        ...        ...        ...        ...  ...        ...   \n",
       "56746         4.0        0.0        0.0        0.0        0.0  ...        0.0   \n",
       "56747         4.0        0.0        0.0        0.0        0.0  ...        0.0   \n",
       "56748         3.0        0.0        0.0        0.0        0.0  ...        0.0   \n",
       "56749         3.0        0.0        0.0        0.0        0.0  ...        0.0   \n",
       "56750         3.0        0.0        0.0        0.0        0.0  ...        0.0   \n",
       "\n",
       "       brand_PUM  brand_REL  brand_SAU  brand_SOC  brand_STN  brand_UME  \\\n",
       "0            0.0        0.0        0.0        0.0        0.0        0.0   \n",
       "1            0.0        0.0        0.0        0.0        0.0        0.0   \n",
       "2            0.0        0.0        0.0        0.0        0.0        0.0   \n",
       "3            0.0        0.0        0.0        0.0        0.0        0.0   \n",
       "4            0.0        0.0        0.0        0.0        0.0        0.0   \n",
       "...          ...        ...        ...        ...        ...        ...   \n",
       "56746        0.0        0.0        0.0        0.0        0.0        0.0   \n",
       "56747        0.0        0.0        0.0        0.0        0.0        0.0   \n",
       "56748        0.0        0.0        0.0        0.0        0.0        0.0   \n",
       "56749        0.0        0.0        0.0        0.0        0.0        0.0   \n",
       "56750        0.0        0.0        0.0        0.0        0.0        0.0   \n",
       "\n",
       "       brand_VAP  brand_WAR  label_encoded  \n",
       "0            0.0        0.0              0  \n",
       "1            0.0        0.0              1  \n",
       "2            0.0        0.0              1  \n",
       "3            0.0        0.0              1  \n",
       "4            0.0        0.0              0  \n",
       "...          ...        ...            ...  \n",
       "56746        0.0        1.0              1  \n",
       "56747        0.0        1.0              1  \n",
       "56748        0.0        1.0              0  \n",
       "56749        0.0        1.0              1  \n",
       "56750        0.0        1.0              1  \n",
       "\n",
       "[56751 rows x 44 columns]"
      ]
     },
     "execution_count": 28,
     "metadata": {},
     "output_type": "execute_result"
    }
   ],
   "source": [
    " # * OneHotEncoding pada fitur brand\n",
    "fitur_encoder = OneHotEncoder(sparse=False)\n",
    "brand_encoded = fitur_encoder.fit_transform(data['brand'].to_numpy().reshape(-1, 1))\n",
    "df_fitur_encoded = pd.DataFrame(brand_encoded, columns=fitur_encoder.get_feature_names_out(['brand']))\n",
    "\n",
    " # * LabelEncoding pada target label\n",
    "label_encoder = LabelEncoder()\n",
    "label_encoded = label_encoder.fit_transform(data['label'])\n",
    "df_label_encoded = pd.DataFrame(label_encoded, columns=['label_encoded'])\n",
    "\n",
    " # * gabungkan dengan dataframe awal\n",
    "data_encoded = data.copy()\n",
    "data_encoded = pd.concat([data_encoded,df_fitur_encoded, df_label_encoded], axis=1)\n",
    "data_encoded"
   ]
  },
  {
   "cell_type": "markdown",
   "metadata": {},
   "source": [
    "### Konversi Data ke dalam Train dan Test untuk Model 0\n",
    "\n",
    "Data akan dibagi ke dalam train dan test data menggunakan metode `train_test_split` dari modul *sklearn.model_selection* dengan menggunakan rasio dan keacakan yang telah ditentukan di variabel global (lihat *RASIO_TEST_TRAIN* dan *RANDOM_STATE*)."
   ]
  },
  {
   "cell_type": "code",
   "execution_count": 29,
   "metadata": {},
   "outputs": [],
   "source": [
    " # * Menyimpan header data\n",
    "data_header = data_encoded[['kata', 'brand', 'urut_kata', 'total_kata', 'label']].columns\n",
    "\n",
    "\"\"\"\n",
    "! Model 0 adalah MultinomialNB yang akan menggunakan feature_extraction TfIdfVectorizer\n",
    "! dimana TfIdfVectorizer hanya dapat menerima satu kolom data yang akan diubah menjadi vector\n",
    "! (angka), kecuali kita dapat menggabungkan kembali brand kata dan kolom kolom lainnya ke dalam\n",
    "! satu kolom seperti['NIK GREEN 1 0 0 0 1'] alih - alih [['NIK', 'GREEN', '1', '0', '0', '0', '1']]\n",
    "! Maka untuk Model 0 kita tetap akan hanya menggunakan kolom 'kata' sebagai fitur.\n",
    "! kolom 'brand', 'urut_kata' 'total_kata' dan 'label' sebenarnya tidak akan \n",
    "! digunakan untuk training, namun pada train_test_split ini kita akan menyimpan brand untuk \n",
    "! display hasil prediksi berbanding dengan target label (ground truth)\n",
    "\"\"\"\n",
    "train_data_mnb, test_data_mnb, train_target_mnb, test_target_mnb = train_test_split(data_encoded[['kata', 'brand', 'urut_kata', 'total_kata', 'label']],\n",
    "                                                                                    data_encoded['label_encoded'],\n",
    "                                                                                    test_size=RASIO_TEST_TRAIN,\n",
    "                                                                                    random_state=RANDOM_STATE)\n",
    "\n",
    " # * Untuk model lainnya kita akan menggunakan semua fitur minus 'brand', 'nama_artikel', 'label' dan 'label_encoded' .drop\n",
    "train_data, test_data, train_target, test_target = train_test_split(data_encoded.drop(['brand', 'nama_artikel', 'label', 'label_encoded'], axis=1),\n",
    "                                                                    data_encoded['label_encoded'],\n",
    "                                                                    test_size=RASIO_TEST_TRAIN,\n",
    "                                                                    random_state=RANDOM_STATE)"
   ]
  },
  {
   "cell_type": "code",
   "execution_count": 30,
   "metadata": {},
   "outputs": [
    {
     "name": "stdout",
     "output_type": "stream",
     "text": [
      "2 data pertama di train_data_mnb:\n",
      "['BLACK', 'RED']\n",
      "\n",
      "2 data pertama di train_data:\n"
     ]
    },
    {
     "data": {
      "text/html": [
       "<div>\n",
       "<style scoped>\n",
       "    .dataframe tbody tr th:only-of-type {\n",
       "        vertical-align: middle;\n",
       "    }\n",
       "\n",
       "    .dataframe tbody tr th {\n",
       "        vertical-align: top;\n",
       "    }\n",
       "\n",
       "    .dataframe thead th {\n",
       "        text-align: right;\n",
       "    }\n",
       "</style>\n",
       "<table border=\"1\" class=\"dataframe\">\n",
       "  <thead>\n",
       "    <tr style=\"text-align: right;\">\n",
       "      <th></th>\n",
       "      <th>kata</th>\n",
       "      <th>urut_kata</th>\n",
       "      <th>total_kata</th>\n",
       "      <th>brand_ADI</th>\n",
       "      <th>brand_ADS</th>\n",
       "      <th>brand_AGL</th>\n",
       "      <th>brand_AND</th>\n",
       "      <th>brand_ASC</th>\n",
       "      <th>brand_BAL</th>\n",
       "      <th>brand_BBC</th>\n",
       "      <th>brand_BEA</th>\n",
       "      <th>brand_CAO</th>\n",
       "      <th>brand_CIT</th>\n",
       "      <th>brand_CRP</th>\n",
       "      <th>brand_DOM</th>\n",
       "      <th>brand_FIS</th>\n",
       "      <th>brand_GUE</th>\n",
       "      <th>brand_HER</th>\n",
       "      <th>brand_JAS</th>\n",
       "      <th>brand_KIP</th>\n",
       "      <th>brand_NEW</th>\n",
       "      <th>brand_NFA</th>\n",
       "      <th>brand_NFC</th>\n",
       "      <th>brand_NFL</th>\n",
       "      <th>brand_NIB</th>\n",
       "      <th>brand_NIC</th>\n",
       "      <th>brand_NIK</th>\n",
       "      <th>brand_NPS</th>\n",
       "      <th>brand_ODD</th>\n",
       "      <th>brand_PBY</th>\n",
       "      <th>brand_PSB</th>\n",
       "      <th>brand_PTG</th>\n",
       "      <th>brand_PUM</th>\n",
       "      <th>brand_REL</th>\n",
       "      <th>brand_SAU</th>\n",
       "      <th>brand_SOC</th>\n",
       "      <th>brand_STN</th>\n",
       "      <th>brand_UME</th>\n",
       "      <th>brand_VAP</th>\n",
       "      <th>brand_WAR</th>\n",
       "    </tr>\n",
       "  </thead>\n",
       "  <tbody>\n",
       "    <tr>\n",
       "      <th>30167</th>\n",
       "      <td>BLACK</td>\n",
       "      <td>11.0</td>\n",
       "      <td>11.0</td>\n",
       "      <td>0.0</td>\n",
       "      <td>0.0</td>\n",
       "      <td>0.0</td>\n",
       "      <td>0.0</td>\n",
       "      <td>0.0</td>\n",
       "      <td>0.0</td>\n",
       "      <td>0.0</td>\n",
       "      <td>0.0</td>\n",
       "      <td>0.0</td>\n",
       "      <td>0.0</td>\n",
       "      <td>0.0</td>\n",
       "      <td>0.0</td>\n",
       "      <td>0.0</td>\n",
       "      <td>0.0</td>\n",
       "      <td>0.0</td>\n",
       "      <td>0.0</td>\n",
       "      <td>0.0</td>\n",
       "      <td>0.0</td>\n",
       "      <td>0.0</td>\n",
       "      <td>0.0</td>\n",
       "      <td>0.0</td>\n",
       "      <td>0.0</td>\n",
       "      <td>0.0</td>\n",
       "      <td>1.0</td>\n",
       "      <td>0.0</td>\n",
       "      <td>0.0</td>\n",
       "      <td>0.0</td>\n",
       "      <td>0.0</td>\n",
       "      <td>0.0</td>\n",
       "      <td>0.0</td>\n",
       "      <td>0.0</td>\n",
       "      <td>0.0</td>\n",
       "      <td>0.0</td>\n",
       "      <td>0.0</td>\n",
       "      <td>0.0</td>\n",
       "      <td>0.0</td>\n",
       "      <td>0.0</td>\n",
       "    </tr>\n",
       "    <tr>\n",
       "      <th>24191</th>\n",
       "      <td>RED</td>\n",
       "      <td>5.0</td>\n",
       "      <td>9.0</td>\n",
       "      <td>0.0</td>\n",
       "      <td>0.0</td>\n",
       "      <td>0.0</td>\n",
       "      <td>0.0</td>\n",
       "      <td>0.0</td>\n",
       "      <td>0.0</td>\n",
       "      <td>0.0</td>\n",
       "      <td>0.0</td>\n",
       "      <td>0.0</td>\n",
       "      <td>0.0</td>\n",
       "      <td>0.0</td>\n",
       "      <td>0.0</td>\n",
       "      <td>0.0</td>\n",
       "      <td>0.0</td>\n",
       "      <td>0.0</td>\n",
       "      <td>0.0</td>\n",
       "      <td>0.0</td>\n",
       "      <td>0.0</td>\n",
       "      <td>0.0</td>\n",
       "      <td>0.0</td>\n",
       "      <td>0.0</td>\n",
       "      <td>0.0</td>\n",
       "      <td>0.0</td>\n",
       "      <td>1.0</td>\n",
       "      <td>0.0</td>\n",
       "      <td>0.0</td>\n",
       "      <td>0.0</td>\n",
       "      <td>0.0</td>\n",
       "      <td>0.0</td>\n",
       "      <td>0.0</td>\n",
       "      <td>0.0</td>\n",
       "      <td>0.0</td>\n",
       "      <td>0.0</td>\n",
       "      <td>0.0</td>\n",
       "      <td>0.0</td>\n",
       "      <td>0.0</td>\n",
       "      <td>0.0</td>\n",
       "    </tr>\n",
       "  </tbody>\n",
       "</table>\n",
       "</div>"
      ],
      "text/plain": [
       "        kata  urut_kata  total_kata  brand_ADI  brand_ADS  brand_AGL  \\\n",
       "30167  BLACK       11.0        11.0        0.0        0.0        0.0   \n",
       "24191    RED        5.0         9.0        0.0        0.0        0.0   \n",
       "\n",
       "       brand_AND  brand_ASC  brand_BAL  brand_BBC  brand_BEA  brand_CAO  \\\n",
       "30167        0.0        0.0        0.0        0.0        0.0        0.0   \n",
       "24191        0.0        0.0        0.0        0.0        0.0        0.0   \n",
       "\n",
       "       brand_CIT  brand_CRP  brand_DOM  brand_FIS  brand_GUE  brand_HER  \\\n",
       "30167        0.0        0.0        0.0        0.0        0.0        0.0   \n",
       "24191        0.0        0.0        0.0        0.0        0.0        0.0   \n",
       "\n",
       "       brand_JAS  brand_KIP  brand_NEW  brand_NFA  brand_NFC  brand_NFL  \\\n",
       "30167        0.0        0.0        0.0        0.0        0.0        0.0   \n",
       "24191        0.0        0.0        0.0        0.0        0.0        0.0   \n",
       "\n",
       "       brand_NIB  brand_NIC  brand_NIK  brand_NPS  brand_ODD  brand_PBY  \\\n",
       "30167        0.0        0.0        1.0        0.0        0.0        0.0   \n",
       "24191        0.0        0.0        1.0        0.0        0.0        0.0   \n",
       "\n",
       "       brand_PSB  brand_PTG  brand_PUM  brand_REL  brand_SAU  brand_SOC  \\\n",
       "30167        0.0        0.0        0.0        0.0        0.0        0.0   \n",
       "24191        0.0        0.0        0.0        0.0        0.0        0.0   \n",
       "\n",
       "       brand_STN  brand_UME  brand_VAP  brand_WAR  \n",
       "30167        0.0        0.0        0.0        0.0  \n",
       "24191        0.0        0.0        0.0        0.0  "
      ]
     },
     "metadata": {},
     "output_type": "display_data"
    },
    {
     "name": "stdout",
     "output_type": "stream",
     "text": [
      "\n",
      "2 label pertama di train_target (mnb & non-mnb, sama):\n",
      "[1, 1]\n",
      "\n",
      "2 data pertama di test_data_mnb:\n",
      "['SESOYE', 'GHOST']\n",
      "\n",
      "2 data pertama di test_data:\n"
     ]
    },
    {
     "data": {
      "text/html": [
       "<div>\n",
       "<style scoped>\n",
       "    .dataframe tbody tr th:only-of-type {\n",
       "        vertical-align: middle;\n",
       "    }\n",
       "\n",
       "    .dataframe tbody tr th {\n",
       "        vertical-align: top;\n",
       "    }\n",
       "\n",
       "    .dataframe thead th {\n",
       "        text-align: right;\n",
       "    }\n",
       "</style>\n",
       "<table border=\"1\" class=\"dataframe\">\n",
       "  <thead>\n",
       "    <tr style=\"text-align: right;\">\n",
       "      <th></th>\n",
       "      <th>kata</th>\n",
       "      <th>urut_kata</th>\n",
       "      <th>total_kata</th>\n",
       "      <th>brand_ADI</th>\n",
       "      <th>brand_ADS</th>\n",
       "      <th>brand_AGL</th>\n",
       "      <th>brand_AND</th>\n",
       "      <th>brand_ASC</th>\n",
       "      <th>brand_BAL</th>\n",
       "      <th>brand_BBC</th>\n",
       "      <th>brand_BEA</th>\n",
       "      <th>brand_CAO</th>\n",
       "      <th>brand_CIT</th>\n",
       "      <th>brand_CRP</th>\n",
       "      <th>brand_DOM</th>\n",
       "      <th>brand_FIS</th>\n",
       "      <th>brand_GUE</th>\n",
       "      <th>brand_HER</th>\n",
       "      <th>brand_JAS</th>\n",
       "      <th>brand_KIP</th>\n",
       "      <th>brand_NEW</th>\n",
       "      <th>brand_NFA</th>\n",
       "      <th>brand_NFC</th>\n",
       "      <th>brand_NFL</th>\n",
       "      <th>brand_NIB</th>\n",
       "      <th>brand_NIC</th>\n",
       "      <th>brand_NIK</th>\n",
       "      <th>brand_NPS</th>\n",
       "      <th>brand_ODD</th>\n",
       "      <th>brand_PBY</th>\n",
       "      <th>brand_PSB</th>\n",
       "      <th>brand_PTG</th>\n",
       "      <th>brand_PUM</th>\n",
       "      <th>brand_REL</th>\n",
       "      <th>brand_SAU</th>\n",
       "      <th>brand_SOC</th>\n",
       "      <th>brand_STN</th>\n",
       "      <th>brand_UME</th>\n",
       "      <th>brand_VAP</th>\n",
       "      <th>brand_WAR</th>\n",
       "    </tr>\n",
       "  </thead>\n",
       "  <tbody>\n",
       "    <tr>\n",
       "      <th>16829</th>\n",
       "      <td>SESOYE</td>\n",
       "      <td>5.0</td>\n",
       "      <td>6.0</td>\n",
       "      <td>1.0</td>\n",
       "      <td>0.0</td>\n",
       "      <td>0.0</td>\n",
       "      <td>0.0</td>\n",
       "      <td>0.0</td>\n",
       "      <td>0.0</td>\n",
       "      <td>0.0</td>\n",
       "      <td>0.0</td>\n",
       "      <td>0.0</td>\n",
       "      <td>0.0</td>\n",
       "      <td>0.0</td>\n",
       "      <td>0.0</td>\n",
       "      <td>0.0</td>\n",
       "      <td>0.0</td>\n",
       "      <td>0.0</td>\n",
       "      <td>0.0</td>\n",
       "      <td>0.0</td>\n",
       "      <td>0.0</td>\n",
       "      <td>0.0</td>\n",
       "      <td>0.0</td>\n",
       "      <td>0.0</td>\n",
       "      <td>0.0</td>\n",
       "      <td>0.0</td>\n",
       "      <td>0.0</td>\n",
       "      <td>0.0</td>\n",
       "      <td>0.0</td>\n",
       "      <td>0.0</td>\n",
       "      <td>0.0</td>\n",
       "      <td>0.0</td>\n",
       "      <td>0.0</td>\n",
       "      <td>0.0</td>\n",
       "      <td>0.0</td>\n",
       "      <td>0.0</td>\n",
       "      <td>0.0</td>\n",
       "      <td>0.0</td>\n",
       "      <td>0.0</td>\n",
       "      <td>0.0</td>\n",
       "    </tr>\n",
       "    <tr>\n",
       "      <th>5081</th>\n",
       "      <td>GHOST</td>\n",
       "      <td>1.0</td>\n",
       "      <td>4.0</td>\n",
       "      <td>1.0</td>\n",
       "      <td>0.0</td>\n",
       "      <td>0.0</td>\n",
       "      <td>0.0</td>\n",
       "      <td>0.0</td>\n",
       "      <td>0.0</td>\n",
       "      <td>0.0</td>\n",
       "      <td>0.0</td>\n",
       "      <td>0.0</td>\n",
       "      <td>0.0</td>\n",
       "      <td>0.0</td>\n",
       "      <td>0.0</td>\n",
       "      <td>0.0</td>\n",
       "      <td>0.0</td>\n",
       "      <td>0.0</td>\n",
       "      <td>0.0</td>\n",
       "      <td>0.0</td>\n",
       "      <td>0.0</td>\n",
       "      <td>0.0</td>\n",
       "      <td>0.0</td>\n",
       "      <td>0.0</td>\n",
       "      <td>0.0</td>\n",
       "      <td>0.0</td>\n",
       "      <td>0.0</td>\n",
       "      <td>0.0</td>\n",
       "      <td>0.0</td>\n",
       "      <td>0.0</td>\n",
       "      <td>0.0</td>\n",
       "      <td>0.0</td>\n",
       "      <td>0.0</td>\n",
       "      <td>0.0</td>\n",
       "      <td>0.0</td>\n",
       "      <td>0.0</td>\n",
       "      <td>0.0</td>\n",
       "      <td>0.0</td>\n",
       "      <td>0.0</td>\n",
       "      <td>0.0</td>\n",
       "    </tr>\n",
       "  </tbody>\n",
       "</table>\n",
       "</div>"
      ],
      "text/plain": [
       "         kata  urut_kata  total_kata  brand_ADI  brand_ADS  brand_AGL  \\\n",
       "16829  SESOYE        5.0         6.0        1.0        0.0        0.0   \n",
       "5081    GHOST        1.0         4.0        1.0        0.0        0.0   \n",
       "\n",
       "       brand_AND  brand_ASC  brand_BAL  brand_BBC  brand_BEA  brand_CAO  \\\n",
       "16829        0.0        0.0        0.0        0.0        0.0        0.0   \n",
       "5081         0.0        0.0        0.0        0.0        0.0        0.0   \n",
       "\n",
       "       brand_CIT  brand_CRP  brand_DOM  brand_FIS  brand_GUE  brand_HER  \\\n",
       "16829        0.0        0.0        0.0        0.0        0.0        0.0   \n",
       "5081         0.0        0.0        0.0        0.0        0.0        0.0   \n",
       "\n",
       "       brand_JAS  brand_KIP  brand_NEW  brand_NFA  brand_NFC  brand_NFL  \\\n",
       "16829        0.0        0.0        0.0        0.0        0.0        0.0   \n",
       "5081         0.0        0.0        0.0        0.0        0.0        0.0   \n",
       "\n",
       "       brand_NIB  brand_NIC  brand_NIK  brand_NPS  brand_ODD  brand_PBY  \\\n",
       "16829        0.0        0.0        0.0        0.0        0.0        0.0   \n",
       "5081         0.0        0.0        0.0        0.0        0.0        0.0   \n",
       "\n",
       "       brand_PSB  brand_PTG  brand_PUM  brand_REL  brand_SAU  brand_SOC  \\\n",
       "16829        0.0        0.0        0.0        0.0        0.0        0.0   \n",
       "5081         0.0        0.0        0.0        0.0        0.0        0.0   \n",
       "\n",
       "       brand_STN  brand_UME  brand_VAP  brand_WAR  \n",
       "16829        0.0        0.0        0.0        0.0  \n",
       "5081         0.0        0.0        0.0        0.0  "
      ]
     },
     "metadata": {},
     "output_type": "display_data"
    },
    {
     "name": "stdout",
     "output_type": "stream",
     "text": [
      "2 label pertama di test_target (mnb & non-mnb, sama):\n",
      "[1, 0]\n",
      "\n",
      "Distribusi label (target) di train: \n",
      "[[    0 20588]\n",
      " [    1 13462]]\n",
      "\n",
      "Distribusi label (target) di test: \n",
      "[[    0 13586]\n",
      " [    1  9115]]\n",
      "\n",
      "Dimana label 0 = bukan warna dan label 1 = warna\n"
     ]
    }
   ],
   "source": [
    " # * Eksplorasi contoh hasil split train dan test\n",
    "train_target_unik, train_target_hitung = np.unique(train_target_mnb, return_counts=True)\n",
    "test_target_unik, test_target_hitung = np.unique(test_target_mnb, return_counts=True)\n",
    "print(f'2 data pertama di train_data_mnb:\\n{train_data_mnb.iloc[:2, 0].tolist()}\\n') # :2 menampilkan 2 data pertama, :1 hanya menampilkan kata\n",
    "print(f'2 data pertama di train_data:')\n",
    "with pd.option_context('display.max_columns', None):\n",
    "    display(train_data[:2])\n",
    "print(f'\\n2 label pertama di train_target (mnb & non-mnb, sama):\\n{train_target[:2].tolist()}\\n') \n",
    "print(f'2 data pertama di test_data_mnb:\\n{test_data_mnb.iloc[:2, 0].tolist()}\\n') # :2 menampilkan 2 data pertama, :1 hanya menampilkan kata\n",
    "print(f'2 data pertama di test_data:')\n",
    "with pd.option_context('display.max_columns', None):\n",
    "    display(test_data[:2])\n",
    "print(f'2 label pertama di test_target (mnb & non-mnb, sama):\\n{test_target[:2].tolist()}\\n')\n",
    "train_target_distribusi = np.column_stack((train_target_unik, train_target_hitung))\n",
    "test_target_distribusi = np.column_stack((test_target_unik, test_target_hitung))\n",
    "print(f'Distribusi label (target) di train: \\n{train_target_distribusi}\\n')\n",
    "print(f'Distribusi label (target) di test: \\n{test_target_distribusi}\\n')\n",
    "print('Dimana label 0 = bukan warna dan label 1 = warna')"
   ]
  },
  {
   "cell_type": "markdown",
   "metadata": {},
   "source": [
    "## Model 0: Model Dasar\n",
    "\n",
    "Model pertama yang akan kita buat adalah model *Multinomial Naive-Bayes* yang akan mengkategorisasikan *input* ke dalam kategori *output*. *Multinomial Naive-Bayes* adalah sebuah algoritma dengan metode *supervised learning* yang paling umum digunakan dalam pengkategorisasian data tekstual.\n",
    "Pada dasarnya *Naive-Bayes* merupakan algoritma yang menghitung probabilitas dari sebuah event (*output*) berdasarkan probabilitas akumulatif kejadian dari event sebelumnya. Secara singkat algoritma ini akan mempelajari berapa probabilitas dari sebuah kata, misalkan 'ADISSAGE' adalah sebuah label `bukan_warna` berdasarkan probabilitas kejadian 'ADISSAGE' adalah `bukan_warna` pada event - event sebelumnya.\n",
    "\n",
    "Formula dari probabilitias algoritma *Naive-Bayes*:\n",
    "\n",
    "$P(A|B) = \\frac{P(A) * P(B|A)}{P(B)}$\n",
    "\n",
    "Sebelum melakukan training menggunakan algoritma *Multinomial Naive-Bayes* kita perlu untuk merubah data kata menjadi bentuk numerik yang kali ini akan dikonversi menggunakan metode TF-IDF (*Term Frequency-Inverse Document Frequency*). TF-IDF sendiri merupakan metode yang akan berusaha memvaluasi nilai relevansi dan frekuensi dari sebuah kata dalam sekumpulan dokumen. *Term Frequency* merujuk pada seberapa sering sebuah kata muncul dalam 1 dokumen, sedangkan *Inverse Document Frequency* adalah perhitungan logaritma dari jumlah seluruh dokumen dibagi dengan jumlah dokumen dengan kata yang dimaksud terdapat di dalamnya. Hasil perhitungan dari TF dan IDF ini akan dikalikan untuk mendapatkan nilai dari seberapa sering dan seberapa relevan nilai dari sebuah kata. Misalkan 'ADISSAGE' sering muncul dalam 1 dokumen tapi tidak terlalu banyak muncul di dokumen - dokumen lainnya, maka hal ini dapat mengindikasikan bahwa kata 'ADISSAGE' mungkin memiliki relevansi yang tinggi dalam kategorisasi sebuah dokumen, sebaliknya jika kata 'WHITE' sering muncul di 1 dokumen dan juga sering muncul di dokumen - dokumen lainnya, maka kata 'WHITE' ini mungkin merupakan sebuah kata yang umum dan memiliki nilai relevansi yang rendah dalam pengkategorisasian sebuah dokumen.\n",
    "\n",
    "Untuk lebih lengkapnya mengenai *Naive-Bayes* dan TF-IDF dapat merujuk pada sumber berikut:\n",
    "* https://towardsdatascience.com/naive-bayes-classifier-81d512f50a7c\n",
    "* https://monkeylearn.com/blog/what-is-tf-idf/\n"
   ]
  },
  {
   "cell_type": "code",
   "execution_count": 31,
   "metadata": {},
   "outputs": [
    {
     "data": {
      "text/html": [
       "<style>#sk-container-id-2 {color: black;background-color: white;}#sk-container-id-2 pre{padding: 0;}#sk-container-id-2 div.sk-toggleable {background-color: white;}#sk-container-id-2 label.sk-toggleable__label {cursor: pointer;display: block;width: 100%;margin-bottom: 0;padding: 0.3em;box-sizing: border-box;text-align: center;}#sk-container-id-2 label.sk-toggleable__label-arrow:before {content: \"▸\";float: left;margin-right: 0.25em;color: #696969;}#sk-container-id-2 label.sk-toggleable__label-arrow:hover:before {color: black;}#sk-container-id-2 div.sk-estimator:hover label.sk-toggleable__label-arrow:before {color: black;}#sk-container-id-2 div.sk-toggleable__content {max-height: 0;max-width: 0;overflow: hidden;text-align: left;background-color: #f0f8ff;}#sk-container-id-2 div.sk-toggleable__content pre {margin: 0.2em;color: black;border-radius: 0.25em;background-color: #f0f8ff;}#sk-container-id-2 input.sk-toggleable__control:checked~div.sk-toggleable__content {max-height: 200px;max-width: 100%;overflow: auto;}#sk-container-id-2 input.sk-toggleable__control:checked~label.sk-toggleable__label-arrow:before {content: \"▾\";}#sk-container-id-2 div.sk-estimator input.sk-toggleable__control:checked~label.sk-toggleable__label {background-color: #d4ebff;}#sk-container-id-2 div.sk-label input.sk-toggleable__control:checked~label.sk-toggleable__label {background-color: #d4ebff;}#sk-container-id-2 input.sk-hidden--visually {border: 0;clip: rect(1px 1px 1px 1px);clip: rect(1px, 1px, 1px, 1px);height: 1px;margin: -1px;overflow: hidden;padding: 0;position: absolute;width: 1px;}#sk-container-id-2 div.sk-estimator {font-family: monospace;background-color: #f0f8ff;border: 1px dotted black;border-radius: 0.25em;box-sizing: border-box;margin-bottom: 0.5em;}#sk-container-id-2 div.sk-estimator:hover {background-color: #d4ebff;}#sk-container-id-2 div.sk-parallel-item::after {content: \"\";width: 100%;border-bottom: 1px solid gray;flex-grow: 1;}#sk-container-id-2 div.sk-label:hover label.sk-toggleable__label {background-color: #d4ebff;}#sk-container-id-2 div.sk-serial::before {content: \"\";position: absolute;border-left: 1px solid gray;box-sizing: border-box;top: 0;bottom: 0;left: 50%;z-index: 0;}#sk-container-id-2 div.sk-serial {display: flex;flex-direction: column;align-items: center;background-color: white;padding-right: 0.2em;padding-left: 0.2em;position: relative;}#sk-container-id-2 div.sk-item {position: relative;z-index: 1;}#sk-container-id-2 div.sk-parallel {display: flex;align-items: stretch;justify-content: center;background-color: white;position: relative;}#sk-container-id-2 div.sk-item::before, #sk-container-id-2 div.sk-parallel-item::before {content: \"\";position: absolute;border-left: 1px solid gray;box-sizing: border-box;top: 0;bottom: 0;left: 50%;z-index: -1;}#sk-container-id-2 div.sk-parallel-item {display: flex;flex-direction: column;z-index: 1;position: relative;background-color: white;}#sk-container-id-2 div.sk-parallel-item:first-child::after {align-self: flex-end;width: 50%;}#sk-container-id-2 div.sk-parallel-item:last-child::after {align-self: flex-start;width: 50%;}#sk-container-id-2 div.sk-parallel-item:only-child::after {width: 0;}#sk-container-id-2 div.sk-dashed-wrapped {border: 1px dashed gray;margin: 0 0.4em 0.5em 0.4em;box-sizing: border-box;padding-bottom: 0.4em;background-color: white;}#sk-container-id-2 div.sk-label label {font-family: monospace;font-weight: bold;display: inline-block;line-height: 1.2em;}#sk-container-id-2 div.sk-label-container {text-align: center;}#sk-container-id-2 div.sk-container {/* jupyter's `normalize.less` sets `[hidden] { display: none; }` but bootstrap.min.css set `[hidden] { display: none !important; }` so we also need the `!important` here to be able to override the default hidden behavior on the sphinx rendered scikit-learn.org. See: https://github.com/scikit-learn/scikit-learn/issues/21755 */display: inline-block !important;position: relative;}#sk-container-id-2 div.sk-text-repr-fallback {display: none;}</style><div id=\"sk-container-id-2\" class=\"sk-top-container\"><div class=\"sk-text-repr-fallback\"><pre>Pipeline(steps=[(&#x27;tf-idf&#x27;, TfidfVectorizer()), (&#x27;clf&#x27;, MultinomialNB())])</pre><b>In a Jupyter environment, please rerun this cell to show the HTML representation or trust the notebook. <br />On GitHub, the HTML representation is unable to render, please try loading this page with nbviewer.org.</b></div><div class=\"sk-container\" hidden><div class=\"sk-item sk-dashed-wrapped\"><div class=\"sk-label-container\"><div class=\"sk-label sk-toggleable\"><input class=\"sk-toggleable__control sk-hidden--visually\" id=\"sk-estimator-id-4\" type=\"checkbox\" ><label for=\"sk-estimator-id-4\" class=\"sk-toggleable__label sk-toggleable__label-arrow\">Pipeline</label><div class=\"sk-toggleable__content\"><pre>Pipeline(steps=[(&#x27;tf-idf&#x27;, TfidfVectorizer()), (&#x27;clf&#x27;, MultinomialNB())])</pre></div></div></div><div class=\"sk-serial\"><div class=\"sk-item\"><div class=\"sk-estimator sk-toggleable\"><input class=\"sk-toggleable__control sk-hidden--visually\" id=\"sk-estimator-id-5\" type=\"checkbox\" ><label for=\"sk-estimator-id-5\" class=\"sk-toggleable__label sk-toggleable__label-arrow\">TfidfVectorizer</label><div class=\"sk-toggleable__content\"><pre>TfidfVectorizer()</pre></div></div></div><div class=\"sk-item\"><div class=\"sk-estimator sk-toggleable\"><input class=\"sk-toggleable__control sk-hidden--visually\" id=\"sk-estimator-id-6\" type=\"checkbox\" ><label for=\"sk-estimator-id-6\" class=\"sk-toggleable__label sk-toggleable__label-arrow\">MultinomialNB</label><div class=\"sk-toggleable__content\"><pre>MultinomialNB()</pre></div></div></div></div></div></div></div>"
      ],
      "text/plain": [
       "Pipeline(steps=[('tf-idf', TfidfVectorizer()), ('clf', MultinomialNB())])"
      ]
     },
     "execution_count": 31,
     "metadata": {},
     "output_type": "execute_result"
    }
   ],
   "source": [
    " # * Membuat pipeline untuk mengubah kata ke dalam tf-idf\n",
    "model_0 = Pipeline([\n",
    "    (\"tf-idf\", TfidfVectorizer()),\n",
    "    (\"clf\", MultinomialNB())\n",
    "])\n",
    "\n",
    " # * Fit pipeline dengan data training\n",
    "model_0.fit(X=np.squeeze(train_data_mnb.iloc[:, 0]), y=train_target_mnb)"
   ]
  },
  {
   "cell_type": "code",
   "execution_count": 32,
   "metadata": {},
   "outputs": [
    {
     "data": {
      "text/plain": [
       "0.9927756486498392"
      ]
     },
     "execution_count": 32,
     "metadata": {},
     "output_type": "execute_result"
    }
   ],
   "source": [
    " # * Evaluasi model_0 pada data test\n",
    "skor_model_0 = model_0.score(X=np.squeeze(test_data_mnb.iloc[:, 0]), y=test_target_mnb)\n",
    "skor_model_0"
   ]
  },
  {
   "cell_type": "markdown",
   "metadata": {},
   "source": [
    "### Eksplorasi Hasil Model 0\n",
    "Pada hasil training dengan menggunakan model algoritma *Multinomial Naive-Bayes* kita mendapatkan akurasi sebesar ~99.22%\n",
    "\n",
    "Secara sekilas model yang pertama ini (model 0) memberikan akurasi yang sangat tinggi dalam membedakan kata `warna` dan `bukan_warna`. Namun secara brand speisifik, akurasi ini mungkin akan lebih buruk karena di beberapa brand terutama 'PUM' kita dapat menjumpai artikel dengan nama misalkan 'PUMA XTG WOVEN PANTS PUMA BLACK-PUMA WHITE' dimana kata PUMA pertama adalah `bukan_warna` namun kata PUMA kedua dan ketiga adalah bagian dari `warna`.\n",
    "\n",
    "Dengan demikian, nanti kita mungkin akan mengulas lebih mendalam model pertama ini menggunakan dataset yang dipisahkan berdasar brand. Untuk sementara kita akan melanjutkan mengembangkan model - model alternatif untuk pemisahan `bukan_warna` dan `warna` dari nama artikel."
   ]
  },
  {
   "cell_type": "code",
   "execution_count": 33,
   "metadata": {},
   "outputs": [
    {
     "data": {
      "text/plain": [
       "array([1, 0, 1, ..., 0, 0, 0])"
      ]
     },
     "execution_count": 33,
     "metadata": {},
     "output_type": "execute_result"
    }
   ],
   "source": [
    " # * Membuat prediksi menggunakan data test\n",
    "pred_model_0 = model_0.predict(np.squeeze(test_data_mnb.iloc[:, 0]))\n",
    "pred_model_0"
   ]
  },
  {
   "cell_type": "code",
   "execution_count": 34,
   "metadata": {},
   "outputs": [],
   "source": [
    " # * Membuat fungsi dasar untuk menghitung accuray, precision, recall, f1-score\n",
    "def hitung_metrik(target, prediksi):\n",
    "    \"\"\"\n",
    "    Menghitung accuracy, precision, recall dan f1-score dari model klasifikasi biner\n",
    "    \n",
    "    Args:\n",
    "        target: label yang sebenarnya dalam bentuk 1D array\n",
    "        prediksi: label yang diprediksi dalam bentuk 1D array\n",
    "        \n",
    "    Returns:\n",
    "        nilai accuracy, precision, recall dan f1-score dalam bentuk dictionary\n",
    "    \"\"\"\n",
    "    # Menghitung akurasi model\n",
    "    model_akurasi = accuracy_score(target, prediksi)\n",
    "    # Menghitung precision, recall, f1-score dan support dari model\n",
    "    model_presisi, model_recall, model_f1, _ = precision_recall_fscore_support(target, prediksi, average='weighted')\n",
    "    \n",
    "    hasil_model = {'akurasi': model_akurasi,\n",
    "                   'presisi': model_presisi,\n",
    "                   'recall': model_recall,\n",
    "                   'f1-score': model_f1}\n",
    "    \n",
    "    return hasil_model"
   ]
  },
  {
   "cell_type": "code",
   "execution_count": 35,
   "metadata": {},
   "outputs": [
    {
     "data": {
      "text/plain": [
       "{'akurasi': 0.9927756486498392,\n",
       " 'presisi': 0.9927808349859054,\n",
       " 'recall': 0.9927756486498392,\n",
       " 'f1-score': 0.9927719475473187}"
      ]
     },
     "execution_count": 35,
     "metadata": {},
     "output_type": "execute_result"
    }
   ],
   "source": [
    " # * Menghitung metrik dari model_0\n",
    "model_0_metrik = hitung_metrik(target=test_target_mnb, \n",
    "                               prediksi=pred_model_0)\n",
    "model_0_metrik"
   ]
  },
  {
   "cell_type": "markdown",
   "metadata": {},
   "source": [
    "**Akurasi** merupakan metrik yang menghitung jumlah prediksi yang benar dibanding total jumlah label yang dijadikan evaluasi (test data, bukan training data).\n",
    "\n",
    "$\\frac{\\text{prediksi benar}}{\\text{total prediksi}}$\n",
    "\n",
    "**Presisi** merupakan metrik yang menghitung *true positive* berbanding dengan *true positive* dan *false positive*\n",
    "\n",
    "$\\frac{\\text{true positive}}{\\text{true positive } + \\text{ false positive}}$\n",
    "\n",
    "**Recall** merupakan metrik yang menghitung *true positive* berbanding dengan *true positive* dan *false negative*\n",
    "\n",
    "$\\frac{\\text{true positive}}{\\text{true positive } + \\text{ false negative}}$\n",
    "\n",
    "**f1-score** merupakan metrik yang mengabungkan presisi dan recall\n",
    "\n",
    "$2 * \\frac{\\text{presisi } * \\text{ recall}}{\\text{presisi } + \\text{ recall}}$\n",
    "\n",
    "Dimana:\n",
    "* True Positive (TP): Prediksi `warna` pada target label `warna`\n",
    "* False Positive (FP): Prediksi `warna` pada target label `bukan_warna`\n",
    "* True Negative (TN): Prediksi `bukan_warna` pada target label `bukan_warna`\n",
    "* False Negative (FN): Prediksi `bukan_warna` pada target label `warna`"
   ]
  },
  {
   "cell_type": "code",
   "execution_count": 36,
   "metadata": {},
   "outputs": [],
   "source": [
    " # // # * Membuat confusion matrix untuk prediksi model_0\n",
    " # // cf_matrix = confusion_matrix(test_target_mnb, pred_model_0)\n",
    "\n",
    " # // # * Menampilkan confusion matrix menggunakan seaborn\n",
    " # // ax = sns.heatmap(cf_matrix, annot=True, fmt='d', cmap='Blues')\n",
    "\n",
    " # // ax.set_title(f'Confusion Matrix Model 0 - Akurasi {skor_model_0:.2%}')\n",
    " # // ax.set_xlabel('Prediksi')\n",
    " # // ax.set_ylabel('Label')\n",
    "\n",
    " # // # * label tick\n",
    " # // ax.xaxis.set_ticklabels(['bukan_warna', 'warna'])\n",
    " # // ax.yaxis.set_ticklabels(['bukan_warna', 'warna'])\n",
    "\n",
    " # // # * Tampilkan\n",
    " # // plt.show()\n",
    "\n",
    "\"\"\"\n",
    "todo: Merubah confusion matrix ke dalam fungsi\n",
    "\"\"\"\n",
    "def plot_conf_matrix(target_label, \n",
    "                     prediksi_label, \n",
    "                     akurasi, \n",
    "                     label_titik_x, \n",
    "                     label_titik_y):\n",
    "    \"\"\"\n",
    "    * Fungsi ini akan menampilkan matrix confusion untuk perbandingan\n",
    "    * target label dan prediksi label dan memahami seberapa kesulitan\n",
    "    * sebuah model melakukan prediksi\n",
    "    \n",
    "    Args:\n",
    "        target_label (list atau 1D-array): label yang sebenarnya dalam bentuk 1D array\n",
    "        prediksi_label (list atau 1D-array): label yang diprediksi dalam bentuk 1D array\n",
    "        akurasi (float): akurasi model dalam bentuk float\n",
    "        ! label_titik_x dan label_titik_y, keduanya merupakan list dari sekumpulan\n",
    "        ! string dan harus dalam vector shape yang sama\n",
    "        label_titik_x (list str): label untuk x-axis dalam bentuk list\n",
    "        label_titik_y (list str): label untuk y-axis dalam bentuk list\n",
    "        \n",
    "    Returns:\n",
    "        plot_confusion_matrix\n",
    "    \"\"\"\n",
    "    # Membuat confusion matrix\n",
    "    cf_matrix = confusion_matrix(target_label,\n",
    "                                 prediksi_label)\n",
    "    # Pengaturan confusion_matrix menggunakan seaborn\n",
    "    plot_confusion_matrix = sns.heatmap(cf_matrix, annot=True, fmt='d', cmap='Blues')\n",
    "    plot_confusion_matrix.set_title(f'Confusion Matrix - Akurasi {akurasi:.2%}')\n",
    "    plot_confusion_matrix.set_xlabel('Prediksi Label')\n",
    "    plot_confusion_matrix.set_ylabel('Target Label')\n",
    "    plot_confusion_matrix.xaxis.set_ticklabels(label_titik_x)\n",
    "    plot_confusion_matrix.yaxis.set_ticklabels(label_titik_y)\n",
    "    \n",
    "    return plt.show()"
   ]
  },
  {
   "cell_type": "code",
   "execution_count": 37,
   "metadata": {},
   "outputs": [
    {
     "data": {
      "image/png": "[encoded data removed]",
      "text/plain": [
       "<Figure size 432x288 with 2 Axes>"
      ]
     },
     "metadata": {},
     "output_type": "display_data"
    }
   ],
   "source": [
    "plot_conf_matrix(target_label=test_target_mnb,\n",
    "                 prediksi_label=pred_model_0,\n",
    "                 akurasi=model_0_metrik['akurasi'],\n",
    "                 label_titik_x=['bukan_warna', 'warna'],\n",
    "                 label_titik_y=['bukan_warna', 'warna'])"
   ]
  },
  {
   "cell_type": "markdown",
   "metadata": {},
   "source": [
    "Pada tabel *Confusion Matrix* di atas kita dapat melihat bahwa Model 0 berhasil memprediksi secara tepat 6,786 kata dengan label `bukan_warna` dan 4,477 kata dengan label `warna`.\n",
    "\n",
    "Terdapat setidaknya 55 kata yang merupakan `warna` namun diprediksi oleh Model 0 sebagai `bukan_warna` dan 34 kata yang merupakan `bukan_warna` namun diprediksi oleh Model 0 sebagai `warna`"
   ]
  },
  {
   "cell_type": "code",
   "execution_count": 38,
   "metadata": {},
   "outputs": [],
   "source": [
    "# Membuat fungsi untuk menampilkan kesalahan model dalam dataframe\n",
    "def df_kesalahan_prediksi(label_encoder, test_data, prediksi, order_ulang_header=None):\n",
    "    \"\"\"\n",
    "    (penting) Fungsi ini akan menerima objek label encoder sklearn, set test_data\n",
    "    (penting) sebelum modifikasi encoding fitur dan label, prediksi dari model\n",
    "    (penting) serta urutan order_ulang_header jika diperlukan\n",
    "    \n",
    "    Args:\n",
    "        label_encoder (obyek LabelEncoder sklear.preprocessing): obyek label encoder dari sklearn.preprocessing\n",
    "        test_data (pd.DataFrame): dataframe lengkap sebelum modifikasi fitur dan label\n",
    "        prediksi (tf.Tensor): tensor dengan shape 1 dimensi yang memuat prediksi model\n",
    "        order_ulang_header (list): list dengan urutan header yang diinginkan\n",
    "        \n",
    "    Returns:\n",
    "        pd.DataFrame yang diprint dengan format markdown\n",
    "    \"\"\"\n",
    "    inverse_label_encoder = list(label_encoder.inverse_transform([0, 1]))\n",
    "    \n",
    "    if order_ulang_header is None:\n",
    "        data_final = pd.DataFrame(test_data)\n",
    "    elif type(order_ulang_header) is list:\n",
    "        data_final = pd.DataFrame(test_data)[order_ulang_header]\n",
    "    else:\n",
    "        raise TypeError('order_ulang_header harus berupa list')\n",
    "    \n",
    "    kolom_pred = pd.DataFrame(np.int8(prediksi), columns=['prediksi'])\n",
    "    data_final['prediksi'] = kolom_pred.iloc[:, 0].tolist()\n",
    "    data_final['prediksi'] = data_final['prediksi'].astype(int).map(lambda x: inverse_label_encoder[x])\n",
    "    data_final = data_final.loc[data_final['label'] != data_final['prediksi']]\n",
    "    with pd.option_context('display.max_rows', None):\n",
    "        print(data_final.to_markdown())"
   ]
  },
  {
   "cell_type": "code",
   "execution_count": 39,
   "metadata": {},
   "outputs": [
    {
     "name": "stdout",
     "output_type": "stream",
     "text": [
      "|       | brand   | kata        |   urut_kata |   total_kata | label       | prediksi    |\n",
      "|------:|:--------|:------------|------------:|-------------:|:------------|:------------|\n",
      "| 55259 | STN     | AQUA        |           3 |            3 | warna       | bukan_warna |\n",
      "|    12 | ADI     | BASKETBALL  |           5 |            6 | warna       | bukan_warna |\n",
      "| 23355 | NIC     | 7           |          11 |           11 | warna       | bukan_warna |\n",
      "| 56444 | WAR     | OREO        |           2 |            3 | warna       | bukan_warna |\n",
      "| 46960 | NIK     | FTR10PURE   |           2 |            7 | warna       | bukan_warna |\n",
      "| 13918 | ADI     | CARDBOARD   |           2 |            2 | warna       | bukan_warna |\n",
      "|  8735 | ADI     | FULL        |           1 |            3 | bukan_warna | warna       |\n",
      "|  6976 | ADI     | BLUTIN      |           6 |            6 | warna       | bukan_warna |\n",
      "| 31091 | NIK     | VIALEBLACK  |           2 |            4 | warna       | bukan_warna |\n",
      "| 51267 | PUM     | TRACE       |           2 |            7 | bukan_warna | warna       |\n",
      "|  5964 | ADI     | CLOUD       |           2 |            3 | warna       | bukan_warna |\n",
      "| 36008 | NIK     | SIGNAL      |           2 |           11 | bukan_warna | warna       |\n",
      "|   808 | ADI     | LEGIVY      |           6 |            6 | warna       | bukan_warna |\n",
      "| 56083 | WAR     | GLOW        |           2 |            6 | bukan_warna | warna       |\n",
      "| 18933 | BBC     | FULL        |           1 |            8 | bukan_warna | warna       |\n",
      "| 55981 | STN     | OATMEAL     |           2 |            2 | warna       | bukan_warna |\n",
      "| 33831 | NIK     | EXPX14WHITE |           2 |            4 | warna       | bukan_warna |\n",
      "| 48650 | PUM     | CORE        |           2 |            6 | bukan_warna | warna       |\n",
      "| 56746 | WAR     | PAISLEY     |           2 |            4 | warna       | bukan_warna |\n",
      "|  1405 | ADI     | PK          |           2 |            4 | warna       | bukan_warna |\n",
      "| 56116 | WAR     | FULL        |           1 |            6 | bukan_warna | warna       |\n",
      "| 56086 | WAR     | GLOW        |           2 |            6 | bukan_warna | warna       |\n",
      "| 17275 | AGL     | 5           |           5 |            6 | warna       | bukan_warna |\n",
      "| 52109 | PUM     | GLOW        |           3 |            7 | bukan_warna | warna       |\n",
      "| 26752 | NIK     | PEELORANGE  |           6 |            7 | warna       | bukan_warna |\n",
      "| 55804 | STN     | VOLT        |           2 |            2 | warna       | bukan_warna |\n",
      "| 12023 | ADI     | LEGEND      |           2 |            3 | warna       | bukan_warna |\n",
      "|  8962 | ADI     | CORE        |           2 |            4 | bukan_warna | warna       |\n",
      "|  1039 | ADI     | TESIME      |           6 |            6 | warna       | bukan_warna |\n",
      "|  8759 | ADI     | ACTIVE      |           3 |            7 | warna       | bukan_warna |\n",
      "| 52114 | PUM     | GLOW        |           3 |            8 | bukan_warna | warna       |\n",
      "| 13740 | ADI     | MAROON      |           2 |            2 | warna       | bukan_warna |\n",
      "| 10573 | ADI     | METAL       |           2 |            3 | warna       | bukan_warna |\n",
      "| 56484 | WAR     | NEON        |           2 |            5 | warna       | bukan_warna |\n",
      "| 46940 | NIK     | REACTBRIGHT |           2 |            7 | warna       | bukan_warna |\n",
      "| 15761 | ADI     | ALUMINA     |           3 |            3 | warna       | bukan_warna |\n",
      "| 48805 | PUM     | CORE        |           2 |            7 | bukan_warna | warna       |\n",
      "| 16760 | ADI     | EQTBLU      |           4 |            4 | warna       | bukan_warna |\n",
      "|  2197 | ADI     | EASGRN      |           7 |            7 | warna       | bukan_warna |\n",
      "|  1031 | ADI     | BLUTIN      |           3 |            5 | warna       | bukan_warna |\n",
      "|  1403 | ADI     | F17         |           4 |            4 | warna       | bukan_warna |\n",
      "|   479 | ADI     | CCMELS      |           3 |            3 | warna       | bukan_warna |\n",
      "|  1361 | ADI     | BLUTIN      |           5 |            7 | warna       | bukan_warna |\n",
      "|  2592 | ADI     | ICEPUR      |           2 |            4 | warna       | bukan_warna |\n",
      "|  7372 | ADI     | SGREEN      |           2 |            4 | warna       | bukan_warna |\n",
      "| 10336 | ADI     | MAROON      |           2 |            2 | warna       | bukan_warna |\n",
      "| 15466 | ADI     | SAVANNAH    |           2 |            2 | warna       | bukan_warna |\n",
      "| 54951 | SAU     | TAN         |           2 |            3 | warna       | bukan_warna |\n",
      "| 22780 | KIP     | SHADOW      |           2 |            4 | warna       | bukan_warna |\n",
      "| 56226 | WAR     | ORANGE      |           2 |            5 | bukan_warna | warna       |\n",
      "| 56112 | WAR     | RED         |           1 |            7 | bukan_warna | warna       |\n",
      "| 17198 | AGL     | YELLOW      |           2 |            5 | bukan_warna | warna       |\n",
      "| 50395 | PUM     | PUMA        |           2 |            5 | warna       | bukan_warna |\n",
      "| 32998 | NIK     | 23          |          10 |           11 | warna       | bukan_warna |\n",
      "| 48075 | PTG     | ORANGE      |           2 |            3 | bukan_warna | warna       |\n",
      "| 54953 | SAU     | BRN         |           2 |            3 | warna       | bukan_warna |\n",
      "| 56661 | WAR     | THE         |           2 |            5 | warna       | bukan_warna |\n",
      "|  4222 | ADI     | SESAME      |           5 |            7 | warna       | bukan_warna |\n",
      "| 52841 | PUM     | CORE        |           1 |            7 | bukan_warna | warna       |\n",
      "|  8968 | ADI     | CORE        |           2 |            4 | bukan_warna | warna       |\n",
      "|  1407 | ADI     | CARGO       |           4 |            4 | warna       | bukan_warna |\n",
      "| 21603 | HER     | DARK        |           2 |            5 | warna       | bukan_warna |\n",
      "|  7274 | ADI     | SESAME      |           2 |            4 | warna       | bukan_warna |\n",
      "|  3490 | ADI     | SHOCK       |           2 |            3 | warna       | bukan_warna |\n",
      "| 21685 | HER     | NIGHT       |           2 |            3 | warna       | bukan_warna |\n",
      "| 18208 | BBC     | CLEAR       |           2 |            8 | bukan_warna | warna       |\n",
      "| 14727 | ADI     | LEGEND      |           2 |            3 | warna       | bukan_warna |\n",
      "| 33814 | NIK     | EXPZ07WHITE |           2 |            3 | warna       | bukan_warna |\n",
      "| 30639 | NIK     | 35          |           5 |           11 | bukan_warna | warna       |\n",
      "| 21386 | HER     | BRBDSCHRY   |           2 |            3 | warna       | bukan_warna |\n",
      "|  8965 | ADI     | CORE        |           2 |            4 | bukan_warna | warna       |\n",
      "| 16112 | ADI     | VAPOUR      |           2 |            3 | warna       | bukan_warna |\n",
      "| 11545 | ADI     | ACTIVE      |           3 |            4 | warna       | bukan_warna |\n",
      "|  4659 | ADI     | BOAQUA      |           2 |            4 | warna       | bukan_warna |\n",
      "| 21982 | HER     | FLORAL      |           2 |            3 | warna       | bukan_warna |\n",
      "| 21091 | HER     | 600D        |           3 |            6 | bukan_warna | warna       |\n",
      "| 17520 | AGL     | BROWN       |           1 |            4 | bukan_warna | warna       |\n",
      "| 10328 | ADI     | ACTIVE      |           2 |            3 | warna       | bukan_warna |\n",
      "| 48153 | PTG     | DOVE        |           2 |            3 | bukan_warna | warna       |\n",
      "| 19643 | BEA     | 35          |           2 |            3 | bukan_warna | warna       |\n",
      "| 16288 | ADI     | BLK         |           2 |            5 | bukan_warna | warna       |\n",
      "| 21174 | HER     | RED         |           4 |            8 | bukan_warna | warna       |\n",
      "| 30654 | NIK     | 35          |           5 |           10 | bukan_warna | warna       |\n",
      "| 29098 | NIK     | 8ASHEN      |           3 |            6 | warna       | bukan_warna |\n",
      "| 53459 | PUM     | GLOW        |           1 |            5 | bukan_warna | warna       |\n",
      "| 55759 | STN     | RASTA       |           2 |            2 | warna       | bukan_warna |\n",
      "| 18940 | BBC     | FULL        |           1 |            8 | bukan_warna | warna       |\n",
      "|   656 | ADI     | BGREEN      |           7 |            7 | warna       | bukan_warna |\n",
      "| 54972 | SAU     | VINTAGE     |           2 |            5 | bukan_warna | warna       |\n",
      "|  6532 | ADI     | SESAME      |           6 |            7 | warna       | bukan_warna |\n",
      "| 25371 | NIK     | 23          |           6 |            6 | warna       | bukan_warna |\n",
      "| 21687 | HER     | DARK        |           2 |            4 | warna       | bukan_warna |\n",
      "| 24154 | NIK     | CORE        |           2 |            6 | bukan_warna | warna       |\n",
      "| 31572 | NIK     | LIGHTCARBON |           4 |            6 | warna       | bukan_warna |\n",
      "| 12440 | ADI     | CORE        |           2 |            5 | bukan_warna | warna       |\n",
      "| 56160 | WAR     | BLUE        |           1 |            5 | bukan_warna | warna       |\n",
      "| 30630 | NIK     | 35          |           5 |           10 | bukan_warna | warna       |\n",
      "| 21143 | HER     | STELLAR     |           2 |            2 | warna       | bukan_warna |\n",
      "| 56200 | WAR     | WHITE       |           1 |            5 | bukan_warna | warna       |\n",
      "|  9984 | ADI     | SESAME      |           3 |            3 | warna       | bukan_warna |\n",
      "| 10338 | ADI     | ACTIVE      |           2 |            3 | warna       | bukan_warna |\n",
      "| 29157 | NIK     | 2BLACK      |           3 |            4 | warna       | bukan_warna |\n",
      "|   525 | ADI     | BLUTIN      |           6 |            6 | warna       | bukan_warna |\n",
      "|  1924 | ADI     | MYSRUB      |           2 |            4 | warna       | bukan_warna |\n",
      "| 26852 | NIK     | (GS)WHITE   |           5 |            6 | warna       | bukan_warna |\n",
      "| 21718 | HER     | VAPOR       |           2 |            3 | warna       | bukan_warna |\n",
      "| 56053 | WAR     | BLACK       |           1 |            5 | bukan_warna | warna       |\n",
      "| 30648 | NIK     | 35          |           5 |           12 | bukan_warna | warna       |\n",
      "| 19488 | BBC     | GLOW        |           1 |            7 | bukan_warna | warna       |\n",
      "| 23500 | NIC     | TRUE        |           2 |           10 | bukan_warna | warna       |\n",
      "|   921 | ADI     | CLAQUA      |           5 |            6 | warna       | bukan_warna |\n",
      "| 10392 | ADI     | CLOUD       |           2 |            3 | warna       | bukan_warna |\n",
      "| 56326 | WAR     | MIX         |           2 |            4 | warna       | bukan_warna |\n",
      "| 49966 | PUM     | CORE        |           2 |            6 | bukan_warna | warna       |\n",
      "|  1506 | ADI     | SIX         |           4 |            4 | warna       | bukan_warna |\n",
      "| 16143 | ADI     | VICTORY     |           2 |            3 | warna       | bukan_warna |\n",
      "|  6890 | ADI     | GUM1        |           5 |            5 | warna       | bukan_warna |\n",
      "| 36001 | NIK     | SIGNAL      |           2 |           12 | bukan_warna | warna       |\n",
      "| 21737 | HER     | RED         |           4 |            8 | bukan_warna | warna       |\n",
      "| 17271 | AGL     | 5           |           5 |            6 | warna       | bukan_warna |\n",
      "| 17100 | ADI     | BBANAT      |           3 |            3 | warna       | bukan_warna |\n",
      "| 10277 | ADI     | DARK        |           2 |            3 | warna       | bukan_warna |\n",
      "| 21141 | HER     | DKSHDW      |           2 |            3 | warna       | bukan_warna |\n",
      "| 33817 | NIK     | EXPX14BLACK |           2 |            5 | warna       | bukan_warna |\n",
      "| 12816 | ADI     | CREAM       |           2 |            3 | warna       | bukan_warna |\n",
      "|  3933 | ADI     | WINTER      |           1 |            3 | bukan_warna | warna       |\n",
      "| 47109 | NIK     | STRKWHITE   |           2 |            6 | warna       | bukan_warna |\n",
      "| 21029 | HER     | WINDSOR     |           2 |            3 | warna       | bukan_warna |\n",
      "| 16758 | ADI     | EQTBLU      |           2 |            4 | warna       | bukan_warna |\n",
      "| 28078 | NIK     | SLPBLACK    |           2 |            4 | warna       | bukan_warna |\n",
      "|   324 | ADI     | VIVGRN      |           5 |            6 | warna       | bukan_warna |\n",
      "|  5952 | ADI     | ACTIVE      |           3 |            4 | warna       | bukan_warna |\n",
      "| 15298 | ADI     | ROSE        |           2 |            4 | warna       | bukan_warna |\n",
      "|  8979 | ADI     | CORE        |           2 |            6 | bukan_warna | warna       |\n",
      "|  1449 | ADI     | FIVE        |           4 |            4 | warna       | bukan_warna |\n",
      "|  3850 | ADI     | POWER       |           2 |            7 | bukan_warna | warna       |\n",
      "| 28999 | NIK     | RAGEBLACK   |           2 |            4 | warna       | bukan_warna |\n",
      "| 21644 | HER     | NIGHT       |           2 |            3 | warna       | bukan_warna |\n",
      "| 56154 | WAR     | BLACK       |           1 |            5 | bukan_warna | warna       |\n",
      "|   465 | ADI     | EQTBLU      |           5 |            7 | warna       | bukan_warna |\n",
      "| 31118 | NIK     | 23          |           6 |            6 | warna       | bukan_warna |\n",
      "| 55344 | STN     | DARKSIDE    |           2 |            6 | warna       | bukan_warna |\n",
      "| 19807 | BEA     | &           |           7 |            9 | warna       | bukan_warna |\n",
      "| 18937 | BBC     | FULL        |           1 |            8 | bukan_warna | warna       |\n",
      "| 56636 | WAR     | THE         |           2 |            4 | warna       | bukan_warna |\n",
      "| 11703 | ADI     | LEGMAR      |           2 |            4 | warna       | bukan_warna |\n",
      "| 11150 | ADI     | LEGEND      |           2 |            3 | warna       | bukan_warna |\n",
      "| 56251 | WAR     | ORANGE      |           2 |            5 | bukan_warna | warna       |\n",
      "|  1104 | ADI     | REAPNK      |           7 |            7 | warna       | bukan_warna |\n",
      "| 52776 | PUM     | GLOW        |           2 |            5 | bukan_warna | warna       |\n",
      "| 56096 | WAR     | RED         |           1 |            5 | bukan_warna | warna       |\n",
      "| 10568 | ADI     | ORBIT       |           2 |            3 | warna       | bukan_warna |\n",
      "|  8971 | ADI     | CORE        |           2 |            5 | bukan_warna | warna       |\n",
      "| 34544 | NIK     | XBLACK      |           2 |            3 | warna       | bukan_warna |\n",
      "| 56659 | WAR     | THE         |           2 |            5 | warna       | bukan_warna |\n",
      "| 26397 | NIK     | SHOWERSOLAR |           2 |            5 | warna       | bukan_warna |\n",
      "| 21061 | HER     | WOODLAND    |           2 |            3 | warna       | bukan_warna |\n",
      "| 17893 | AGL     | HEATHERGREY |           2 |            2 | warna       | bukan_warna |\n",
      "|   476 | ADI     | CCMELS      |           3 |            3 | warna       | bukan_warna |\n",
      "| 56088 | WAR     | WHITE       |           1 |            5 | bukan_warna | warna       |\n",
      "| 56579 | WAR     | SALMON      |           2 |            2 | warna       | bukan_warna |\n",
      "| 28840 | NIK     | (GS)WHITE   |           4 |            5 | warna       | bukan_warna |\n",
      "| 10245 | ADI     | ACTIVE      |           2 |            3 | warna       | bukan_warna |\n",
      "| 49969 | PUM     | CORE        |           2 |            6 | bukan_warna | warna       |\n"
     ]
    }
   ],
   "source": [
    "# Menampilkan kesalahan prediksi \n",
    "df_kesalahan_prediksi(label_encoder=label_encoder,\n",
    "                      test_data=test_data_mnb,\n",
    "                      prediksi=pred_model_0,\n",
    "                      order_ulang_header=['brand', \n",
    "                                          'kata', \n",
    "                                          'urut_kata', \n",
    "                                          'total_kata', \n",
    "                                          'label'])"
   ]
  },
  {
   "cell_type": "markdown",
   "metadata": {},
   "source": [
    "## Model 1: Conv1D dengan Embedding\n",
    "\n",
    "`Conv1D` atau *1-dimension convolution* merupakan satu jenis layer dari layer convolution yang umumnya digunakan untuk mengekstrak fitur penting dari input data.\n",
    "\n",
    "Meskipun umumnya jaringan saraf tiruan *convolution* digunakan untuk klasifikasi gambar (`Conv2D`) pada pembelajaran *image recognition*, tidak jarang juga `Conv1D` dipergunakan dalam *natural language processing* atau *time series forecasting*.\n",
    "\n",
    "Layer ini pada prinsipnya menggunakan *kernel_size*, *padding* dan juga *stride* untuk menciptakan sebuah jendela yang akan men-*scan* input matrix atau vektor secara perlahan dan melakukan *pooling* (*min*, *max* atau *average pooling*) untuk mengekstrak nilai yang menjadi fitur penting dari input data.\n",
    "\n",
    "<div>\n",
    "<center><img src=\"gambar/convlayer.gif\" width=300/></center>\n",
    "</div>\n",
    "\n",
    "*contoh `Conv2D` pada jaringan saraf tiruan untuk klasifikasi biner/multiclass dari input gambar*\n",
    "\n",
    "Lebih lanjut mengenai jaringan saraf tiruan *convolution* (convolutional neural network) dapat merujuk pada [CNN Explainer](https://poloclub.github.io/cnn-explainer/)"
   ]
  },
  {
   "cell_type": "markdown",
   "metadata": {},
   "source": [
    "### Vektorisasi dan Embedding Kata"
   ]
  },
  {
   "cell_type": "markdown",
   "metadata": {},
   "source": [
    "#### Membuat Lapisan Vektorisasi Kata\n",
    "\n",
    "Vektorisasi sebenarnya merupakan proses yang cukup sederhana yang merubah kata menjadi representasi numerik berdasarkan total jumlah kata dalam *vocabulary* dari input data.\n",
    "\n",
    "Di lapisan vektorisasi ini sebenarnya kita melakukan beberapa proses pengolahan terhadap teks yang bersifat opsional, diantaranya:\n",
    "* Standarisasi kata, merubah semua kata menjadi *lowercase* dan menghilangkan tanda baca (*punctuation*)\n",
    "* Split setiap input teks menjadi per kata (untuk input yang berupa kalimat)\n",
    "* Pembentukan *ngrams* pada *corpus*. Apa itu [*ngrams*](https://en.wikipedia.org/wiki/N-gram) dan [*text corpus*](https://en.wikipedia.org/wiki/Text_corpus).\n",
    "* Indeksasi token (kata)\n",
    "* Transformasi setiap input menggunakan indeksasi token untuk menghasilkan vektor integer atau vektor angka *float*\n",
    "\n",
    "Sedangkan *embedding* adalah proses lebih lanjut setelah vektorisasi kata ke dalam representasi numerik. Pada dasarnya embedding adalah sebuah lapisan yang akan memberikan kemampuan untuk menyimpan bobot awal (*initial weight*) dan juga bobot yang nilainya akan di*update* selama proses *training* untuk kata dalam input data.\n",
    "\n",
    "Sebenarnya tujuan dari proses *embedding* adalah untuk merubah kata per kata dalam sebuah kalimat dalam satu representasi vektor dengan panjang yang sama (dalam kasus *universal sentence embedding* adalah vektor dengan panjang 512) dan merata - ratakan nilai dari kesemua vektor per kata dalam kalimat menjadi satu vektor yang digunakan sebagai acuan klasifikasi, pengelompokan (clustring) atau deteksi.\n",
    "\n",
    "Meskipun dalam kasus ColorSkim ini yang coba kita lakukan adalah melakukan klasifikasi per kata dan bukan merupakan klasifikasi per kalimat, proses *embedding* masih dapat menjadi satu faktor yang penting dalam melakukan update bobot (*weights*) untuk setiap *neuron* di dalam lapisan model yang dipergunakan melalui proses *backpropagation*.\n",
    "\n",
    "<div>\n",
    "<center><img src=\"gambar/embedding.png\" width=250/></center>\n",
    "</div>\n",
    "\n",
    "Pada akhir proses training, bobot dari suatu kata sudah melalui beberapa ratus putaran *training* (*epoch*) dari jaringan saraf tiruan dan diharapkan sudah memiliki nilai yang lebih akurat untuk merepresentasikan keadaan (*state*) dari suatu kata terhadap kategori kata atau kalimat yang menjadi target dari proses *training*.\n",
    "\n",
    "Lebih lengkapnya dapat merujuk pada link berikut:\n",
    "- Lapisan Vektorisasi Teks: https://www.tensorflow.org/api_docs/python/tf/keras/layers/TextVectorization\n",
    "- Lapisan Embedding Teks: https://www.tensorflow.org/text/guide/word_embeddings"
   ]
  },
  {
   "cell_type": "code",
   "execution_count": 40,
   "metadata": {},
   "outputs": [
    {
     "name": "stdout",
     "output_type": "stream",
     "text": [
      "jumlah data: 34050\n",
      "\n"
     ]
    },
    {
     "data": {
      "text/plain": [
       "30167    BLACK\n",
       "24191      RED\n",
       "18190    BLACK\n",
       "Name: kata, dtype: object"
      ]
     },
     "execution_count": 40,
     "metadata": {},
     "output_type": "execute_result"
    }
   ],
   "source": [
    " # * jumlah data (kata) dalam train_data\n",
    "print(f'jumlah data: {len(train_data.kata)}\\n')\n",
    "train_data.kata[:3]"
   ]
  },
  {
   "cell_type": "code",
   "execution_count": 41,
   "metadata": {},
   "outputs": [
    {
     "data": {
      "text/plain": [
       "2657"
      ]
     },
     "execution_count": 41,
     "metadata": {},
     "output_type": "execute_result"
    }
   ],
   "source": [
    " # * jumlah data unik (kata unik) dalam train_data[:, 0]\n",
    "jumlah_kata_train = len(np.unique(train_data.kata))\n",
    "jumlah_kata_train"
   ]
  },
  {
   "cell_type": "code",
   "execution_count": 42,
   "metadata": {},
   "outputs": [],
   "source": [
    " # * Membuat lapisan vektorisasi kata\n",
    "lapisan_vektorisasi = TextVectorization(max_tokens=jumlah_kata_train,\n",
    "                                        output_sequence_length=1,\n",
    "                                        standardize='lower_and_strip_punctuation',\n",
    "                                        name='lapisan_vektorisasi')"
   ]
  },
  {
   "cell_type": "code",
   "execution_count": 43,
   "metadata": {},
   "outputs": [],
   "source": [
    " # * Mengadaptasikan lapisan vektorisasi ke dalam train_kata\n",
    "lapisan_vektorisasi.adapt(train_data.kata.tolist())"
   ]
  },
  {
   "cell_type": "code",
   "execution_count": 44,
   "metadata": {},
   "outputs": [
    {
     "name": "stdout",
     "output_type": "stream",
     "text": [
      "Kata:\n",
      "LEATHER\n",
      "\n",
      "Kata setelah vektorisasi:\n",
      "[[1366]]\n"
     ]
    }
   ],
   "source": [
    " # * Uji vektorisasi kata\n",
    "target_kata = random.choice(train_data.kata.tolist())\n",
    "print(f'Kata:\\n{target_kata}\\n')\n",
    "print(f'Kata setelah vektorisasi:\\n{lapisan_vektorisasi([target_kata])}')"
   ]
  },
  {
   "cell_type": "code",
   "execution_count": 45,
   "metadata": {},
   "outputs": [
    {
     "data": {
      "text/plain": [
       "{'name': 'lapisan_vektorisasi',\n",
       " 'trainable': True,\n",
       " 'batch_input_shape': (None,),\n",
       " 'dtype': 'string',\n",
       " 'max_tokens': 2657,\n",
       " 'standardize': 'lower_and_strip_punctuation',\n",
       " 'split': 'whitespace',\n",
       " 'ngrams': None,\n",
       " 'output_mode': 'int',\n",
       " 'output_sequence_length': 1,\n",
       " 'pad_to_max_tokens': False,\n",
       " 'sparse': False,\n",
       " 'ragged': False,\n",
       " 'vocabulary': None,\n",
       " 'idf_weights': None}"
      ]
     },
     "execution_count": 45,
     "metadata": {},
     "output_type": "execute_result"
    }
   ],
   "source": [
    "lapisan_vektorisasi.get_config()"
   ]
  },
  {
   "cell_type": "code",
   "execution_count": 46,
   "metadata": {},
   "outputs": [
    {
     "data": {
      "text/plain": [
       "2616"
      ]
     },
     "execution_count": 46,
     "metadata": {},
     "output_type": "execute_result"
    }
   ],
   "source": [
    " # * Jumlah vocabulary dalam lapisan_vektorisasi\n",
    "jumlah_vocab = lapisan_vektorisasi.get_vocabulary()\n",
    "len(jumlah_vocab)"
   ]
  },
  {
   "cell_type": "markdown",
   "metadata": {},
   "source": [
    "#### Membuat Lapisan Text Embedding"
   ]
  },
  {
   "cell_type": "code",
   "execution_count": 47,
   "metadata": {},
   "outputs": [],
   "source": [
    " # * Membuat lapisan embedding kata\n",
    "lapisan_embedding = Embedding(input_dim=len(jumlah_vocab),\n",
    "                              output_dim=64,\n",
    "                              mask_zero=True,\n",
    "                              name='lapisan_embedding')"
   ]
  },
  {
   "cell_type": "code",
   "execution_count": 48,
   "metadata": {},
   "outputs": [
    {
     "name": "stdout",
     "output_type": "stream",
     "text": [
      "Kata sebelum vektorisasi:\n",
      "LEATHER\n",
      "\n",
      "\n",
      "Kata sesudah vektorisasi (sebelum embedding):\n",
      "[[1366]]\n",
      "\n",
      "\n",
      "Kata setelah embedding:\n",
      "[[[-0.03855441 -0.00503691 -0.03322792  0.02415495  0.04330384\n",
      "   -0.04379171  0.00998142 -0.03673672  0.01372616 -0.04244803\n",
      "   -0.02991414  0.04458794  0.02180064  0.03325254  0.01844997\n",
      "   -0.02682424  0.04074246  0.01977279  0.01680664  0.04322529\n",
      "   -0.01821426  0.00894433  0.02254668  0.0088398   0.02270199\n",
      "   -0.02067959 -0.01460068  0.03550682  0.03098879 -0.03848048\n",
      "   -0.03961895  0.02157566 -0.01618468 -0.03928206  0.03284759\n",
      "   -0.03922766 -0.01295296  0.0395169  -0.01331954 -0.01633357\n",
      "   -0.03721694 -0.00416964  0.04438173  0.01698135 -0.02069126\n",
      "   -0.03498392 -0.01527821  0.0051927   0.02044236  0.04104176\n",
      "   -0.0370486  -0.0367557  -0.02234426  0.02991322  0.01431776\n",
      "    0.0045786  -0.00232508  0.0315946   0.04782048  0.00767289\n",
      "   -0.04280123  0.01168447  0.02310188  0.03623778]]]\n",
      "\n",
      "Shape dari kata setelah embedding:\n",
      "(1, 1, 64)\n"
     ]
    }
   ],
   "source": [
    " # * Contoh vektorisasi dan embedding\n",
    "print(f'Kata sebelum vektorisasi:\\n{target_kata}\\n')\n",
    "kata_tervektor = lapisan_vektorisasi([target_kata])\n",
    "print(f'\\nKata sesudah vektorisasi (sebelum embedding):\\n{kata_tervektor}\\n')\n",
    "kata_terembed = lapisan_embedding(kata_tervektor)\n",
    "print(f'\\nKata setelah embedding:\\n{kata_terembed}\\n')\n",
    "print(f'Shape dari kata setelah embedding:\\n{kata_terembed.shape}')"
   ]
  },
  {
   "cell_type": "markdown",
   "metadata": {},
   "source": [
    "### Membuat TensorFlow Dataset, Batching dan Prefetching\n",
    "\n",
    "Pada bagian ini kita akan merubah data menjadi *dataset* dan menerapkan *batching* serta *prefetching* pada dataset untuk mempercepat performa *training* model.\n",
    "\n",
    "<div>\n",
    "<center><img src=\"gambar/prefetched.jpg\" width=700/></center>\n",
    "</div>\n",
    "\n",
    "Lihat https://www.tensorflow.org/guide/data_performance"
   ]
  },
  {
   "cell_type": "code",
   "execution_count": 49,
   "metadata": {},
   "outputs": [
    {
     "data": {
      "text/plain": [
       "(<TensorSliceDataset element_spec=(TensorSpec(shape=(), dtype=tf.string, name=None), TensorSpec(shape=(), dtype=tf.int32, name=None))>,\n",
       " <TensorSliceDataset element_spec=(TensorSpec(shape=(), dtype=tf.string, name=None), TensorSpec(shape=(), dtype=tf.int32, name=None))>,\n",
       " <TensorSliceDataset element_spec=(TensorSpec(shape=(2,), dtype=tf.float32, name=None), TensorSpec(shape=(), dtype=tf.int32, name=None))>,\n",
       " <TensorSliceDataset element_spec=(TensorSpec(shape=(2,), dtype=tf.float32, name=None), TensorSpec(shape=(), dtype=tf.int32, name=None))>,\n",
       " <TensorSliceDataset element_spec=(TensorSpec(shape=(37,), dtype=tf.float64, name=None), TensorSpec(shape=(), dtype=tf.int32, name=None))>,\n",
       " <TensorSliceDataset element_spec=(TensorSpec(shape=(37,), dtype=tf.float64, name=None), TensorSpec(shape=(), dtype=tf.int32, name=None))>)"
      ]
     },
     "execution_count": 49,
     "metadata": {},
     "output_type": "execute_result"
    }
   ],
   "source": [
    " # * Membuat TensorFlow dataset\n",
    "train_kata_dataset = from_tensor_slices((train_data.iloc[:, 0], train_target))\n",
    "test_kata_dataset = from_tensor_slices((test_data.iloc[:, 0], test_target))\n",
    "train_posisi_kata_dataset = from_tensor_slices(((train_data.iloc[:, 1:3].to_numpy()), train_target))\n",
    "test_posisi_kata_dataset = from_tensor_slices(((test_data.iloc[:, 1:3].to_numpy()), test_target))\n",
    "train_brand_kata_dataset = from_tensor_slices(((train_data.iloc[:, 3:].to_numpy()), train_target))\n",
    "test_brand_kata_dataset = from_tensor_slices(((test_data.iloc[:, 3:].to_numpy()), test_target))\n",
    "\n",
    "train_kata_dataset, test_kata_dataset, train_posisi_kata_dataset, test_posisi_kata_dataset, train_brand_kata_dataset, test_brand_kata_dataset"
   ]
  },
  {
   "cell_type": "code",
   "execution_count": 50,
   "metadata": {},
   "outputs": [
    {
     "data": {
      "text/plain": [
       "(<BatchDataset element_spec=(TensorSpec(shape=(None,), dtype=tf.string, name=None), TensorSpec(shape=(None,), dtype=tf.int32, name=None))>,\n",
       " <BatchDataset element_spec=(TensorSpec(shape=(None,), dtype=tf.string, name=None), TensorSpec(shape=(None,), dtype=tf.int32, name=None))>,\n",
       " <BatchDataset element_spec=(TensorSpec(shape=(None, 2), dtype=tf.float32, name=None), TensorSpec(shape=(None,), dtype=tf.int32, name=None))>,\n",
       " <BatchDataset element_spec=(TensorSpec(shape=(None, 2), dtype=tf.float32, name=None), TensorSpec(shape=(None,), dtype=tf.int32, name=None))>,\n",
       " <BatchDataset element_spec=(TensorSpec(shape=(None, 37), dtype=tf.float64, name=None), TensorSpec(shape=(None,), dtype=tf.int32, name=None))>,\n",
       " <BatchDataset element_spec=(TensorSpec(shape=(None, 37), dtype=tf.float64, name=None), TensorSpec(shape=(None,), dtype=tf.int32, name=None))>)"
      ]
     },
     "execution_count": 50,
     "metadata": {},
     "output_type": "execute_result"
    }
   ],
   "source": [
    " # * Membuat TensorSliceDataset menjadi prefetched dataset\n",
    "train_kata_dataset = train_kata_dataset.batch(UKURAN_BATCH).prefetch(tf.data.AUTOTUNE)\n",
    "test_kata_dataset = test_kata_dataset.batch(UKURAN_BATCH).prefetch(tf.data.AUTOTUNE)\n",
    "train_posisi_kata_dataset = train_posisi_kata_dataset.batch(UKURAN_BATCH).prefetch(tf.data.AUTOTUNE)\n",
    "test_posisi_kata_dataset = test_posisi_kata_dataset.batch(UKURAN_BATCH).prefetch(tf.data.AUTOTUNE)\n",
    "train_brand_kata_dataset = train_brand_kata_dataset.batch(UKURAN_BATCH).prefetch(tf.data.AUTOTUNE)\n",
    "test_brand_kata_dataset = test_brand_kata_dataset.batch(UKURAN_BATCH).prefetch(tf.data.AUTOTUNE)\n",
    "\n",
    "train_kata_dataset, test_kata_dataset, train_posisi_kata_dataset, test_posisi_kata_dataset, train_brand_kata_dataset, test_brand_kata_dataset"
   ]
  },
  {
   "cell_type": "markdown",
   "metadata": {},
   "source": [
    "### Membangun dan menjalankan training Model 1"
   ]
  },
  {
   "cell_type": "code",
   "execution_count": 51,
   "metadata": {},
   "outputs": [],
   "source": [
    " # * set random.set_seed untuk konsistensi keacakan\n",
    "tf.random.set_seed(RANDOM_STATE)\n",
    "\n",
    " # * Membuat model_1 dengan layer Conv1D dan lapisan vektorisasi serta embedding input kata\n",
    "inputs = Input(shape=(1,), \n",
    "               dtype=tf.string, \n",
    "               name='lapisan_input')\n",
    "lapisan_vektor = lapisan_vektorisasi(inputs)\n",
    "lapisan_embed = lapisan_embedding(lapisan_vektor)\n",
    "x = Conv1D(filters=UKURAN_BATCH, \n",
    "           kernel_size=5, \n",
    "           padding='same', \n",
    "           activation='relu',\n",
    "           name='lapisan_konvolusional_1_dimensi')(lapisan_embed)\n",
    "x = GlobalMaxPooling1D(name='lapisan_max_pool')(x)\n",
    "outputs = Dense(units=1, \n",
    "                activation='sigmoid', \n",
    "                name='lapisan_output')(x)\n",
    "model_1 = Model(inputs=inputs, \n",
    "                outputs=outputs, \n",
    "                name='model_1_Conv1D_vektorisasi_embedding')\n",
    "\n",
    " # * Compile\n",
    "model_1.compile(loss=BinaryCrossentropy(),\n",
    "                optimizer=Adam(),\n",
    "                metrics=['accuracy'])"
   ]
  },
  {
   "cell_type": "code",
   "execution_count": 52,
   "metadata": {},
   "outputs": [
    {
     "name": "stdout",
     "output_type": "stream",
     "text": [
      "Model: \"model_1_Conv1D_vektorisasi_embedding\"\n",
      "_________________________________________________________________\n",
      " Layer (type)                Output Shape              Param #   \n",
      "=================================================================\n",
      " lapisan_input (InputLayer)  [(None, 1)]               0         \n",
      "                                                                 \n",
      " lapisan_vektorisasi (TextVe  (None, 1)                0         \n",
      " ctorization)                                                    \n",
      "                                                                 \n",
      " lapisan_embedding (Embeddin  (None, 1, 64)            167424    \n",
      " g)                                                              \n",
      "                                                                 \n",
      " lapisan_konvolusional_1_dim  (None, 1, 32)            10272     \n",
      " ensi (Conv1D)                                                   \n",
      "                                                                 \n",
      " lapisan_max_pool (GlobalMax  (None, 32)               0         \n",
      " Pooling1D)                                                      \n",
      "                                                                 \n",
      " lapisan_output (Dense)      (None, 1)                 33        \n",
      "                                                                 \n",
      "=================================================================\n",
      "Total params: 177,729\n",
      "Trainable params: 177,729\n",
      "Non-trainable params: 0\n",
      "_________________________________________________________________\n"
     ]
    }
   ],
   "source": [
    " # * Ringkasan dari model_1\n",
    "model_1.summary()"
   ]
  },
  {
   "cell_type": "code",
   "execution_count": 53,
   "metadata": {},
   "outputs": [
    {
     "data": {
      "image/png": "[encoded data removed]",
      "text/plain": [
       "<IPython.core.display.Image object>"
      ]
     },
     "execution_count": 53,
     "metadata": {},
     "output_type": "execute_result"
    }
   ],
   "source": [
    " # * Plot model_1\n",
    "from tensorflow.keras.utils import plot_model # type: ignore\n",
    "plot_model(model_1, show_shapes=True)"
   ]
  },
  {
   "cell_type": "code",
   "execution_count": 55,
   "metadata": {},
   "outputs": [],
   "source": [
    " # lakukan: Jika folder dengan path 'colorskim_checkpoint/{model_1.name}' sudah ada, maka skip fit model untuk menghemat waktu pengembangan\n",
    " # lakukan: dan hanya load model yang sudah ada dalam folder tersebut saja\n",
    "if not os.path.isdir(f'colorskim_checkpoint/{model_1.name}'):\n",
    "        # * Setup wandb init dan config\n",
    "        wb.init(project=wandb['proyek'],\n",
    "                entity=wandb['user'],\n",
    "                name=model_1.name,\n",
    "                config={'epochs': EPOCHS,\n",
    "                        'n_layers': len(model_1.layers)})\n",
    "\n",
    "        \n",
    "        # * Fit model_1\n",
    "        model_1.fit(train_kata_dataset,\n",
    "                epochs=wb.config.epochs,\n",
    "                validation_data=test_kata_dataset,\n",
    "                callbacks=[wandb_callback(train_kata_dataset),\n",
    "                        model_checkpoint(model_1.name),\n",
    "                        early_stopping(),\n",
    "                        reduce_lr_on_plateau()])"
   ]
  },
  {
   "cell_type": "markdown",
   "metadata": {},
   "source": [
    "### Eksplorasi Hasil Model 1\n",
    "\n",
    "Setelah proses *training* pada model_1 yang terhenti di epoch 14 setelah melalui beberapa kali reduksi *learning_rate* namun dengan *val_accuracy* yang tidak meningkat setelah melalui sejumlah toleransi epoch dari `EarlyStopping` *callbacks*, kita mendapatkan *val_accuracy* terakhir di 99.28%.\n",
    "Di bagian bawah kita akan melakukan beberapa evaluasi dari hasil *training* model_1:\n",
    "\n",
    "1. Evaluasi *val_loss* dan *val_accuracy* model_1\n",
    "2. Memuat model dengan *val_accuracy* terbaik selama *training* model_1 dan lakukan evaluasi\n",
    "3. Membuat contoh prediksi dengan model terbaik selama *training* model_1\n",
    "4. Hitung metrik dari model terbaik selama *training* model_1\n",
    "5. *Plot confusion matrix* dari model terbaik selama *training* model_1\n",
    "6. Tampilkan *False Negative* dan *False Positive* dari model terbaik selama *training* model_1 dalam dataframe"
   ]
  },
  {
   "cell_type": "code",
   "execution_count": 56,
   "metadata": {},
   "outputs": [
    {
     "name": "stdout",
     "output_type": "stream",
     "text": [
      "710/710 [==============================] - 54s 61ms/step - loss: 0.6920 - accuracy: 0.5681\n"
     ]
    },
    {
     "data": {
      "text/plain": [
       "[0.6919733881950378, 0.5681247711181641]"
      ]
     },
     "execution_count": 56,
     "metadata": {},
     "output_type": "execute_result"
    }
   ],
   "source": [
    " # * Evaluasi model_1\n",
    "model_1.evaluate(test_kata_dataset)"
   ]
  },
  {
   "cell_type": "code",
   "execution_count": 57,
   "metadata": {},
   "outputs": [
    {
     "name": "stdout",
     "output_type": "stream",
     "text": [
      "710/710 [==============================] - 37s 53ms/step - loss: 0.0308 - accuracy: 0.9929\n"
     ]
    },
    {
     "data": {
      "text/plain": [
       "[0.030789390206336975, 0.9929078221321106]"
      ]
     },
     "execution_count": 57,
     "metadata": {},
     "output_type": "execute_result"
    }
   ],
   "source": [
    " # * Memuat model terbaik selama training model_1\n",
    " # ! Kernel crash saat load model\n",
    "model_1_terbaik = load_model(f'colorskim_checkpoint/{model_1.name}')\n",
    "model_1_terbaik.evaluate(test_kata_dataset)"
   ]
  },
  {
   "cell_type": "code",
   "execution_count": 58,
   "metadata": {},
   "outputs": [
    {
     "data": {
      "text/plain": [
       "<tf.Tensor: shape=(22701,), dtype=float32, numpy=array([1., 0., 1., ..., 0., 0., 0.], dtype=float32)>"
      ]
     },
     "execution_count": 58,
     "metadata": {},
     "output_type": "execute_result"
    }
   ],
   "source": [
    " # * Membuat prodeksi menggunakan model_1_terbaik\n",
    "model_1_terbaik_pred = tf.squeeze(tf.round(model_1_terbaik.predict(test_kata_dataset)))\n",
    "model_1_terbaik_pred"
   ]
  },
  {
   "cell_type": "code",
   "execution_count": 59,
   "metadata": {},
   "outputs": [
    {
     "data": {
      "text/plain": [
       "{'akurasi': 0.9929078014184397,\n",
       " 'presisi': 0.9929141168317963,\n",
       " 'recall': 0.9929078014184397,\n",
       " 'f1-score': 0.9929039706254636}"
      ]
     },
     "execution_count": 59,
     "metadata": {},
     "output_type": "execute_result"
    }
   ],
   "source": [
    "# Menghitung metriks dari model_1_terbaik\n",
    "model_1_terbaik_metrik = hitung_metrik(target=test_target,\n",
    "                                       prediksi=model_1_terbaik_pred)\n",
    "model_1_terbaik_metrik"
   ]
  },
  {
   "cell_type": "code",
   "execution_count": 60,
   "metadata": {},
   "outputs": [
    {
     "data": {
      "image/png": "[encoded data removed]",
      "text/plain": [
       "<Figure size 432x288 with 2 Axes>"
      ]
     },
     "metadata": {},
     "output_type": "display_data"
    }
   ],
   "source": [
    "# Menampilkan confusion matrix dari model_1_terbaik\n",
    "plot_conf_matrix(target_label=test_target,\n",
    "                 prediksi_label=model_1_terbaik_pred,\n",
    "                 akurasi=model_1_terbaik_metrik['akurasi'],\n",
    "                 label_titik_x=['bukan_warna', 'warna'],\n",
    "                 label_titik_y=['bukan_warna', 'warna'])"
   ]
  },
  {
   "cell_type": "code",
   "execution_count": 62,
   "metadata": {},
   "outputs": [
    {
     "name": "stdout",
     "output_type": "stream",
     "text": [
      "|       | brand   | kata        |   urut_kata |   total_kata | label       | prediksi    |\n",
      "|------:|:--------|:------------|------------:|-------------:|:------------|:------------|\n",
      "| 55259 | STN     | AQUA        |           3 |            3 | warna       | bukan_warna |\n",
      "|    12 | ADI     | BASKETBALL  |           5 |            6 | warna       | bukan_warna |\n",
      "| 23355 | NIC     | 7           |          11 |           11 | warna       | bukan_warna |\n",
      "| 56444 | WAR     | OREO        |           2 |            3 | warna       | bukan_warna |\n",
      "| 46960 | NIK     | FTR10PURE   |           2 |            7 | warna       | bukan_warna |\n",
      "| 13918 | ADI     | CARDBOARD   |           2 |            2 | warna       | bukan_warna |\n",
      "|  8735 | ADI     | FULL        |           1 |            3 | bukan_warna | warna       |\n",
      "|  6976 | ADI     | BLUTIN      |           6 |            6 | warna       | bukan_warna |\n",
      "| 31091 | NIK     | VIALEBLACK  |           2 |            4 | warna       | bukan_warna |\n",
      "| 51267 | PUM     | TRACE       |           2 |            7 | bukan_warna | warna       |\n",
      "|  5964 | ADI     | CLOUD       |           2 |            3 | warna       | bukan_warna |\n",
      "|   808 | ADI     | LEGIVY      |           6 |            6 | warna       | bukan_warna |\n",
      "| 56083 | WAR     | GLOW        |           2 |            6 | bukan_warna | warna       |\n",
      "| 18933 | BBC     | FULL        |           1 |            8 | bukan_warna | warna       |\n",
      "| 55981 | STN     | OATMEAL     |           2 |            2 | warna       | bukan_warna |\n",
      "| 33831 | NIK     | EXPX14WHITE |           2 |            4 | warna       | bukan_warna |\n",
      "| 48650 | PUM     | CORE        |           2 |            6 | bukan_warna | warna       |\n",
      "| 56746 | WAR     | PAISLEY     |           2 |            4 | warna       | bukan_warna |\n",
      "|  1405 | ADI     | PK          |           2 |            4 | warna       | bukan_warna |\n",
      "| 56116 | WAR     | FULL        |           1 |            6 | bukan_warna | warna       |\n",
      "| 56086 | WAR     | GLOW        |           2 |            6 | bukan_warna | warna       |\n",
      "| 17275 | AGL     | 5           |           5 |            6 | warna       | bukan_warna |\n",
      "| 52109 | PUM     | GLOW        |           3 |            7 | bukan_warna | warna       |\n",
      "| 26752 | NIK     | PEELORANGE  |           6 |            7 | warna       | bukan_warna |\n",
      "| 55804 | STN     | VOLT        |           2 |            2 | warna       | bukan_warna |\n",
      "| 12023 | ADI     | LEGEND      |           2 |            3 | warna       | bukan_warna |\n",
      "|  8962 | ADI     | CORE        |           2 |            4 | bukan_warna | warna       |\n",
      "|  1039 | ADI     | TESIME      |           6 |            6 | warna       | bukan_warna |\n",
      "|  8759 | ADI     | ACTIVE      |           3 |            7 | warna       | bukan_warna |\n",
      "| 52114 | PUM     | GLOW        |           3 |            8 | bukan_warna | warna       |\n",
      "| 13740 | ADI     | MAROON      |           2 |            2 | warna       | bukan_warna |\n",
      "| 10573 | ADI     | METAL       |           2 |            3 | warna       | bukan_warna |\n",
      "| 56484 | WAR     | NEON        |           2 |            5 | warna       | bukan_warna |\n",
      "| 46940 | NIK     | REACTBRIGHT |           2 |            7 | warna       | bukan_warna |\n",
      "| 15761 | ADI     | ALUMINA     |           3 |            3 | warna       | bukan_warna |\n",
      "| 48805 | PUM     | CORE        |           2 |            7 | bukan_warna | warna       |\n",
      "| 16760 | ADI     | EQTBLU      |           4 |            4 | warna       | bukan_warna |\n",
      "|  2197 | ADI     | EASGRN      |           7 |            7 | warna       | bukan_warna |\n",
      "|  1031 | ADI     | BLUTIN      |           3 |            5 | warna       | bukan_warna |\n",
      "|  1403 | ADI     | F17         |           4 |            4 | warna       | bukan_warna |\n",
      "|   479 | ADI     | CCMELS      |           3 |            3 | warna       | bukan_warna |\n",
      "|  1361 | ADI     | BLUTIN      |           5 |            7 | warna       | bukan_warna |\n",
      "|  2592 | ADI     | ICEPUR      |           2 |            4 | warna       | bukan_warna |\n",
      "|  7372 | ADI     | SGREEN      |           2 |            4 | warna       | bukan_warna |\n",
      "| 10336 | ADI     | MAROON      |           2 |            2 | warna       | bukan_warna |\n",
      "| 15466 | ADI     | SAVANNAH    |           2 |            2 | warna       | bukan_warna |\n",
      "| 54951 | SAU     | TAN         |           2 |            3 | warna       | bukan_warna |\n",
      "| 22780 | KIP     | SHADOW      |           2 |            4 | warna       | bukan_warna |\n",
      "| 56226 | WAR     | ORANGE      |           2 |            5 | bukan_warna | warna       |\n",
      "| 56112 | WAR     | RED         |           1 |            7 | bukan_warna | warna       |\n",
      "| 17198 | AGL     | YELLOW      |           2 |            5 | bukan_warna | warna       |\n",
      "| 50395 | PUM     | PUMA        |           2 |            5 | warna       | bukan_warna |\n",
      "| 32998 | NIK     | 23          |          10 |           11 | warna       | bukan_warna |\n",
      "| 48075 | PTG     | ORANGE      |           2 |            3 | bukan_warna | warna       |\n",
      "| 54953 | SAU     | BRN         |           2 |            3 | warna       | bukan_warna |\n",
      "| 56661 | WAR     | THE         |           2 |            5 | warna       | bukan_warna |\n",
      "|  4222 | ADI     | SESAME      |           5 |            7 | warna       | bukan_warna |\n",
      "| 52841 | PUM     | CORE        |           1 |            7 | bukan_warna | warna       |\n",
      "|  8968 | ADI     | CORE        |           2 |            4 | bukan_warna | warna       |\n",
      "|  1407 | ADI     | CARGO       |           4 |            4 | warna       | bukan_warna |\n",
      "| 21603 | HER     | DARK        |           2 |            5 | warna       | bukan_warna |\n",
      "|  7274 | ADI     | SESAME      |           2 |            4 | warna       | bukan_warna |\n",
      "|  3490 | ADI     | SHOCK       |           2 |            3 | warna       | bukan_warna |\n",
      "| 21685 | HER     | NIGHT       |           2 |            3 | warna       | bukan_warna |\n",
      "| 14727 | ADI     | LEGEND      |           2 |            3 | warna       | bukan_warna |\n",
      "| 33814 | NIK     | EXPZ07WHITE |           2 |            3 | warna       | bukan_warna |\n",
      "| 30639 | NIK     | 35          |           5 |           11 | bukan_warna | warna       |\n",
      "| 21386 | HER     | BRBDSCHRY   |           2 |            3 | warna       | bukan_warna |\n",
      "|  8965 | ADI     | CORE        |           2 |            4 | bukan_warna | warna       |\n",
      "| 16112 | ADI     | VAPOUR      |           2 |            3 | warna       | bukan_warna |\n",
      "| 11545 | ADI     | ACTIVE      |           3 |            4 | warna       | bukan_warna |\n",
      "|  4659 | ADI     | BOAQUA      |           2 |            4 | warna       | bukan_warna |\n",
      "| 21982 | HER     | FLORAL      |           2 |            3 | warna       | bukan_warna |\n",
      "| 21091 | HER     | 600D        |           3 |            6 | bukan_warna | warna       |\n",
      "| 17520 | AGL     | BROWN       |           1 |            4 | bukan_warna | warna       |\n",
      "| 10328 | ADI     | ACTIVE      |           2 |            3 | warna       | bukan_warna |\n",
      "| 48153 | PTG     | DOVE        |           2 |            3 | bukan_warna | warna       |\n",
      "| 19643 | BEA     | 35          |           2 |            3 | bukan_warna | warna       |\n",
      "| 16288 | ADI     | BLK         |           2 |            5 | bukan_warna | warna       |\n",
      "| 21174 | HER     | RED         |           4 |            8 | bukan_warna | warna       |\n",
      "| 30654 | NIK     | 35          |           5 |           10 | bukan_warna | warna       |\n",
      "| 29098 | NIK     | 8ASHEN      |           3 |            6 | warna       | bukan_warna |\n",
      "| 53459 | PUM     | GLOW        |           1 |            5 | bukan_warna | warna       |\n",
      "| 55759 | STN     | RASTA       |           2 |            2 | warna       | bukan_warna |\n",
      "| 18940 | BBC     | FULL        |           1 |            8 | bukan_warna | warna       |\n",
      "|   656 | ADI     | BGREEN      |           7 |            7 | warna       | bukan_warna |\n",
      "| 54972 | SAU     | VINTAGE     |           2 |            5 | bukan_warna | warna       |\n",
      "|  6532 | ADI     | SESAME      |           6 |            7 | warna       | bukan_warna |\n",
      "| 25371 | NIK     | 23          |           6 |            6 | warna       | bukan_warna |\n",
      "| 21687 | HER     | DARK        |           2 |            4 | warna       | bukan_warna |\n",
      "| 24154 | NIK     | CORE        |           2 |            6 | bukan_warna | warna       |\n",
      "| 31572 | NIK     | LIGHTCARBON |           4 |            6 | warna       | bukan_warna |\n",
      "| 12440 | ADI     | CORE        |           2 |            5 | bukan_warna | warna       |\n",
      "| 56160 | WAR     | BLUE        |           1 |            5 | bukan_warna | warna       |\n",
      "| 30630 | NIK     | 35          |           5 |           10 | bukan_warna | warna       |\n",
      "| 21143 | HER     | STELLAR     |           2 |            2 | warna       | bukan_warna |\n",
      "| 56200 | WAR     | WHITE       |           1 |            5 | bukan_warna | warna       |\n",
      "|  9984 | ADI     | SESAME      |           3 |            3 | warna       | bukan_warna |\n",
      "| 10338 | ADI     | ACTIVE      |           2 |            3 | warna       | bukan_warna |\n",
      "| 29157 | NIK     | 2BLACK      |           3 |            4 | warna       | bukan_warna |\n",
      "|   525 | ADI     | BLUTIN      |           6 |            6 | warna       | bukan_warna |\n",
      "|  1924 | ADI     | MYSRUB      |           2 |            4 | warna       | bukan_warna |\n",
      "| 26852 | NIK     | (GS)WHITE   |           5 |            6 | warna       | bukan_warna |\n",
      "| 21718 | HER     | VAPOR       |           2 |            3 | warna       | bukan_warna |\n",
      "| 56053 | WAR     | BLACK       |           1 |            5 | bukan_warna | warna       |\n",
      "| 30648 | NIK     | 35          |           5 |           12 | bukan_warna | warna       |\n",
      "| 19488 | BBC     | GLOW        |           1 |            7 | bukan_warna | warna       |\n",
      "| 23500 | NIC     | TRUE        |           2 |           10 | bukan_warna | warna       |\n",
      "|   921 | ADI     | CLAQUA      |           5 |            6 | warna       | bukan_warna |\n",
      "| 10392 | ADI     | CLOUD       |           2 |            3 | warna       | bukan_warna |\n",
      "| 56326 | WAR     | MIX         |           2 |            4 | warna       | bukan_warna |\n",
      "| 49966 | PUM     | CORE        |           2 |            6 | bukan_warna | warna       |\n",
      "|  1506 | ADI     | SIX         |           4 |            4 | warna       | bukan_warna |\n",
      "| 16143 | ADI     | VICTORY     |           2 |            3 | warna       | bukan_warna |\n",
      "| 13801 | ADI     | SIGNAL      |           2 |            3 | warna       | bukan_warna |\n",
      "|  6890 | ADI     | GUM1        |           5 |            5 | warna       | bukan_warna |\n",
      "| 21737 | HER     | RED         |           4 |            8 | bukan_warna | warna       |\n",
      "| 17271 | AGL     | 5           |           5 |            6 | warna       | bukan_warna |\n",
      "| 17100 | ADI     | BBANAT      |           3 |            3 | warna       | bukan_warna |\n",
      "| 10277 | ADI     | DARK        |           2 |            3 | warna       | bukan_warna |\n",
      "| 21141 | HER     | DKSHDW      |           2 |            3 | warna       | bukan_warna |\n",
      "| 33817 | NIK     | EXPX14BLACK |           2 |            5 | warna       | bukan_warna |\n",
      "| 12816 | ADI     | CREAM       |           2 |            3 | warna       | bukan_warna |\n",
      "|  3933 | ADI     | WINTER      |           1 |            3 | bukan_warna | warna       |\n",
      "| 47109 | NIK     | STRKWHITE   |           2 |            6 | warna       | bukan_warna |\n",
      "| 21029 | HER     | WINDSOR     |           2 |            3 | warna       | bukan_warna |\n",
      "| 16758 | ADI     | EQTBLU      |           2 |            4 | warna       | bukan_warna |\n",
      "| 28078 | NIK     | SLPBLACK    |           2 |            4 | warna       | bukan_warna |\n",
      "|   324 | ADI     | VIVGRN      |           5 |            6 | warna       | bukan_warna |\n",
      "|  5952 | ADI     | ACTIVE      |           3 |            4 | warna       | bukan_warna |\n",
      "| 15298 | ADI     | ROSE        |           2 |            4 | warna       | bukan_warna |\n",
      "|  8979 | ADI     | CORE        |           2 |            6 | bukan_warna | warna       |\n",
      "|  1449 | ADI     | FIVE        |           4 |            4 | warna       | bukan_warna |\n",
      "|  3850 | ADI     | POWER       |           2 |            7 | bukan_warna | warna       |\n",
      "| 28999 | NIK     | RAGEBLACK   |           2 |            4 | warna       | bukan_warna |\n",
      "| 21644 | HER     | NIGHT       |           2 |            3 | warna       | bukan_warna |\n",
      "| 56154 | WAR     | BLACK       |           1 |            5 | bukan_warna | warna       |\n",
      "|   465 | ADI     | EQTBLU      |           5 |            7 | warna       | bukan_warna |\n",
      "| 31118 | NIK     | 23          |           6 |            6 | warna       | bukan_warna |\n",
      "| 55344 | STN     | DARKSIDE    |           2 |            6 | warna       | bukan_warna |\n",
      "| 19807 | BEA     | &           |           7 |            9 | warna       | bukan_warna |\n",
      "| 18937 | BBC     | FULL        |           1 |            8 | bukan_warna | warna       |\n",
      "| 56636 | WAR     | THE         |           2 |            4 | warna       | bukan_warna |\n",
      "| 11703 | ADI     | LEGMAR      |           2 |            4 | warna       | bukan_warna |\n",
      "| 11150 | ADI     | LEGEND      |           2 |            3 | warna       | bukan_warna |\n",
      "| 56251 | WAR     | ORANGE      |           2 |            5 | bukan_warna | warna       |\n",
      "|  1104 | ADI     | REAPNK      |           7 |            7 | warna       | bukan_warna |\n",
      "| 52776 | PUM     | GLOW        |           2 |            5 | bukan_warna | warna       |\n",
      "| 56096 | WAR     | RED         |           1 |            5 | bukan_warna | warna       |\n",
      "| 10568 | ADI     | ORBIT       |           2 |            3 | warna       | bukan_warna |\n",
      "|  8971 | ADI     | CORE        |           2 |            5 | bukan_warna | warna       |\n",
      "| 34544 | NIK     | XBLACK      |           2 |            3 | warna       | bukan_warna |\n",
      "| 56659 | WAR     | THE         |           2 |            5 | warna       | bukan_warna |\n",
      "| 26397 | NIK     | SHOWERSOLAR |           2 |            5 | warna       | bukan_warna |\n",
      "| 21061 | HER     | WOODLAND    |           2 |            3 | warna       | bukan_warna |\n",
      "| 17893 | AGL     | HEATHERGREY |           2 |            2 | warna       | bukan_warna |\n",
      "|   476 | ADI     | CCMELS      |           3 |            3 | warna       | bukan_warna |\n",
      "| 56088 | WAR     | WHITE       |           1 |            5 | bukan_warna | warna       |\n",
      "| 28840 | NIK     | (GS)WHITE   |           4 |            5 | warna       | bukan_warna |\n",
      "| 10245 | ADI     | ACTIVE      |           2 |            3 | warna       | bukan_warna |\n",
      "| 49969 | PUM     | CORE        |           2 |            6 | bukan_warna | warna       |\n"
     ]
    }
   ],
   "source": [
    "# Menampilkan kesalahan prediksi \n",
    "df_kesalahan_prediksi(label_encoder=label_encoder,\n",
    "                      test_data=test_data_mnb,\n",
    "                      prediksi=model_1_terbaik_pred,\n",
    "                      order_ulang_header=['brand', \n",
    "                                          'kata', \n",
    "                                          'urut_kata', \n",
    "                                          'total_kata', \n",
    "                                          'label'])"
   ]
  },
  {
   "cell_type": "markdown",
   "metadata": {},
   "source": [
    "## Model 2: Transfer Learning pretrained feature exraction menggunakan Universal Sentence Encoder (USE)\n",
    "\n",
    "Pada bagian ini kita akan mencoba untuk melakukan training pada data menggunakan lapisan *feature extraction* yang sudah ada dan sudah dilatih pada dataset tertentu. \n",
    "Proses embedding secara umum memiliki beberapa kelemahan diantaranya:\n",
    "\n",
    "1. Kehilangan informasi, dimana dalam kasus kalimat \"Produk ini bagus\" dan kalimat \"Ini\" menggunakan rerata vektor memiliki tingkat kemiripan yg cukup tinggi meskipun keduanya merupakan kalimat yang memiliki makna cukup berbeda\n",
    "2. Tidak memandang urutan, dimana kalimat \"Makan ikan menggunakan sendok\" dan kalimat \"Makan sendok menggunakan ikan\" akan memiliki kemiripan vektor 100%\n",
    "\n",
    "Kita dapat menghindari permasalahan ini misalkan dengan menerapkan *feature engineering* untuk membuat input menjadi semakin kompleks dan menghindari masalah yang mungkin timbul dari proses *embedding*, namun hal ini dapat melibatkan beberapa proses seperti menghilangkan *stop-words*, pembobotan menggunakan TF-IDF, menambahkan *ngrams* untuk mendapatkan posisi kata dalam kalimat, penumpukan lapisan *MaxPooling* dan lain sebagainya.\n",
    "\n",
    "Universal Sentence Encoder merupakan suatu lapisan yang sudah melakukan hampir kesemua proses ini dalam proses *embedding* input data."
   ]
  },
  {
   "cell_type": "code",
   "execution_count": 63,
   "metadata": {},
   "outputs": [],
   "source": [
    "# Mengunduh pretrained USE dari tensorflow hub\n",
    "tf_hub_embedding = hub.KerasLayer('https://tfhub.dev/google/universal-sentence-encoder/4',\n",
    "                                  trainable=False,\n",
    "                                  name='lapisan_embedding_USE')"
   ]
  },
  {
   "cell_type": "code",
   "execution_count": 65,
   "metadata": {},
   "outputs": [
    {
     "data": {
      "text/plain": [
       "30167        BLACK\n",
       "24191          RED\n",
       "18190        BLACK\n",
       "10468     PREDATOR\n",
       "6309      PREDATOR\n",
       "           ...    \n",
       "32081            3\n",
       "7259            RC\n",
       "21584    ARROWWOOD\n",
       "36543         NIKE\n",
       "10137           TR\n",
       "Name: kata, Length: 34050, dtype: object"
      ]
     },
     "execution_count": 65,
     "metadata": {},
     "output_type": "execute_result"
    }
   ],
   "source": [
    "train_data_mnb['kata']"
   ]
  },
  {
   "cell_type": "code",
   "execution_count": 66,
   "metadata": {},
   "outputs": [
    {
     "name": "stdout",
     "output_type": "stream",
     "text": [
      "Kata acak:\n",
      " ESS\n",
      "\n",
      "Kata setelah embed dengan USE:\n",
      "[ 0.00544617 -0.03714681 -0.05560518  0.06756211 -0.058049   -0.017388\n",
      "  0.02946578 -0.04667776  0.03573138  0.04664158  0.03374377  0.06009984\n",
      " -0.01417979 -0.02112845 -0.03658586 -0.01598828 -0.04893462  0.08283368\n",
      "  0.07820459  0.00893909 -0.02065303 -0.0023583  -0.01438092  0.01056648\n",
      " -0.06339925  0.01206051 -0.04030306  0.03751984  0.01568575  0.07256308]\n",
      "\n",
      "Panjang dari kata setelah embedding: 512\n"
     ]
    }
   ],
   "source": [
    "# Melakukan tes pretrained embedding pada contoh kata\n",
    "kata_acak = random.choice(train_data_mnb['kata'].tolist())\n",
    "print(f'Kata acak:\\n {kata_acak}')\n",
    "kata_embed_pretrain = tf_hub_embedding([kata_acak])\n",
    "print(f'\\nKata setelah embed dengan USE:\\n{kata_embed_pretrain[0][:30]}\\n')\n",
    "print(f'Panjang dari kata setelah embedding: {len(kata_embed_pretrain[0])}')"
   ]
  },
  {
   "cell_type": "markdown",
   "metadata": {},
   "source": [
    "### Membangun dan menjalankan training Model 2"
   ]
  },
  {
   "cell_type": "code",
   "execution_count": 72,
   "metadata": {},
   "outputs": [],
   "source": [
    "# Membuat model_2 menggunakan USE\n",
    "inputs = Input(shape=[], \n",
    "               dtype=tf.string, \n",
    "               name='lapisan_input')\n",
    "lapisan_embed_pretrained = tf_hub_embedding(inputs)\n",
    "x = Conv1D(filters=UKURAN_BATCH, \n",
    "           kernel_size=5, \n",
    "           padding='same', \n",
    "           activation='relu',\n",
    "           name='lapisan_konvolusional_1_dimensi')(tf.expand_dims(lapisan_embed_pretrained, axis=-1))\n",
    "x = GlobalMaxPooling1D(name='lapisan_max_pooling')(x)\n",
    "outputs = Dense(units=1, \n",
    "                activation='sigmoid', \n",
    "                name='lapisan_output')(x)\n",
    "model_2 = tf.keras.Model(inputs=inputs, \n",
    "                         outputs=outputs, \n",
    "                         name='model_2_Conv1D_USE_embed')\n",
    "\n",
    "# Compile model_2\n",
    "model_2.compile(loss=BinaryCrossentropy(),\n",
    "                optimizer=Adam(),\n",
    "                metrics=['accuracy'])"
   ]
  },
  {
   "cell_type": "code",
   "execution_count": 73,
   "metadata": {},
   "outputs": [
    {
     "name": "stdout",
     "output_type": "stream",
     "text": [
      "Model: \"model_2_Conv1D_USE_embed\"\n",
      "_________________________________________________________________\n",
      " Layer (type)                Output Shape              Param #   \n",
      "=================================================================\n",
      " lapisan_input (InputLayer)  [(None,)]                 0         \n",
      "                                                                 \n",
      " lapisan_embedding_USE (Kera  (None, 512)              256797824 \n",
      " sLayer)                                                         \n",
      "                                                                 \n",
      " tf.expand_dims_1 (TFOpLambd  (None, 512, 1)           0         \n",
      " a)                                                              \n",
      "                                                                 \n",
      " lapisan_konvolusional_1_dim  (None, 512, 32)          192       \n",
      " ensi (Conv1D)                                                   \n",
      "                                                                 \n",
      " lapisan_max_pooling (Global  (None, 32)               0         \n",
      " MaxPooling1D)                                                   \n",
      "                                                                 \n",
      " lapisan_output (Dense)      (None, 1)                 33        \n",
      "                                                                 \n",
      "=================================================================\n",
      "Total params: 256,798,049\n",
      "Trainable params: 225\n",
      "Non-trainable params: 256,797,824\n",
      "_________________________________________________________________\n"
     ]
    }
   ],
   "source": [
    "# Ringkasan dari model_2\n",
    "model_2.summary()"
   ]
  },
  {
   "cell_type": "code",
   "execution_count": 71,
   "metadata": {},
   "outputs": [
    {
     "data": {
      "image/png": "[encoded data removed]",
      "text/plain": [
       "<IPython.core.display.Image object>"
      ]
     },
     "execution_count": 71,
     "metadata": {},
     "output_type": "execute_result"
    }
   ],
   "source": [
    "# Plot model_2\n",
    "plot_model(model_2, show_shapes=True)"
   ]
  },
  {
   "cell_type": "code",
   "execution_count": 75,
   "metadata": {},
   "outputs": [
    {
     "data": {
      "text/html": [
       "Finishing last run (ID:1btzi69x) before initializing another..."
      ],
      "text/plain": [
       "<IPython.core.display.HTML object>"
      ]
     },
     "metadata": {},
     "output_type": "display_data"
    },
    {
     "data": {
      "text/html": [
       "Waiting for W&B process to finish... <strong style=\"color:green\">(success).</strong>"
      ],
      "text/plain": [
       "<IPython.core.display.HTML object>"
      ]
     },
     "metadata": {},
     "output_type": "display_data"
    },
    {
     "data": {
      "application/vnd.jupyter.widget-view+json": {
       "model_id": "e74a836f57854dcf85662264e2555d72",
       "version_major": 2,
       "version_minor": 0
      },
      "text/plain": [
       "VBox(children=(Label(value='0.001 MB of 0.001 MB uploaded (0.000 MB deduped)\\r'), FloatProgress(value=1.0, max…"
      ]
     },
     "metadata": {},
     "output_type": "display_data"
    },
    {
     "data": {
      "text/html": [
       "Synced <strong style=\"color:#cdcd00\">model_2_Conv1D_USE_embed</strong>: <a href=\"https://wandb.ai/jpao/ColorSkim/runs/1btzi69x\" target=\"_blank\">https://wandb.ai/jpao/ColorSkim/runs/1btzi69x</a><br/>Synced 4 W&B file(s), 0 media file(s), 0 artifact file(s) and 0 other file(s)"
      ],
      "text/plain": [
       "<IPython.core.display.HTML object>"
      ]
     },
     "metadata": {},
     "output_type": "display_data"
    },
    {
     "data": {
      "text/html": [
       "Find logs at: <code>.\\wandb\\run-20220721_145105-1btzi69x\\logs</code>"
      ],
      "text/plain": [
       "<IPython.core.display.HTML object>"
      ]
     },
     "metadata": {},
     "output_type": "display_data"
    },
    {
     "data": {
      "text/html": [
       "Successfully finished last run (ID:1btzi69x). Initializing new run:<br/>"
      ],
      "text/plain": [
       "<IPython.core.display.HTML object>"
      ]
     },
     "metadata": {},
     "output_type": "display_data"
    },
    {
     "data": {
      "text/html": [
       "Tracking run with wandb version 0.12.21"
      ],
      "text/plain": [
       "<IPython.core.display.HTML object>"
      ]
     },
     "metadata": {},
     "output_type": "display_data"
    },
    {
     "data": {
      "text/html": [
       "Run data is saved locally in <code>d:\\ColorSkim\\wandb\\run-20220721_145213-1iicdtus</code>"
      ],
      "text/plain": [
       "<IPython.core.display.HTML object>"
      ]
     },
     "metadata": {},
     "output_type": "display_data"
    },
    {
     "data": {
      "text/html": [
       "Syncing run <strong><a href=\"https://wandb.ai/jpao/ColorSkim/runs/1iicdtus\" target=\"_blank\">model_2_Conv1D_USE_embed</a></strong> to <a href=\"https://wandb.ai/jpao/ColorSkim\" target=\"_blank\">Weights & Biases</a> (<a href=\"https://wandb.me/run\" target=\"_blank\">docs</a>)<br/>"
      ],
      "text/plain": [
       "<IPython.core.display.HTML object>"
      ]
     },
     "metadata": {},
     "output_type": "display_data"
    },
    {
     "name": "stdout",
     "output_type": "stream",
     "text": [
      "WARNING:tensorflow:Issue encountered when serializing table_initializer.\n",
      "Type is unsupported, or the types of the items don't match field type in CollectionDef. Note this is a warning and probably safe to ignore.\n",
      "'NoneType' object has no attribute 'name'\n"
     ]
    },
    {
     "name": "stderr",
     "output_type": "stream",
     "text": [
      "WARNING:tensorflow:Issue encountered when serializing table_initializer.\n",
      "Type is unsupported, or the types of the items don't match field type in CollectionDef. Note this is a warning and probably safe to ignore.\n",
      "'NoneType' object has no attribute 'name'\n",
      "\u001b[34m\u001b[1mwandb\u001b[0m: \u001b[33mWARNING\u001b[0m Unable to compute FLOPs for this model.\n"
     ]
    },
    {
     "name": "stdout",
     "output_type": "stream",
     "text": [
      "Epoch 1/1000\n",
      "1065/1065 [==============================] - ETA: 0s - loss: 0.6213 - accuracy: 0.6443INFO:tensorflow:Assets written to: colorskim_checkpoint\\model_2_Conv1D_USE_embed\\assets\n"
     ]
    },
    {
     "name": "stderr",
     "output_type": "stream",
     "text": [
      "INFO:tensorflow:Assets written to: colorskim_checkpoint\\model_2_Conv1D_USE_embed\\assets\n"
     ]
    },
    {
     "name": "stdout",
     "output_type": "stream",
     "text": [
      "1065/1065 [==============================] - 1162s 1s/step - loss: 0.6213 - accuracy: 0.6443 - val_loss: 0.5442 - val_accuracy: 0.8378 - _timestamp: 1658391123.0000 - _runtime: 1183.0000 - lr: 0.0010\n",
      "Epoch 2/1000\n",
      "1065/1065 [==============================] - ETA: 0s - loss: 0.4530 - accuracy: 0.8752INFO:tensorflow:Assets written to: colorskim_checkpoint\\model_2_Conv1D_USE_embed\\assets\n"
     ]
    },
    {
     "name": "stderr",
     "output_type": "stream",
     "text": [
      "INFO:tensorflow:Assets written to: colorskim_checkpoint\\model_2_Conv1D_USE_embed\\assets\n"
     ]
    },
    {
     "name": "stdout",
     "output_type": "stream",
     "text": [
      "1065/1065 [==============================] - 1056s 992ms/step - loss: 0.4530 - accuracy: 0.8752 - val_loss: 0.3801 - val_accuracy: 0.9078 - _timestamp: 1658392195.0000 - _runtime: 2255.0000 - lr: 0.0010\n",
      "Epoch 3/1000\n",
      "1065/1065 [==============================] - 997s 937ms/step - loss: 0.3290 - accuracy: 0.9020 - val_loss: 0.2954 - val_accuracy: 0.9066 - _timestamp: 1658393240.0000 - _runtime: 3300.0000 - lr: 0.0010\n",
      "Epoch 4/1000\n",
      "1065/1065 [==============================] - ETA: 0s - loss: 0.2708 - accuracy: 0.9085INFO:tensorflow:Assets written to: colorskim_checkpoint\\model_2_Conv1D_USE_embed\\assets\n"
     ]
    },
    {
     "name": "stderr",
     "output_type": "stream",
     "text": [
      "INFO:tensorflow:Assets written to: colorskim_checkpoint\\model_2_Conv1D_USE_embed\\assets\n"
     ]
    },
    {
     "name": "stdout",
     "output_type": "stream",
     "text": [
      "1065/1065 [==============================] - 1070s 1s/step - loss: 0.2708 - accuracy: 0.9085 - val_loss: 0.2567 - val_accuracy: 0.9147 - _timestamp: 1658394241.0000 - _runtime: 4301.0000 - lr: 0.0010\n",
      "Epoch 5/1000\n",
      "1065/1065 [==============================] - ETA: 0s - loss: 0.2435 - accuracy: 0.9141INFO:tensorflow:Assets written to: colorskim_checkpoint\\model_2_Conv1D_USE_embed\\assets\n"
     ]
    },
    {
     "name": "stderr",
     "output_type": "stream",
     "text": [
      "INFO:tensorflow:Assets written to: colorskim_checkpoint\\model_2_Conv1D_USE_embed\\assets\n"
     ]
    },
    {
     "name": "stdout",
     "output_type": "stream",
     "text": [
      "1065/1065 [==============================] - 1137s 1s/step - loss: 0.2435 - accuracy: 0.9141 - val_loss: 0.2368 - val_accuracy: 0.9156 - _timestamp: 1658395364.0000 - _runtime: 5424.0000 - lr: 0.0010\n",
      "Epoch 6/1000\n",
      "1065/1065 [==============================] - ETA: 0s - loss: 0.2286 - accuracy: 0.9180INFO:tensorflow:Assets written to: colorskim_checkpoint\\model_2_Conv1D_USE_embed\\assets\n"
     ]
    },
    {
     "name": "stderr",
     "output_type": "stream",
     "text": [
      "INFO:tensorflow:Assets written to: colorskim_checkpoint\\model_2_Conv1D_USE_embed\\assets\n"
     ]
    },
    {
     "name": "stdout",
     "output_type": "stream",
     "text": [
      "1065/1065 [==============================] - 1084s 1s/step - loss: 0.2286 - accuracy: 0.9180 - val_loss: 0.2247 - val_accuracy: 0.9183 - _timestamp: 1658396463.0000 - _runtime: 6523.0000 - lr: 0.0010\n",
      "Epoch 7/1000\n",
      "1065/1065 [==============================] - ETA: 0s - loss: 0.2189 - accuracy: 0.9221INFO:tensorflow:Assets written to: colorskim_checkpoint\\model_2_Conv1D_USE_embed\\assets\n"
     ]
    },
    {
     "name": "stderr",
     "output_type": "stream",
     "text": [
      "INFO:tensorflow:Assets written to: colorskim_checkpoint\\model_2_Conv1D_USE_embed\\assets\n"
     ]
    },
    {
     "name": "stdout",
     "output_type": "stream",
     "text": [
      "1065/1065 [==============================] - 1083s 1s/step - loss: 0.2189 - accuracy: 0.9221 - val_loss: 0.2166 - val_accuracy: 0.9277 - _timestamp: 1658397558.0000 - _runtime: 7618.0000 - lr: 0.0010\n",
      "Epoch 8/1000\n",
      "1065/1065 [==============================] - ETA: 0s - loss: 0.2126 - accuracy: 0.9252INFO:tensorflow:Assets written to: colorskim_checkpoint\\model_2_Conv1D_USE_embed\\assets\n"
     ]
    },
    {
     "name": "stderr",
     "output_type": "stream",
     "text": [
      "INFO:tensorflow:Assets written to: colorskim_checkpoint\\model_2_Conv1D_USE_embed\\assets\n"
     ]
    },
    {
     "name": "stdout",
     "output_type": "stream",
     "text": [
      "1065/1065 [==============================] - 1084s 1s/step - loss: 0.2126 - accuracy: 0.9252 - val_loss: 0.2111 - val_accuracy: 0.9280 - _timestamp: 1658398631.0000 - _runtime: 8691.0000 - lr: 0.0010\n",
      "Epoch 9/1000\n",
      "1065/1065 [==============================] - ETA: 0s - loss: 0.2078 - accuracy: 0.9270INFO:tensorflow:Assets written to: colorskim_checkpoint\\model_2_Conv1D_USE_embed\\assets\n"
     ]
    },
    {
     "name": "stderr",
     "output_type": "stream",
     "text": [
      "INFO:tensorflow:Assets written to: colorskim_checkpoint\\model_2_Conv1D_USE_embed\\assets\n"
     ]
    },
    {
     "name": "stdout",
     "output_type": "stream",
     "text": [
      "1065/1065 [==============================] - 1094s 1s/step - loss: 0.2078 - accuracy: 0.9270 - val_loss: 0.2065 - val_accuracy: 0.9300 - _timestamp: 1658399726.0000 - _runtime: 9786.0000 - lr: 0.0010\n",
      "Epoch 10/1000\n",
      "1065/1065 [==============================] - ETA: 0s - loss: 0.2038 - accuracy: 0.9287"
     ]
    }
   ],
   "source": [
    "# Setup wandb init dan config\n",
    "wb.init(project=wandb['proyek'],\n",
    "        entity=wandb['user'],\n",
    "        name=model_2.name,\n",
    "        config={'epochs': EPOCHS,\n",
    "                'n_layers': len(model_2.layers)})\n",
    "\n",
    "# Fit model_2\n",
    "hist_model_2 = model_2.fit(train_kata_dataset,\n",
    "                           epochs=EPOCHS,\n",
    "                           validation_data=test_kata_dataset,\n",
    "                           callbacks=[wandb_callback(train_kata_dataset),\n",
    "                                      model_checkpoint(model_2.name),\n",
    "                                      reduce_lr_on_plateau(),\n",
    "                                      early_stopping()])"
   ]
  },
  {
   "cell_type": "code",
   "execution_count": null,
   "metadata": {},
   "outputs": [],
   "source": [
    "# Evaluate model_2\n",
    "model_2.evaluate(test_dataset)"
   ]
  },
  {
   "cell_type": "code",
   "execution_count": null,
   "metadata": {},
   "outputs": [],
   "source": [
    "# Membuat prediksi dengan model_2\n",
    "model_2_pred_prob = model_2.predict(test_dataset)\n",
    "model_2_pred_prob[:10]"
   ]
  },
  {
   "cell_type": "code",
   "execution_count": null,
   "metadata": {},
   "outputs": [],
   "source": [
    "# Mengkonversi model_2 menjadi label format\n",
    "model_2_pred = tf.squeeze(tf.round(model_2_pred_prob))\n",
    "model_2_pred"
   ]
  },
  {
   "cell_type": "code",
   "execution_count": null,
   "metadata": {},
   "outputs": [],
   "source": [
    "# Menghitung hasil metrik dari model_2\n",
    "model_2_hasil = hitung_metrik(target=test_label_encode,\n",
    "                              prediksi=model_2_pred)\n",
    "model_2_hasil"
   ]
  },
  {
   "cell_type": "markdown",
   "metadata": {},
   "source": [
    "## Model 3: Menggunakan positional kata dan custom embed dan concatenate layer"
   ]
  },
  {
   "cell_type": "code",
   "execution_count": null,
   "metadata": {},
   "outputs": [],
   "source": [
    "# Test prediksi dengan model_1 (model_1_Conv1D_embed)\n",
    "class_list = ['bukan_warna', 'warna']\n",
    "article = 'PUMA XTG WOVEN PANTS PUMA BLACK-PUMA WHITE'\n",
    "article_list = article.replace(\"-\",\" \").split()\n",
    "model_test = tf.squeeze(tf.round(model_1.predict(article.replace(\"-\",\" \").split())))\n",
    "for i in range(0, len(article_list)):\n",
    "    print(f'Kata: {article_list[i]}\\nPrediksi: {class_list[int(model_test[i])]}\\n\\n')"
   ]
  },
  {
   "cell_type": "code",
   "execution_count": null,
   "metadata": {},
   "outputs": [],
   "source": [
    "model_test"
   ]
  },
  {
   "cell_type": "code",
   "execution_count": null,
   "metadata": {},
   "outputs": [],
   "source": []
  }
 ],
 "metadata": {
  "kernelspec": {
   "display_name": "Python 3.9.12 ('tf-py39')",
   "language": "python",
   "name": "python3"
  },
  "language_info": {
   "codemirror_mode": {
    "name": "ipython",
    "version": 3
   },
   "file_extension": ".py",
   "mimetype": "text/x-python",
   "name": "python",
   "nbconvert_exporter": "python",
   "pygments_lexer": "ipython3",
   "version": "3.9.12"
  },
  "orig_nbformat": 4,
  "vscode": {
   "interpreter": {
    "hash": "79d93ff88d3400081c5bbc856760c635900de0c16bb50c43f47156b09020e5ea"
   }
  }
 },
 "nbformat": 4,
 "nbformat_minor": 2
}
