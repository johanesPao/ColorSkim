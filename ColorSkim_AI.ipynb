{
 "cells": [
  {
   "cell_type": "markdown",
   "metadata": {},
   "source": [
    "# ColorSkim Machine Learning AI\n",
    "\n"
   ]
  },
  {
   "cell_type": "code",
   "execution_count": 54,
   "metadata": {},
   "outputs": [],
   "source": [
    "# import modul dasar⁡⁡\n",
    "import os\n",
    "import random\n",
    "import gc #garbage collector\n",
    "import io\n",
    "# import pandas, numpy dan tensorflow⁡\n",
    "import pandas as pd\n",
    "import numpy as np\n",
    "import tensorflow as tf\n",
    "\n",
    "# import daftar device terdeteksi oleh tensorflow\n",
    "from tensorflow.python.client.device_lib import list_local_devices\n",
    "\n",
    "# import utilitas umum tensorflow\n",
    "from tensorflow.config import run_functions_eagerly # type: ignore\n",
    "from tensorflow.data.experimental import enable_debug_mode # type: ignore\n",
    "\n",
    "# import pembuatan dataset\n",
    "from sklearn.model_selection import train_test_split\n",
    "\"\"\"\n",
    "karena struktur objek dalam tf.data.Dataset, from_tensor_slices() \n",
    "tidak dapat dipanggil secara langsung dalam modul import\n",
    "\"\"\"\n",
    "from_tensor_slices = tf.data.Dataset.from_tensor_slices\n",
    "zip = tf.data.Dataset.zip\n",
    "\n",
    "# import preprocessing data\n",
    "from sklearn.preprocessing import OneHotEncoder, LabelEncoder\n",
    "import tensorflow_hub as hub\n",
    "\n",
    "\n",
    "# import pipeline scikit untuk model_0\n",
    "from sklearn.pipeline import Pipeline\n",
    "\n",
    "# import layer neural network\n",
    "from sklearn.feature_extraction.text import TfidfVectorizer\n",
    "from sklearn.naive_bayes import MultinomialNB\n",
    "from tensorflow.keras.layers import Input, Conv1D, Dense, GlobalMaxPooling1D, Bidirectional, LSTM, Dropout # type: ignore\n",
    "from tensorflow.keras.layers import Concatenate # type: ignore\n",
    "from tensorflow.keras.layers import TextVectorization # type: ignore\n",
    "from tensorflow.keras.layers import Embedding # type: ignore\n",
    "\n",
    "# import fungsi loss dan optimizer\n",
    "from tensorflow.keras.losses import BinaryCrossentropy # type: ignore\n",
    "from tensorflow.keras.optimizers import Adam # type: ignore\n",
    "\n",
    "# import model Functional API tensorflow\n",
    "from tensorflow.keras import Model # type: ignore\n",
    "\n",
    "# import callbacks untuk tensorflow\n",
    "from tensorflow.keras.callbacks import ModelCheckpoint, EarlyStopping, ReduceLROnPlateau # type: ignore\n",
    "\n",
    "# import model terbaik, metriks dan alat evaluasi\n",
    "from sklearn.metrics import accuracy_score, precision_recall_fscore_support, confusion_matrix\n",
    "from tensorflow.keras.models import load_model # type: ignore\n",
    "\n",
    "# import grafik\n",
    "import matplotlib.pyplot as plt\n",
    "import seaborn as sns\n",
    "from tensorflow.keras.utils import plot_model # type: ignore\n",
    "from scipy.stats import binned_statistic\n",
    "\n",
    "# import display untuk menampilkan dataframe berdasar settingan tertentu (situasional)\n",
    "from IPython.display import display\n",
    "\n",
    "# import library log untuk training\n",
    "import wandb as wb\n",
    "from wandb.keras import WandbCallback\n",
    "\n",
    "# import kunci untuk login wandb\n",
    "from rahasia import API_KEY_WANDB # type: ignore\n",
    "\n",
    "# set output tensorflow\n",
    "run_functions_eagerly(True)\n",
    "enable_debug_mode()\n",
    "\n",
    "# set matplotlib untuk menggunakan tampilan seaborn\n",
    "sns.set()"
   ]
  },
  {
   "cell_type": "code",
   "execution_count": 55,
   "metadata": {},
   "outputs": [
    {
     "data": {
      "text/plain": [
       "name: \"/device:GPU:0\"\n",
       "device_type: \"GPU\"\n",
       "memory_limit: 4852809728\n",
       "locality {\n",
       "  bus_id: 1\n",
       "  links {\n",
       "  }\n",
       "}\n",
       "incarnation: 3519048620981407661\n",
       "physical_device_desc: \"device: 0, name: NVIDIA GeForce GTX 1060, pci bus id: 0000:01:00.0, compute capability: 6.1\"\n",
       "xla_global_id: 416903419"
      ]
     },
     "execution_count": 55,
     "metadata": {},
     "output_type": "execute_result"
    }
   ],
   "source": [
    "# cek ketersediaan GPU untuk modeling\n",
    "# NVidia GeForce MX250 - office\n",
    "# NVidia GeForce GTX1060 - home\n",
    "list_local_devices()[1]"
   ]
  },
  {
   "cell_type": "markdown",
   "metadata": {},
   "source": [
    "## Variabel Global"
   ]
  },
  {
   "cell_type": "code",
   "execution_count": 56,
   "metadata": {},
   "outputs": [],
   "source": [
    "DIR_MODEL_CHECKPOINT = 'colorskim_checkpoint'\n",
    "# kita akan mengatur toleransi_es sebagai fraksi (fraksi_toleransi) tertentu dari jumlah total epoch\n",
    "# dan toleransi_rlop sebagai toleransi_es dibagi dengan jumlah kesempatan (kesempatan_rlop)\n",
    "# dilakukannya reduksi pada learning_rate \n",
    "EPOCHS = 1000\n",
    "UKURAN_BATCH = 32\n",
    "FRAKSI_TOLERANSI = 0.01\n",
    "KESEMPATAN_RLOP = 5\n",
    "TOLERANSI_ES = int(EPOCHS*FRAKSI_TOLERANSI)\n",
    "TOLERANSI_RLOP = int(TOLERANSI_ES/KESEMPATAN_RLOP)\n",
    "FRAKSI_REDUKSI_LR = 0.1\n",
    "METRIK_MONITOR = 'val_accuracy'\n",
    "RANDOM_STATE = 11\n",
    "# untuk mencegah overfitting, kita akan memberikan ruang yang cukup besar \n",
    "# untuk test_data dan memperkecil porsi train_data dengan jumlah epoch\n",
    "# yang besar sehingga model masih memiliki waktu untuk melakukan\n",
    "# training pada train_data\n",
    "RASIO_TEST_TRAIN = 0.2\n",
    "\n",
    "# wandb init\n",
    "wandb = {'proyek': 'ColorSkim',\n",
    "         'user': 'jpao'}\n",
    "\n",
    "# nama model\n",
    "MODEL = ['model_0_multinomial_naive_bayes',\n",
    "         'model_1_Conv1D_vektorisasi_embedding',\n",
    "         'model_2_Conv1D_USE_embed',\n",
    "         'model_3_quadbrid_embedding']"
   ]
  },
  {
   "cell_type": "markdown",
   "metadata": {},
   "source": [
    "## Callbacks\n",
    "\n",
    "Beberapa *callbacks* yang akan digunakan dalam proses *training* model diantaranya:\n",
    "\n",
    "* `WandbCallback` - *Callback* ke [wandb.ai](https://wandb.ai) untuk mencatat log dari sesi *training* model.\n",
    "* `ModelCheckpoint` - Untuk menyimpan model dengan *val_loss* terbaik dari seluruh *epoch* dalam *training* model.\n",
    "* `EarlyStopping` (ES) - *Callback* ini digunakan untuk menghentikan proses *training* model jika selama beberapa *epoch* model tidak mengalami perbaikan pada metrik *val_loss*-nya. *Callback* ini juga digunakan bersama dengan `ReduceLROnPlateau` dimana *patience* ES > *patience* RLOP.\n",
    "* `ReduceLROnPlateau` (RLOP) - *Callback* ini digunakan untuk memperkecil *learning_rate* dari model jika tidak mengalami perbaikan *val_loss* selama beberapa *epoch*.\n",
    "\n",
    "*Patience* dari ES di-set lebih tinggi dari *patience* RLOP untuk memberikan kesempatan bagi RLOP untuk memperkecil *learning_rate* beberapa kali sebelum proses *training* model dihentikan oleh ES setelah tidak berhasil mendapatkan *val_loss* yang lebih baik selama beberapa *epoch*."
   ]
  },
  {
   "cell_type": "code",
   "execution_count": 57,
   "metadata": {},
   "outputs": [
    {
     "name": "stderr",
     "output_type": "stream",
     "text": [
      "\u001b[34m\u001b[1mwandb\u001b[0m: \u001b[33mWARNING\u001b[0m If you're specifying your api key in code, ensure this code is not shared publicly.\n",
      "\u001b[34m\u001b[1mwandb\u001b[0m: \u001b[33mWARNING\u001b[0m Consider setting the WANDB_API_KEY environment variable, or running `wandb login` from the command line.\n",
      "\u001b[34m\u001b[1mwandb\u001b[0m: Appending key for api.wandb.ai to your netrc file: C:\\Users\\jPao/.netrc\n"
     ]
    }
   ],
   "source": [
    "\n",
    "# Login ke wandb\n",
    "wb.login(key=API_KEY_WANDB)\n",
    "\n",
    "# Pembuatan fungsi callback\n",
    "def wandb_callback(data_training):\n",
    "    return WandbCallback(save_model=False, # model akan disimpan menggunakan callback ModelCheckpoint\n",
    "                         log_weights=True, # weight akan disimpan untuk visualisasi di wandb\n",
    "                         log_gradients=True, # gradient akan disimpan untuk visualisasi di wandb\n",
    "                         training_data=data_training) \n",
    "def model_checkpoint(nama_model):\n",
    "    return ModelCheckpoint(filepath=os.path.join(DIR_MODEL_CHECKPOINT, nama_model),\n",
    "                           verbose=0,\n",
    "                           monitor=METRIK_MONITOR,\n",
    "                           save_best_only=True) # model dengan 'val_loss' terbaik akan disimpan\n",
    "def early_stopping():\n",
    "    return EarlyStopping(patience=TOLERANSI_ES,\n",
    "                         monitor=METRIK_MONITOR)\n",
    "def reduce_lr_on_plateau():\n",
    "    return ReduceLROnPlateau(factor=FRAKSI_REDUKSI_LR, # pengurangan learning_rate diset sebesar 0.1 * learning_rate\n",
    "                             patience=TOLERANSI_RLOP,\n",
    "                             monitor=METRIK_MONITOR,\n",
    "                             verbose=0)"
   ]
  },
  {
   "cell_type": "markdown",
   "metadata": {},
   "source": [
    "## Data\n",
    "\n",
    "Data yang dipergunakan adalah sebanyak 101,077 kata. Terdapat 2 versi data, data versi 1 hanya memiliki 56,751 kata dan data versi 2 adalah data lengkap.\n",
    "\n",
    "* Data 1: 56,751 kata, terdiri dari 34,174 kata dengan label `bukan_warna` dan 22,577 kata dengan label `warna` atau rasio 1.51 : 1 `bukan_warna` berbanding `warna`\n",
    "* Data 2: 101,077 kata, rincian menyusul....\n",
    "\n",
    "`brand`, `urut_kata` dan `total_kata` akan digunakan sebagai alternatif variabel independen tambahan dalam model tertentu."
   ]
  },
  {
   "cell_type": "code",
   "execution_count": 58,
   "metadata": {},
   "outputs": [
    {
     "data": {
      "text/html": [
       "<div>\n",
       "<style scoped>\n",
       "    .dataframe tbody tr th:only-of-type {\n",
       "        vertical-align: middle;\n",
       "    }\n",
       "\n",
       "    .dataframe tbody tr th {\n",
       "        vertical-align: top;\n",
       "    }\n",
       "\n",
       "    .dataframe thead th {\n",
       "        text-align: right;\n",
       "    }\n",
       "</style>\n",
       "<table border=\"1\" class=\"dataframe\">\n",
       "  <thead>\n",
       "    <tr style=\"text-align: right;\">\n",
       "      <th></th>\n",
       "      <th>brand</th>\n",
       "      <th>nama_artikel</th>\n",
       "      <th>kata</th>\n",
       "      <th>label</th>\n",
       "      <th>urut_kata</th>\n",
       "      <th>total_kata</th>\n",
       "    </tr>\n",
       "  </thead>\n",
       "  <tbody>\n",
       "    <tr>\n",
       "      <th>0</th>\n",
       "      <td>ADI</td>\n",
       "      <td>ADISSAGE-BLACK/BLACK/RUNWHT</td>\n",
       "      <td>ADISSAGE</td>\n",
       "      <td>bukan_warna</td>\n",
       "      <td>1.0</td>\n",
       "      <td>4.0</td>\n",
       "    </tr>\n",
       "    <tr>\n",
       "      <th>1</th>\n",
       "      <td>ADI</td>\n",
       "      <td>ADISSAGE-BLACK/BLACK/RUNWHT</td>\n",
       "      <td>BLACK</td>\n",
       "      <td>warna</td>\n",
       "      <td>2.0</td>\n",
       "      <td>4.0</td>\n",
       "    </tr>\n",
       "    <tr>\n",
       "      <th>2</th>\n",
       "      <td>ADI</td>\n",
       "      <td>ADISSAGE-BLACK/BLACK/RUNWHT</td>\n",
       "      <td>BLACK</td>\n",
       "      <td>warna</td>\n",
       "      <td>3.0</td>\n",
       "      <td>4.0</td>\n",
       "    </tr>\n",
       "    <tr>\n",
       "      <th>3</th>\n",
       "      <td>ADI</td>\n",
       "      <td>ADISSAGE-BLACK/BLACK/RUNWHT</td>\n",
       "      <td>RUNWHT</td>\n",
       "      <td>warna</td>\n",
       "      <td>4.0</td>\n",
       "      <td>4.0</td>\n",
       "    </tr>\n",
       "    <tr>\n",
       "      <th>4</th>\n",
       "      <td>ADI</td>\n",
       "      <td>ADISSAGE-N.NAVY/N.NAVY/RUNWHT</td>\n",
       "      <td>ADISSAGE</td>\n",
       "      <td>bukan_warna</td>\n",
       "      <td>1.0</td>\n",
       "      <td>4.0</td>\n",
       "    </tr>\n",
       "    <tr>\n",
       "      <th>...</th>\n",
       "      <td>...</td>\n",
       "      <td>...</td>\n",
       "      <td>...</td>\n",
       "      <td>...</td>\n",
       "      <td>...</td>\n",
       "      <td>...</td>\n",
       "    </tr>\n",
       "    <tr>\n",
       "      <th>56746</th>\n",
       "      <td>WAR</td>\n",
       "      <td>125CM PAISLEY WHITE FLAT</td>\n",
       "      <td>PAISLEY</td>\n",
       "      <td>warna</td>\n",
       "      <td>2.0</td>\n",
       "      <td>4.0</td>\n",
       "    </tr>\n",
       "    <tr>\n",
       "      <th>56747</th>\n",
       "      <td>WAR</td>\n",
       "      <td>125CM PAISLEY WHITE FLAT</td>\n",
       "      <td>WHITE</td>\n",
       "      <td>warna</td>\n",
       "      <td>3.0</td>\n",
       "      <td>4.0</td>\n",
       "    </tr>\n",
       "    <tr>\n",
       "      <th>56748</th>\n",
       "      <td>WAR</td>\n",
       "      <td>125CM VINTAGE ORANGE</td>\n",
       "      <td>125CM</td>\n",
       "      <td>bukan_warna</td>\n",
       "      <td>1.0</td>\n",
       "      <td>3.0</td>\n",
       "    </tr>\n",
       "    <tr>\n",
       "      <th>56749</th>\n",
       "      <td>WAR</td>\n",
       "      <td>125CM VINTAGE ORANGE</td>\n",
       "      <td>VINTAGE</td>\n",
       "      <td>warna</td>\n",
       "      <td>2.0</td>\n",
       "      <td>3.0</td>\n",
       "    </tr>\n",
       "    <tr>\n",
       "      <th>56750</th>\n",
       "      <td>WAR</td>\n",
       "      <td>125CM VINTAGE ORANGE</td>\n",
       "      <td>ORANGE</td>\n",
       "      <td>warna</td>\n",
       "      <td>3.0</td>\n",
       "      <td>3.0</td>\n",
       "    </tr>\n",
       "  </tbody>\n",
       "</table>\n",
       "<p>56751 rows × 6 columns</p>\n",
       "</div>"
      ],
      "text/plain": [
       "      brand                   nama_artikel      kata        label  urut_kata  \\\n",
       "0       ADI    ADISSAGE-BLACK/BLACK/RUNWHT  ADISSAGE  bukan_warna        1.0   \n",
       "1       ADI    ADISSAGE-BLACK/BLACK/RUNWHT     BLACK        warna        2.0   \n",
       "2       ADI    ADISSAGE-BLACK/BLACK/RUNWHT     BLACK        warna        3.0   \n",
       "3       ADI    ADISSAGE-BLACK/BLACK/RUNWHT    RUNWHT        warna        4.0   \n",
       "4       ADI  ADISSAGE-N.NAVY/N.NAVY/RUNWHT  ADISSAGE  bukan_warna        1.0   \n",
       "...     ...                            ...       ...          ...        ...   \n",
       "56746   WAR       125CM PAISLEY WHITE FLAT   PAISLEY        warna        2.0   \n",
       "56747   WAR       125CM PAISLEY WHITE FLAT     WHITE        warna        3.0   \n",
       "56748   WAR           125CM VINTAGE ORANGE     125CM  bukan_warna        1.0   \n",
       "56749   WAR           125CM VINTAGE ORANGE   VINTAGE        warna        2.0   \n",
       "56750   WAR           125CM VINTAGE ORANGE    ORANGE        warna        3.0   \n",
       "\n",
       "       total_kata  \n",
       "0             4.0  \n",
       "1             4.0  \n",
       "2             4.0  \n",
       "3             4.0  \n",
       "4             4.0  \n",
       "...           ...  \n",
       "56746         4.0  \n",
       "56747         4.0  \n",
       "56748         3.0  \n",
       "56749         3.0  \n",
       "56750         3.0  \n",
       "\n",
       "[56751 rows x 6 columns]"
      ]
     },
     "execution_count": 58,
     "metadata": {},
     "output_type": "execute_result"
    }
   ],
   "source": [
    "\"\"\" \n",
    "Membaca data ke dalam DataFrame pandas\n",
    "Merubah kolom `urut_kata` dan 'total_kata' menjadi float32\n",
    "\"\"\"\n",
    "data = pd.read_csv('data/setengah_dataset_artikel.csv')\n",
    "data = data.astype({'urut_kata': np.float32, 'total_kata': np.float32})\n",
    "# Untuk dokumentasi, gunakan format markdown untuk rendering dataframe\n",
    "# print(data.to_markdown())\n",
    "data"
   ]
  },
  {
   "cell_type": "markdown",
   "metadata": {},
   "source": [
    "### Eksplorasi Data"
   ]
  },
  {
   "cell_type": "code",
   "execution_count": 59,
   "metadata": {},
   "outputs": [
    {
     "name": "stdout",
     "output_type": "stream",
     "text": [
      "bukan_warna    34174\n",
      "warna          22577\n",
      "Name: label, dtype: int64\n"
     ]
    },
    {
     "data": {
      "text/plain": [
       "Text(0.5, 1.0, 'Distribusi Label')"
      ]
     },
     "execution_count": 59,
     "metadata": {},
     "output_type": "execute_result"
    },
    {
     "data": {
      "image/png": "[encoded data removed]",
      "text/plain": [
       "<Figure size 432x288 with 1 Axes>"
      ]
     },
     "metadata": {},
     "output_type": "display_data"
    }
   ],
   "source": [
    "# distribusi label dalam data\n",
    "print(data['label'].value_counts())\n",
    "data['label'].value_counts().plot(kind='bar')\n",
    "plt.gca().set_title('Distribusi Label', fontsize=18)"
   ]
  },
  {
   "cell_type": "code",
   "execution_count": 60,
   "metadata": {},
   "outputs": [
    {
     "name": "stdout",
     "output_type": "stream",
     "text": [
      "label  bukan_warna    warna\n",
      "brand                      \n",
      "NIK        13396.0  10807.0\n",
      "ADI        10028.0   7073.0\n",
      "PUM         4279.0   2062.0\n",
      "BBC         1174.0    367.0\n",
      "CAO          887.0     61.0\n",
      "HER          868.0    287.0\n",
      "AGL          611.0    212.0\n",
      "KIP          554.0    321.0\n",
      "STN          494.0    255.0\n",
      "WAR          404.0    298.0\n"
     ]
    },
    {
     "data": {
      "text/plain": [
       "Text(0.5, 1.0, 'Distribusi Label Berdasarkan Brand')"
      ]
     },
     "execution_count": 60,
     "metadata": {},
     "output_type": "execute_result"
    },
    {
     "data": {
      "image/png": "[encoded data removed]",
      "text/plain": [
       "<Figure size 432x288 with 1 Axes>"
      ]
     },
     "metadata": {},
     "output_type": "display_data"
    }
   ],
   "source": [
    "# distribusi label dalam brand (data hanya menunjukkan 10 teratas)\n",
    "print(data[['brand', 'label']].value_counts().unstack().sort_values(by='bukan_warna', ascending=False)[:10])\n",
    "data[['brand', 'label']].value_counts().unstack().sort_values(by='bukan_warna', ascending=False)[:10].plot(kind='bar')\n",
    "plt.gca().set_title('Distribusi Label Berdasarkan Brand', fontsize=18)"
   ]
  },
  {
   "cell_type": "markdown",
   "metadata": {},
   "source": [
    "### Konversi Fitur dan Label ke dalam numerik\n",
    "\n",
    "Kita akan melakukan pengkonversian fitur dan label ke dalam bentuk numerik, dikarenakan jaringan saraf buatan hanya dapat bekerja dalam data numerik. \n",
    "\n",
    "Terdapat dua jenis *encoding* untuk data yang bersifat kategorikal:\n",
    "\n",
    "* `OneHotEncoder`\n",
    "* `LabelEncoder`\n",
    "\n",
    "**OneHotEncoder**\n",
    "*Encoding* ini akan merubah data satu kolom menjadi multi-kolom dengan nilai 1 dan 0 dimana jumlah kolom sama dengan jumlah kategori, seperti berikut:\n",
    "\n",
    "| brand | brand_NIK | brand_ADI | brand_SPE | brand_PIE | brand_... |\n",
    "| --- | --- | --- | --- | --- | --- |\n",
    "| NIK | 1 | 0 | 0 | 0 | ... |\n",
    "| SPE | 0 | 0 | 1 | 0 | ... |\n",
    "| PIE | 0 | 0 | 0 | 1 | ... |\n",
    "| ADI | 0 | 1 | 0 | 0 | ... |\n",
    "| SPE | 0 | 0 | 1 | 0 | ... |\n",
    "| ... | ... | ... | ... | ... | ... |\n",
    "\n",
    "**LabelEncoder**\n",
    "*Encoding* ini akan merubah data pada satu kolom menjadi 0, 1, 2, 3.. dstnya sesuai dengan jumlah kategorinya, seperti berikut:\n",
    "\n",
    "| brand | brand_label_encoded |\n",
    "| --- | --- |\n",
    "| NIK | 0 |\n",
    "| SPE | 1 |\n",
    "| PIE | 2 |\n",
    "| ADI | 3 |\n",
    "| SPE | 1 |\n",
    "| ... | ... |\n",
    "\n",
    "**Kapan menggunakan `OneHotEncoder` atau `LabelEncoder` dalam sebuah proses encoding?** Kita dapat menggunakan `OneHotEncoder` ketika kita tidak menginginkan suatu bentuk hubungan hirarki di dalam data kategorikal yang kita miliki. Dalam hal ini ketika kita tidak ingin jaringan saraf buatan untuk memandang ADI (3) lebih signifikan dari NIK (0) dalam hal nilainya jika dilakukan label *encoding*, maka kita dapat menggunakan `OneHotEncoder`.\n",
    "Jika kategori bersifat biner seperti 'Pria' atau 'Wanita', 'Ya' atau 'Tidak' dsbnya, penggunaan `LabelEncoder` dinilai lebih efektif.\n",
    "\n",
    "> Dengan pertimbangan di atas dan melihat struktur data kita, maka kita akan menggunakan `OneHotEncoder` untuk kolom *brand* (fitur) dan menggunakan `LabelEncoder` untuk kolom *label* (target), kecuali untuk **Model 0** yang akan menggunakan fungsi ekstraksi fitur dengan `TfIdfVectorizer` kita hanya akan menggunakan kolom 'label' yang belum di-*encode*."
   ]
  },
  {
   "cell_type": "code",
   "execution_count": 61,
   "metadata": {},
   "outputs": [
    {
     "data": {
      "text/html": [
       "<div>\n",
       "<style scoped>\n",
       "    .dataframe tbody tr th:only-of-type {\n",
       "        vertical-align: middle;\n",
       "    }\n",
       "\n",
       "    .dataframe tbody tr th {\n",
       "        vertical-align: top;\n",
       "    }\n",
       "\n",
       "    .dataframe thead th {\n",
       "        text-align: right;\n",
       "    }\n",
       "</style>\n",
       "<table border=\"1\" class=\"dataframe\">\n",
       "  <thead>\n",
       "    <tr style=\"text-align: right;\">\n",
       "      <th></th>\n",
       "      <th>brand</th>\n",
       "      <th>nama_artikel</th>\n",
       "      <th>kata</th>\n",
       "      <th>label</th>\n",
       "      <th>urut_kata</th>\n",
       "      <th>total_kata</th>\n",
       "      <th>brand_ADI</th>\n",
       "      <th>brand_ADS</th>\n",
       "      <th>brand_AGL</th>\n",
       "      <th>brand_AND</th>\n",
       "      <th>...</th>\n",
       "      <th>brand_PTG</th>\n",
       "      <th>brand_PUM</th>\n",
       "      <th>brand_REL</th>\n",
       "      <th>brand_SAU</th>\n",
       "      <th>brand_SOC</th>\n",
       "      <th>brand_STN</th>\n",
       "      <th>brand_UME</th>\n",
       "      <th>brand_VAP</th>\n",
       "      <th>brand_WAR</th>\n",
       "      <th>label_encoded</th>\n",
       "    </tr>\n",
       "  </thead>\n",
       "  <tbody>\n",
       "    <tr>\n",
       "      <th>0</th>\n",
       "      <td>ADI</td>\n",
       "      <td>ADISSAGE-BLACK/BLACK/RUNWHT</td>\n",
       "      <td>ADISSAGE</td>\n",
       "      <td>bukan_warna</td>\n",
       "      <td>1.0</td>\n",
       "      <td>4.0</td>\n",
       "      <td>1.0</td>\n",
       "      <td>0.0</td>\n",
       "      <td>0.0</td>\n",
       "      <td>0.0</td>\n",
       "      <td>...</td>\n",
       "      <td>0.0</td>\n",
       "      <td>0.0</td>\n",
       "      <td>0.0</td>\n",
       "      <td>0.0</td>\n",
       "      <td>0.0</td>\n",
       "      <td>0.0</td>\n",
       "      <td>0.0</td>\n",
       "      <td>0.0</td>\n",
       "      <td>0.0</td>\n",
       "      <td>0</td>\n",
       "    </tr>\n",
       "    <tr>\n",
       "      <th>1</th>\n",
       "      <td>ADI</td>\n",
       "      <td>ADISSAGE-BLACK/BLACK/RUNWHT</td>\n",
       "      <td>BLACK</td>\n",
       "      <td>warna</td>\n",
       "      <td>2.0</td>\n",
       "      <td>4.0</td>\n",
       "      <td>1.0</td>\n",
       "      <td>0.0</td>\n",
       "      <td>0.0</td>\n",
       "      <td>0.0</td>\n",
       "      <td>...</td>\n",
       "      <td>0.0</td>\n",
       "      <td>0.0</td>\n",
       "      <td>0.0</td>\n",
       "      <td>0.0</td>\n",
       "      <td>0.0</td>\n",
       "      <td>0.0</td>\n",
       "      <td>0.0</td>\n",
       "      <td>0.0</td>\n",
       "      <td>0.0</td>\n",
       "      <td>1</td>\n",
       "    </tr>\n",
       "    <tr>\n",
       "      <th>2</th>\n",
       "      <td>ADI</td>\n",
       "      <td>ADISSAGE-BLACK/BLACK/RUNWHT</td>\n",
       "      <td>BLACK</td>\n",
       "      <td>warna</td>\n",
       "      <td>3.0</td>\n",
       "      <td>4.0</td>\n",
       "      <td>1.0</td>\n",
       "      <td>0.0</td>\n",
       "      <td>0.0</td>\n",
       "      <td>0.0</td>\n",
       "      <td>...</td>\n",
       "      <td>0.0</td>\n",
       "      <td>0.0</td>\n",
       "      <td>0.0</td>\n",
       "      <td>0.0</td>\n",
       "      <td>0.0</td>\n",
       "      <td>0.0</td>\n",
       "      <td>0.0</td>\n",
       "      <td>0.0</td>\n",
       "      <td>0.0</td>\n",
       "      <td>1</td>\n",
       "    </tr>\n",
       "    <tr>\n",
       "      <th>3</th>\n",
       "      <td>ADI</td>\n",
       "      <td>ADISSAGE-BLACK/BLACK/RUNWHT</td>\n",
       "      <td>RUNWHT</td>\n",
       "      <td>warna</td>\n",
       "      <td>4.0</td>\n",
       "      <td>4.0</td>\n",
       "      <td>1.0</td>\n",
       "      <td>0.0</td>\n",
       "      <td>0.0</td>\n",
       "      <td>0.0</td>\n",
       "      <td>...</td>\n",
       "      <td>0.0</td>\n",
       "      <td>0.0</td>\n",
       "      <td>0.0</td>\n",
       "      <td>0.0</td>\n",
       "      <td>0.0</td>\n",
       "      <td>0.0</td>\n",
       "      <td>0.0</td>\n",
       "      <td>0.0</td>\n",
       "      <td>0.0</td>\n",
       "      <td>1</td>\n",
       "    </tr>\n",
       "    <tr>\n",
       "      <th>4</th>\n",
       "      <td>ADI</td>\n",
       "      <td>ADISSAGE-N.NAVY/N.NAVY/RUNWHT</td>\n",
       "      <td>ADISSAGE</td>\n",
       "      <td>bukan_warna</td>\n",
       "      <td>1.0</td>\n",
       "      <td>4.0</td>\n",
       "      <td>1.0</td>\n",
       "      <td>0.0</td>\n",
       "      <td>0.0</td>\n",
       "      <td>0.0</td>\n",
       "      <td>...</td>\n",
       "      <td>0.0</td>\n",
       "      <td>0.0</td>\n",
       "      <td>0.0</td>\n",
       "      <td>0.0</td>\n",
       "      <td>0.0</td>\n",
       "      <td>0.0</td>\n",
       "      <td>0.0</td>\n",
       "      <td>0.0</td>\n",
       "      <td>0.0</td>\n",
       "      <td>0</td>\n",
       "    </tr>\n",
       "    <tr>\n",
       "      <th>...</th>\n",
       "      <td>...</td>\n",
       "      <td>...</td>\n",
       "      <td>...</td>\n",
       "      <td>...</td>\n",
       "      <td>...</td>\n",
       "      <td>...</td>\n",
       "      <td>...</td>\n",
       "      <td>...</td>\n",
       "      <td>...</td>\n",
       "      <td>...</td>\n",
       "      <td>...</td>\n",
       "      <td>...</td>\n",
       "      <td>...</td>\n",
       "      <td>...</td>\n",
       "      <td>...</td>\n",
       "      <td>...</td>\n",
       "      <td>...</td>\n",
       "      <td>...</td>\n",
       "      <td>...</td>\n",
       "      <td>...</td>\n",
       "      <td>...</td>\n",
       "    </tr>\n",
       "    <tr>\n",
       "      <th>56746</th>\n",
       "      <td>WAR</td>\n",
       "      <td>125CM PAISLEY WHITE FLAT</td>\n",
       "      <td>PAISLEY</td>\n",
       "      <td>warna</td>\n",
       "      <td>2.0</td>\n",
       "      <td>4.0</td>\n",
       "      <td>0.0</td>\n",
       "      <td>0.0</td>\n",
       "      <td>0.0</td>\n",
       "      <td>0.0</td>\n",
       "      <td>...</td>\n",
       "      <td>0.0</td>\n",
       "      <td>0.0</td>\n",
       "      <td>0.0</td>\n",
       "      <td>0.0</td>\n",
       "      <td>0.0</td>\n",
       "      <td>0.0</td>\n",
       "      <td>0.0</td>\n",
       "      <td>0.0</td>\n",
       "      <td>1.0</td>\n",
       "      <td>1</td>\n",
       "    </tr>\n",
       "    <tr>\n",
       "      <th>56747</th>\n",
       "      <td>WAR</td>\n",
       "      <td>125CM PAISLEY WHITE FLAT</td>\n",
       "      <td>WHITE</td>\n",
       "      <td>warna</td>\n",
       "      <td>3.0</td>\n",
       "      <td>4.0</td>\n",
       "      <td>0.0</td>\n",
       "      <td>0.0</td>\n",
       "      <td>0.0</td>\n",
       "      <td>0.0</td>\n",
       "      <td>...</td>\n",
       "      <td>0.0</td>\n",
       "      <td>0.0</td>\n",
       "      <td>0.0</td>\n",
       "      <td>0.0</td>\n",
       "      <td>0.0</td>\n",
       "      <td>0.0</td>\n",
       "      <td>0.0</td>\n",
       "      <td>0.0</td>\n",
       "      <td>1.0</td>\n",
       "      <td>1</td>\n",
       "    </tr>\n",
       "    <tr>\n",
       "      <th>56748</th>\n",
       "      <td>WAR</td>\n",
       "      <td>125CM VINTAGE ORANGE</td>\n",
       "      <td>125CM</td>\n",
       "      <td>bukan_warna</td>\n",
       "      <td>1.0</td>\n",
       "      <td>3.0</td>\n",
       "      <td>0.0</td>\n",
       "      <td>0.0</td>\n",
       "      <td>0.0</td>\n",
       "      <td>0.0</td>\n",
       "      <td>...</td>\n",
       "      <td>0.0</td>\n",
       "      <td>0.0</td>\n",
       "      <td>0.0</td>\n",
       "      <td>0.0</td>\n",
       "      <td>0.0</td>\n",
       "      <td>0.0</td>\n",
       "      <td>0.0</td>\n",
       "      <td>0.0</td>\n",
       "      <td>1.0</td>\n",
       "      <td>0</td>\n",
       "    </tr>\n",
       "    <tr>\n",
       "      <th>56749</th>\n",
       "      <td>WAR</td>\n",
       "      <td>125CM VINTAGE ORANGE</td>\n",
       "      <td>VINTAGE</td>\n",
       "      <td>warna</td>\n",
       "      <td>2.0</td>\n",
       "      <td>3.0</td>\n",
       "      <td>0.0</td>\n",
       "      <td>0.0</td>\n",
       "      <td>0.0</td>\n",
       "      <td>0.0</td>\n",
       "      <td>...</td>\n",
       "      <td>0.0</td>\n",
       "      <td>0.0</td>\n",
       "      <td>0.0</td>\n",
       "      <td>0.0</td>\n",
       "      <td>0.0</td>\n",
       "      <td>0.0</td>\n",
       "      <td>0.0</td>\n",
       "      <td>0.0</td>\n",
       "      <td>1.0</td>\n",
       "      <td>1</td>\n",
       "    </tr>\n",
       "    <tr>\n",
       "      <th>56750</th>\n",
       "      <td>WAR</td>\n",
       "      <td>125CM VINTAGE ORANGE</td>\n",
       "      <td>ORANGE</td>\n",
       "      <td>warna</td>\n",
       "      <td>3.0</td>\n",
       "      <td>3.0</td>\n",
       "      <td>0.0</td>\n",
       "      <td>0.0</td>\n",
       "      <td>0.0</td>\n",
       "      <td>0.0</td>\n",
       "      <td>...</td>\n",
       "      <td>0.0</td>\n",
       "      <td>0.0</td>\n",
       "      <td>0.0</td>\n",
       "      <td>0.0</td>\n",
       "      <td>0.0</td>\n",
       "      <td>0.0</td>\n",
       "      <td>0.0</td>\n",
       "      <td>0.0</td>\n",
       "      <td>1.0</td>\n",
       "      <td>1</td>\n",
       "    </tr>\n",
       "  </tbody>\n",
       "</table>\n",
       "<p>56751 rows × 44 columns</p>\n",
       "</div>"
      ],
      "text/plain": [
       "      brand                   nama_artikel      kata        label  urut_kata  \\\n",
       "0       ADI    ADISSAGE-BLACK/BLACK/RUNWHT  ADISSAGE  bukan_warna        1.0   \n",
       "1       ADI    ADISSAGE-BLACK/BLACK/RUNWHT     BLACK        warna        2.0   \n",
       "2       ADI    ADISSAGE-BLACK/BLACK/RUNWHT     BLACK        warna        3.0   \n",
       "3       ADI    ADISSAGE-BLACK/BLACK/RUNWHT    RUNWHT        warna        4.0   \n",
       "4       ADI  ADISSAGE-N.NAVY/N.NAVY/RUNWHT  ADISSAGE  bukan_warna        1.0   \n",
       "...     ...                            ...       ...          ...        ...   \n",
       "56746   WAR       125CM PAISLEY WHITE FLAT   PAISLEY        warna        2.0   \n",
       "56747   WAR       125CM PAISLEY WHITE FLAT     WHITE        warna        3.0   \n",
       "56748   WAR           125CM VINTAGE ORANGE     125CM  bukan_warna        1.0   \n",
       "56749   WAR           125CM VINTAGE ORANGE   VINTAGE        warna        2.0   \n",
       "56750   WAR           125CM VINTAGE ORANGE    ORANGE        warna        3.0   \n",
       "\n",
       "       total_kata  brand_ADI  brand_ADS  brand_AGL  brand_AND  ...  brand_PTG  \\\n",
       "0             4.0        1.0        0.0        0.0        0.0  ...        0.0   \n",
       "1             4.0        1.0        0.0        0.0        0.0  ...        0.0   \n",
       "2             4.0        1.0        0.0        0.0        0.0  ...        0.0   \n",
       "3             4.0        1.0        0.0        0.0        0.0  ...        0.0   \n",
       "4             4.0        1.0        0.0        0.0        0.0  ...        0.0   \n",
       "...           ...        ...        ...        ...        ...  ...        ...   \n",
       "56746         4.0        0.0        0.0        0.0        0.0  ...        0.0   \n",
       "56747         4.0        0.0        0.0        0.0        0.0  ...        0.0   \n",
       "56748         3.0        0.0        0.0        0.0        0.0  ...        0.0   \n",
       "56749         3.0        0.0        0.0        0.0        0.0  ...        0.0   \n",
       "56750         3.0        0.0        0.0        0.0        0.0  ...        0.0   \n",
       "\n",
       "       brand_PUM  brand_REL  brand_SAU  brand_SOC  brand_STN  brand_UME  \\\n",
       "0            0.0        0.0        0.0        0.0        0.0        0.0   \n",
       "1            0.0        0.0        0.0        0.0        0.0        0.0   \n",
       "2            0.0        0.0        0.0        0.0        0.0        0.0   \n",
       "3            0.0        0.0        0.0        0.0        0.0        0.0   \n",
       "4            0.0        0.0        0.0        0.0        0.0        0.0   \n",
       "...          ...        ...        ...        ...        ...        ...   \n",
       "56746        0.0        0.0        0.0        0.0        0.0        0.0   \n",
       "56747        0.0        0.0        0.0        0.0        0.0        0.0   \n",
       "56748        0.0        0.0        0.0        0.0        0.0        0.0   \n",
       "56749        0.0        0.0        0.0        0.0        0.0        0.0   \n",
       "56750        0.0        0.0        0.0        0.0        0.0        0.0   \n",
       "\n",
       "       brand_VAP  brand_WAR  label_encoded  \n",
       "0            0.0        0.0              0  \n",
       "1            0.0        0.0              1  \n",
       "2            0.0        0.0              1  \n",
       "3            0.0        0.0              1  \n",
       "4            0.0        0.0              0  \n",
       "...          ...        ...            ...  \n",
       "56746        0.0        1.0              1  \n",
       "56747        0.0        1.0              1  \n",
       "56748        0.0        1.0              0  \n",
       "56749        0.0        1.0              1  \n",
       "56750        0.0        1.0              1  \n",
       "\n",
       "[56751 rows x 44 columns]"
      ]
     },
     "execution_count": 61,
     "metadata": {},
     "output_type": "execute_result"
    }
   ],
   "source": [
    "# OneHotEncoding pada fitur brand\n",
    "fitur_encoder = OneHotEncoder(sparse=False)\n",
    "brand_encoded = fitur_encoder.fit_transform(data['brand'].to_numpy().reshape(-1, 1))\n",
    "df_fitur_encoded = pd.DataFrame(brand_encoded, columns=fitur_encoder.get_feature_names_out(['brand']))\n",
    "\n",
    "# LabelEncoding pada target label\n",
    "label_encoder = LabelEncoder()\n",
    "label_encoded = label_encoder.fit_transform(data['label'])\n",
    "df_label_encoded = pd.DataFrame(label_encoded, columns=['label_encoded'])\n",
    "\n",
    "# gabungkan dengan dataframe awal\n",
    "data_encoded = data.copy()\n",
    "data_encoded = pd.concat([data_encoded,df_fitur_encoded, df_label_encoded], axis=1)\n",
    "data_encoded"
   ]
  },
  {
   "cell_type": "markdown",
   "metadata": {},
   "source": [
    "### Konversi Data ke dalam Train dan Test untuk Model 0\n",
    "\n",
    "Data akan dibagi ke dalam train dan test data menggunakan metode `train_test_split` dari modul *sklearn.model_selection* dengan menggunakan rasio dan keacakan yang telah ditentukan di variabel global (lihat *RASIO_TEST_TRAIN* dan *RANDOM_STATE*)."
   ]
  },
  {
   "cell_type": "code",
   "execution_count": 62,
   "metadata": {},
   "outputs": [],
   "source": [
    "# Menyimpan header data\n",
    "data_header = data_encoded[['kata', 'brand', 'urut_kata', 'total_kata', 'label']].columns\n",
    "\n",
    "\"\"\"\n",
    "Model 0 adalah MultinomialNB yang akan menggunakan feature_extraction TfIdfVectorizer\n",
    "dimana TfIdfVectorizer hanya dapat menerima satu kolom data yang akan diubah menjadi vector\n",
    "(angka), kecuali kita dapat menggabungkan kembali brand kata dan kolom kolom lainnya ke dalam\n",
    "satu kolom seperti['NIK GREEN 1 0 0 0 1'] alih - alih [['NIK', 'GREEN', '1', '0', '0', '0', '1']]\n",
    "Maka untuk Model 0 kita tetap akan hanya menggunakan kolom 'kata' sebagai fitur.\n",
    "kolom 'brand', 'urut_kata' 'total_kata' dan 'label' sebenarnya tidak akan \n",
    "digunakan untuk training, namun pada train_test_split ini kita akan menyimpan brand untuk \n",
    "display hasil prediksi berbanding dengan target label (ground truth)\n",
    "\"\"\"\n",
    "train_data_mnb, test_data_mnb, train_target_mnb, test_target_mnb = train_test_split(data_encoded[['kata', 'brand', 'urut_kata', 'total_kata', 'label']],\n",
    "                                                                                    data_encoded['label_encoded'],\n",
    "                                                                                    test_size=RASIO_TEST_TRAIN,\n",
    "                                                                                    random_state=RANDOM_STATE)\n",
    "\n",
    "# Untuk model lainnya kita akan menggunakan semua fitur minus 'brand', 'nama_artikel', 'label' dan 'label_encoded' .drop\n",
    "train_data, test_data, train_target, test_target = train_test_split(data_encoded.drop(['brand', 'nama_artikel', 'label', 'label_encoded'], axis=1),\n",
    "                                                                    data_encoded['label_encoded'],\n",
    "                                                                    test_size=RASIO_TEST_TRAIN,\n",
    "                                                                    random_state=RANDOM_STATE)"
   ]
  },
  {
   "cell_type": "code",
   "execution_count": 63,
   "metadata": {},
   "outputs": [
    {
     "data": {
      "text/plain": [
       "((45400, 5), (11351, 5), (45400,), (11351,))"
      ]
     },
     "execution_count": 63,
     "metadata": {},
     "output_type": "execute_result"
    }
   ],
   "source": [
    "train_data_mnb.shape, test_data_mnb.shape, train_target_mnb.shape, test_target_mnb.shape"
   ]
  },
  {
   "cell_type": "code",
   "execution_count": 64,
   "metadata": {},
   "outputs": [
    {
     "data": {
      "text/plain": [
       "((45400, 40), (11351, 40), (45400,), (11351,))"
      ]
     },
     "execution_count": 64,
     "metadata": {},
     "output_type": "execute_result"
    }
   ],
   "source": [
    "train_data.shape, test_data.shape, train_target.shape, test_target.shape"
   ]
  },
  {
   "cell_type": "code",
   "execution_count": 65,
   "metadata": {},
   "outputs": [
    {
     "name": "stdout",
     "output_type": "stream",
     "text": [
      "2 data pertama di train_data_mnb:\n",
      "['GREY', 'BLACK']\n",
      "\n",
      "2 data pertama di train_data:\n"
     ]
    },
    {
     "data": {
      "text/html": [
       "<div>\n",
       "<style scoped>\n",
       "    .dataframe tbody tr th:only-of-type {\n",
       "        vertical-align: middle;\n",
       "    }\n",
       "\n",
       "    .dataframe tbody tr th {\n",
       "        vertical-align: top;\n",
       "    }\n",
       "\n",
       "    .dataframe thead th {\n",
       "        text-align: right;\n",
       "    }\n",
       "</style>\n",
       "<table border=\"1\" class=\"dataframe\">\n",
       "  <thead>\n",
       "    <tr style=\"text-align: right;\">\n",
       "      <th></th>\n",
       "      <th>kata</th>\n",
       "      <th>urut_kata</th>\n",
       "      <th>total_kata</th>\n",
       "      <th>brand_ADI</th>\n",
       "      <th>brand_ADS</th>\n",
       "      <th>brand_AGL</th>\n",
       "      <th>brand_AND</th>\n",
       "      <th>brand_ASC</th>\n",
       "      <th>brand_BAL</th>\n",
       "      <th>brand_BBC</th>\n",
       "      <th>brand_BEA</th>\n",
       "      <th>brand_CAO</th>\n",
       "      <th>brand_CIT</th>\n",
       "      <th>brand_CRP</th>\n",
       "      <th>brand_DOM</th>\n",
       "      <th>brand_FIS</th>\n",
       "      <th>brand_GUE</th>\n",
       "      <th>brand_HER</th>\n",
       "      <th>brand_JAS</th>\n",
       "      <th>brand_KIP</th>\n",
       "      <th>brand_NEW</th>\n",
       "      <th>brand_NFA</th>\n",
       "      <th>brand_NFC</th>\n",
       "      <th>brand_NFL</th>\n",
       "      <th>brand_NIB</th>\n",
       "      <th>brand_NIC</th>\n",
       "      <th>brand_NIK</th>\n",
       "      <th>brand_NPS</th>\n",
       "      <th>brand_ODD</th>\n",
       "      <th>brand_PBY</th>\n",
       "      <th>brand_PSB</th>\n",
       "      <th>brand_PTG</th>\n",
       "      <th>brand_PUM</th>\n",
       "      <th>brand_REL</th>\n",
       "      <th>brand_SAU</th>\n",
       "      <th>brand_SOC</th>\n",
       "      <th>brand_STN</th>\n",
       "      <th>brand_UME</th>\n",
       "      <th>brand_VAP</th>\n",
       "      <th>brand_WAR</th>\n",
       "    </tr>\n",
       "  </thead>\n",
       "  <tbody>\n",
       "    <tr>\n",
       "      <th>43886</th>\n",
       "      <td>GREY</td>\n",
       "      <td>12.0</td>\n",
       "      <td>12.0</td>\n",
       "      <td>0.0</td>\n",
       "      <td>0.0</td>\n",
       "      <td>0.0</td>\n",
       "      <td>0.0</td>\n",
       "      <td>0.0</td>\n",
       "      <td>0.0</td>\n",
       "      <td>0.0</td>\n",
       "      <td>0.0</td>\n",
       "      <td>0.0</td>\n",
       "      <td>0.0</td>\n",
       "      <td>0.0</td>\n",
       "      <td>0.0</td>\n",
       "      <td>0.0</td>\n",
       "      <td>0.0</td>\n",
       "      <td>0.0</td>\n",
       "      <td>0.0</td>\n",
       "      <td>0.0</td>\n",
       "      <td>0.0</td>\n",
       "      <td>0.0</td>\n",
       "      <td>0.0</td>\n",
       "      <td>0.0</td>\n",
       "      <td>0.0</td>\n",
       "      <td>0.0</td>\n",
       "      <td>1.0</td>\n",
       "      <td>0.0</td>\n",
       "      <td>0.0</td>\n",
       "      <td>0.0</td>\n",
       "      <td>0.0</td>\n",
       "      <td>0.0</td>\n",
       "      <td>0.0</td>\n",
       "      <td>0.0</td>\n",
       "      <td>0.0</td>\n",
       "      <td>0.0</td>\n",
       "      <td>0.0</td>\n",
       "      <td>0.0</td>\n",
       "      <td>0.0</td>\n",
       "      <td>0.0</td>\n",
       "    </tr>\n",
       "    <tr>\n",
       "      <th>14859</th>\n",
       "      <td>BLACK</td>\n",
       "      <td>4.0</td>\n",
       "      <td>4.0</td>\n",
       "      <td>1.0</td>\n",
       "      <td>0.0</td>\n",
       "      <td>0.0</td>\n",
       "      <td>0.0</td>\n",
       "      <td>0.0</td>\n",
       "      <td>0.0</td>\n",
       "      <td>0.0</td>\n",
       "      <td>0.0</td>\n",
       "      <td>0.0</td>\n",
       "      <td>0.0</td>\n",
       "      <td>0.0</td>\n",
       "      <td>0.0</td>\n",
       "      <td>0.0</td>\n",
       "      <td>0.0</td>\n",
       "      <td>0.0</td>\n",
       "      <td>0.0</td>\n",
       "      <td>0.0</td>\n",
       "      <td>0.0</td>\n",
       "      <td>0.0</td>\n",
       "      <td>0.0</td>\n",
       "      <td>0.0</td>\n",
       "      <td>0.0</td>\n",
       "      <td>0.0</td>\n",
       "      <td>0.0</td>\n",
       "      <td>0.0</td>\n",
       "      <td>0.0</td>\n",
       "      <td>0.0</td>\n",
       "      <td>0.0</td>\n",
       "      <td>0.0</td>\n",
       "      <td>0.0</td>\n",
       "      <td>0.0</td>\n",
       "      <td>0.0</td>\n",
       "      <td>0.0</td>\n",
       "      <td>0.0</td>\n",
       "      <td>0.0</td>\n",
       "      <td>0.0</td>\n",
       "      <td>0.0</td>\n",
       "    </tr>\n",
       "  </tbody>\n",
       "</table>\n",
       "</div>"
      ],
      "text/plain": [
       "        kata  urut_kata  total_kata  brand_ADI  brand_ADS  brand_AGL  \\\n",
       "43886   GREY       12.0        12.0        0.0        0.0        0.0   \n",
       "14859  BLACK        4.0         4.0        1.0        0.0        0.0   \n",
       "\n",
       "       brand_AND  brand_ASC  brand_BAL  brand_BBC  brand_BEA  brand_CAO  \\\n",
       "43886        0.0        0.0        0.0        0.0        0.0        0.0   \n",
       "14859        0.0        0.0        0.0        0.0        0.0        0.0   \n",
       "\n",
       "       brand_CIT  brand_CRP  brand_DOM  brand_FIS  brand_GUE  brand_HER  \\\n",
       "43886        0.0        0.0        0.0        0.0        0.0        0.0   \n",
       "14859        0.0        0.0        0.0        0.0        0.0        0.0   \n",
       "\n",
       "       brand_JAS  brand_KIP  brand_NEW  brand_NFA  brand_NFC  brand_NFL  \\\n",
       "43886        0.0        0.0        0.0        0.0        0.0        0.0   \n",
       "14859        0.0        0.0        0.0        0.0        0.0        0.0   \n",
       "\n",
       "       brand_NIB  brand_NIC  brand_NIK  brand_NPS  brand_ODD  brand_PBY  \\\n",
       "43886        0.0        0.0        1.0        0.0        0.0        0.0   \n",
       "14859        0.0        0.0        0.0        0.0        0.0        0.0   \n",
       "\n",
       "       brand_PSB  brand_PTG  brand_PUM  brand_REL  brand_SAU  brand_SOC  \\\n",
       "43886        0.0        0.0        0.0        0.0        0.0        0.0   \n",
       "14859        0.0        0.0        0.0        0.0        0.0        0.0   \n",
       "\n",
       "       brand_STN  brand_UME  brand_VAP  brand_WAR  \n",
       "43886        0.0        0.0        0.0        0.0  \n",
       "14859        0.0        0.0        0.0        0.0  "
      ]
     },
     "metadata": {},
     "output_type": "display_data"
    },
    {
     "name": "stdout",
     "output_type": "stream",
     "text": [
      "\n",
      "2 label pertama di train_target (mnb & non-mnb, sama):\n",
      "[1, 1]\n",
      "\n",
      "2 data pertama di test_data_mnb:\n",
      "['SESOYE', 'GHOST']\n",
      "\n",
      "2 data pertama di test_data:\n"
     ]
    },
    {
     "data": {
      "text/html": [
       "<div>\n",
       "<style scoped>\n",
       "    .dataframe tbody tr th:only-of-type {\n",
       "        vertical-align: middle;\n",
       "    }\n",
       "\n",
       "    .dataframe tbody tr th {\n",
       "        vertical-align: top;\n",
       "    }\n",
       "\n",
       "    .dataframe thead th {\n",
       "        text-align: right;\n",
       "    }\n",
       "</style>\n",
       "<table border=\"1\" class=\"dataframe\">\n",
       "  <thead>\n",
       "    <tr style=\"text-align: right;\">\n",
       "      <th></th>\n",
       "      <th>kata</th>\n",
       "      <th>urut_kata</th>\n",
       "      <th>total_kata</th>\n",
       "      <th>brand_ADI</th>\n",
       "      <th>brand_ADS</th>\n",
       "      <th>brand_AGL</th>\n",
       "      <th>brand_AND</th>\n",
       "      <th>brand_ASC</th>\n",
       "      <th>brand_BAL</th>\n",
       "      <th>brand_BBC</th>\n",
       "      <th>brand_BEA</th>\n",
       "      <th>brand_CAO</th>\n",
       "      <th>brand_CIT</th>\n",
       "      <th>brand_CRP</th>\n",
       "      <th>brand_DOM</th>\n",
       "      <th>brand_FIS</th>\n",
       "      <th>brand_GUE</th>\n",
       "      <th>brand_HER</th>\n",
       "      <th>brand_JAS</th>\n",
       "      <th>brand_KIP</th>\n",
       "      <th>brand_NEW</th>\n",
       "      <th>brand_NFA</th>\n",
       "      <th>brand_NFC</th>\n",
       "      <th>brand_NFL</th>\n",
       "      <th>brand_NIB</th>\n",
       "      <th>brand_NIC</th>\n",
       "      <th>brand_NIK</th>\n",
       "      <th>brand_NPS</th>\n",
       "      <th>brand_ODD</th>\n",
       "      <th>brand_PBY</th>\n",
       "      <th>brand_PSB</th>\n",
       "      <th>brand_PTG</th>\n",
       "      <th>brand_PUM</th>\n",
       "      <th>brand_REL</th>\n",
       "      <th>brand_SAU</th>\n",
       "      <th>brand_SOC</th>\n",
       "      <th>brand_STN</th>\n",
       "      <th>brand_UME</th>\n",
       "      <th>brand_VAP</th>\n",
       "      <th>brand_WAR</th>\n",
       "    </tr>\n",
       "  </thead>\n",
       "  <tbody>\n",
       "    <tr>\n",
       "      <th>16829</th>\n",
       "      <td>SESOYE</td>\n",
       "      <td>5.0</td>\n",
       "      <td>6.0</td>\n",
       "      <td>1.0</td>\n",
       "      <td>0.0</td>\n",
       "      <td>0.0</td>\n",
       "      <td>0.0</td>\n",
       "      <td>0.0</td>\n",
       "      <td>0.0</td>\n",
       "      <td>0.0</td>\n",
       "      <td>0.0</td>\n",
       "      <td>0.0</td>\n",
       "      <td>0.0</td>\n",
       "      <td>0.0</td>\n",
       "      <td>0.0</td>\n",
       "      <td>0.0</td>\n",
       "      <td>0.0</td>\n",
       "      <td>0.0</td>\n",
       "      <td>0.0</td>\n",
       "      <td>0.0</td>\n",
       "      <td>0.0</td>\n",
       "      <td>0.0</td>\n",
       "      <td>0.0</td>\n",
       "      <td>0.0</td>\n",
       "      <td>0.0</td>\n",
       "      <td>0.0</td>\n",
       "      <td>0.0</td>\n",
       "      <td>0.0</td>\n",
       "      <td>0.0</td>\n",
       "      <td>0.0</td>\n",
       "      <td>0.0</td>\n",
       "      <td>0.0</td>\n",
       "      <td>0.0</td>\n",
       "      <td>0.0</td>\n",
       "      <td>0.0</td>\n",
       "      <td>0.0</td>\n",
       "      <td>0.0</td>\n",
       "      <td>0.0</td>\n",
       "      <td>0.0</td>\n",
       "      <td>0.0</td>\n",
       "    </tr>\n",
       "    <tr>\n",
       "      <th>5081</th>\n",
       "      <td>GHOST</td>\n",
       "      <td>1.0</td>\n",
       "      <td>4.0</td>\n",
       "      <td>1.0</td>\n",
       "      <td>0.0</td>\n",
       "      <td>0.0</td>\n",
       "      <td>0.0</td>\n",
       "      <td>0.0</td>\n",
       "      <td>0.0</td>\n",
       "      <td>0.0</td>\n",
       "      <td>0.0</td>\n",
       "      <td>0.0</td>\n",
       "      <td>0.0</td>\n",
       "      <td>0.0</td>\n",
       "      <td>0.0</td>\n",
       "      <td>0.0</td>\n",
       "      <td>0.0</td>\n",
       "      <td>0.0</td>\n",
       "      <td>0.0</td>\n",
       "      <td>0.0</td>\n",
       "      <td>0.0</td>\n",
       "      <td>0.0</td>\n",
       "      <td>0.0</td>\n",
       "      <td>0.0</td>\n",
       "      <td>0.0</td>\n",
       "      <td>0.0</td>\n",
       "      <td>0.0</td>\n",
       "      <td>0.0</td>\n",
       "      <td>0.0</td>\n",
       "      <td>0.0</td>\n",
       "      <td>0.0</td>\n",
       "      <td>0.0</td>\n",
       "      <td>0.0</td>\n",
       "      <td>0.0</td>\n",
       "      <td>0.0</td>\n",
       "      <td>0.0</td>\n",
       "      <td>0.0</td>\n",
       "      <td>0.0</td>\n",
       "      <td>0.0</td>\n",
       "      <td>0.0</td>\n",
       "    </tr>\n",
       "  </tbody>\n",
       "</table>\n",
       "</div>"
      ],
      "text/plain": [
       "         kata  urut_kata  total_kata  brand_ADI  brand_ADS  brand_AGL  \\\n",
       "16829  SESOYE        5.0         6.0        1.0        0.0        0.0   \n",
       "5081    GHOST        1.0         4.0        1.0        0.0        0.0   \n",
       "\n",
       "       brand_AND  brand_ASC  brand_BAL  brand_BBC  brand_BEA  brand_CAO  \\\n",
       "16829        0.0        0.0        0.0        0.0        0.0        0.0   \n",
       "5081         0.0        0.0        0.0        0.0        0.0        0.0   \n",
       "\n",
       "       brand_CIT  brand_CRP  brand_DOM  brand_FIS  brand_GUE  brand_HER  \\\n",
       "16829        0.0        0.0        0.0        0.0        0.0        0.0   \n",
       "5081         0.0        0.0        0.0        0.0        0.0        0.0   \n",
       "\n",
       "       brand_JAS  brand_KIP  brand_NEW  brand_NFA  brand_NFC  brand_NFL  \\\n",
       "16829        0.0        0.0        0.0        0.0        0.0        0.0   \n",
       "5081         0.0        0.0        0.0        0.0        0.0        0.0   \n",
       "\n",
       "       brand_NIB  brand_NIC  brand_NIK  brand_NPS  brand_ODD  brand_PBY  \\\n",
       "16829        0.0        0.0        0.0        0.0        0.0        0.0   \n",
       "5081         0.0        0.0        0.0        0.0        0.0        0.0   \n",
       "\n",
       "       brand_PSB  brand_PTG  brand_PUM  brand_REL  brand_SAU  brand_SOC  \\\n",
       "16829        0.0        0.0        0.0        0.0        0.0        0.0   \n",
       "5081         0.0        0.0        0.0        0.0        0.0        0.0   \n",
       "\n",
       "       brand_STN  brand_UME  brand_VAP  brand_WAR  \n",
       "16829        0.0        0.0        0.0        0.0  \n",
       "5081         0.0        0.0        0.0        0.0  "
      ]
     },
     "metadata": {},
     "output_type": "display_data"
    },
    {
     "name": "stdout",
     "output_type": "stream",
     "text": [
      "2 label pertama di test_target (mnb & non-mnb, sama):\n",
      "[1, 0]\n",
      "\n",
      "Distribusi label (target) di train: \n",
      "[[    0 27355]\n",
      " [    1 18045]]\n",
      "\n",
      "Distribusi label (target) di test: \n",
      "[[   0 6819]\n",
      " [   1 4532]]\n",
      "\n",
      "Dimana label 0 = bukan warna dan label 1 = warna\n"
     ]
    }
   ],
   "source": [
    "# Eksplorasi contoh hasil split train dan test\n",
    "train_target_unik, train_target_hitung = np.unique(train_target_mnb, return_counts=True)\n",
    "test_target_unik, test_target_hitung = np.unique(test_target_mnb, return_counts=True)\n",
    "print(f'2 data pertama di train_data_mnb:\\n{train_data_mnb.iloc[:2, 0].tolist()}\\n') # :2 menampilkan 2 data pertama, :1 hanya menampilkan kata\n",
    "print(f'2 data pertama di train_data:')\n",
    "with pd.option_context('display.max_columns', None):\n",
    "    display(train_data[:2])\n",
    "print(f'\\n2 label pertama di train_target (mnb & non-mnb, sama):\\n{train_target[:2].tolist()}\\n') \n",
    "print(f'2 data pertama di test_data_mnb:\\n{test_data_mnb.iloc[:2, 0].tolist()}\\n') # :2 menampilkan 2 data pertama, :1 hanya menampilkan kata\n",
    "print(f'2 data pertama di test_data:')\n",
    "with pd.option_context('display.max_columns', None):\n",
    "    display(test_data[:2])\n",
    "print(f'2 label pertama di test_target (mnb & non-mnb, sama):\\n{test_target[:2].tolist()}\\n')\n",
    "train_target_distribusi = np.column_stack((train_target_unik, train_target_hitung))\n",
    "test_target_distribusi = np.column_stack((test_target_unik, test_target_hitung))\n",
    "print(f'Distribusi label (target) di train: \\n{train_target_distribusi}\\n')\n",
    "print(f'Distribusi label (target) di test: \\n{test_target_distribusi}\\n')\n",
    "print('Dimana label 0 = bukan warna dan label 1 = warna')"
   ]
  },
  {
   "cell_type": "markdown",
   "metadata": {},
   "source": [
    "## Model 0: Model Dasar\n",
    "\n",
    "Model pertama yang akan kita buat adalah model *Multinomial Naive-Bayes* yang akan mengkategorisasikan *input* ke dalam kategori *output*. *Multinomial Naive-Bayes* adalah sebuah algoritma dengan metode *supervised learning* yang paling umum digunakan dalam pengkategorisasian data tekstual.\n",
    "Pada dasarnya *Naive-Bayes* merupakan algoritma yang menghitung probabilitas dari sebuah event (*output*) berdasarkan probabilitas akumulatif kejadian dari event sebelumnya. Secara singkat algoritma ini akan mempelajari berapa probabilitas dari sebuah kata, misalkan 'ADISSAGE' adalah sebuah label `bukan_warna` berdasarkan probabilitas kejadian 'ADISSAGE' adalah `bukan_warna` pada event - event sebelumnya.\n",
    "\n",
    "Formula dari probabilitias algoritma *Naive-Bayes*:\n",
    "\n",
    "$P(A|B) = \\frac{P(A) * P(B|A)}{P(B)}$\n",
    "\n",
    "Sebelum melakukan training menggunakan algoritma *Multinomial Naive-Bayes* kita perlu untuk merubah data kata menjadi bentuk numerik yang kali ini akan dikonversi menggunakan metode TF-IDF (*Term Frequency-Inverse Document Frequency*). TF-IDF sendiri merupakan metode yang akan berusaha memvaluasi nilai relevansi dan frekuensi dari sebuah kata dalam sekumpulan dokumen. *Term Frequency* merujuk pada seberapa sering sebuah kata muncul dalam 1 dokumen, sedangkan *Inverse Document Frequency* adalah perhitungan logaritma dari jumlah seluruh dokumen dibagi dengan jumlah dokumen dengan kata yang dimaksud terdapat di dalamnya. Hasil perhitungan dari TF dan IDF ini akan dikalikan untuk mendapatkan nilai dari seberapa sering dan seberapa relevan nilai dari sebuah kata. Misalkan 'ADISSAGE' sering muncul dalam 1 dokumen tapi tidak terlalu banyak muncul di dokumen - dokumen lainnya, maka hal ini dapat mengindikasikan bahwa kata 'ADISSAGE' mungkin memiliki relevansi yang tinggi dalam kategorisasi sebuah dokumen, sebaliknya jika kata 'WHITE' sering muncul di 1 dokumen dan juga sering muncul di dokumen - dokumen lainnya, maka kata 'WHITE' ini mungkin merupakan sebuah kata yang umum dan memiliki nilai relevansi yang rendah dalam pengkategorisasian sebuah dokumen.\n",
    "\n",
    "Untuk lebih lengkapnya mengenai *Naive-Bayes* dan TF-IDF dapat merujuk pada sumber berikut:\n",
    "\n",
    "* https://towardsdatascience.com/naive-bayes-classifier-81d512f50a7c\n",
    "* https://monkeylearn.com/blog/what-is-tf-idf/\n"
   ]
  },
  {
   "cell_type": "code",
   "execution_count": 66,
   "metadata": {},
   "outputs": [
    {
     "data": {
      "text/html": [
       "<style>#sk-container-id-2 {color: black;background-color: white;}#sk-container-id-2 pre{padding: 0;}#sk-container-id-2 div.sk-toggleable {background-color: white;}#sk-container-id-2 label.sk-toggleable__label {cursor: pointer;display: block;width: 100%;margin-bottom: 0;padding: 0.3em;box-sizing: border-box;text-align: center;}#sk-container-id-2 label.sk-toggleable__label-arrow:before {content: \"▸\";float: left;margin-right: 0.25em;color: #696969;}#sk-container-id-2 label.sk-toggleable__label-arrow:hover:before {color: black;}#sk-container-id-2 div.sk-estimator:hover label.sk-toggleable__label-arrow:before {color: black;}#sk-container-id-2 div.sk-toggleable__content {max-height: 0;max-width: 0;overflow: hidden;text-align: left;background-color: #f0f8ff;}#sk-container-id-2 div.sk-toggleable__content pre {margin: 0.2em;color: black;border-radius: 0.25em;background-color: #f0f8ff;}#sk-container-id-2 input.sk-toggleable__control:checked~div.sk-toggleable__content {max-height: 200px;max-width: 100%;overflow: auto;}#sk-container-id-2 input.sk-toggleable__control:checked~label.sk-toggleable__label-arrow:before {content: \"▾\";}#sk-container-id-2 div.sk-estimator input.sk-toggleable__control:checked~label.sk-toggleable__label {background-color: #d4ebff;}#sk-container-id-2 div.sk-label input.sk-toggleable__control:checked~label.sk-toggleable__label {background-color: #d4ebff;}#sk-container-id-2 input.sk-hidden--visually {border: 0;clip: rect(1px 1px 1px 1px);clip: rect(1px, 1px, 1px, 1px);height: 1px;margin: -1px;overflow: hidden;padding: 0;position: absolute;width: 1px;}#sk-container-id-2 div.sk-estimator {font-family: monospace;background-color: #f0f8ff;border: 1px dotted black;border-radius: 0.25em;box-sizing: border-box;margin-bottom: 0.5em;}#sk-container-id-2 div.sk-estimator:hover {background-color: #d4ebff;}#sk-container-id-2 div.sk-parallel-item::after {content: \"\";width: 100%;border-bottom: 1px solid gray;flex-grow: 1;}#sk-container-id-2 div.sk-label:hover label.sk-toggleable__label {background-color: #d4ebff;}#sk-container-id-2 div.sk-serial::before {content: \"\";position: absolute;border-left: 1px solid gray;box-sizing: border-box;top: 0;bottom: 0;left: 50%;z-index: 0;}#sk-container-id-2 div.sk-serial {display: flex;flex-direction: column;align-items: center;background-color: white;padding-right: 0.2em;padding-left: 0.2em;position: relative;}#sk-container-id-2 div.sk-item {position: relative;z-index: 1;}#sk-container-id-2 div.sk-parallel {display: flex;align-items: stretch;justify-content: center;background-color: white;position: relative;}#sk-container-id-2 div.sk-item::before, #sk-container-id-2 div.sk-parallel-item::before {content: \"\";position: absolute;border-left: 1px solid gray;box-sizing: border-box;top: 0;bottom: 0;left: 50%;z-index: -1;}#sk-container-id-2 div.sk-parallel-item {display: flex;flex-direction: column;z-index: 1;position: relative;background-color: white;}#sk-container-id-2 div.sk-parallel-item:first-child::after {align-self: flex-end;width: 50%;}#sk-container-id-2 div.sk-parallel-item:last-child::after {align-self: flex-start;width: 50%;}#sk-container-id-2 div.sk-parallel-item:only-child::after {width: 0;}#sk-container-id-2 div.sk-dashed-wrapped {border: 1px dashed gray;margin: 0 0.4em 0.5em 0.4em;box-sizing: border-box;padding-bottom: 0.4em;background-color: white;}#sk-container-id-2 div.sk-label label {font-family: monospace;font-weight: bold;display: inline-block;line-height: 1.2em;}#sk-container-id-2 div.sk-label-container {text-align: center;}#sk-container-id-2 div.sk-container {/* jupyter's `normalize.less` sets `[hidden] { display: none; }` but bootstrap.min.css set `[hidden] { display: none !important; }` so we also need the `!important` here to be able to override the default hidden behavior on the sphinx rendered scikit-learn.org. See: https://github.com/scikit-learn/scikit-learn/issues/21755 */display: inline-block !important;position: relative;}#sk-container-id-2 div.sk-text-repr-fallback {display: none;}</style><div id=\"sk-container-id-2\" class=\"sk-top-container\"><div class=\"sk-text-repr-fallback\"><pre>Pipeline(steps=[(&#x27;tf-idf&#x27;, TfidfVectorizer()), (&#x27;clf&#x27;, MultinomialNB())])</pre><b>In a Jupyter environment, please rerun this cell to show the HTML representation or trust the notebook. <br />On GitHub, the HTML representation is unable to render, please try loading this page with nbviewer.org.</b></div><div class=\"sk-container\" hidden><div class=\"sk-item sk-dashed-wrapped\"><div class=\"sk-label-container\"><div class=\"sk-label sk-toggleable\"><input class=\"sk-toggleable__control sk-hidden--visually\" id=\"sk-estimator-id-4\" type=\"checkbox\" ><label for=\"sk-estimator-id-4\" class=\"sk-toggleable__label sk-toggleable__label-arrow\">Pipeline</label><div class=\"sk-toggleable__content\"><pre>Pipeline(steps=[(&#x27;tf-idf&#x27;, TfidfVectorizer()), (&#x27;clf&#x27;, MultinomialNB())])</pre></div></div></div><div class=\"sk-serial\"><div class=\"sk-item\"><div class=\"sk-estimator sk-toggleable\"><input class=\"sk-toggleable__control sk-hidden--visually\" id=\"sk-estimator-id-5\" type=\"checkbox\" ><label for=\"sk-estimator-id-5\" class=\"sk-toggleable__label sk-toggleable__label-arrow\">TfidfVectorizer</label><div class=\"sk-toggleable__content\"><pre>TfidfVectorizer()</pre></div></div></div><div class=\"sk-item\"><div class=\"sk-estimator sk-toggleable\"><input class=\"sk-toggleable__control sk-hidden--visually\" id=\"sk-estimator-id-6\" type=\"checkbox\" ><label for=\"sk-estimator-id-6\" class=\"sk-toggleable__label sk-toggleable__label-arrow\">MultinomialNB</label><div class=\"sk-toggleable__content\"><pre>MultinomialNB()</pre></div></div></div></div></div></div></div>"
      ],
      "text/plain": [
       "Pipeline(steps=[('tf-idf', TfidfVectorizer()), ('clf', MultinomialNB())])"
      ]
     },
     "execution_count": 66,
     "metadata": {},
     "output_type": "execute_result"
    }
   ],
   "source": [
    "# Membuat pipeline untuk mengubah kata ke dalam tf-idf\n",
    "model_0 = Pipeline([\n",
    "    (\"tf-idf\", TfidfVectorizer()),\n",
    "    (\"clf\", MultinomialNB())\n",
    "])\n",
    "\n",
    "# Fit pipeline dengan data training\n",
    "model_0.fit(X=np.squeeze(train_data_mnb.iloc[:, 0]), y=train_target_mnb)"
   ]
  },
  {
   "cell_type": "code",
   "execution_count": 67,
   "metadata": {},
   "outputs": [
    {
     "data": {
      "text/plain": [
       "0.9921592811206061"
      ]
     },
     "execution_count": 67,
     "metadata": {},
     "output_type": "execute_result"
    }
   ],
   "source": [
    "# Evaluasi model_0 pada data test\n",
    "skor_model_0 = model_0.score(X=np.squeeze(test_data_mnb.iloc[:, 0]), y=test_target_mnb)\n",
    "skor_model_0"
   ]
  },
  {
   "cell_type": "markdown",
   "metadata": {},
   "source": [
    "### Eksplorasi Hasil Model 0\n",
    "Pada hasil training dengan menggunakan model algoritma *Multinomial Naive-Bayes* kita mendapatkan akurasi sebesar ~99.22%\n",
    "\n",
    "Secara sekilas model yang pertama ini (model 0) memberikan akurasi yang sangat tinggi dalam membedakan kata `warna` dan `bukan_warna`. Namun secara brand speisifik, akurasi ini mungkin akan lebih buruk karena di beberapa brand terutama 'PUM' kita dapat menjumpai artikel dengan nama misalkan 'PUMA XTG WOVEN PANTS PUMA BLACK-PUMA WHITE' dimana kata PUMA pertama adalah `bukan_warna` namun kata PUMA kedua dan ketiga adalah bagian dari `warna`.\n",
    "\n",
    "Dengan demikian, nanti kita mungkin akan mengulas lebih mendalam model pertama ini menggunakan dataset yang dipisahkan berdasar brand. Untuk sementara kita akan melanjutkan mengembangkan model - model alternatif untuk pemisahan `bukan_warna` dan `warna` dari nama artikel."
   ]
  },
  {
   "cell_type": "code",
   "execution_count": 68,
   "metadata": {},
   "outputs": [
    {
     "data": {
      "text/plain": [
       "array([1, 0, 1, ..., 0, 0, 0])"
      ]
     },
     "execution_count": 68,
     "metadata": {},
     "output_type": "execute_result"
    }
   ],
   "source": [
    "# Membuat prediksi menggunakan data test\n",
    "pred_model_0 = model_0.predict(np.squeeze(test_data_mnb.iloc[:, 0]))\n",
    "pred_model_0"
   ]
  },
  {
   "cell_type": "code",
   "execution_count": 69,
   "metadata": {},
   "outputs": [],
   "source": [
    "# Membuat fungsi dasar untuk menghitung accuray, precision, recall, f1-score\n",
    "def hitung_metrik(target, prediksi):\n",
    "    \"\"\"\n",
    "    Menghitung accuracy, precision, recall dan f1-score dari model klasifikasi biner\n",
    "    \n",
    "    Args:\n",
    "        target: label yang sebenarnya dalam bentuk 1D array\n",
    "        prediksi: label yang diprediksi dalam bentuk 1D array\n",
    "        \n",
    "    Returns:\n",
    "        nilai accuracy, precision, recall dan f1-score dalam bentuk dictionary\n",
    "    \"\"\"\n",
    "    # Menghitung akurasi model\n",
    "    model_akurasi = accuracy_score(target, prediksi)\n",
    "    # Menghitung precision, recall, f1-score dan support dari model\n",
    "    model_presisi, model_recall, model_f1, _ = precision_recall_fscore_support(target, prediksi, average='weighted')\n",
    "    \n",
    "    hasil_model = {'akurasi': model_akurasi,\n",
    "                   'presisi': model_presisi,\n",
    "                   'recall': model_recall,\n",
    "                   'f1-score': model_f1}\n",
    "    \n",
    "    return hasil_model"
   ]
  },
  {
   "cell_type": "code",
   "execution_count": 70,
   "metadata": {},
   "outputs": [
    {
     "data": {
      "text/plain": [
       "{'akurasi': 0.9921592811206061,\n",
       " 'presisi': 0.9921602131872556,\n",
       " 'recall': 0.9921592811206061,\n",
       " 'f1-score': 0.9921562044603152}"
      ]
     },
     "execution_count": 70,
     "metadata": {},
     "output_type": "execute_result"
    }
   ],
   "source": [
    "# Menghitung metrik dari model_0\n",
    "model_0_metrik = hitung_metrik(target=test_target_mnb, \n",
    "                               prediksi=pred_model_0)\n",
    "model_0_metrik"
   ]
  },
  {
   "cell_type": "markdown",
   "metadata": {},
   "source": [
    "**Akurasi** merupakan metrik yang menghitung jumlah prediksi yang benar dibanding total jumlah label yang dijadikan evaluasi (test data, bukan training data).\n",
    "\n",
    "$\\frac{\\text{prediksi benar}}{\\text{total prediksi}}$\n",
    "\n",
    "**Presisi** merupakan metrik yang menghitung *true positive* berbanding dengan *true positive* dan *false positive*\n",
    "\n",
    "$\\frac{\\text{true positive}}{\\text{true positive } + \\text{ false positive}}$\n",
    "\n",
    "**Recall** merupakan metrik yang menghitung *true positive* berbanding dengan *true positive* dan *false negative*\n",
    "\n",
    "$\\frac{\\text{true positive}}{\\text{true positive } + \\text{ false negative}}$\n",
    "\n",
    "**f1-score** merupakan metrik yang mengabungkan presisi dan recall\n",
    "\n",
    "$2 * \\frac{\\text{presisi } * \\text{ recall}}{\\text{presisi } + \\text{ recall}}$\n",
    "\n",
    "Dimana:\n",
    "\n",
    "* True Positive (TP): Prediksi `warna` pada target label `warna`\n",
    "* False Positive (FP): Prediksi `warna` pada target label `bukan_warna`\n",
    "* True Negative (TN): Prediksi `bukan_warna` pada target label `bukan_warna`\n",
    "* False Negative (FN): Prediksi `bukan_warna` pada target label `warna`"
   ]
  },
  {
   "cell_type": "code",
   "execution_count": 71,
   "metadata": {},
   "outputs": [],
   "source": [
    "# Membuat confusion matrix untuk prediksi model_0\n",
    "# cf_matrix = confusion_matrix(test_target_mnb, pred_model_0)\n",
    "\n",
    "# Menampilkan confusion matrix menggunakan seaborn\n",
    "# ax = sns.heatmap(cf_matrix, annot=True, fmt='d', cmap='Blues')\n",
    "\n",
    "# ax.set_title(f'Confusion Matrix Model 0 - Akurasi {skor_model_0:.2%}')\n",
    "# ax.set_xlabel('Prediksi')\n",
    "# ax.set_ylabel('Label')\n",
    "\n",
    "# label tick\n",
    "# ax.xaxis.set_ticklabels(['bukan_warna', 'warna'])\n",
    "# ax.yaxis.set_ticklabels(['bukan_warna', 'warna'])\n",
    "\n",
    "# Tampilkan\n",
    "# plt.show()\n",
    "\n",
    "\"\"\"\n",
    "Merubah confusion matrix ke dalam fungsi\n",
    "\"\"\"\n",
    "def plot_conf_matrix(target_label, \n",
    "                     prediksi_label, \n",
    "                     nama_model,\n",
    "                     akurasi, \n",
    "                     label_titik_x, \n",
    "                     label_titik_y):\n",
    "    \"\"\"\n",
    "    Fungsi ini akan menampilkan matrix confusion untuk perbandingan\n",
    "    target label dan prediksi label dan memahami seberapa kesulitan\n",
    "    sebuah model melakukan prediksi\n",
    "    \n",
    "    Args:\n",
    "        target_label (list atau 1D-array): label yang sebenarnya dalam bentuk 1D array\n",
    "        prediksi_label (list atau 1D-array): label yang diprediksi dalam bentuk 1D array\n",
    "        akurasi (float): akurasi model dalam bentuk float\n",
    "        label_titik_x dan label_titik_y, keduanya merupakan list dari sekumpulan\n",
    "        string dan harus dalam vector shape yang sama\n",
    "        label_titik_x (list str): label untuk x-axis dalam bentuk list\n",
    "        label_titik_y (list str): label untuk y-axis dalam bentuk list\n",
    "        \n",
    "    Returns:\n",
    "        plot_confusion_matrix\n",
    "    \"\"\"\n",
    "    # Membuat confusion matrix\n",
    "    cf_matrix = confusion_matrix(target_label,\n",
    "                                 prediksi_label)\n",
    "    # Pengaturan confusion_matrix menggunakan seaborn\n",
    "    plot_confusion_matrix = sns.heatmap(cf_matrix, annot=True, fmt='d', cmap='Blues')\n",
    "    plot_confusion_matrix.set_title(f'Confusion Matrix\\n{nama_model}\\nAkurasi {akurasi:.2%}', fontsize=18)\n",
    "    plot_confusion_matrix.set_xlabel('Prediksi Label')\n",
    "    plot_confusion_matrix.set_ylabel('Target Label')\n",
    "    plot_confusion_matrix.xaxis.set_ticklabels(label_titik_x)\n",
    "    plot_confusion_matrix.yaxis.set_ticklabels(label_titik_y)\n",
    "    \n",
    "    return plt.show()"
   ]
  },
  {
   "cell_type": "code",
   "execution_count": 72,
   "metadata": {},
   "outputs": [
    {
     "data": {
      "image/png": "[encoded data removed]",
      "text/plain": [
       "<Figure size 432x288 with 2 Axes>"
      ]
     },
     "metadata": {},
     "output_type": "display_data"
    }
   ],
   "source": [
    "# Menampilkan confusion matrix untuk model_0\n",
    "plot_conf_matrix(target_label=test_target_mnb,\n",
    "                 prediksi_label=pred_model_0,\n",
    "                 nama_model='Model 0 Multinomial Naive Bayes',\n",
    "                 akurasi=model_0_metrik['akurasi'],\n",
    "                 label_titik_x=['bukan_warna', 'warna'],\n",
    "                 label_titik_y=['bukan_warna', 'warna'])"
   ]
  },
  {
   "cell_type": "markdown",
   "metadata": {},
   "source": [
    "Pada tabel *Confusion Matrix* di atas kita dapat melihat bahwa Model 0 berhasil memprediksi secara tepat 6,785 kata dengan label `bukan_warna` dan 4,477 kata dengan label `warna`.\n",
    "\n",
    "Terdapat setidaknya 55 kata yang merupakan `warna` namun diprediksi oleh Model 0 sebagai `bukan_warna` dan 34 kata yang merupakan `bukan_warna` namun diprediksi oleh Model 0 sebagai `warna`"
   ]
  },
  {
   "cell_type": "code",
   "execution_count": 73,
   "metadata": {},
   "outputs": [],
   "source": [
    "# Membuat fungsi untuk menampilkan kesalahan model dalam dataframe\n",
    "def df_kesalahan_prediksi(label_encoder, \n",
    "                          test_data, \n",
    "                          prediksi, \n",
    "                          probabilitas_prediksi=None, \n",
    "                          order_ulang_header=None):\n",
    "    \"\"\"\n",
    "    (penting) Fungsi ini akan menerima objek label encoder sklearn, set test_data\n",
    "    (penting) sebelum modifikasi encoding fitur dan label, prediksi dari model\n",
    "    (penting) serta urutan order_ulang_header jika diperlukan\n",
    "    \n",
    "    Args:\n",
    "        label_encoder (obyek LabelEncoder sklear.preprocessing): obyek label encoder dari sklearn.preprocessing\n",
    "        test_data (pd.DataFrame): dataframe lengkap sebelum modifikasi fitur dan label\n",
    "        prediksi (tf.Tensor): tensor dengan shape 1 dimensi yang memuat prediksi model\n",
    "        order_ulang_header (list): list dengan urutan header yang diinginkan\n",
    "        \n",
    "    Returns:\n",
    "        pd.DataFrame yang diprint dengan format markdown\n",
    "    \"\"\"\n",
    "    inverse_label_encoder = list(label_encoder.inverse_transform([0, 1]))\n",
    "    \n",
    "    if order_ulang_header is None:\n",
    "        data_final = pd.DataFrame(test_data)\n",
    "    elif type(order_ulang_header) is list:\n",
    "        data_final = pd.DataFrame(test_data)[order_ulang_header]\n",
    "    else:\n",
    "        raise TypeError('order_ulang_header harus berupa list')\n",
    "    \n",
    "    kolom_pred = pd.DataFrame(np.int8(prediksi), columns=['prediksi'])\n",
    "    kolom_prob_pred = pd.DataFrame(probabilitas_prediksi, columns=['probabilitas']) * 100\n",
    "    data_final['prediksi'] = kolom_pred.iloc[:, 0].tolist()\n",
    "    if probabilitas_prediksi is not None:\n",
    "        data_final['probabilitas'] = kolom_prob_pred.iloc[:, 0].tolist()\n",
    "        data_final['probabilitas'] = data_final['probabilitas'].round(2).astype(str) + '%'\n",
    "    data_final['prediksi'] = data_final['prediksi'].astype(int).map(lambda x: inverse_label_encoder[x])\n",
    "    data_final = data_final.loc[data_final['label'] != data_final['prediksi']]\n",
    "    with pd.option_context('display.max_rows', None):\n",
    "        print(data_final.to_markdown())"
   ]
  },
  {
   "cell_type": "code",
   "execution_count": 74,
   "metadata": {},
   "outputs": [
    {
     "name": "stdout",
     "output_type": "stream",
     "text": [
      "|       | brand   | kata        |   urut_kata |   total_kata | label       | prediksi    |\n",
      "|------:|:--------|:------------|------------:|-------------:|:------------|:------------|\n",
      "| 55259 | STN     | AQUA        |           3 |            3 | warna       | bukan_warna |\n",
      "|    12 | ADI     | BASKETBALL  |           5 |            6 | warna       | bukan_warna |\n",
      "| 23355 | NIC     | 7           |          11 |           11 | warna       | bukan_warna |\n",
      "| 56444 | WAR     | OREO        |           2 |            3 | warna       | bukan_warna |\n",
      "| 46960 | NIK     | FTR10PURE   |           2 |            7 | warna       | bukan_warna |\n",
      "| 13918 | ADI     | CARDBOARD   |           2 |            2 | warna       | bukan_warna |\n",
      "|  8735 | ADI     | FULL        |           1 |            3 | bukan_warna | warna       |\n",
      "| 31091 | NIK     | VIALEBLACK  |           2 |            4 | warna       | bukan_warna |\n",
      "| 51267 | PUM     | TRACE       |           2 |            7 | bukan_warna | warna       |\n",
      "|  5964 | ADI     | CLOUD       |           2 |            3 | warna       | bukan_warna |\n",
      "| 36008 | NIK     | SIGNAL      |           2 |           11 | bukan_warna | warna       |\n",
      "|   808 | ADI     | LEGIVY      |           6 |            6 | warna       | bukan_warna |\n",
      "| 19560 | BBC     | WOODLAND    |           1 |            6 | bukan_warna | warna       |\n",
      "| 56083 | WAR     | GLOW        |           2 |            6 | bukan_warna | warna       |\n",
      "| 18933 | BBC     | FULL        |           1 |            8 | bukan_warna | warna       |\n",
      "| 55981 | STN     | OATMEAL     |           2 |            2 | warna       | bukan_warna |\n",
      "| 33831 | NIK     | EXPX14WHITE |           2 |            4 | warna       | bukan_warna |\n",
      "| 48650 | PUM     | CORE        |           2 |            6 | bukan_warna | warna       |\n",
      "| 56746 | WAR     | PAISLEY     |           2 |            4 | warna       | bukan_warna |\n",
      "|  1405 | ADI     | PK          |           2 |            4 | warna       | bukan_warna |\n",
      "| 56116 | WAR     | FULL        |           1 |            6 | bukan_warna | warna       |\n",
      "| 56086 | WAR     | GLOW        |           2 |            6 | bukan_warna | warna       |\n",
      "| 17275 | AGL     | 5           |           5 |            6 | warna       | bukan_warna |\n",
      "| 52109 | PUM     | GLOW        |           3 |            7 | bukan_warna | warna       |\n",
      "| 26752 | NIK     | PEELORANGE  |           6 |            7 | warna       | bukan_warna |\n",
      "| 55804 | STN     | VOLT        |           2 |            2 | warna       | bukan_warna |\n",
      "| 12023 | ADI     | LEGEND      |           2 |            3 | warna       | bukan_warna |\n",
      "|  8962 | ADI     | CORE        |           2 |            4 | bukan_warna | warna       |\n",
      "|  1039 | ADI     | TESIME      |           6 |            6 | warna       | bukan_warna |\n",
      "|  8759 | ADI     | ACTIVE      |           3 |            7 | warna       | bukan_warna |\n",
      "| 52114 | PUM     | GLOW        |           3 |            8 | bukan_warna | warna       |\n",
      "| 13740 | ADI     | MAROON      |           2 |            2 | warna       | bukan_warna |\n",
      "| 10573 | ADI     | METAL       |           2 |            3 | warna       | bukan_warna |\n",
      "| 56484 | WAR     | NEON        |           2 |            5 | warna       | bukan_warna |\n",
      "| 46940 | NIK     | REACTBRIGHT |           2 |            7 | warna       | bukan_warna |\n",
      "| 15761 | ADI     | ALUMINA     |           3 |            3 | warna       | bukan_warna |\n",
      "| 48805 | PUM     | CORE        |           2 |            7 | bukan_warna | warna       |\n",
      "|  2197 | ADI     | EASGRN      |           7 |            7 | warna       | bukan_warna |\n",
      "|  1403 | ADI     | F17         |           4 |            4 | warna       | bukan_warna |\n",
      "|  2592 | ADI     | ICEPUR      |           2 |            4 | warna       | bukan_warna |\n",
      "|  7372 | ADI     | SGREEN      |           2 |            4 | warna       | bukan_warna |\n",
      "| 10336 | ADI     | MAROON      |           2 |            2 | warna       | bukan_warna |\n",
      "| 15466 | ADI     | SAVANNAH    |           2 |            2 | warna       | bukan_warna |\n",
      "| 54951 | SAU     | TAN         |           2 |            3 | warna       | bukan_warna |\n",
      "| 22780 | KIP     | SHADOW      |           2 |            4 | warna       | bukan_warna |\n",
      "| 56226 | WAR     | ORANGE      |           2 |            5 | bukan_warna | warna       |\n",
      "| 56112 | WAR     | RED         |           1 |            7 | bukan_warna | warna       |\n",
      "| 17198 | AGL     | YELLOW      |           2 |            5 | bukan_warna | warna       |\n",
      "| 50395 | PUM     | PUMA        |           2 |            5 | warna       | bukan_warna |\n",
      "| 32998 | NIK     | 23          |          10 |           11 | warna       | bukan_warna |\n",
      "| 48075 | PTG     | ORANGE      |           2 |            3 | bukan_warna | warna       |\n",
      "| 54953 | SAU     | BRN         |           2 |            3 | warna       | bukan_warna |\n",
      "| 19265 | BBC     | DARK        |           2 |            6 | bukan_warna | warna       |\n",
      "| 56661 | WAR     | THE         |           2 |            5 | warna       | bukan_warna |\n",
      "|  4222 | ADI     | SESAME      |           5 |            7 | warna       | bukan_warna |\n",
      "| 52841 | PUM     | CORE        |           1 |            7 | bukan_warna | warna       |\n",
      "|  8968 | ADI     | CORE        |           2 |            4 | bukan_warna | warna       |\n",
      "|  1407 | ADI     | CARGO       |           4 |            4 | warna       | bukan_warna |\n",
      "|  7274 | ADI     | SESAME      |           2 |            4 | warna       | bukan_warna |\n",
      "|  3490 | ADI     | SHOCK       |           2 |            3 | warna       | bukan_warna |\n",
      "| 21685 | HER     | NIGHT       |           2 |            3 | warna       | bukan_warna |\n",
      "| 18208 | BBC     | CLEAR       |           2 |            8 | bukan_warna | warna       |\n",
      "| 14727 | ADI     | LEGEND      |           2 |            3 | warna       | bukan_warna |\n",
      "| 33814 | NIK     | EXPZ07WHITE |           2 |            3 | warna       | bukan_warna |\n",
      "| 30639 | NIK     | 35          |           5 |           11 | bukan_warna | warna       |\n",
      "| 21386 | HER     | BRBDSCHRY   |           2 |            3 | warna       | bukan_warna |\n",
      "|  8965 | ADI     | CORE        |           2 |            4 | bukan_warna | warna       |\n",
      "| 16112 | ADI     | VAPOUR      |           2 |            3 | warna       | bukan_warna |\n",
      "| 11545 | ADI     | ACTIVE      |           3 |            4 | warna       | bukan_warna |\n",
      "|  4659 | ADI     | BOAQUA      |           2 |            4 | warna       | bukan_warna |\n",
      "| 21982 | HER     | FLORAL      |           2 |            3 | warna       | bukan_warna |\n",
      "| 21091 | HER     | 600D        |           3 |            6 | bukan_warna | warna       |\n",
      "| 17520 | AGL     | BROWN       |           1 |            4 | bukan_warna | warna       |\n",
      "| 10328 | ADI     | ACTIVE      |           2 |            3 | warna       | bukan_warna |\n",
      "| 48153 | PTG     | DOVE        |           2 |            3 | bukan_warna | warna       |\n",
      "| 19643 | BEA     | 35          |           2 |            3 | bukan_warna | warna       |\n",
      "| 16288 | ADI     | BLK         |           2 |            5 | bukan_warna | warna       |\n",
      "| 21174 | HER     | RED         |           4 |            8 | bukan_warna | warna       |\n",
      "| 30654 | NIK     | 35          |           5 |           10 | bukan_warna | warna       |\n",
      "| 29098 | NIK     | 8ASHEN      |           3 |            6 | warna       | bukan_warna |\n",
      "| 53459 | PUM     | GLOW        |           1 |            5 | bukan_warna | warna       |\n",
      "| 55759 | STN     | RASTA       |           2 |            2 | warna       | bukan_warna |\n",
      "| 18940 | BBC     | FULL        |           1 |            8 | bukan_warna | warna       |\n",
      "|   656 | ADI     | BGREEN      |           7 |            7 | warna       | bukan_warna |\n",
      "| 54972 | SAU     | VINTAGE     |           2 |            5 | bukan_warna | warna       |\n",
      "|  6532 | ADI     | SESAME      |           6 |            7 | warna       | bukan_warna |\n",
      "| 25371 | NIK     | 23          |           6 |            6 | warna       | bukan_warna |\n",
      "| 24154 | NIK     | CORE        |           2 |            6 | bukan_warna | warna       |\n",
      "| 31572 | NIK     | LIGHTCARBON |           4 |            6 | warna       | bukan_warna |\n"
     ]
    }
   ],
   "source": [
    "# Menampilkan kesalahan prediksi \n",
    "df_kesalahan_prediksi(label_encoder=label_encoder,\n",
    "                      test_data=test_data_mnb,\n",
    "                      prediksi=pred_model_0,\n",
    "                      order_ulang_header=['brand', \n",
    "                                          'kata', \n",
    "                                          'urut_kata', \n",
    "                                          'total_kata', \n",
    "                                          'label'])"
   ]
  },
  {
   "cell_type": "markdown",
   "metadata": {},
   "source": [
    "## Model 1: Conv1D dengan Embedding\n",
    "\n",
    "`Conv1D` atau *1-dimension convolution* merupakan satu jenis layer dari layer convolution yang umumnya digunakan untuk mengekstrak fitur penting dari input data.\n",
    "\n",
    "Meskipun umumnya jaringan saraf tiruan *convolution* digunakan untuk klasifikasi gambar (`Conv2D`) pada pembelajaran *image recognition*, tidak jarang juga `Conv1D` dipergunakan dalam *natural language processing* atau *time series forecasting*.\n",
    "\n",
    "Layer ini pada prinsipnya menggunakan *kernel_size*, *padding* dan juga *stride* untuk menciptakan sebuah jendela yang akan men-*scan* input matrix atau vektor secara perlahan dan melakukan *pooling* (*min*, *max* atau *average pooling*) untuk mengekstrak nilai yang menjadi fitur penting dari input data.\n",
    "\n",
    "![convlayer](images/convlayer.gif)\n",
    "\n",
    "*contoh `Conv2D` pada jaringan saraf tiruan untuk klasifikasi biner/multiclass dari input gambar*\n",
    "\n",
    "Lebih lanjut mengenai jaringan saraf tiruan *convolution* (convolutional neural network) dapat merujuk pada [CNN Explainer](https://poloclub.github.io/cnn-explainer/)"
   ]
  },
  {
   "cell_type": "markdown",
   "metadata": {},
   "source": [
    "### Vektorisasi dan Embedding Kata"
   ]
  },
  {
   "cell_type": "markdown",
   "metadata": {},
   "source": [
    "#### Membuat Lapisan Vektorisasi Kata\n",
    "\n",
    "Vektorisasi sebenarnya merupakan proses yang cukup sederhana yang merubah kata menjadi representasi numerik berdasarkan total jumlah kata dalam *vocabulary* dari input data.\n",
    "\n",
    "Di lapisan vektorisasi ini sebenarnya kita melakukan beberapa proses pengolahan terhadap teks yang bersifat opsional, diantaranya:\n",
    "\n",
    "* Standarisasi kata, merubah semua kata menjadi *lowercase* dan menghilangkan tanda baca (*punctuation*)\n",
    "* Split setiap input teks menjadi per kata (untuk input yang berupa kalimat)\n",
    "* Pembentukan *ngrams* pada *corpus*. Apa itu [*ngrams*](https://en.wikipedia.org/wiki/N-gram) dan [*text corpus*](https://en.wikipedia.org/wiki/Text_corpus).\n",
    "* Indeksasi token (kata)\n",
    "* Transformasi setiap input menggunakan indeksasi token untuk menghasilkan vektor integer atau vektor angka *float*\n",
    "\n",
    "Sedangkan *embedding* adalah proses lebih lanjut setelah vektorisasi kata ke dalam representasi numerik. Pada dasarnya embedding adalah sebuah lapisan yang akan memberikan kemampuan untuk menyimpan bobot awal (*initial weight*) dan juga bobot yang nilainya akan di*update* selama proses *training* untuk kata dalam input data.\n",
    "\n",
    "Sebenarnya tujuan dari proses *embedding* adalah untuk merubah kata per kata dalam sebuah kalimat dalam satu representasi vektor dengan panjang yang sama (dalam kasus *universal sentence embedding* adalah vektor dengan panjang 512) dan merata - ratakan nilai dari kesemua vektor per kata dalam kalimat menjadi satu vektor yang digunakan sebagai acuan klasifikasi, pengelompokan (clustring) atau deteksi.\n",
    "\n",
    "Meskipun dalam kasus ColorSkim ini yang coba kita lakukan adalah melakukan klasifikasi per kata dan bukan merupakan klasifikasi per kalimat, proses *embedding* masih dapat menjadi satu faktor yang penting dalam melakukan update bobot (*weights*) untuk setiap *neuron* di dalam lapisan model yang dipergunakan melalui proses *backpropagation*.\n",
    "\n",
    "![embedding](images/embedding.png)\n",
    "\n",
    "Pada akhir proses training, bobot dari suatu kata sudah melalui beberapa ratus putaran *training* (*epoch*) dari jaringan saraf tiruan dan diharapkan sudah memiliki nilai yang lebih akurat untuk merepresentasikan keadaan (*state*) dari suatu kata terhadap kategori kata atau kalimat yang menjadi target dari proses *training*.\n",
    "\n",
    "Lebih lengkapnya dapat merujuk pada link berikut:\n",
    "\n",
    "- Lapisan Vektorisasi Teks: https://www.tensorflow.org/api_docs/python/tf/keras/layers/TextVectorization\n",
    "- Lapisan Embedding Teks: https://www.tensorflow.org/text/guide/word_embeddings"
   ]
  },
  {
   "cell_type": "code",
   "execution_count": 75,
   "metadata": {},
   "outputs": [
    {
     "name": "stdout",
     "output_type": "stream",
     "text": [
      "jumlah data: 45400\n",
      "\n"
     ]
    },
    {
     "data": {
      "text/plain": [
       "43886     GREY\n",
       "14859    BLACK\n",
       "47729        U\n",
       "Name: kata, dtype: object"
      ]
     },
     "execution_count": 75,
     "metadata": {},
     "output_type": "execute_result"
    }
   ],
   "source": [
    "# jumlah data (kata) dalam train_data\n",
    "print(f'jumlah data: {len(train_data.kata)}\\n')\n",
    "train_data.kata[:3]"
   ]
  },
  {
   "cell_type": "code",
   "execution_count": 76,
   "metadata": {},
   "outputs": [
    {
     "data": {
      "text/plain": [
       "2957"
      ]
     },
     "execution_count": 76,
     "metadata": {},
     "output_type": "execute_result"
    }
   ],
   "source": [
    "# jumlah data unik (kata unik) dalam train_data[:, 0]\n",
    "jumlah_kata_train = len(np.unique(train_data.kata))\n",
    "jumlah_kata_train"
   ]
  },
  {
   "cell_type": "code",
   "execution_count": 77,
   "metadata": {},
   "outputs": [],
   "source": [
    "# Membuat lapisan vektorisasi kata\n",
    "lapisan_vektorisasi = TextVectorization(max_tokens=jumlah_kata_train,\n",
    "                                        output_sequence_length=1,\n",
    "                                        standardize='lower_and_strip_punctuation',\n",
    "                                        name='lapisan_vektorisasi')"
   ]
  },
  {
   "cell_type": "code",
   "execution_count": 78,
   "metadata": {},
   "outputs": [],
   "source": [
    "# Mengadaptasikan lapisan vektorisasi ke dalam train_kata\n",
    "lapisan_vektorisasi.adapt(train_data.kata.tolist())"
   ]
  },
  {
   "cell_type": "code",
   "execution_count": 79,
   "metadata": {},
   "outputs": [
    {
     "name": "stdout",
     "output_type": "stream",
     "text": [
      "Kata:\n",
      "W\n",
      "\n",
      "Kata setelah vektorisasi:\n",
      "[[7]]\n"
     ]
    }
   ],
   "source": [
    "# Uji vektorisasi kata\n",
    "target_kata = random.choice(train_data.kata.tolist())\n",
    "print(f'Kata:\\n{target_kata}\\n')\n",
    "print(f'Kata setelah vektorisasi:\\n{lapisan_vektorisasi([target_kata])}')"
   ]
  },
  {
   "cell_type": "code",
   "execution_count": 80,
   "metadata": {},
   "outputs": [
    {
     "data": {
      "text/plain": [
       "{'name': 'lapisan_vektorisasi',\n",
       " 'trainable': True,\n",
       " 'batch_input_shape': (None,),\n",
       " 'dtype': 'string',\n",
       " 'max_tokens': 2957,\n",
       " 'standardize': 'lower_and_strip_punctuation',\n",
       " 'split': 'whitespace',\n",
       " 'ngrams': None,\n",
       " 'output_mode': 'int',\n",
       " 'output_sequence_length': 1,\n",
       " 'pad_to_max_tokens': False,\n",
       " 'sparse': False,\n",
       " 'ragged': False,\n",
       " 'vocabulary': None,\n",
       " 'idf_weights': None}"
      ]
     },
     "execution_count": 80,
     "metadata": {},
     "output_type": "execute_result"
    }
   ],
   "source": [
    "# konfigurasi lapisan vektorisasi\n",
    "lapisan_vektorisasi.get_config()"
   ]
  },
  {
   "cell_type": "code",
   "execution_count": 81,
   "metadata": {},
   "outputs": [
    {
     "data": {
      "text/plain": [
       "2906"
      ]
     },
     "execution_count": 81,
     "metadata": {},
     "output_type": "execute_result"
    }
   ],
   "source": [
    "# Jumlah vocabulary dalam lapisan_vektorisasi\n",
    "jumlah_vocab = lapisan_vektorisasi.get_vocabulary()\n",
    "len(jumlah_vocab)"
   ]
  },
  {
   "cell_type": "markdown",
   "metadata": {},
   "source": [
    "#### Membuat Lapisan Text Embedding"
   ]
  },
  {
   "cell_type": "code",
   "execution_count": 82,
   "metadata": {},
   "outputs": [],
   "source": [
    "# Membuat lapisan embedding kata\n",
    "lapisan_embedding = Embedding(input_dim=len(jumlah_vocab),\n",
    "                              output_dim=UKURAN_BATCH,\n",
    "                              mask_zero=True,\n",
    "                              name='lapisan_embedding')"
   ]
  },
  {
   "cell_type": "code",
   "execution_count": 83,
   "metadata": {},
   "outputs": [
    {
     "name": "stdout",
     "output_type": "stream",
     "text": [
      "Kata sebelum vektorisasi:\n",
      "W\n",
      "\n",
      "\n",
      "Kata sesudah vektorisasi (sebelum embedding):\n",
      "[[7]]\n",
      "\n",
      "\n",
      "Kata setelah embedding:\n",
      "[[[ 0.04826641  0.04744342  0.04758309  0.01740098 -0.00451798\n",
      "   -0.04291877  0.04871149  0.04380221 -0.01343428  0.03015176\n",
      "    0.03724332 -0.00747812 -0.01047798 -0.02528241  0.02254507\n",
      "    0.02520252 -0.01000432  0.00987821 -0.0252723  -0.00180843\n",
      "    0.0370873  -0.00876812 -0.021036    0.01200183  0.00164096\n",
      "    0.00349418 -0.01926162 -0.01453603  0.03866791  0.03561011\n",
      "    0.02318544  0.03624805]]]\n",
      "\n",
      "Shape dari kata setelah embedding:\n",
      "(1, 1, 32)\n"
     ]
    }
   ],
   "source": [
    "# Contoh vektorisasi dan embedding\n",
    "print(f'Kata sebelum vektorisasi:\\n{target_kata}\\n')\n",
    "kata_tervektor = lapisan_vektorisasi([target_kata])\n",
    "print(f'\\nKata sesudah vektorisasi (sebelum embedding):\\n{kata_tervektor}\\n')\n",
    "kata_terembed = lapisan_embedding(kata_tervektor)\n",
    "print(f'\\nKata setelah embedding:\\n{kata_terembed}\\n')\n",
    "print(f'Shape dari kata setelah embedding:\\n{kata_terembed.shape}')"
   ]
  },
  {
   "cell_type": "markdown",
   "metadata": {},
   "source": [
    "### Membuat TensorFlow Dataset, Batching dan Prefetching\n",
    "\n",
    "Pada bagian ini kita akan merubah data menjadi *dataset* dan menerapkan *batching* serta *prefetching* pada dataset untuk mempercepat performa *training* model.\n",
    "\n",
    "![prefetched](images/prefetched.jpg)\n",
    "\n",
    "Lihat https://www.tensorflow.org/guide/data_performance"
   ]
  },
  {
   "cell_type": "code",
   "execution_count": 84,
   "metadata": {},
   "outputs": [
    {
     "data": {
      "text/plain": [
       "(<TensorSliceDataset element_spec=(TensorSpec(shape=(), dtype=tf.string, name=None), TensorSpec(shape=(), dtype=tf.int32, name=None))>,\n",
       " <TensorSliceDataset element_spec=(TensorSpec(shape=(), dtype=tf.string, name=None), TensorSpec(shape=(), dtype=tf.int32, name=None))>)"
      ]
     },
     "execution_count": 84,
     "metadata": {},
     "output_type": "execute_result"
    }
   ],
   "source": [
    "# Membuat TensorFlow dataset\n",
    "train_kata_dataset = from_tensor_slices((train_data.iloc[:, 0], train_target))\n",
    "test_kata_dataset = from_tensor_slices((test_data.iloc[:, 0], test_target))\n",
    "\n",
    "train_kata_dataset, test_kata_dataset"
   ]
  },
  {
   "cell_type": "code",
   "execution_count": 85,
   "metadata": {},
   "outputs": [
    {
     "data": {
      "text/plain": [
       "(<BatchDataset element_spec=(TensorSpec(shape=(None,), dtype=tf.string, name=None), TensorSpec(shape=(None,), dtype=tf.int32, name=None))>,\n",
       " <BatchDataset element_spec=(TensorSpec(shape=(None,), dtype=tf.string, name=None), TensorSpec(shape=(None,), dtype=tf.int32, name=None))>)"
      ]
     },
     "execution_count": 85,
     "metadata": {},
     "output_type": "execute_result"
    }
   ],
   "source": [
    "# Membuat TensorSliceDataset menjadi prefetched dataset\n",
    "train_kata_dataset = train_kata_dataset.batch(UKURAN_BATCH).prefetch(tf.data.AUTOTUNE)\n",
    "test_kata_dataset = test_kata_dataset.batch(UKURAN_BATCH).prefetch(tf.data.AUTOTUNE)\n",
    "\n",
    "train_kata_dataset, test_kata_dataset"
   ]
  },
  {
   "cell_type": "markdown",
   "metadata": {},
   "source": [
    "### Membangun dan Menjalankan Training Model 1"
   ]
  },
  {
   "cell_type": "code",
   "execution_count": 86,
   "metadata": {},
   "outputs": [],
   "source": [
    "# Jika folder dengan path 'colorskim_checkpoint/{model.name}' sudah ada, maka skip fit model \n",
    "# untuk menghemat waktu pengembangan dan hanya load model yang sudah ada dalam folder tersebut saja\n",
    "if not os.path.isdir(f'colorskim_checkpoint/{MODEL[1]}'):\n",
    "        # set random.set_seed untuk konsistensi keacakan\n",
    "        tf.random.set_seed(RANDOM_STATE)\n",
    "\n",
    "        # * Membuat model_1 dengan layer Conv1D dan lapisan vektorisasi serta embedding input kata\n",
    "        inputs = Input(shape=(1,), \n",
    "                       dtype=tf.string, \n",
    "                       name='lapisan_input')\n",
    "        lapisan_vektor = lapisan_vektorisasi(inputs)\n",
    "        lapisan_embed = lapisan_embedding(lapisan_vektor)\n",
    "        x = Conv1D(filters=UKURAN_BATCH, \n",
    "                   kernel_size=5, \n",
    "                   padding='same', \n",
    "                   activation='relu',\n",
    "                   name='lapisan_konvolusional_1_dimensi')(lapisan_embed)\n",
    "        x = GlobalMaxPooling1D(name='lapisan_max_pool')(x)\n",
    "        outputs = Dense(units=1, \n",
    "                        activation='sigmoid', \n",
    "                        name='lapisan_output')(x)\n",
    "        model_1 = Model(inputs=inputs, \n",
    "                        outputs=outputs, \n",
    "                        name=MODEL[1])\n",
    "\n",
    "        # Compile\n",
    "        model_1.compile(loss=BinaryCrossentropy(),\n",
    "                        optimizer=Adam(),\n",
    "                        metrics=['accuracy'])\n",
    "\n",
    "        # Setup wandb init dan config\n",
    "        wb.init(project=wandb['proyek'],\n",
    "                entity=wandb['user'],\n",
    "                name=model_1.name,\n",
    "                config={'epochs': EPOCHS,\n",
    "                        'n_layers': len(model_1.layers)})\n",
    "\n",
    "        \n",
    "        # Fit model_1\n",
    "        model_1.fit(train_kata_dataset,\n",
    "                    epochs=wb.config.epochs,\n",
    "                    validation_data=test_kata_dataset,\n",
    "                    callbacks=[wandb_callback(train_kata_dataset),\n",
    "                               model_checkpoint(model_1.name),\n",
    "                               early_stopping(),\n",
    "                               reduce_lr_on_plateau()])\n",
    "        \n",
    "        # tutup logging wandb\n",
    "        wb.finish()\n",
    "        \n",
    "        # load model_1\n",
    "        model_1 = load_model(f'colorskim_checkpoint/{MODEL[1]}')\n",
    "else:\n",
    "        # load model_1\n",
    "        model_1 = load_model(f'colorskim_checkpoint/{MODEL[1]}')"
   ]
  },
  {
   "cell_type": "code",
   "execution_count": 87,
   "metadata": {},
   "outputs": [
    {
     "name": "stdout",
     "output_type": "stream",
     "text": [
      "Model: \"model_1_Conv1D_vektorisasi_embedding\"\n",
      "_________________________________________________________________\n",
      " Layer (type)                Output Shape              Param #   \n",
      "=================================================================\n",
      " lapisan_input (InputLayer)  [(None, 1)]               0         \n",
      "                                                                 \n",
      " lapisan_vektorisasi (TextVe  (None, 1)                0         \n",
      " ctorization)                                                    \n",
      "                                                                 \n",
      " lapisan_embedding (Embeddin  (None, 1, 32)            92992     \n",
      " g)                                                              \n",
      "                                                                 \n",
      " lapisan_konvolusional_1_dim  (None, 1, 32)            5152      \n",
      " ensi (Conv1D)                                                   \n",
      "                                                                 \n",
      " lapisan_max_pool (GlobalMax  (None, 32)               0         \n",
      " Pooling1D)                                                      \n",
      "                                                                 \n",
      " lapisan_output (Dense)      (None, 1)                 33        \n",
      "                                                                 \n",
      "=================================================================\n",
      "Total params: 98,177\n",
      "Trainable params: 98,177\n",
      "Non-trainable params: 0\n",
      "_________________________________________________________________\n"
     ]
    }
   ],
   "source": [
    "# Ringkasan dari model_1\n",
    "model_1.summary()"
   ]
  },
  {
   "cell_type": "code",
   "execution_count": 88,
   "metadata": {},
   "outputs": [
    {
     "data": {
      "image/png": "[encoded data removed]",
      "text/plain": [
       "<IPython.core.display.Image object>"
      ]
     },
     "execution_count": 88,
     "metadata": {},
     "output_type": "execute_result"
    }
   ],
   "source": [
    "# Plot model_1\n",
    "plot_model(model_1, show_shapes=True)"
   ]
  },
  {
   "cell_type": "markdown",
   "metadata": {},
   "source": [
    "### Eksplorasi Hasil Model 1\n",
    "\n",
    "Setelah proses *training* pada model_1 yang terhenti di epoch 14 setelah melalui beberapa kali reduksi *learning_rate* namun dengan *val_accuracy* yang tidak meningkat setelah melalui sejumlah toleransi epoch dari `EarlyStopping` *callbacks*, kita mendapatkan *val_accuracy* terakhir di 99.21%.\n",
    "Di bagian bawah kita akan melakukan beberapa evaluasi dari hasil *training* model_1:\n",
    "\n",
    "1. Evaluasi *val_loss* dan *val_accuracy* model_1\n",
    "2. Memuat model dengan *val_accuracy* terbaik selama *training* model_1 dan lakukan evaluasi\n",
    "3. Membuat contoh prediksi dengan model terbaik selama *training* model_1\n",
    "4. Hitung metrik dari model terbaik selama *training* model_1\n",
    "5. *Plot confusion matrix* dari model terbaik selama *training* model_1\n",
    "6. Tampilkan *False Negative* dan *False Positive* dari model terbaik selama *training* model_1 dalam dataframe"
   ]
  },
  {
   "cell_type": "code",
   "execution_count": 89,
   "metadata": {},
   "outputs": [
    {
     "name": "stdout",
     "output_type": "stream",
     "text": [
      "355/355 [==============================] - 12s 34ms/step - loss: 0.0289 - accuracy: 0.9921\n"
     ]
    },
    {
     "data": {
      "text/plain": [
       "[0.02888941951096058, 0.9920712113380432]"
      ]
     },
     "execution_count": 89,
     "metadata": {},
     "output_type": "execute_result"
    }
   ],
   "source": [
    "# Evaluasi model_1\n",
    "model_1.evaluate(test_kata_dataset)"
   ]
  },
  {
   "cell_type": "code",
   "execution_count": 90,
   "metadata": {},
   "outputs": [
    {
     "data": {
      "text/plain": [
       "<tf.Tensor: shape=(11351,), dtype=float32, numpy=\n",
       "array([9.8689961e-01, 1.5283754e-03, 9.9962139e-01, ..., 1.1869609e-05,\n",
       "       7.7320910e-06, 4.8428519e-05], dtype=float32)>"
      ]
     },
     "execution_count": 90,
     "metadata": {},
     "output_type": "execute_result"
    }
   ],
   "source": [
    "# Membuat prodeksi menggunakan model_1\n",
    "model_1_pred_prob = tf.squeeze(model_1.predict(test_kata_dataset))\n",
    "model_1_pred_prob"
   ]
  },
  {
   "cell_type": "code",
   "execution_count": 91,
   "metadata": {},
   "outputs": [
    {
     "data": {
      "text/plain": [
       "<tf.Tensor: shape=(11351,), dtype=float32, numpy=array([1., 0., 1., ..., 0., 0., 0.], dtype=float32)>"
      ]
     },
     "execution_count": 91,
     "metadata": {},
     "output_type": "execute_result"
    }
   ],
   "source": [
    "# Pembulatan probabilitas prediksi model_1\n",
    "model_1_pred = tf.round(model_1_pred_prob)\n",
    "model_1_pred"
   ]
  },
  {
   "cell_type": "code",
   "execution_count": 92,
   "metadata": {},
   "outputs": [
    {
     "data": {
      "text/plain": [
       "{'akurasi': 0.9920711831556691,\n",
       " 'presisi': 0.9920716853479361,\n",
       " 'recall': 0.9920711831556691,\n",
       " 'f1-score': 0.9920682214744327}"
      ]
     },
     "execution_count": 92,
     "metadata": {},
     "output_type": "execute_result"
    }
   ],
   "source": [
    "# Menghitung metriks dari model_1\n",
    "model_1_metrik = hitung_metrik(target=test_target,\n",
    "                               prediksi=model_1_pred)\n",
    "model_1_metrik"
   ]
  },
  {
   "cell_type": "code",
   "execution_count": 93,
   "metadata": {},
   "outputs": [],
   "source": [
    "\n",
    "# ⁡⁣⁢Membuat fungsi untuk plot residual dari model regresi logistik⁡\n",
    "def residual_plot_logr(test_target, \n",
    "                       model, \n",
    "                       nama_model,\n",
    "                       model_akurasi, \n",
    "                       probabilitas_prediksi_model, \n",
    "                       jumlah_bin=100, \n",
    "                       rentang=[0, 1]):\n",
    "    \"\"\"\n",
    "    Fungsi ini akan menciptakan residual plot untuk logistik regresi dari permodelan\n",
    "    \n",
    "    Args:\n",
    "        test_target (np.ndarray): target dari test data dalama bentuk 𝟭D numpy array\n",
    "        model (keras.Model): model hasil training jaringan saraf tiruan\n",
    "        nama_model (str): nama model dalam string untuk ditampilkan di judul plot\n",
    "        model_akurasi (float): akurasi model\n",
    "        probabilitas_prediksi_model (np.ndarray): probabilitas prediksi model dalam bentuk 𝟭D numpy array\n",
    "        jumlah_bin (int): jumlah bin yang akan digunakan untuk plot sepanjang axis x\n",
    "        rentang (list): rentang yang akan digunakan di axis x\n",
    "        \n",
    "    Returns:\n",
    "        residual_plot (matplotlib.pyplot.scatter): plot residual dari model regresi logistik⁡⁡\n",
    "    \"\"\"\n",
    "    \n",
    "    # fungsi internal untuk menjumlahkan residu dalam kelompok bin tertentu\n",
    "    def func(residu):\n",
    "        y = np.sum(residu)\n",
    "        return y\n",
    "\n",
    "    axis_x = [langkah_x/jumlah_bin for langkah_x in range(jumlah_bin+1)]\n",
    "\n",
    "    residual = test_target - probabilitas_prediksi_model\n",
    "    bin_residual = binned_statistic(residual, residual, statistic=func, bins=jumlah_bin+1, range=rentang)[0]\n",
    "    plt.scatter(axis_x, bin_residual, c='r')\n",
    "    plt.title(f'Residual Regresi Logistik\\n{nama_model}\\nAkurasi: {model_akurasi:.2%}',\n",
    "              fontsize=14)\n",
    "    plt.xlabel('Target Label dalam Bin')\n",
    "    plt.ylabel('Residual')"
   ]
  },
  {
   "cell_type": "code",
   "execution_count": 94,
   "metadata": {},
   "outputs": [
    {
     "data": {
      "image/png": "[encoded data removed]",
      "text/plain": [
       "<Figure size 432x288 with 1 Axes>"
      ]
     },
     "metadata": {},
     "output_type": "display_data"
    }
   ],
   "source": [
    "# Plot residual dari model 1\n",
    "residual_plot_logr(test_target, model_1, MODEL[1], model_1_metrik['akurasi'], model_1_pred_prob)\n",
    "plt.show()"
   ]
  },
  {
   "cell_type": "code",
   "execution_count": 95,
   "metadata": {},
   "outputs": [
    {
     "data": {
      "image/png": "[encoded data removed]",
      "text/plain": [
       "<Figure size 432x288 with 2 Axes>"
      ]
     },
     "metadata": {},
     "output_type": "display_data"
    }
   ],
   "source": [
    "# Menampilkan confusion matrix dari model_1\n",
    "plot_conf_matrix(target_label=test_target,\n",
    "                 prediksi_label=model_1_pred,\n",
    "                 nama_model='Model Conv1D dengan Vektorisasi Embedding',\n",
    "                 akurasi=model_1_metrik['akurasi'],\n",
    "                 label_titik_x=['bukan_warna', 'warna'],\n",
    "                 label_titik_y=['bukan_warna', 'warna'])"
   ]
  },
  {
   "cell_type": "code",
   "execution_count": 96,
   "metadata": {},
   "outputs": [
    {
     "name": "stdout",
     "output_type": "stream",
     "text": [
      "|       | brand   | kata        |   urut_kata |   total_kata | label       | prediksi    | probabilitas   |\n",
      "|------:|:--------|:------------|------------:|-------------:|:------------|:------------|:---------------|\n",
      "| 55259 | STN     | AQUA        |           3 |            3 | warna       | bukan_warna | 0.05%          |\n",
      "|    12 | ADI     | BASKETBALL  |           5 |            6 | warna       | bukan_warna | 7.35%          |\n",
      "| 23355 | NIC     | 7           |          11 |           11 | warna       | bukan_warna | 0.4%           |\n",
      "| 56444 | WAR     | OREO        |           2 |            3 | warna       | bukan_warna | 0.33%          |\n",
      "| 46960 | NIK     | FTR10PURE   |           2 |            7 | warna       | bukan_warna | 7.35%          |\n",
      "| 13918 | ADI     | CARDBOARD   |           2 |            2 | warna       | bukan_warna | 7.35%          |\n",
      "|  8735 | ADI     | FULL        |           1 |            3 | bukan_warna | warna       | 90.96%         |\n",
      "| 31091 | NIK     | VIALEBLACK  |           2 |            4 | warna       | bukan_warna | 7.35%          |\n",
      "| 51267 | PUM     | TRACE       |           2 |            7 | bukan_warna | warna       | 91.96%         |\n",
      "|  5964 | ADI     | CLOUD       |           2 |            3 | warna       | bukan_warna | 25.57%         |\n",
      "| 36008 | NIK     | SIGNAL      |           2 |           11 | bukan_warna | warna       | 60.5%          |\n",
      "|   808 | ADI     | LEGIVY      |           6 |            6 | warna       | bukan_warna | 7.35%          |\n",
      "| 19560 | BBC     | WOODLAND    |           1 |            6 | bukan_warna | warna       | 74.04%         |\n",
      "| 19622 | BBC     | CREAM       |           2 |            5 | bukan_warna | warna       | 67.23%         |\n",
      "| 56083 | WAR     | GLOW        |           2 |            6 | bukan_warna | warna       | 89.1%          |\n",
      "| 18933 | BBC     | FULL        |           1 |            8 | bukan_warna | warna       | 90.96%         |\n",
      "| 55981 | STN     | OATMEAL     |           2 |            2 | warna       | bukan_warna | 7.35%          |\n",
      "| 33831 | NIK     | EXPX14WHITE |           2 |            4 | warna       | bukan_warna | 7.35%          |\n",
      "| 48650 | PUM     | CORE        |           2 |            6 | bukan_warna | warna       | 80.28%         |\n",
      "| 56746 | WAR     | PAISLEY     |           2 |            4 | warna       | bukan_warna | 0.28%          |\n",
      "|  1405 | ADI     | PK          |           2 |            4 | warna       | bukan_warna | 0.02%          |\n",
      "| 56116 | WAR     | FULL        |           1 |            6 | bukan_warna | warna       | 90.96%         |\n",
      "| 56086 | WAR     | GLOW        |           2 |            6 | bukan_warna | warna       | 89.1%          |\n",
      "| 17275 | AGL     | 5           |           5 |            6 | warna       | bukan_warna | 0.63%          |\n",
      "| 52109 | PUM     | GLOW        |           3 |            7 | bukan_warna | warna       | 89.1%          |\n",
      "| 26752 | NIK     | PEELORANGE  |           6 |            7 | warna       | bukan_warna | 7.35%          |\n",
      "| 55804 | STN     | VOLT        |           2 |            2 | warna       | bukan_warna | 7.35%          |\n",
      "| 12023 | ADI     | LEGEND      |           2 |            3 | warna       | bukan_warna | 0.95%          |\n",
      "|  8962 | ADI     | CORE        |           2 |            4 | bukan_warna | warna       | 80.28%         |\n",
      "|  1039 | ADI     | TESIME      |           6 |            6 | warna       | bukan_warna | 7.35%          |\n",
      "|  8759 | ADI     | ACTIVE      |           3 |            7 | warna       | bukan_warna | 43.27%         |\n",
      "| 52114 | PUM     | GLOW        |           3 |            8 | bukan_warna | warna       | 89.1%          |\n",
      "| 13740 | ADI     | MAROON      |           2 |            2 | warna       | bukan_warna | 7.35%          |\n",
      "| 10573 | ADI     | METAL       |           2 |            3 | warna       | bukan_warna | 0.06%          |\n",
      "| 56484 | WAR     | NEON        |           2 |            5 | warna       | bukan_warna | 0.1%           |\n",
      "| 46940 | NIK     | REACTBRIGHT |           2 |            7 | warna       | bukan_warna | 7.35%          |\n",
      "| 15761 | ADI     | ALUMINA     |           3 |            3 | warna       | bukan_warna | 7.35%          |\n",
      "| 48805 | PUM     | CORE        |           2 |            7 | bukan_warna | warna       | 80.28%         |\n",
      "|  2197 | ADI     | EASGRN      |           7 |            7 | warna       | bukan_warna | 7.35%          |\n",
      "|  1403 | ADI     | F17         |           4 |            4 | warna       | bukan_warna | 0.47%          |\n",
      "|  2592 | ADI     | ICEPUR      |           2 |            4 | warna       | bukan_warna | 7.35%          |\n",
      "|  7372 | ADI     | SGREEN      |           2 |            4 | warna       | bukan_warna | 7.35%          |\n",
      "| 10336 | ADI     | MAROON      |           2 |            2 | warna       | bukan_warna | 7.35%          |\n",
      "| 15466 | ADI     | SAVANNAH    |           2 |            2 | warna       | bukan_warna | 7.35%          |\n",
      "| 54951 | SAU     | TAN         |           2 |            3 | warna       | bukan_warna | 0.02%          |\n",
      "| 22780 | KIP     | SHADOW      |           2 |            4 | warna       | bukan_warna | 2.94%          |\n",
      "| 56226 | WAR     | ORANGE      |           2 |            5 | bukan_warna | warna       | 99.27%         |\n",
      "| 56112 | WAR     | RED         |           1 |            7 | bukan_warna | warna       | 99.34%         |\n",
      "| 17198 | AGL     | YELLOW      |           2 |            5 | bukan_warna | warna       | 97.57%         |\n",
      "| 50395 | PUM     | PUMA        |           2 |            5 | warna       | bukan_warna | 0.17%          |\n",
      "| 32998 | NIK     | 23          |          10 |           11 | warna       | bukan_warna | 34.74%         |\n",
      "| 48075 | PTG     | ORANGE      |           2 |            3 | bukan_warna | warna       | 99.27%         |\n",
      "| 54953 | SAU     | BRN         |           2 |            3 | warna       | bukan_warna | 7.35%          |\n",
      "| 19265 | BBC     | DARK        |           2 |            6 | bukan_warna | warna       | 67.7%          |\n",
      "| 56661 | WAR     | THE         |           2 |            5 | warna       | bukan_warna | 15.38%         |\n",
      "|  4222 | ADI     | SESAME      |           5 |            7 | warna       | bukan_warna | 38.07%         |\n",
      "| 52841 | PUM     | CORE        |           1 |            7 | bukan_warna | warna       | 80.28%         |\n",
      "|  8968 | ADI     | CORE        |           2 |            4 | bukan_warna | warna       | 80.28%         |\n",
      "|  1407 | ADI     | CARGO       |           4 |            4 | warna       | bukan_warna | 0.23%          |\n",
      "|  7274 | ADI     | SESAME      |           2 |            4 | warna       | bukan_warna | 38.07%         |\n",
      "|  3490 | ADI     | SHOCK       |           2 |            3 | warna       | bukan_warna | 0.09%          |\n",
      "| 21685 | HER     | NIGHT       |           2 |            3 | warna       | bukan_warna | 40.44%         |\n",
      "| 18208 | BBC     | CLEAR       |           2 |            8 | bukan_warna | warna       | 67.08%         |\n",
      "| 14727 | ADI     | LEGEND      |           2 |            3 | warna       | bukan_warna | 0.95%          |\n",
      "| 33814 | NIK     | EXPZ07WHITE |           2 |            3 | warna       | bukan_warna | 7.35%          |\n",
      "| 30639 | NIK     | 35          |           5 |           11 | bukan_warna | warna       | 79.45%         |\n",
      "| 21386 | HER     | BRBDSCHRY   |           2 |            3 | warna       | bukan_warna | 7.35%          |\n",
      "|  8965 | ADI     | CORE        |           2 |            4 | bukan_warna | warna       | 80.28%         |\n",
      "| 16112 | ADI     | VAPOUR      |           2 |            3 | warna       | bukan_warna | 7.35%          |\n",
      "| 11545 | ADI     | ACTIVE      |           3 |            4 | warna       | bukan_warna | 43.27%         |\n",
      "|  4659 | ADI     | BOAQUA      |           2 |            4 | warna       | bukan_warna | 7.35%          |\n",
      "| 21982 | HER     | FLORAL      |           2 |            3 | warna       | bukan_warna | 0.48%          |\n",
      "| 21091 | HER     | 600D        |           3 |            6 | bukan_warna | warna       | 99.05%         |\n",
      "| 17520 | AGL     | BROWN       |           1 |            4 | bukan_warna | warna       | 99.45%         |\n",
      "| 10328 | ADI     | ACTIVE      |           2 |            3 | warna       | bukan_warna | 43.27%         |\n",
      "| 48153 | PTG     | DOVE        |           2 |            3 | bukan_warna | warna       | 95.45%         |\n",
      "| 19643 | BEA     | 35          |           2 |            3 | bukan_warna | warna       | 79.45%         |\n",
      "| 16288 | ADI     | BLK         |           2 |            5 | bukan_warna | warna       | 98.82%         |\n",
      "| 21174 | HER     | RED         |           4 |            8 | bukan_warna | warna       | 99.34%         |\n",
      "| 30654 | NIK     | 35          |           5 |           10 | bukan_warna | warna       | 79.45%         |\n",
      "| 29098 | NIK     | 8ASHEN      |           3 |            6 | warna       | bukan_warna | 7.35%          |\n",
      "| 53459 | PUM     | GLOW        |           1 |            5 | bukan_warna | warna       | 89.1%          |\n",
      "| 55759 | STN     | RASTA       |           2 |            2 | warna       | bukan_warna | 7.35%          |\n",
      "| 18940 | BBC     | FULL        |           1 |            8 | bukan_warna | warna       | 90.96%         |\n",
      "|   656 | ADI     | BGREEN      |           7 |            7 | warna       | bukan_warna | 7.35%          |\n",
      "| 54972 | SAU     | VINTAGE     |           2 |            5 | bukan_warna | warna       | 78.0%          |\n",
      "|  6532 | ADI     | SESAME      |           6 |            7 | warna       | bukan_warna | 38.07%         |\n",
      "| 25371 | NIK     | 23          |           6 |            6 | warna       | bukan_warna | 34.74%         |\n",
      "| 24154 | NIK     | CORE        |           2 |            6 | bukan_warna | warna       | 80.28%         |\n",
      "| 31572 | NIK     | LIGHTCARBON |           4 |            6 | warna       | bukan_warna | 7.35%          |\n"
     ]
    }
   ],
   "source": [
    "# Menampilkan kesalahan prediksi \n",
    "df_kesalahan_prediksi(label_encoder=label_encoder,\n",
    "                      test_data=test_data_mnb,\n",
    "                      prediksi=model_1_pred,\n",
    "                      probabilitas_prediksi=model_1_pred_prob,\n",
    "                      order_ulang_header=['brand', \n",
    "                                          'kata', \n",
    "                                          'urut_kata', \n",
    "                                          'total_kata', \n",
    "                                          'label'])"
   ]
  },
  {
   "cell_type": "code",
   "execution_count": 97,
   "metadata": {},
   "outputs": [
    {
     "data": {
      "text/plain": [
       "27710"
      ]
     },
     "execution_count": 97,
     "metadata": {},
     "output_type": "execute_result"
    }
   ],
   "source": [
    "# selesai dengan model 1, bersihkan memori di GPU terkait model_1\n",
    "del model_1\n",
    "gc.collect()"
   ]
  },
  {
   "cell_type": "markdown",
   "metadata": {},
   "source": [
    "## Model 2: Transfer Learning pretrained feature exraction menggunakan Universal Sentence Encoder (USE)\n",
    "\n",
    "Pada bagian ini kita akan mencoba untuk melakukan training pada data menggunakan lapisan *feature extraction* yang sudah ada dan sudah dilatih pada dataset tertentu. \n",
    "Proses embedding secara umum memiliki beberapa kelemahan diantaranya:\n",
    "\n",
    "1. Kehilangan informasi, dimana dalam kasus kalimat \"Produk ini bagus\" dan kalimat \"Ini\" menggunakan rerata vektor memiliki tingkat kemiripan yg cukup tinggi meskipun keduanya merupakan kalimat yang memiliki makna cukup berbeda\n",
    "2. Tidak memandang urutan, dimana kalimat \"Makan ikan menggunakan sendok\" dan kalimat \"Makan sendok menggunakan ikan\" akan memiliki kemiripan vektor 100%\n",
    "\n",
    "Kita dapat menghindari permasalahan ini misalkan dengan menerapkan *feature engineering* untuk membuat input menjadi semakin kompleks dan menghindari masalah yang mungkin timbul dari proses *embedding*, namun hal ini dapat melibatkan beberapa proses seperti menghilangkan *stop-words*, pembobotan menggunakan TF-IDF, menambahkan *ngrams* untuk mendapatkan posisi kata dalam kalimat, penumpukan lapisan *MaxPooling* dan lain sebagainya.\n",
    "\n",
    "Universal Sentence Encoder merupakan suatu lapisan yang sudah melakukan hampir kesemua proses ini dalam proses *embedding* input data."
   ]
  },
  {
   "cell_type": "code",
   "execution_count": 98,
   "metadata": {},
   "outputs": [],
   "source": [
    "# Mengunduh pretrained USE dari tensorflow hub atau model USE yang sudah didownload\n",
    "tf_hub_embedding = hub.KerasLayer('colorskim_checkpoint/use.v4/',\n",
    "                                  trainable=False,\n",
    "                                  name='lapisan_embedding_USE')"
   ]
  },
  {
   "cell_type": "code",
   "execution_count": 99,
   "metadata": {},
   "outputs": [
    {
     "name": "stdout",
     "output_type": "stream",
     "text": [
      "Kata acak:\n",
      " 3S\n",
      "\n",
      "Kata setelah embed dengan USE:\n",
      "[ 0.03300838 -0.06861804  0.07957903  0.00952903  0.04509746 -0.04321368\n",
      " -0.0121476  -0.02729691 -0.03731637  0.05593856 -0.07101829  0.02265608\n",
      " -0.03933664  0.06070999 -0.02060124  0.08267415 -0.05009757 -0.06041379\n",
      " -0.04789846 -0.01626931  0.00298182  0.0257402   0.0499256   0.05026842\n",
      "  0.0150392  -0.03362552  0.05304091 -0.05484457  0.06910014 -0.01757853]\n",
      "\n",
      "Panjang dari kata setelah embedding: 512\n"
     ]
    }
   ],
   "source": [
    "# Melakukan tes pretrained embedding pada contoh kata\n",
    "kata_acak = random.choice(train_data_mnb['kata'].tolist())\n",
    "print(f'Kata acak:\\n {kata_acak}')\n",
    "kata_embed_pretrain = tf_hub_embedding([kata_acak])\n",
    "print(f'\\nKata setelah embed dengan USE:\\n{kata_embed_pretrain[0][:30]}\\n')\n",
    "print(f'Panjang dari kata setelah embedding: {len(kata_embed_pretrain[0])}')"
   ]
  },
  {
   "cell_type": "markdown",
   "metadata": {},
   "source": [
    "### Membangun dan Menjalankan Training Model 2"
   ]
  },
  {
   "cell_type": "code",
   "execution_count": 100,
   "metadata": {},
   "outputs": [],
   "source": [
    "# Jika folder dengan path 'colorskim_checkpoint/{model.name}' sudah ada, maka skip fit model \n",
    "# untuk menghemat waktu pengembangan dan hanya load model yang sudah ada dalam folder tersebut \n",
    "# saja\n",
    "# Terutama untuk model_2 yang sangat resource intensif, baik data yang didownload dari tfhub.dev\n",
    "# maupun output model dari training yang cukup besar (~1GB) berbanding model_1 yang hanya menghasilkan\n",
    "# model dengan ukuran 2MB, maka untuk output model dari model_2 akan disimpan di remote data version\n",
    "# control dengan modul dvc atau dapat dipindahtangankan secara fisik melalui media penyimpanan\n",
    "if not os.path.isdir(f'colorskim_checkpoint/{MODEL[2]}'):\n",
    "        # set random seed\n",
    "        tf.random.set_seed(RANDOM_STATE)\n",
    "        \n",
    "        # Membuat model_2 menggunakan USE\n",
    "        inputs = Input(shape=[], \n",
    "                dtype=tf.string, \n",
    "                name='lapisan_input')\n",
    "        lapisan_embed_pretrained = tf_hub_embedding(inputs)\n",
    "        x = Conv1D(filters=UKURAN_BATCH, \n",
    "                kernel_size=5, \n",
    "                padding='same', \n",
    "                activation='relu',\n",
    "                name='lapisan_konvolusional_1_dimensi')(tf.expand_dims(lapisan_embed_pretrained, axis=-1))\n",
    "        x = GlobalMaxPooling1D(name='lapisan_max_pooling')(x)\n",
    "        outputs = Dense(units=1, \n",
    "                        activation='sigmoid', \n",
    "                        name='lapisan_output')(x)\n",
    "        model_2 = tf.keras.Model(inputs=inputs, \n",
    "                                outputs=outputs, \n",
    "                                name=MODEL[2])\n",
    "\n",
    "        # Compile model_2\n",
    "        model_2.compile(loss=BinaryCrossentropy(),\n",
    "                        optimizer=Adam(),\n",
    "                        metrics=['accuracy'])\n",
    "\n",
    "\n",
    "        # Setup wandb init dan config\n",
    "        wb.init(project=wandb['proyek'],\n",
    "                entity=wandb['user'],\n",
    "                name=model_2.name,\n",
    "                config={'epochs': EPOCHS,\n",
    "                        'n_layers': len(model_2.layers)})\n",
    "\n",
    "        # Fit model_2\n",
    "        model_2.fit(train_kata_dataset,\n",
    "                    epochs=EPOCHS,\n",
    "                    validation_data=test_kata_dataset,\n",
    "                    callbacks=[wandb_callback(train_kata_dataset),\n",
    "                               model_checkpoint(model_2.name),\n",
    "                               reduce_lr_on_plateau(),\n",
    "                               early_stopping()])\n",
    "        \n",
    "        # tutup logging wandb\n",
    "        wb.finish()\n",
    "        \n",
    "        # load model_2\n",
    "        model_2 = load_model(f'colorskim_checkpoint/{MODEL[2]}')\n",
    "else:\n",
    "        # hapus tf_hub_embedding\n",
    "        del tf_hub_embedding\n",
    "        gc.collect()\n",
    "        # load model_2\n",
    "        model_2 = load_model(f'colorskim_checkpoint/{MODEL[2]}')"
   ]
  },
  {
   "cell_type": "code",
   "execution_count": 101,
   "metadata": {},
   "outputs": [
    {
     "name": "stdout",
     "output_type": "stream",
     "text": [
      "Model: \"model_2_Conv1D_USE_embed\"\n",
      "_________________________________________________________________\n",
      " Layer (type)                Output Shape              Param #   \n",
      "=================================================================\n",
      " lapisan_input (InputLayer)  [(None,)]                 0         \n",
      "                                                                 \n",
      " lapisan_embedding_USE (Kera  (None, 512)              256797824 \n",
      " sLayer)                                                         \n",
      "                                                                 \n",
      " tf.expand_dims (TFOpLambda)  (None, 512, 1)           0         \n",
      "                                                                 \n",
      " lapisan_konvolusional_1_dim  (None, 512, 32)          192       \n",
      " ensi (Conv1D)                                                   \n",
      "                                                                 \n",
      " lapisan_max_pooling (Global  (None, 32)               0         \n",
      " MaxPooling1D)                                                   \n",
      "                                                                 \n",
      " lapisan_output (Dense)      (None, 1)                 33        \n",
      "                                                                 \n",
      "=================================================================\n",
      "Total params: 256,798,049\n",
      "Trainable params: 225\n",
      "Non-trainable params: 256,797,824\n",
      "_________________________________________________________________\n"
     ]
    }
   ],
   "source": [
    "# Ringkasan dari model_2\n",
    "model_2.summary()"
   ]
  },
  {
   "cell_type": "code",
   "execution_count": 102,
   "metadata": {},
   "outputs": [
    {
     "data": {
      "image/png": "[encoded data removed]",
      "text/plain": [
       "<IPython.core.display.Image object>"
      ]
     },
     "execution_count": 102,
     "metadata": {},
     "output_type": "execute_result"
    }
   ],
   "source": [
    "# Plot model_2\n",
    "plot_model(model_2, show_shapes=True)"
   ]
  },
  {
   "cell_type": "markdown",
   "metadata": {},
   "source": [
    "### Eksplorasi Hasil Model 2"
   ]
  },
  {
   "cell_type": "code",
   "execution_count": 103,
   "metadata": {},
   "outputs": [
    {
     "name": "stdout",
     "output_type": "stream",
     "text": [
      "355/355 [==============================] - 14s 37ms/step - loss: 0.1921 - accuracy: 0.9389\n"
     ]
    },
    {
     "data": {
      "text/plain": [
       "[0.19213275611400604, 0.9388599991798401]"
      ]
     },
     "execution_count": 103,
     "metadata": {},
     "output_type": "execute_result"
    }
   ],
   "source": [
    "# Evaluate model_2\n",
    "model_2.evaluate(test_kata_dataset)"
   ]
  },
  {
   "cell_type": "code",
   "execution_count": 104,
   "metadata": {},
   "outputs": [
    {
     "data": {
      "text/plain": [
       "<tf.Tensor: shape=(11351,), dtype=float32, numpy=\n",
       "array([0.46290663, 0.06519245, 0.9924333 , ..., 0.1533481 , 0.01215318,\n",
       "       0.0921701 ], dtype=float32)>"
      ]
     },
     "execution_count": 104,
     "metadata": {},
     "output_type": "execute_result"
    }
   ],
   "source": [
    "# Membuat probabilitas prediksi model_2\n",
    "model_2_pred_prob = tf.squeeze(model_2.predict(test_kata_dataset))\n",
    "model_2_pred_prob"
   ]
  },
  {
   "cell_type": "code",
   "execution_count": 105,
   "metadata": {},
   "outputs": [
    {
     "data": {
      "text/plain": [
       "<tf.Tensor: shape=(10,), dtype=float32, numpy=array([0., 0., 1., 0., 1., 0., 0., 0., 1., 0.], dtype=float32)>"
      ]
     },
     "execution_count": 105,
     "metadata": {},
     "output_type": "execute_result"
    }
   ],
   "source": [
    "# Membuat prediksi dengan model_2\n",
    "model_2_pred = tf.round(model_2_pred_prob)\n",
    "model_2_pred[:10]"
   ]
  },
  {
   "cell_type": "code",
   "execution_count": 106,
   "metadata": {},
   "outputs": [
    {
     "data": {
      "text/plain": [
       "{'akurasi': 0.9388600123337151,\n",
       " 'presisi': 0.9390214154816886,\n",
       " 'recall': 0.9388600123337151,\n",
       " 'f1-score': 0.9385958102215999}"
      ]
     },
     "execution_count": 106,
     "metadata": {},
     "output_type": "execute_result"
    }
   ],
   "source": [
    "# Menghitung metriks dari model_2\n",
    "model_2_metrik = hitung_metrik(target=test_target,\n",
    "                               prediksi=model_2_pred)\n",
    "model_2_metrik"
   ]
  },
  {
   "cell_type": "code",
   "execution_count": 107,
   "metadata": {},
   "outputs": [
    {
     "data": {
      "image/png": "[encoded data removed]",
      "text/plain": [
       "<Figure size 432x288 with 1 Axes>"
      ]
     },
     "metadata": {},
     "output_type": "display_data"
    }
   ],
   "source": [
    "# Plot residual dari model_2\n",
    "residual_plot_logr(test_target, model_2, MODEL[2], model_2_metrik['akurasi'], model_2_pred_prob)"
   ]
  },
  {
   "cell_type": "code",
   "execution_count": 108,
   "metadata": {},
   "outputs": [
    {
     "data": {
      "image/png": "[encoded data removed]",
      "text/plain": [
       "<Figure size 432x288 with 2 Axes>"
      ]
     },
     "metadata": {},
     "output_type": "display_data"
    }
   ],
   "source": [
    "# Confusion matrix dari model_2\n",
    "plot_conf_matrix(target_label=test_target,\n",
    "                 prediksi_label=model_2_pred,\n",
    "                 nama_model=MODEL[2],\n",
    "                 akurasi=model_2_metrik['akurasi'],\n",
    "                 label_titik_x=['bukan_warna', 'warna'],\n",
    "                 label_titik_y=['bukan_warna', 'warna'])"
   ]
  },
  {
   "cell_type": "code",
   "execution_count": 109,
   "metadata": {},
   "outputs": [
    {
     "name": "stdout",
     "output_type": "stream",
     "text": [
      "|       | brand   | kata          |   urut_kata |   total_kata | label       | prediksi    | probabilitas   |\n",
      "|------:|:--------|:--------------|------------:|-------------:|:------------|:------------|:---------------|\n",
      "| 16829 | ADI     | SESOYE        |           5 |            6 | warna       | bukan_warna | 46.29%         |\n",
      "| 28490 | NIK     | TIEMPO        |           1 |            8 | bukan_warna | warna       | 74.9%          |\n",
      "| 55259 | STN     | AQUA          |           3 |            3 | warna       | bukan_warna | 2.84%          |\n",
      "| 47519 | NIK     | 3PPK          |           2 |            9 | bukan_warna | warna       | 53.58%         |\n",
      "|  2899 | ADI     | SOBAKOV       |           1 |            4 | bukan_warna | warna       | 76.76%         |\n",
      "| 26661 | NIK     | BROWN         |           9 |            9 | warna       | bukan_warna | 39.65%         |\n",
      "| 14773 | ADI     | TIRO          |           1 |            3 | bukan_warna | warna       | 58.89%         |\n",
      "| 47562 | NIK     | 3PPK          |           2 |           10 | bukan_warna | warna       | 53.58%         |\n",
      "| 15999 | ADI     | SPECTOO       |           2 |            4 | warna       | bukan_warna | 14.74%         |\n",
      "|  2639 | ADI     | CWHITE        |           5 |            5 | warna       | bukan_warna | 34.19%         |\n",
      "|  5166 | ADI     | FEF           |           1 |            5 | bukan_warna | warna       | 50.67%         |\n",
      "|  8219 | ADI     | OWHITE        |           5 |            7 | warna       | bukan_warna | 22.71%         |\n",
      "|    12 | ADI     | BASKETBALL    |           5 |            6 | warna       | bukan_warna | 9.97%          |\n",
      "| 27594 | NIK     | HYPERVENOM    |           1 |            9 | bukan_warna | warna       | 94.85%         |\n",
      "| 23355 | NIC     | 7             |          11 |           11 | warna       | bukan_warna | 7.83%          |\n",
      "| 34040 | NIK     | SUPRFLY       |           2 |            8 | bukan_warna | warna       | 93.28%         |\n",
      "| 21620 | HER     | PINE          |           2 |            4 | warna       | bukan_warna | 6.69%          |\n",
      "|  7564 | ADI     | OWHITE        |           3 |            5 | warna       | bukan_warna | 22.71%         |\n",
      "| 25404 | NIK     | NAVY          |           8 |            9 | warna       | bukan_warna | 8.11%          |\n",
      "| 15182 | ADI     | FBIRD         |           1 |            3 | bukan_warna | warna       | 64.54%         |\n",
      "|  4084 | ADI     | ICEPNK        |           5 |            6 | warna       | bukan_warna | 36.66%         |\n",
      "| 29951 | NIK     | MERCURIALX    |           1 |           10 | bukan_warna | warna       | 64.81%         |\n",
      "| 10768 | ADI     | FORTARUN      |           1 |            7 | bukan_warna | warna       | 63.57%         |\n",
      "| 55505 | STN     | JOVEN         |           2 |            6 | bukan_warna | warna       | 86.25%         |\n",
      "| 50284 | PUM     | TISHATSU      |           1 |            7 | bukan_warna | warna       | 73.17%         |\n",
      "| 12291 | ADI     | STARLANCER    |           1 |            4 | bukan_warna | warna       | 66.83%         |\n",
      "| 21145 | HER     | ECLIPSE       |           2 |            3 | warna       | bukan_warna | 0.64%          |\n",
      "| 56008 | VAP     | 0.7L          |           1 |            3 | bukan_warna | warna       | 50.0%          |\n",
      "| 20470 | CAO     | 3ADR          |           3 |            3 | bukan_warna | warna       | 71.37%         |\n",
      "| 20664 | CAO     | GBD8002DRNS   |           1 |            1 | bukan_warna | warna       | 70.19%         |\n",
      "| 36580 | NIK     | GLOW          |          11 |           11 | warna       | bukan_warna | 17.97%         |\n",
      "| 55857 | STN     | BROWN         |           2 |            2 | warna       | bukan_warna | 39.65%         |\n",
      "| 10071 | ADI     | BROWN         |           5 |            5 | warna       | bukan_warna | 39.65%         |\n",
      "|  1605 | ADI     | GOLDMT        |           6 |            6 | warna       | bukan_warna | 23.74%         |\n",
      "|   457 | ADI     | TC1P          |           4 |            7 | bukan_warna | warna       | 52.46%         |\n",
      "|  1706 | ADI     | DEERUPT       |           1 |            5 | bukan_warna | warna       | 77.13%         |\n",
      "| 11061 | ADI     | CORE          |           2 |            3 | warna       | bukan_warna | 12.15%         |\n",
      "| 33862 | NIK     | NAVY          |           5 |            9 | warna       | bukan_warna | 8.11%          |\n",
      "|  3218 | ADI     | CONAVY        |           3 |            5 | warna       | bukan_warna | 18.74%         |\n",
      "| 48060 | PTG     | VINKA         |           1 |            3 | bukan_warna | warna       | 51.67%         |\n",
      "|  9750 | ADI     | NAVY          |           5 |            5 | warna       | bukan_warna | 8.11%          |\n",
      "|  2896 | ADI     | CLEORA        |           2 |            4 | warna       | bukan_warna | 15.4%          |\n",
      "| 56444 | WAR     | OREO          |           2 |            3 | warna       | bukan_warna | 5.74%          |\n",
      "| 42406 | NIK     | GLOW          |           9 |            9 | warna       | bukan_warna | 17.97%         |\n",
      "| 30205 | NIK     | NAVY          |           5 |            9 | warna       | bukan_warna | 8.11%          |\n",
      "| 17080 | ADI     | WHT           |           6 |            6 | warna       | bukan_warna | 20.68%         |\n",
      "|  1741 | ADI     | DEERUPT       |           1 |            5 | bukan_warna | warna       | 77.13%         |\n",
      "| 13176 | ADI     | MUTATOR       |           2 |            7 | bukan_warna | warna       | 82.25%         |\n",
      "|  3421 | ADI     | CBROWN        |           6 |            6 | warna       | bukan_warna | 19.14%         |\n",
      "| 46960 | NIK     | FTR10PURE     |           2 |            7 | warna       | bukan_warna | 27.53%         |\n",
      "| 20310 | CAO     | 100BT         |           2 |            4 | bukan_warna | warna       | 74.83%         |\n",
      "|  9791 | ADI     | CORE          |           2 |            3 | warna       | bukan_warna | 12.15%         |\n",
      "| 12007 | ADI     | CORE          |           2 |            3 | warna       | bukan_warna | 12.15%         |\n",
      "| 30760 | NIK     | CARBON        |           9 |           10 | warna       | bukan_warna | 1.97%          |\n",
      "|  3962 | ADI     | TIRO          |           1 |            5 | bukan_warna | warna       | 58.89%         |\n",
      "| 24919 | NIK     | YTH           |           2 |           11 | bukan_warna | warna       | 69.09%         |\n",
      "|  7175 | ADI     | HIRAQU        |           3 |            4 | warna       | bukan_warna | 42.26%         |\n",
      "|  1334 | ADI     | SUBGRN        |           8 |            8 | warna       | bukan_warna | 33.45%         |\n",
      "| 21092 | HER     | NAVY          |           5 |            6 | warna       | bukan_warna | 8.11%          |\n",
      "| 55487 | STN     | JOVEN         |           2 |            6 | bukan_warna | warna       | 86.25%         |\n",
      "|  4054 | ADI     | TRAPNK        |           7 |            7 | warna       | bukan_warna | 48.93%         |\n",
      "| 45615 | NIK     | NAVY          |           7 |            9 | warna       | bukan_warna | 8.11%          |\n",
      "|  9282 | ADI     | NAVY          |           5 |            8 | warna       | bukan_warna | 8.11%          |\n",
      "| 12340 | ADI     | TOPLOADER     |           2 |            5 | bukan_warna | warna       | 64.02%         |\n",
      "|  6830 | ADI     | OWHITE        |           6 |            6 | warna       | bukan_warna | 22.71%         |\n",
      "| 36182 | NIK     | BROWN         |          11 |           11 | warna       | bukan_warna | 39.65%         |\n",
      "|  3315 | ADI     | CARBON        |           3 |            4 | warna       | bukan_warna | 1.97%          |\n",
      "| 24527 | NIK     | GENICCO       |           2 |            8 | bukan_warna | warna       | 52.37%         |\n",
      "| 20530 | CAO     | 700SK         |           2 |            3 | bukan_warna | warna       | 97.71%         |\n",
      "| 48125 | PTG     | TANNE         |           1 |            3 | bukan_warna | warna       | 78.4%          |\n",
      "|  2014 | ADI     | TIRO          |           1 |            5 | bukan_warna | warna       | 58.89%         |\n",
      "|   325 | ADI     | BRBLUE        |           6 |            6 | warna       | bukan_warna | 34.32%         |\n",
      "| 34704 | NIK     | EBERNON       |           2 |            7 | bukan_warna | warna       | 68.67%         |\n",
      "| 13918 | ADI     | CARDBOARD     |           2 |            2 | warna       | bukan_warna | 4.66%          |\n",
      "| 56043 | VAP     | VAPUR         |           1 |            3 | bukan_warna | warna       | 60.88%         |\n",
      "| 27450 | NIK     | GLOW          |           7 |            9 | warna       | bukan_warna | 17.97%         |\n",
      "| 16994 | ADI     | MGREYH        |           4 |            4 | warna       | bukan_warna | 40.59%         |\n",
      "| 12737 | ADI     | LACELESS      |           2 |            4 | bukan_warna | warna       | 52.25%         |\n",
      "| 16521 | ADI     | RUNWHT        |           3 |            5 | warna       | bukan_warna | 46.17%         |\n",
      "| 29512 | NIK     | NAVY          |           9 |           11 | warna       | bukan_warna | 8.11%          |\n",
      "| 34903 | NIK     | NAVY          |           7 |           11 | warna       | bukan_warna | 8.11%          |\n",
      "|  1799 | ADI     | SOBAKOV       |           1 |            4 | bukan_warna | warna       | 76.76%         |\n",
      "| 54580 | REL     | 49            |           6 |            6 | warna       | bukan_warna | 0.95%          |\n",
      "| 55642 | STN     | MOUSEKETEER   |           2 |            6 | bukan_warna | warna       | 89.19%         |\n",
      "| 22729 | KIP     | BEIGE         |           2 |            4 | warna       | bukan_warna | 12.74%         |\n",
      "| 37378 | NIK     | ACDMY         |           2 |            6 | bukan_warna | warna       | 74.72%         |\n",
      "| 32120 | NIK     | OBRAX         |           1 |           10 | bukan_warna | warna       | 80.22%         |\n",
      "|  5892 | ADI     | ASHSIL        |           3 |            5 | warna       | bukan_warna | 24.08%         |\n",
      "| 22453 | KIP     | RS46          |           1 |            5 | bukan_warna | warna       | 71.93%         |\n",
      "| 54596 | REL     | 35            |           5 |            5 | warna       | bukan_warna | 4.4%           |\n",
      "|  5908 | ADI     | BLUSPI        |           5 |            5 | warna       | bukan_warna | 2.56%          |\n",
      "| 27060 | NIK     | ONDA          |           2 |            8 | bukan_warna | warna       | 73.03%         |\n",
      "| 20326 | CAO     | 5ADR          |           3 |            4 | bukan_warna | warna       | 58.48%         |\n",
      "| 48089 | PTG     | VERMI         |           1 |            3 | bukan_warna | warna       | 56.81%         |\n",
      "|  9207 | ADI     | CONAVY        |           3 |            4 | warna       | bukan_warna | 18.74%         |\n",
      "|  4248 | ADI     | GREFIV        |           6 |            6 | warna       | bukan_warna | 10.86%         |\n",
      "| 15946 | ADI     | CORE          |           2 |            3 | warna       | bukan_warna | 12.15%         |\n",
      "| 27050 | NIK     | ONDA          |           2 |            8 | bukan_warna | warna       | 73.03%         |\n",
      "|  1749 | ADI     | DKBLUE        |           4 |            5 | warna       | bukan_warna | 13.2%          |\n",
      "|   681 | ADI     | GOLDMT        |           6 |            6 | warna       | bukan_warna | 23.74%         |\n",
      "|  6952 | ADI     | DEERUPT       |           1 |            6 | bukan_warna | warna       | 77.13%         |\n",
      "| 56037 | VAP     | 0.7L          |           1 |            3 | bukan_warna | warna       | 50.0%          |\n",
      "|  1270 | ADI     | SHOLIM        |           4 |            4 | warna       | bukan_warna | 23.63%         |\n",
      "|  3544 | ADI     | GYMSACK       |           1 |            3 | bukan_warna | warna       | 84.56%         |\n",
      "| 27364 | NIK     | NAVY          |           5 |            8 | warna       | bukan_warna | 8.11%          |\n",
      "|  5630 | ADI     | BROWN         |           5 |            5 | warna       | bukan_warna | 39.65%         |\n",
      "| 16229 | ADI     | CLSC          |           1 |            4 | bukan_warna | warna       | 75.23%         |\n",
      "|   518 | ADI     | SCARLE        |           5 |            6 | warna       | bukan_warna | 28.57%         |\n",
      "| 56041 | VAP     | VAPUR         |           1 |            3 | bukan_warna | warna       | 60.88%         |\n",
      "|  3535 | ADI     | POWRED        |           4 |            5 | warna       | bukan_warna | 10.18%         |\n",
      "| 22744 | KIP     | TAUPE         |           2 |            4 | warna       | bukan_warna | 10.94%         |\n",
      "|  8187 | ADI     | OWHITE        |           6 |            6 | warna       | bukan_warna | 22.71%         |\n",
      "| 37442 | NIK     | ELMNTL        |           2 |           10 | bukan_warna | warna       | 76.67%         |\n",
      "| 20491 | CAO     | 1BDR          |           3 |            3 | bukan_warna | warna       | 62.83%         |\n",
      "| 17300 | AGL     | L750          |           1 |            4 | bukan_warna | warna       | 64.14%         |\n",
      "|  2613 | ADI     | ENEBLU        |           6 |            6 | warna       | bukan_warna | 27.69%         |\n",
      "|  5289 | ADI     | GREFIV        |           5 |            7 | warna       | bukan_warna | 10.86%         |\n",
      "|  9201 | ADI     | GYMSACK       |           1 |            4 | bukan_warna | warna       | 84.56%         |\n",
      "|  9671 | ADI     | CARBON        |           4 |            4 | warna       | bukan_warna | 1.97%          |\n",
      "| 21242 | HER     | WINE          |           2 |            3 | warna       | bukan_warna | 3.68%          |\n",
      "| 52163 | PUM     | FTR           |           2 |            9 | bukan_warna | warna       | 67.71%         |\n",
      "|   774 | ADI     | TRAPNK        |           6 |            6 | warna       | bukan_warna | 48.93%         |\n",
      "| 18880 | BBC     | OVERDYED      |           1 |            6 | bukan_warna | warna       | 83.76%         |\n",
      "| 26315 | NIK     | MERCURIALX    |           1 |            9 | bukan_warna | warna       | 64.81%         |\n",
      "| 25788 | NIK     | GLOW          |           7 |           11 | warna       | bukan_warna | 17.97%         |\n",
      "| 27017 | NIK     | NAVY          |           6 |            7 | warna       | bukan_warna | 8.11%          |\n",
      "|  2673 | ADI     | CONAVY        |           2 |            4 | warna       | bukan_warna | 18.74%         |\n",
      "| 22680 | KIP     | FS64          |           1 |            5 | bukan_warna | warna       | 77.84%         |\n",
      "|  7623 | ADI     | ORCTIN        |           5 |            6 | warna       | bukan_warna | 21.4%          |\n",
      "|  5757 | ADI     | ALTARUN       |           1 |            5 | bukan_warna | warna       | 88.32%         |\n",
      "| 15871 | ADI     | CARBON        |           2 |            2 | warna       | bukan_warna | 1.97%          |\n",
      "| 12104 | ADI     | GLOW          |           5 |            5 | warna       | bukan_warna | 17.97%         |\n",
      "| 32951 | NIK     | HYPERVENOM    |           2 |           10 | bukan_warna | warna       | 94.85%         |\n",
      "| 10929 | ADI     | CORE          |           2 |            3 | warna       | bukan_warna | 12.15%         |\n",
      "|  5151 | ADI     | GREFOU        |           6 |            6 | warna       | bukan_warna | 11.85%         |\n",
      "| 43160 | NIK     | GLOW          |          11 |           11 | warna       | bukan_warna | 17.97%         |\n",
      "|  5964 | ADI     | CLOUD         |           2 |            3 | warna       | bukan_warna | 1.68%          |\n",
      "|  2801 | ADI     | CROYAL        |           6 |            7 | warna       | bukan_warna | 39.06%         |\n",
      "| 10233 | ADI     | BYW           |           2 |            5 | bukan_warna | warna       | 57.86%         |\n",
      "|  1562 | ADI     | RAWGRE        |           3 |            5 | warna       | bukan_warna | 27.69%         |\n",
      "| 37431 | NIK     | ELMNTL        |           2 |            8 | bukan_warna | warna       | 76.67%         |\n",
      "| 21248 | HER     | LILAMER       |           2 |            7 | bukan_warna | warna       | 76.38%         |\n",
      "| 16594 | ADI     | X9000L4       |           1 |            4 | bukan_warna | warna       | 72.17%         |\n",
      "|  5099 | ADI     | EQTGRN        |           5 |            5 | warna       | bukan_warna | 6.68%          |\n",
      "|  2168 | ADI     | DKBLUE        |           6 |            6 | warna       | bukan_warna | 13.2%          |\n",
      "|  2884 | ADI     | LGSOGR        |           6 |            6 | warna       | bukan_warna | 16.81%         |\n",
      "| 20182 | CAO     | 5600HR        |           2 |            3 | bukan_warna | warna       | 70.09%         |\n",
      "|  9222 | ADI     | NAVY          |           4 |            4 | warna       | bukan_warna | 8.11%          |\n",
      "| 22752 | KIP     | METRO         |           2 |            4 | warna       | bukan_warna | 2.3%           |\n",
      "|  6898 | ADI     | CWHITE        |           5 |            7 | warna       | bukan_warna | 34.19%         |\n",
      "|  6439 | ADI     | ALTASWIM      |           1 |            5 | bukan_warna | warna       | 60.68%         |\n",
      "| 34540 | NIK     | NAVY          |           5 |            8 | warna       | bukan_warna | 8.11%          |\n",
      "|  2279 | ADI     | CBROWN        |           5 |            5 | warna       | bukan_warna | 19.14%         |\n",
      "| 23381 | NIC     | NAVY          |          10 |           11 | warna       | bukan_warna | 8.11%          |\n",
      "|  6865 | ADI     | BLUSPI        |           6 |            6 | warna       | bukan_warna | 2.56%          |\n",
      "|  2066 | ADI     | CRYWHT        |           5 |            5 | warna       | bukan_warna | 15.21%         |\n",
      "| 12118 | ADI     | CONAVY        |           6 |            6 | warna       | bukan_warna | 18.74%         |\n",
      "|  1126 | ADI     | GUM4          |           5 |            5 | warna       | bukan_warna | 34.82%         |\n",
      "|  8629 | ADI     | CARBON        |           4 |            4 | warna       | bukan_warna | 1.97%          |\n",
      "| 37005 | NIK     | ELMNTL        |           2 |            7 | bukan_warna | warna       | 76.67%         |\n",
      "|  1466 | ADI     | CARBON        |           5 |            5 | warna       | bukan_warna | 1.97%          |\n",
      "| 35687 | NIK     | BROWN         |          13 |           13 | warna       | bukan_warna | 39.65%         |\n",
      "|  1796 | ADI     | REAMAG        |           3 |            5 | warna       | bukan_warna | 9.48%          |\n",
      "| 12189 | ADI     | PARKHOOD      |           1 |            3 | bukan_warna | warna       | 80.63%         |\n",
      "| 41017 | NIK     | CARBON        |           8 |           10 | warna       | bukan_warna | 1.97%          |\n",
      "|  3658 | ADI     | VIVTEA        |           5 |            6 | warna       | bukan_warna | 26.08%         |\n",
      "|  6992 | ADI     | CARBON        |           5 |            6 | warna       | bukan_warna | 1.97%          |\n",
      "|  9197 | ADI     | ANK           |           2 |            4 | bukan_warna | warna       | 90.51%         |\n",
      "|  6913 | ADI     | OWHITE        |           5 |            5 | warna       | bukan_warna | 22.71%         |\n",
      "| 26544 | NIK     | ACDMY         |           3 |           10 | bukan_warna | warna       | 74.72%         |\n",
      "| 55064 | SOC     | NAVY          |           3 |            4 | warna       | bukan_warna | 8.11%          |\n",
      "|  3906 | ADI     | REARED        |           4 |            6 | warna       | bukan_warna | 8.44%          |\n",
      "| 54866 | SAU     | NAVY          |           3 |            4 | warna       | bukan_warna | 8.11%          |\n",
      "|  1798 | ADI     | CLPINK        |           5 |            5 | warna       | bukan_warna | 31.94%         |\n",
      "| 48138 | PTG     | NAVY          |           2 |            3 | warna       | bukan_warna | 8.11%          |\n",
      "| 21095 | HER     | NAVY          |           6 |            7 | warna       | bukan_warna | 8.11%          |\n",
      "| 32944 | NIK     | HYPERVENOM    |           1 |            9 | bukan_warna | warna       | 94.85%         |\n",
      "| 15571 | ADI     | SAND          |           2 |            2 | warna       | bukan_warna | 8.78%          |\n",
      "| 13811 | ADI     | OWNTHEGAME    |           1 |            3 | bukan_warna | warna       | 74.23%         |\n",
      "| 10340 | ADI     | VALASION      |           2 |            4 | bukan_warna | warna       | 54.7%          |\n",
      "| 51324 | PUM     | BROWN         |           5 |            6 | warna       | bukan_warna | 39.65%         |\n",
      "| 27162 | NIK     | GLOW          |           8 |            9 | warna       | bukan_warna | 17.97%         |\n",
      "|  4275 | ADI     | MGREYH        |           5 |            7 | warna       | bukan_warna | 40.59%         |\n",
      "| 55981 | STN     | OATMEAL       |           2 |            2 | warna       | bukan_warna | 1.98%          |\n",
      "|  5570 | ADI     | ALPHAEDGE     |           1 |            5 | bukan_warna | warna       | 66.83%         |\n",
      "|   540 | ADI     | REATEA        |           4 |            5 | warna       | bukan_warna | 23.55%         |\n",
      "| 20762 | CAO     | 1BDR          |           3 |            3 | bukan_warna | warna       | 62.83%         |\n",
      "| 33831 | NIK     | EXPX14WHITE   |           2 |            4 | warna       | bukan_warna | 20.9%          |\n",
      "| 20191 | CAO     | 5600MS        |           2 |            3 | bukan_warna | warna       | 50.62%         |\n",
      "| 54157 | PUM     | FIGC          |           1 |            7 | bukan_warna | warna       | 95.07%         |\n",
      "| 54576 | REL     | 49            |           6 |            6 | warna       | bukan_warna | 0.95%          |\n",
      "|  8858 | ADI     | ONIX          |           4 |            4 | warna       | bukan_warna | 2.87%          |\n",
      "| 22756 | KIP     | METRO         |           2 |            4 | warna       | bukan_warna | 2.3%           |\n",
      "| 38254 | NIK     | NAVY          |           8 |           11 | warna       | bukan_warna | 8.11%          |\n",
      "| 20473 | CAO     | 5ADR          |           3 |            3 | bukan_warna | warna       | 58.48%         |\n",
      "| 11354 | ADI     | NAVY          |           5 |            5 | warna       | bukan_warna | 8.11%          |\n",
      "| 36024 | NIK     | N110          |           2 |           12 | bukan_warna | warna       | 52.47%         |\n",
      "| 12807 | ADI     | SAMBAROSE     |           1 |            4 | bukan_warna | warna       | 72.5%          |\n",
      "| 56746 | WAR     | PAISLEY       |           2 |            4 | warna       | bukan_warna | 10.4%          |\n",
      "| 26324 | NIK     | MERCURIALX    |           1 |           10 | bukan_warna | warna       | 64.81%         |\n",
      "|  1405 | ADI     | PK            |           2 |            4 | warna       | bukan_warna | 7.75%          |\n",
      "|  4010 | ADI     | MANAZERO      |           1 |            5 | bukan_warna | warna       | 52.65%         |\n",
      "| 17275 | AGL     | 5             |           5 |            6 | warna       | bukan_warna | 11.46%         |\n",
      "| 21507 | HER     | FOREST        |           2 |            5 | warna       | bukan_warna | 1.72%          |\n",
      "| 54562 | REL     | 49            |           6 |            6 | warna       | bukan_warna | 0.95%          |\n",
      "| 15616 | ADI     | EDGE.3        |           2 |            5 | bukan_warna | warna       | 94.49%         |\n",
      "|  8091 | ADI     | CLEORA        |           6 |            7 | warna       | bukan_warna | 15.4%          |\n",
      "|   762 | ADI     | MSILVE        |           6 |            6 | warna       | bukan_warna | 17.38%         |\n",
      "| 32754 | NIK     | NAVY          |           9 |           12 | warna       | bukan_warna | 8.11%          |\n",
      "|  7272 | ADI     | GREFIV        |           4 |            4 | warna       | bukan_warna | 10.86%         |\n",
      "|  7336 | ADI     | FORTARUN      |           1 |            6 | bukan_warna | warna       | 63.57%         |\n",
      "|  6861 | ADI     | DEERUPT       |           1 |            6 | bukan_warna | warna       | 77.13%         |\n",
      "| 26752 | NIK     | PEELORANGE    |           6 |            7 | warna       | bukan_warna | 8.1%           |\n",
      "| 55804 | STN     | VOLT          |           2 |            2 | warna       | bukan_warna | 8.05%          |\n",
      "| 38091 | NIK     | GLOW          |           9 |            9 | warna       | bukan_warna | 17.97%         |\n",
      "|  2304 | ADI     | ALTASWIM      |           1 |            5 | bukan_warna | warna       | 60.68%         |\n",
      "| 44843 | NIK     | NAVY          |           8 |           11 | warna       | bukan_warna | 8.11%          |\n",
      "| 12023 | ADI     | LEGEND        |           2 |            3 | warna       | bukan_warna | 2.54%          |\n",
      "|  6095 | ADI     | CONAVY        |           5 |            6 | warna       | bukan_warna | 18.74%         |\n",
      "| 38387 | NIK     | CARBON        |          10 |           13 | warna       | bukan_warna | 1.97%          |\n",
      "| 10776 | ADI     | CRYSTAL       |           2 |            3 | warna       | bukan_warna | 1.25%          |\n",
      "| 21519 | HER     | PRPL          |           2 |            3 | warna       | bukan_warna | 17.27%         |\n",
      "| 31880 | NIK     | CARBON        |           5 |            8 | warna       | bukan_warna | 1.97%          |\n",
      "| 49108 | PUM     | LALIGA        |           1 |            9 | bukan_warna | warna       | 78.92%         |\n",
      "| 32109 | NIK     | OBRAX         |           1 |           11 | bukan_warna | warna       | 80.22%         |\n",
      "|  1079 | ADI     | SAMBAROSE     |           1 |            5 | bukan_warna | warna       | 72.5%          |\n",
      "| 20708 | CAO     | 5600B         |           2 |            3 | bukan_warna | warna       | 77.72%         |\n",
      "| 27568 | NIK     | HYPERVENOM    |           1 |           10 | bukan_warna | warna       | 94.85%         |\n",
      "|  2055 | ADI     | TECINK        |           5 |            6 | warna       | bukan_warna | 32.44%         |\n",
      "| 13382 | ADI     | ULTIMASHOW    |           1 |            3 | bukan_warna | warna       | 64.8%          |\n",
      "|  1656 | ADI     | ONIX          |           8 |            8 | warna       | bukan_warna | 2.87%          |\n",
      "| 41355 | NIK     | NJR           |           1 |           10 | bukan_warna | warna       | 58.31%         |\n",
      "| 46057 | NIK     | NAVY          |           9 |           11 | warna       | bukan_warna | 8.11%          |\n",
      "| 14748 | ADI     | NAVY          |           7 |            7 | warna       | bukan_warna | 8.11%          |\n",
      "| 51425 | PUM     | SCARLE        |           7 |            7 | warna       | bukan_warna | 28.57%         |\n",
      "|  6570 | ADI     | CRYWHT        |           5 |            6 | warna       | bukan_warna | 15.21%         |\n",
      "|  6786 | ADI     | RAWGRE        |           5 |            7 | warna       | bukan_warna | 27.69%         |\n",
      "| 13531 | ADI     | NAVY          |           7 |            7 | warna       | bukan_warna | 8.11%          |\n",
      "|  8185 | ADI     | OWHITE        |           4 |            6 | warna       | bukan_warna | 22.71%         |\n",
      "| 20418 | CAO     | 2000SU        |           2 |            3 | bukan_warna | warna       | 59.95%         |\n",
      "| 26015 | NIK     | WHT           |          11 |           11 | warna       | bukan_warna | 20.68%         |\n",
      "|   399 | ADI     | POWRED        |           6 |            6 | warna       | bukan_warna | 10.18%         |\n",
      "| 21264 | HER     | FROG          |           2 |            3 | warna       | bukan_warna | 2.64%          |\n",
      "| 55478 | STN     | UMPQUA        |           2 |            8 | bukan_warna | warna       | 64.32%         |\n",
      "|  3992 | ADI     | TRACAR        |           5 |            6 | warna       | bukan_warna | 41.94%         |\n",
      "|  8759 | ADI     | ACTIVE        |           3 |            7 | warna       | bukan_warna | 2.2%           |\n",
      "| 37425 | NIK     | ELMNTL        |           2 |            7 | bukan_warna | warna       | 76.67%         |\n",
      "|   790 | ADI     | SUPPNK        |           4 |            6 | warna       | bukan_warna | 17.73%         |\n",
      "|  5935 | ADI     | TRACAR        |           4 |            5 | warna       | bukan_warna | 41.94%         |\n",
      "| 11694 | ADI     | CORE          |           2 |            3 | warna       | bukan_warna | 12.15%         |\n",
      "|  2027 | ADI     | MSILVE        |           5 |            5 | warna       | bukan_warna | 17.38%         |\n",
      "| 22760 | KIP     | ARMOR         |           2 |            4 | warna       | bukan_warna | 3.96%          |\n",
      "| 10067 | ADI     | BYW           |           2 |            5 | bukan_warna | warna       | 57.86%         |\n",
      "| 32507 | NIK     | METCON        |           2 |            5 | bukan_warna | warna       | 83.89%         |\n",
      "|   256 | ADI     | TECINK        |           4 |            6 | warna       | bukan_warna | 32.44%         |\n",
      "|  4318 | ADI     | DKBLUE        |           4 |            6 | warna       | bukan_warna | 13.2%          |\n",
      "| 10573 | ADI     | METAL         |           2 |            3 | warna       | bukan_warna | 1.74%          |\n",
      "| 56484 | WAR     | NEON          |           2 |            5 | warna       | bukan_warna | 1.01%          |\n",
      "| 31743 | NIK     | CARBON        |           7 |           10 | warna       | bukan_warna | 1.97%          |\n",
      "| 33469 | NIK     | BROWN         |           9 |            9 | warna       | bukan_warna | 39.65%         |\n",
      "| 14254 | ADI     | NAVY          |           5 |            9 | warna       | bukan_warna | 8.11%          |\n",
      "|  1919 | ADI     | QTFLEX        |           1 |            4 | bukan_warna | warna       | 71.42%         |\n",
      "| 13304 | ADI     | X9000L4       |           1 |            4 | bukan_warna | warna       | 72.17%         |\n",
      "| 24677 | NIK     | FUTSLIDE      |           1 |            8 | bukan_warna | warna       | 50.7%          |\n",
      "| 24214 | NIK     | OKWAHN        |           1 |            9 | bukan_warna | warna       | 89.27%         |\n",
      "| 12386 | ADI     | TRF           |           1 |            4 | bukan_warna | warna       | 55.14%         |\n",
      "| 19482 | BBC     | NAVY          |           4 |            4 | warna       | bukan_warna | 8.11%          |\n",
      "| 54571 | REL     | 49            |           8 |            8 | warna       | bukan_warna | 0.95%          |\n",
      "|  3774 | ADI     | PETNIT        |           5 |            5 | warna       | bukan_warna | 7.57%          |\n",
      "| 11431 | ADI     | CONAVY        |           3 |            3 | warna       | bukan_warna | 18.74%         |\n",
      "| 40860 | NIK     | NAVY          |          10 |           10 | warna       | bukan_warna | 8.11%          |\n",
      "| 45302 | NIK     | GLOW          |           9 |            9 | warna       | bukan_warna | 17.97%         |\n",
      "|  4155 | ADI     | MYSINK        |           4 |            5 | warna       | bukan_warna | 48.24%         |\n",
      "| 13173 | ADI     | SENSE.4       |           2 |            5 | bukan_warna | warna       | 54.74%         |\n",
      "| 45336 | NIK     | ELMNTL        |           2 |            8 | bukan_warna | warna       | 76.67%         |\n",
      "| 53690 | PUM     | NJR           |           1 |            6 | bukan_warna | warna       | 58.31%         |\n",
      "| 11185 | ADI     | X9000L3       |           1 |            4 | bukan_warna | warna       | 72.55%         |\n",
      "|   331 | ADI     | HIRAQU        |           6 |            7 | warna       | bukan_warna | 42.26%         |\n",
      "| 28741 | NIK     | ARROWZ        |           2 |            6 | bukan_warna | warna       | 75.17%         |\n",
      "| 27626 | NIK     | METCON        |           2 |            7 | bukan_warna | warna       | 83.89%         |\n",
      "| 21043 | HER     | NAVY          |           4 |            4 | warna       | bukan_warna | 8.11%          |\n",
      "|  7699 | ADI     | CARBON        |           7 |            7 | warna       | bukan_warna | 1.97%          |\n",
      "| 32222 | NIK     | VAPORX        |           2 |           10 | bukan_warna | warna       | 51.13%         |\n",
      "|  6701 | ADI     | CRYWHT        |           6 |            6 | warna       | bukan_warna | 15.21%         |\n",
      "| 51188 | PUM     | BROWN         |           8 |            9 | warna       | bukan_warna | 39.65%         |\n",
      "| 50514 | PUM     | PEACOAT       |           2 |            3 | warna       | bukan_warna | 29.83%         |\n",
      "| 16925 | ADI     | ENEBLU        |           6 |            7 | warna       | bukan_warna | 27.69%         |\n",
      "| 11997 | ADI     | CORE          |           2 |            3 | warna       | bukan_warna | 12.15%         |\n",
      "|  6039 | ADI     | GREFOU        |           4 |            6 | warna       | bukan_warna | 11.85%         |\n",
      "|  1716 | ADI     | DEERUPT       |           1 |            5 | bukan_warna | warna       | 77.13%         |\n",
      "| 17926 | AGL     | TACOLOCAL     |           1 |            3 | bukan_warna | warna       | 70.23%         |\n",
      "|  3555 | ADI     | CONAVY        |           6 |            7 | warna       | bukan_warna | 18.74%         |\n",
      "|  9541 | ADI     | CONAVY        |           2 |            3 | warna       | bukan_warna | 18.74%         |\n",
      "| 21167 | HER     | FOREST        |           2 |            2 | warna       | bukan_warna | 1.72%          |\n",
      "| 12464 | ADI     | BOTTL         |           2 |            4 | bukan_warna | warna       | 67.36%         |\n",
      "| 12017 | ADI     | CORE          |           2 |            3 | warna       | bukan_warna | 12.15%         |\n",
      "| 21457 | HER     | ARROWWOOD     |           2 |            2 | warna       | bukan_warna | 37.38%         |\n",
      "| 42357 | NIK     | ONDECK        |           2 |            7 | bukan_warna | warna       | 69.73%         |\n",
      "|   836 | ADI     | CONAVY        |           5 |            6 | warna       | bukan_warna | 18.74%         |\n",
      "| 29739 | NIK     | BROWN         |           8 |            8 | warna       | bukan_warna | 39.65%         |\n",
      "| 29082 | NIK     | CARBON        |           5 |           10 | warna       | bukan_warna | 1.97%          |\n",
      "| 42835 | NIK     | NAVY          |           9 |           12 | warna       | bukan_warna | 8.11%          |\n",
      "| 12005 | ADI     | RAW           |           2 |            3 | warna       | bukan_warna | 10.17%         |\n",
      "|  1759 | ADI     | BRBLUE        |           3 |            5 | warna       | bukan_warna | 34.32%         |\n",
      "| 11286 | ADI     | RETRORUN      |           1 |            3 | bukan_warna | warna       | 92.55%         |\n",
      "|  3406 | ADI     | BROWN         |           4 |            4 | warna       | bukan_warna | 39.65%         |\n",
      "|   190 | ADI     | DKBLUE        |           4 |            5 | warna       | bukan_warna | 13.2%          |\n",
      "| 46940 | NIK     | REACTBRIGHT   |           2 |            7 | warna       | bukan_warna | 31.82%         |\n",
      "|  1746 | ADI     | DEERUPT       |           1 |            5 | bukan_warna | warna       | 77.13%         |\n",
      "|  2547 | ADI     | CWHITE        |           6 |            6 | warna       | bukan_warna | 34.19%         |\n",
      "|  6798 | ADI     | CWHITE        |           8 |            8 | warna       | bukan_warna | 34.19%         |\n",
      "|  6076 | ADI     | CARBON        |           5 |            5 | warna       | bukan_warna | 1.97%          |\n",
      "| 28470 | NIK     | TIEMPO        |           1 |            7 | bukan_warna | warna       | 74.9%          |\n",
      "|  8054 | ADI     | TRAPNK        |           7 |            7 | warna       | bukan_warna | 48.93%         |\n",
      "| 15761 | ADI     | ALUMINA       |           3 |            3 | warna       | bukan_warna | 2.21%          |\n",
      "| 11107 | ADI     | MULTICOLOR    |           2 |            4 | bukan_warna | warna       | 72.86%         |\n",
      "| 29763 | NIK     | DUALTONE      |           2 |            7 | bukan_warna | warna       | 62.25%         |\n",
      "|  4355 | ADI     | ICEPNK        |           4 |            6 | warna       | bukan_warna | 36.66%         |\n",
      "| 55911 | STN     | MELANGE       |           2 |            3 | warna       | bukan_warna | 4.09%          |\n",
      "|  8292 | ADI     | CLEORA        |           6 |            8 | warna       | bukan_warna | 15.4%          |\n",
      "|  2698 | ADI     | CARBON        |           6 |            6 | warna       | bukan_warna | 1.97%          |\n",
      "| 12263 | ADI     | CLSC          |           1 |            4 | bukan_warna | warna       | 75.23%         |\n",
      "| 15600 | ADI     | SPEEDFLOW.3   |           2 |            5 | bukan_warna | warna       | 89.42%         |\n",
      "| 19926 | CAO     | 2B1DR         |           3 |            3 | bukan_warna | warna       | 73.21%         |\n",
      "| 54184 | PUM     | FIGC          |           1 |            7 | bukan_warna | warna       | 95.07%         |\n",
      "|  2828 | ADI     | SOBAKOV       |           1 |            4 | bukan_warna | warna       | 76.76%         |\n",
      "|  1478 | ADI     | LACELESS      |           2 |            4 | bukan_warna | warna       | 52.25%         |\n",
      "|  1387 | ADI     | SBROWN        |           2 |            4 | warna       | bukan_warna | 32.06%         |\n",
      "|   969 | ADI     | SHOYEL        |           6 |            7 | warna       | bukan_warna | 28.61%         |\n",
      "| 10249 | ADI     | GLOW          |           2 |            3 | warna       | bukan_warna | 17.97%         |\n",
      "| 45362 | NIK     | BROWN         |           6 |           10 | warna       | bukan_warna | 39.65%         |\n",
      "| 54527 | REL     | 49            |           7 |            7 | warna       | bukan_warna | 0.95%          |\n",
      "|  2197 | ADI     | EASGRN        |           7 |            7 | warna       | bukan_warna | 32.5%          |\n",
      "| 21469 | HER     | IVY           |           2 |            5 | warna       | bukan_warna | 5.67%          |\n",
      "| 10134 | ADI     | CORE          |           2 |            3 | warna       | bukan_warna | 12.15%         |\n",
      "|  1403 | ADI     | F17           |           4 |            4 | warna       | bukan_warna | 41.01%         |\n",
      "| 30229 | NIK     | LUNARCHARGE   |           2 |            8 | bukan_warna | warna       | 88.03%         |\n",
      "| 36821 | NIK     | NAVY          |           5 |            7 | warna       | bukan_warna | 8.11%          |\n",
      "| 14131 | ADI     | X9000L4       |           1 |            5 | bukan_warna | warna       | 72.17%         |\n",
      "| 30705 | NIK     | CARBON        |           9 |           10 | warna       | bukan_warna | 1.97%          |\n",
      "| 10424 | ADI     | CORE          |           2 |            7 | warna       | bukan_warna | 12.15%         |\n",
      "|  5372 | ADI     | CARBON        |           6 |            6 | warna       | bukan_warna | 1.97%          |\n",
      "| 11241 | ADI     | S.RDY         |           2 |            5 | bukan_warna | warna       | 55.58%         |\n",
      "| 52652 | PUM     | GLOW          |           4 |            6 | warna       | bukan_warna | 17.97%         |\n",
      "|  7565 | ADI     | VAPGRE        |           5 |            5 | warna       | bukan_warna | 10.29%         |\n",
      "| 54557 | REL     | 49            |           6 |            6 | warna       | bukan_warna | 0.95%          |\n",
      "| 10029 | ADI     | ASH           |           3 |            4 | warna       | bukan_warna | 1.12%          |\n",
      "|   479 | ADI     | CCMELS        |           3 |            3 | warna       | bukan_warna | 18.28%         |\n",
      "| 16247 | ADI     | MULTICOLOR    |           2 |            2 | bukan_warna | warna       | 72.86%         |\n",
      "| 21042 | HER     | 600D          |           2 |            4 | warna       | bukan_warna | 20.88%         |\n",
      "| 35206 | NIK     | BROWN         |          12 |           12 | warna       | bukan_warna | 39.65%         |\n",
      "| 44628 | NIK     | NAVY          |           7 |            9 | warna       | bukan_warna | 8.11%          |\n",
      "| 22789 | KIP     | BROWN         |           3 |            4 | warna       | bukan_warna | 39.65%         |\n",
      "|  5488 | ADI     | CBROWN        |           4 |            6 | warna       | bukan_warna | 19.14%         |\n",
      "|  2592 | ADI     | ICEPUR        |           2 |            4 | warna       | bukan_warna | 11.32%         |\n",
      "|  5265 | ADI     | CONAVY        |           4 |            6 | warna       | bukan_warna | 18.74%         |\n",
      "|  7372 | ADI     | SGREEN        |           2 |            4 | warna       | bukan_warna | 9.32%          |\n",
      "| 13706 | ADI     | SPEEDFLOW.3   |           2 |            5 | bukan_warna | warna       | 89.42%         |\n",
      "| 56715 | WAR     | MINT          |           2 |            5 | warna       | bukan_warna | 8.9%           |\n",
      "| 27571 | NIK     | HYPERVENOM    |           1 |           10 | bukan_warna | warna       | 94.85%         |\n",
      "|  1697 | ADI     | CONAVY        |           4 |            4 | warna       | bukan_warna | 18.74%         |\n",
      "|  8701 | ADI     | CONAVY        |           4 |            5 | warna       | bukan_warna | 18.74%         |\n",
      "| 25205 | NIK     | HYPERVENOM    |           1 |            9 | bukan_warna | warna       | 94.85%         |\n",
      "|   319 | ADI     | CLEMIN        |           6 |            6 | warna       | bukan_warna | 20.49%         |\n",
      "|  8451 | ADI     | ASH           |           3 |            5 | warna       | bukan_warna | 1.12%          |\n",
      "| 20727 | CAO     | S6900MC       |           2 |            3 | bukan_warna | warna       | 63.97%         |\n",
      "| 55080 | SOC     | SNIPPLE       |           1 |            5 | bukan_warna | warna       | 86.55%         |\n",
      "|  2827 | ADI     | CHACOR        |           5 |            5 | warna       | bukan_warna | 15.05%         |\n",
      "|  4501 | ADI     | SUBGRN        |           6 |            6 | warna       | bukan_warna | 33.45%         |\n",
      "| 15466 | ADI     | SAVANNAH      |           2 |            2 | warna       | bukan_warna | 4.09%          |\n",
      "| 54951 | SAU     | TAN           |           2 |            3 | warna       | bukan_warna | 14.28%         |\n",
      "| 22780 | KIP     | SHADOW        |           2 |            4 | warna       | bukan_warna | 1.52%          |\n",
      "|  8171 | ADI     | ASHSIL        |           6 |            7 | warna       | bukan_warna | 24.08%         |\n",
      "| 15766 | ADI     | CHALK         |           2 |            3 | warna       | bukan_warna | 8.35%          |\n",
      "|  1914 | ADI     | DKBLUE        |           3 |            5 | warna       | bukan_warna | 13.2%          |\n",
      "| 56226 | WAR     | ORANGE        |           2 |            5 | bukan_warna | warna       | 81.34%         |\n",
      "| 20660 | CAO     | 200RD         |           2 |            3 | bukan_warna | warna       | 76.47%         |\n",
      "|  7638 | ADI     | QTFLEX        |           2 |            6 | bukan_warna | warna       | 71.42%         |\n",
      "| 56112 | WAR     | RED           |           1 |            7 | bukan_warna | warna       | 97.51%         |\n",
      "|  9134 | ADI     | NAVY          |           5 |            5 | warna       | bukan_warna | 8.11%          |\n",
      "|  7748 | ADI     | LTPINK        |           5 |            6 | warna       | bukan_warna | 33.09%         |\n",
      "|  4385 | ADI     | GREFIV        |           4 |            5 | warna       | bukan_warna | 10.86%         |\n",
      "| 32645 | NIK     | BROWN         |           5 |            9 | warna       | bukan_warna | 39.65%         |\n",
      "|  3245 | ADI     | GREFIV        |           6 |            6 | warna       | bukan_warna | 10.86%         |\n",
      "| 56014 | VAP     | 0.7L          |           1 |            5 | bukan_warna | warna       | 50.0%          |\n",
      "| 10359 | ADI     | FORTARUN      |           1 |            5 | bukan_warna | warna       | 63.57%         |\n",
      "| 11491 | ADI     | NAVY          |           5 |            5 | warna       | bukan_warna | 8.11%          |\n",
      "| 28249 | NIK     | GLOW          |          10 |           12 | warna       | bukan_warna | 17.97%         |\n",
      "|  7677 | ADI     | CRYWHT        |           6 |            7 | warna       | bukan_warna | 15.21%         |\n",
      "| 14005 | ADI     | NAVY          |           4 |            4 | warna       | bukan_warna | 8.11%          |\n",
      "|  1018 | ADI     | REDNIT        |           5 |            5 | warna       | bukan_warna | 43.67%         |\n",
      "|  1063 | ADI     | SAMBAROSE     |           1 |            5 | bukan_warna | warna       | 72.5%          |\n",
      "| 12260 | ADI     | CLSC          |           1 |            4 | bukan_warna | warna       | 75.23%         |\n",
      "| 17198 | AGL     | YELLOW        |           2 |            5 | bukan_warna | warna       | 89.07%         |\n",
      "| 11359 | ADI     | C40           |           2 |            4 | bukan_warna | warna       | 59.72%         |\n",
      "| 20466 | CAO     | 2110ET        |           2 |            3 | bukan_warna | warna       | 70.88%         |\n",
      "| 16824 | ADI     | ICEPNK        |           5 |            6 | warna       | bukan_warna | 36.66%         |\n",
      "| 50395 | PUM     | PUMA          |           2 |            5 | warna       | bukan_warna | 4.21%          |\n",
      "|  6090 | ADI     | GREFIV        |           5 |            6 | warna       | bukan_warna | 10.86%         |\n",
      "| 34700 | NIK     | EBERNON       |           2 |            5 | bukan_warna | warna       | 68.67%         |\n",
      "| 32998 | NIK     | 23            |          10 |           11 | warna       | bukan_warna | 1.88%          |\n",
      "|  1686 | ADI     | ORCTIN        |           5 |            6 | warna       | bukan_warna | 21.4%          |\n",
      "| 20168 | CAO     | 8DR           |           3 |            3 | bukan_warna | warna       | 88.99%         |\n",
      "|  1257 | ADI     | PROPHERE      |           1 |            4 | bukan_warna | warna       | 75.27%         |\n",
      "| 31343 | NIK     | BROWN         |          10 |           10 | warna       | bukan_warna | 39.65%         |\n",
      "|   895 | ADI     | CONFED        |           1 |            6 | bukan_warna | warna       | 81.99%         |\n",
      "| 12714 | ADI     | CTY           |           2 |            4 | bukan_warna | warna       | 59.04%         |\n",
      "| 48075 | PTG     | ORANGE        |           2 |            3 | bukan_warna | warna       | 81.34%         |\n",
      "| 20988 | HER     | NAVY          |           4 |            5 | warna       | bukan_warna | 8.11%          |\n",
      "|  8818 | ADI     | CONEXT19      |           1 |            3 | bukan_warna | warna       | 68.85%         |\n",
      "|  3965 | ADI     | CONAVY        |           4 |            5 | warna       | bukan_warna | 18.74%         |\n",
      "|  6891 | ADI     | DEERUPT       |           1 |            5 | bukan_warna | warna       | 77.13%         |\n",
      "|  5718 | ADI     | ALTARUN       |           1 |            7 | bukan_warna | warna       | 88.32%         |\n",
      "| 28969 | NIK     | CARBON        |           8 |           10 | warna       | bukan_warna | 1.97%          |\n",
      "| 20987 | HER     | 600D          |           2 |            5 | warna       | bukan_warna | 20.88%         |\n",
      "|  2834 | ADI     | SHOPNK        |           6 |            7 | warna       | bukan_warna | 17.0%          |\n",
      "| 25550 | NIK     | MERCURIALX    |           1 |           12 | bukan_warna | warna       | 64.81%         |\n",
      "| 22828 | KIP     | VANILLA       |           2 |            4 | warna       | bukan_warna | 3.61%          |\n",
      "| 12025 | ADI     | CORE          |           2 |            3 | warna       | bukan_warna | 12.15%         |\n",
      "|  9534 | ADI     | CONAVY        |           2 |            2 | warna       | bukan_warna | 18.74%         |\n",
      "|  4237 | ADI     | GREFIV        |           5 |            5 | warna       | bukan_warna | 10.86%         |\n",
      "| 10938 | ADI     | STEPBACK      |           2 |            4 | bukan_warna | warna       | 59.97%         |\n",
      "|  9537 | ADI     | CONAVY        |           3 |            3 | warna       | bukan_warna | 18.74%         |\n",
      "| 19829 | CAO     | AW5914ADR     |           2 |            3 | bukan_warna | warna       | 58.17%         |\n",
      "| 54953 | SAU     | BRN           |           2 |            3 | warna       | bukan_warna | 5.43%          |\n",
      "|  1810 | ADI     | REAMAG        |           3 |            5 | warna       | bukan_warna | 9.48%          |\n",
      "| 42240 | NIK     | BROWN         |          10 |           10 | warna       | bukan_warna | 39.65%         |\n",
      "| 45351 | NIK     | NAVY          |           9 |           10 | warna       | bukan_warna | 8.11%          |\n",
      "| 56661 | WAR     | THE           |           2 |            5 | warna       | bukan_warna | 18.78%         |\n",
      "|  9480 | ADI     | ANK           |           2 |            4 | bukan_warna | warna       | 90.51%         |\n",
      "| 46828 | NIK     | BROWN         |           7 |           10 | warna       | bukan_warna | 39.65%         |\n",
      "|  3866 | ADI     | REARED        |           4 |            5 | warna       | bukan_warna | 8.44%          |\n",
      "|  1751 | ADI     | FORTARUN      |           1 |            7 | bukan_warna | warna       | 63.57%         |\n",
      "| 20233 | CAO     | 5900RS        |           2 |            3 | bukan_warna | warna       | 67.28%         |\n",
      "| 21032 | HER     | NAVY          |           3 |            6 | warna       | bukan_warna | 8.11%          |\n",
      "|  7864 | ADI     | CARBON        |           4 |            6 | warna       | bukan_warna | 1.97%          |\n",
      "|  8313 | ADI     | OWHITE        |           5 |            7 | warna       | bukan_warna | 22.71%         |\n",
      "|  9502 | ADI     | ANK           |           2 |            4 | bukan_warna | warna       | 90.51%         |\n",
      "|  4222 | ADI     | SESAME        |           5 |            7 | warna       | bukan_warna | 3.41%          |\n",
      "|  5715 | ADI     | PROPHERE      |           1 |            4 | bukan_warna | warna       | 75.27%         |\n",
      "| 29687 | NIK     | BROWN         |           8 |            8 | warna       | bukan_warna | 39.65%         |\n",
      "| 28452 | NIK     | TIEMPO        |           2 |           11 | bukan_warna | warna       | 74.9%          |\n",
      "| 10996 | ADI     | CORE          |           2 |            3 | warna       | bukan_warna | 12.15%         |\n",
      "| 32901 | NIK     | HYPERVENOM    |           1 |           10 | bukan_warna | warna       | 94.85%         |\n",
      "|  9636 | ADI     | INF           |           2 |            3 | bukan_warna | warna       | 65.23%         |\n",
      "|  6806 | ADI     | CARBON        |           6 |            8 | warna       | bukan_warna | 1.97%          |\n",
      "| 54017 | PUM     | FIGC          |           1 |            6 | bukan_warna | warna       | 95.07%         |\n",
      "|  7049 | ADI     | CARBON        |           5 |            6 | warna       | bukan_warna | 1.97%          |\n",
      "|  3677 | ADI     | REARED        |           5 |            7 | warna       | bukan_warna | 8.44%          |\n",
      "| 23451 | NIC     | NAVY          |          10 |           14 | warna       | bukan_warna | 8.11%          |\n",
      "| 56022 | VAP     | 0.7L          |           1 |            4 | bukan_warna | warna       | 50.0%          |\n",
      "|  5509 | ADI     | SCARLE        |           5 |            7 | warna       | bukan_warna | 28.57%         |\n",
      "|  4532 | ADI     | CWHITE        |           6 |            6 | warna       | bukan_warna | 34.19%         |\n",
      "| 46128 | NIK     | BROWN         |           8 |           10 | warna       | bukan_warna | 39.65%         |\n",
      "|   725 | ADI     | CLEORA        |           6 |            7 | warna       | bukan_warna | 15.4%          |\n",
      "| 13687 | ADI     | X9000L4       |           1 |            3 | bukan_warna | warna       | 72.17%         |\n",
      "| 14544 | ADI     | WHT           |           3 |            3 | warna       | bukan_warna | 20.68%         |\n",
      "| 16588 | ADI     | X9000L4       |           1 |            4 | bukan_warna | warna       | 72.17%         |\n",
      "|  2569 | ADI     | OWHITE        |           4 |            6 | warna       | bukan_warna | 22.71%         |\n",
      "|  6760 | ADI     | TRACAR        |           4 |            4 | warna       | bukan_warna | 41.94%         |\n",
      "| 24924 | NIK     | YTH           |           2 |            9 | bukan_warna | warna       | 69.09%         |\n",
      "|  1407 | ADI     | CARGO         |           4 |            4 | warna       | bukan_warna | 9.55%          |\n",
      "|  2001 | ADI     | NGTCAR        |           4 |            6 | warna       | bukan_warna | 42.73%         |\n",
      "| 21603 | HER     | DARK          |           2 |            5 | warna       | bukan_warna | 27.8%          |\n",
      "|  7274 | ADI     | SESAME        |           2 |            4 | warna       | bukan_warna | 3.41%          |\n",
      "|  4879 | ADI     | HIRERE        |           4 |            6 | warna       | bukan_warna | 10.23%         |\n",
      "| 26239 | NIK     | MERCURIALX    |           2 |           10 | bukan_warna | warna       | 64.81%         |\n",
      "|  7870 | ADI     | VAPGRE        |           7 |            7 | warna       | bukan_warna | 10.29%         |\n",
      "| 47559 | NIK     | 3PPK          |           2 |           10 | bukan_warna | warna       | 53.58%         |\n",
      "| 36627 | NIK     | NAVY          |           5 |            8 | warna       | bukan_warna | 8.11%          |\n",
      "| 55463 | STN     | JOVEN         |           2 |            4 | bukan_warna | warna       | 86.25%         |\n",
      "| 46663 | NIK     | ASUNK         |           1 |            8 | bukan_warna | warna       | 71.18%         |\n",
      "| 21604 | HER     | BROWN         |           5 |            5 | warna       | bukan_warna | 39.65%         |\n",
      "| 19524 | BBC     | BLEACHED      |           1 |            6 | bukan_warna | warna       | 71.67%         |\n",
      "| 46829 | NIK     | BROWN         |           9 |           10 | warna       | bukan_warna | 39.65%         |\n",
      "| 13069 | ADI     | BROWN         |           4 |            4 | warna       | bukan_warna | 39.65%         |\n",
      "| 54661 | REL     | 35            |           5 |            5 | warna       | bukan_warna | 4.4%           |\n",
      "| 10576 | ADI     | SAND          |           2 |            2 | warna       | bukan_warna | 8.78%          |\n",
      "|  3490 | ADI     | SHOCK         |           2 |            3 | warna       | bukan_warna | 7.61%          |\n",
      "| 20547 | CAO     | 1A2DR         |           3 |            3 | bukan_warna | warna       | 63.21%         |\n",
      "|  9936 | ADI     | MAGMUR        |           1 |            6 | bukan_warna | warna       | 61.4%          |\n",
      "| 21085 | HER     | POLY          |           2 |            5 | warna       | bukan_warna | 8.66%          |\n",
      "| 10316 | ADI     | OWNTHEGAME    |           1 |            3 | bukan_warna | warna       | 74.23%         |\n",
      "|  5879 | ADI     | NOBMAR        |           5 |            6 | warna       | bukan_warna | 4.71%          |\n",
      "|  1563 | ADI     | RAWGRE        |           4 |            5 | warna       | bukan_warna | 27.69%         |\n",
      "| 21685 | HER     | NIGHT         |           2 |            3 | warna       | bukan_warna | 1.85%          |\n",
      "| 16626 | ADI     | OWHITE        |           7 |            7 | warna       | bukan_warna | 22.71%         |\n",
      "|   800 | ADI     | CONAVY        |           3 |            5 | warna       | bukan_warna | 18.74%         |\n",
      "| 45342 | NIK     | ELMNTL        |           2 |           10 | bukan_warna | warna       | 76.67%         |\n",
      "| 21037 | HER     | 600D          |           2 |            4 | warna       | bukan_warna | 20.88%         |\n",
      "|  3750 | ADI     | AFA           |           1 |            6 | bukan_warna | warna       | 59.08%         |\n",
      "|  7052 | ADI     | CRYWHT        |           4 |            6 | warna       | bukan_warna | 15.21%         |\n",
      "| 23757 | NIK     | BROWN         |          10 |           10 | warna       | bukan_warna | 39.65%         |\n",
      "| 24983 | NIK     | MERCURIALX    |           2 |           12 | bukan_warna | warna       | 64.81%         |\n",
      "|  4815 | ADI     | GREFIV        |           6 |            6 | warna       | bukan_warna | 10.86%         |\n",
      "|  7740 | ADI     | RAWGRE        |           6 |            6 | warna       | bukan_warna | 27.69%         |\n",
      "|  1592 | ADI     | CWHITE        |           4 |            5 | warna       | bukan_warna | 34.19%         |\n",
      "| 30907 | NIK     | BROWN         |          11 |           12 | warna       | bukan_warna | 39.65%         |\n",
      "| 18208 | BBC     | CLEAR         |           2 |            8 | bukan_warna | warna       | 50.35%         |\n",
      "| 54031 | PUM     | BORUSSE       |           2 |            7 | bukan_warna | warna       | 69.45%         |\n",
      "| 10910 | ADI     | MUTATOR       |           2 |            7 | bukan_warna | warna       | 82.25%         |\n",
      "|  5159 | ADI     | SHOEBAG       |           2 |            4 | bukan_warna | warna       | 57.34%         |\n",
      "|  6852 | ADI     | PROPHERE      |           1 |            5 | bukan_warna | warna       | 75.27%         |\n",
      "| 20480 | CAO     | CSWGYOSAD     |           1 |            3 | bukan_warna | warna       | 64.98%         |\n",
      "| 15190 | ADI     | NAVY          |           4 |            4 | warna       | bukan_warna | 8.11%          |\n",
      "| 14069 | ADI     | SAMBAROSE     |           1 |            4 | bukan_warna | warna       | 72.5%          |\n",
      "|  8479 | ADI     | CORE          |           2 |            3 | warna       | bukan_warna | 12.15%         |\n",
      "| 54612 | REL     | 35            |           7 |            7 | warna       | bukan_warna | 4.4%           |\n",
      "| 28689 | NIK     | GLOW          |           9 |           11 | warna       | bukan_warna | 17.97%         |\n",
      "| 12923 | ADI     | CORE          |           2 |            3 | warna       | bukan_warna | 12.15%         |\n",
      "| 20513 | CAO     | 3ADR          |           3 |            3 | bukan_warna | warna       | 71.37%         |\n",
      "|  6772 | ADI     | OWHITE        |           7 |            7 | warna       | bukan_warna | 22.71%         |\n",
      "| 14727 | ADI     | LEGEND        |           2 |            3 | warna       | bukan_warna | 2.54%          |\n",
      "|  6770 | ADI     | CBROWN        |           5 |            7 | warna       | bukan_warna | 19.14%         |\n",
      "|  1899 | ADI     | HIRAQU        |           3 |            5 | warna       | bukan_warna | 42.26%         |\n",
      "|  4254 | ADI     | CONAVY        |           6 |            6 | warna       | bukan_warna | 18.74%         |\n",
      "|  1900 | ADI     | HIRAQU        |           4 |            5 | warna       | bukan_warna | 42.26%         |\n",
      "| 33814 | NIK     | EXPZ07WHITE   |           2 |            3 | warna       | bukan_warna | 34.37%         |\n",
      "|  7119 | ADI     | CWHITE        |           4 |            6 | warna       | bukan_warna | 34.19%         |\n",
      "|  7805 | ADI     | CARBON        |           4 |            6 | warna       | bukan_warna | 1.97%          |\n",
      "| 20775 | CIT     | AF            |           3 |            5 | bukan_warna | warna       | 64.09%         |\n",
      "|  2207 | ADI     | TURBO         |           6 |            6 | warna       | bukan_warna | 0.94%          |\n",
      "| 22457 | KIP     | RS46          |           1 |            5 | bukan_warna | warna       | 71.93%         |\n",
      "| 21386 | HER     | BRBDSCHRY     |           2 |            3 | warna       | bukan_warna | 45.77%         |\n",
      "|  2424 | ADI     | TURBO         |           7 |            7 | warna       | bukan_warna | 0.94%          |\n",
      "| 46731 | NIK     | CARBON        |           5 |           10 | warna       | bukan_warna | 1.97%          |\n",
      "|  6886 | ADI     | DEERUPT       |           1 |            5 | bukan_warna | warna       | 77.13%         |\n",
      "|  5204 | ADI     | TRAPNK        |           5 |            6 | warna       | bukan_warna | 48.93%         |\n",
      "|  7371 | ADI     | PROPHERE      |           1 |            4 | bukan_warna | warna       | 75.27%         |\n",
      "| 11314 | ADI     | MUTATOR       |           2 |            6 | bukan_warna | warna       | 82.25%         |\n",
      "| 10320 | ADI     | CORE          |           2 |            7 | warna       | bukan_warna | 12.15%         |\n",
      "|  3183 | ADI     | MYSINK        |           7 |            7 | warna       | bukan_warna | 48.24%         |\n",
      "| 35213 | NIK     | GLOW          |          10 |           10 | warna       | bukan_warna | 17.97%         |\n",
      "|  5170 | ADI     | FEF           |           1 |            5 | bukan_warna | warna       | 50.67%         |\n",
      "| 16112 | ADI     | VAPOUR        |           2 |            3 | warna       | bukan_warna | 14.01%         |\n",
      "|  1911 | ADI     | GREFIV        |           6 |            6 | warna       | bukan_warna | 10.86%         |\n",
      "| 27055 | NIK     | ONDA          |           2 |            9 | bukan_warna | warna       | 73.03%         |\n",
      "| 11545 | ADI     | ACTIVE        |           3 |            4 | warna       | bukan_warna | 2.2%           |\n",
      "|  9705 | ADI     | ASH           |           3 |            5 | warna       | bukan_warna | 1.12%          |\n",
      "| 43926 | NIK     | NAVY          |           8 |            8 | warna       | bukan_warna | 8.11%          |\n",
      "|  4659 | ADI     | BOAQUA        |           2 |            4 | warna       | bukan_warna | 15.24%         |\n",
      "| 38771 | NIK     | BROWN         |          10 |           10 | warna       | bukan_warna | 39.65%         |\n",
      "| 54733 | REL     | 49            |           7 |            8 | warna       | bukan_warna | 0.95%          |\n",
      "|  2588 | ADI     | CONAVY        |           2 |            4 | warna       | bukan_warna | 18.74%         |\n",
      "| 29699 | NIK     | DUALTONE      |           2 |            8 | bukan_warna | warna       | 62.25%         |\n",
      "|  6884 | ADI     | GREFOU        |           4 |            5 | warna       | bukan_warna | 11.85%         |\n",
      "|  4083 | ADI     | ICEPNK        |           4 |            6 | warna       | bukan_warna | 36.66%         |\n",
      "| 22824 | KIP     | VANILLA       |           2 |            4 | warna       | bukan_warna | 3.61%          |\n",
      "| 46230 | NIK     | NAVY          |           7 |            9 | warna       | bukan_warna | 8.11%          |\n",
      "|   577 | ADI     | HIRAQU        |           6 |            6 | warna       | bukan_warna | 42.26%         |\n",
      "| 21106 | HER     | POLY          |           2 |            4 | warna       | bukan_warna | 8.66%          |\n",
      "| 48162 | PTG     | GREEN         |           2 |            3 | bukan_warna | warna       | 94.05%         |\n",
      "|  6086 | ADI     | HIRERE        |           6 |            6 | warna       | bukan_warna | 10.23%         |\n",
      "|  5236 | ADI     | C40           |           1 |            8 | bukan_warna | warna       | 59.72%         |\n",
      "| 47555 | NIK     | 3PPK          |           3 |            7 | bukan_warna | warna       | 53.58%         |\n",
      "| 21982 | HER     | FLORAL        |           2 |            3 | warna       | bukan_warna | 12.21%         |\n",
      "|  2268 | ADI     | MYSINK        |           6 |            7 | warna       | bukan_warna | 48.24%         |\n",
      "| 42234 | NIK     | NAVY          |           6 |           10 | warna       | bukan_warna | 8.11%          |\n",
      "|  4065 | ADI     | SESOYE        |           6 |            6 | warna       | bukan_warna | 46.29%         |\n",
      "| 24523 | NIK     | ANTHRACITE    |           3 |            5 | warna       | bukan_warna | 5.65%          |\n",
      "|   778 | ADI     | SCARLE        |           4 |            6 | warna       | bukan_warna | 28.57%         |\n",
      "|  9776 | ADI     | ANK           |           2 |            5 | bukan_warna | warna       | 90.51%         |\n",
      "| 17938 | AND     | BROWN         |           4 |            4 | warna       | bukan_warna | 39.65%         |\n",
      "| 11697 | ADI     | CORE          |           2 |            3 | warna       | bukan_warna | 12.15%         |\n",
      "| 54636 | REL     | 35            |           6 |            6 | warna       | bukan_warna | 4.4%           |\n",
      "|  2910 | ADI     | ONIX          |           4 |            5 | warna       | bukan_warna | 2.87%          |\n",
      "|  3701 | ADI     | CROYAL        |           5 |            5 | warna       | bukan_warna | 39.06%         |\n",
      "| 23016 | KIP     | NAVY          |           3 |            4 | warna       | bukan_warna | 8.11%          |\n",
      "|  2909 | ADI     | CARBON        |           3 |            5 | warna       | bukan_warna | 1.97%          |\n",
      "|  4889 | ADI     | STARLANCER    |           1 |            5 | bukan_warna | warna       | 66.83%         |\n",
      "|  6845 | ADI     | OWHITE        |           6 |            7 | warna       | bukan_warna | 22.71%         |\n",
      "| 52023 | PUM     | ANZARUN       |           1 |            6 | bukan_warna | warna       | 83.68%         |\n",
      "|  6881 | ADI     | DEERUPT       |           1 |            5 | bukan_warna | warna       | 77.13%         |\n",
      "| 22725 | KIP     | FS68          |           1 |            4 | bukan_warna | warna       | 79.76%         |\n",
      "| 47705 | NIK     | 3PPK          |           3 |            7 | bukan_warna | warna       | 53.58%         |\n",
      "|  6943 | ADI     | HIRERE        |           4 |            6 | warna       | bukan_warna | 10.23%         |\n",
      "| 12683 | ADI     | NAVY          |           3 |            3 | warna       | bukan_warna | 8.11%          |\n",
      "| 13709 | ADI     | SPEEDFLOW.3   |           2 |            5 | bukan_warna | warna       | 89.42%         |\n",
      "| 32639 | NIK     | BROWN         |           9 |            9 | warna       | bukan_warna | 39.65%         |\n",
      "|   588 | ADI     | CARBON        |           5 |            6 | warna       | bukan_warna | 1.97%          |\n",
      "|   777 | ADI     | INF           |           3 |            6 | bukan_warna | warna       | 65.23%         |\n",
      "| 48114 | PTG     | NAVY          |           8 |            8 | warna       | bukan_warna | 8.11%          |\n",
      "| 40901 | NIK     | GLOW          |          11 |           11 | warna       | bukan_warna | 17.97%         |\n",
      "| 14243 | ADI     | CORE          |           2 |            7 | warna       | bukan_warna | 12.15%         |\n",
      "| 20256 | CAO     | 8DR           |           3 |            4 | bukan_warna | warna       | 88.99%         |\n",
      "| 39749 | NIK     | ATSUMA        |           2 |            8 | bukan_warna | warna       | 66.4%          |\n",
      "|  9908 | ADI     | FUTUREPACER   |           1 |            3 | bukan_warna | warna       | 53.18%         |\n",
      "|  7278 | ADI     | CWHITE        |           2 |            4 | warna       | bukan_warna | 34.19%         |\n",
      "|  7116 | ADI     | POWRED        |           5 |            5 | warna       | bukan_warna | 10.18%         |\n",
      "| 10328 | ADI     | ACTIVE        |           2 |            3 | warna       | bukan_warna | 2.2%           |\n",
      "| 19919 | CAO     | 150FL         |           2 |            3 | bukan_warna | warna       | 53.1%          |\n",
      "| 15225 | ADI     | NAVY          |           6 |            6 | warna       | bukan_warna | 8.11%          |\n",
      "| 54549 | REL     | 49            |           8 |            8 | warna       | bukan_warna | 0.95%          |\n",
      "| 27543 | NIK     | MERCURIALX    |           1 |           11 | bukan_warna | warna       | 64.81%         |\n",
      "|  9135 | ADI     | GYMSACK       |           1 |            3 | bukan_warna | warna       | 84.56%         |\n",
      "|  3316 | ADI     | BLUSPI        |           4 |            4 | warna       | bukan_warna | 2.56%          |\n",
      "| 33002 | NIK     | NAVY          |          10 |           11 | warna       | bukan_warna | 8.11%          |\n",
      "|  2704 | ADI     | ASHPEA        |           3 |            5 | warna       | bukan_warna | 37.38%         |\n",
      "| 48475 | PUM     | EVOSPEED      |           1 |            8 | bukan_warna | warna       | 64.06%         |\n",
      "|   263 | ADI     | BLUSPI        |           5 |            5 | warna       | bukan_warna | 2.56%          |\n",
      "|   244 | ADI     | CARBON        |           3 |            4 | warna       | bukan_warna | 1.97%          |\n",
      "|  8771 | ADI     | CONEXT19      |           1 |            3 | bukan_warna | warna       | 68.85%         |\n",
      "| 16288 | ADI     | BLK           |           2 |            5 | bukan_warna | warna       | 90.16%         |\n",
      "| 13114 | ADI     | NAVY          |           4 |            4 | warna       | bukan_warna | 8.11%          |\n",
      "| 22701 | KIP     | FS66          |           1 |            5 | bukan_warna | warna       | 67.33%         |\n",
      "| 21174 | HER     | RED           |           4 |            8 | bukan_warna | warna       | 97.51%         |\n",
      "|  5607 | ADI     | SUPPNK        |           4 |            6 | warna       | bukan_warna | 17.73%         |\n",
      "|  5285 | ADI     | BLUSPI        |           5 |            5 | warna       | bukan_warna | 2.56%          |\n",
      "| 35941 | NIK     | GLOW          |           9 |            9 | warna       | bukan_warna | 17.97%         |\n",
      "| 17081 | ADI     | ADISOCK       |           1 |            4 | bukan_warna | warna       | 81.34%         |\n",
      "|  4283 | ADI     | SCARLE        |           6 |            6 | warna       | bukan_warna | 28.57%         |\n",
      "| 11176 | ADI     | X9000L3       |           1 |            4 | bukan_warna | warna       | 72.55%         |\n",
      "| 40776 | NIK     | BROWN         |          11 |           11 | warna       | bukan_warna | 39.65%         |\n",
      "| 21034 | HER     | 600D          |           2 |            5 | warna       | bukan_warna | 20.88%         |\n",
      "| 13299 | ADI     | CORE          |           2 |            3 | warna       | bukan_warna | 12.15%         |\n",
      "|  1715 | ADI     | OWHITE        |           5 |            5 | warna       | bukan_warna | 22.71%         |\n",
      "| 29098 | NIK     | 8ASHEN        |           3 |            6 | warna       | bukan_warna | 12.62%         |\n",
      "| 40232 | NIK     | GLOW          |           7 |           11 | warna       | bukan_warna | 17.97%         |\n",
      "|  7006 | ADI     | VIRAL2        |           2 |            6 | bukan_warna | warna       | 50.53%         |\n",
      "| 54901 | SAU     | LOWPRO        |           2 |            4 | bukan_warna | warna       | 54.57%         |\n",
      "| 16035 | ADI     | OWNTHEGAME    |           1 |            4 | bukan_warna | warna       | 74.23%         |\n",
      "|  8669 | ADI     | CARBON        |           4 |            5 | warna       | bukan_warna | 1.97%          |\n",
      "|  6764 | ADI     | CARBON        |           5 |            7 | warna       | bukan_warna | 1.97%          |\n",
      "|  1527 | ADI     | CARBON        |           5 |            6 | warna       | bukan_warna | 1.97%          |\n",
      "| 31116 | NIK     | ANTHRACITE    |           3 |            6 | warna       | bukan_warna | 5.65%          |\n",
      "| 31261 | NIK     | VARSITY       |           2 |            6 | warna       | bukan_warna | 2.61%          |\n",
      "| 18808 | BBC     | NAVY          |           5 |            5 | warna       | bukan_warna | 8.11%          |\n",
      "|  9246 | ADI     | 2PP           |           3 |            5 | bukan_warna | warna       | 55.75%         |\n",
      "| 27576 | NIK     | HYPERVENOM    |           1 |            9 | bukan_warna | warna       | 94.85%         |\n",
      "| 55555 | STN     | LOGOMAN       |           2 |            5 | bukan_warna | warna       | 71.27%         |\n",
      "| 21384 | HER     | ASH           |           2 |            3 | warna       | bukan_warna | 1.12%          |\n",
      "| 32114 | NIK     | OBRAX         |           1 |           10 | bukan_warna | warna       | 80.22%         |\n",
      "|  3783 | ADI     | EQTGRN        |           4 |            6 | warna       | bukan_warna | 6.68%          |\n",
      "| 54724 | REL     | 35            |           5 |            6 | warna       | bukan_warna | 4.4%           |\n",
      "|  2403 | ADI     | OWHITE        |           8 |            8 | warna       | bukan_warna | 22.71%         |\n",
      "| 55759 | STN     | RASTA         |           2 |            2 | warna       | bukan_warna | 5.01%          |\n",
      "|  2267 | ADI     | MYSINK        |           5 |            7 | warna       | bukan_warna | 48.24%         |\n",
      "|  3843 | ADI     | PETNIT        |           4 |            6 | warna       | bukan_warna | 7.57%          |\n",
      "| 13308 | ADI     | CORE          |           2 |            3 | warna       | bukan_warna | 12.15%         |\n",
      "| 13296 | ADI     | X9000L4       |           1 |            3 | bukan_warna | warna       | 72.17%         |\n",
      "|  3088 | ADI     | OWHITE        |           6 |            7 | warna       | bukan_warna | 22.71%         |\n",
      "|  3715 | ADI     | GREFIV        |           6 |            6 | warna       | bukan_warna | 10.86%         |\n",
      "| 16063 | ADI     | PRIMEBLUE     |           2 |            4 | warna       | bukan_warna | 22.63%         |\n",
      "|  2227 | ADI     | MYSINK        |           4 |            6 | warna       | bukan_warna | 48.24%         |\n",
      "|   656 | ADI     | BGREEN        |           7 |            7 | warna       | bukan_warna | 20.2%          |\n",
      "|  1386 | ADI     | PROPHERE      |           1 |            4 | bukan_warna | warna       | 75.27%         |\n",
      "|   873 | ADI     | VAPGRE        |           4 |            6 | warna       | bukan_warna | 10.29%         |\n",
      "|  5248 | ADI     | CORBLU        |           4 |            6 | warna       | bukan_warna | 10.96%         |\n",
      "| 14406 | ADI     | MICROPACER_R1 |           1 |            3 | bukan_warna | warna       | 90.84%         |\n",
      "| 32893 | NIK     | HYPERVENOM    |           1 |           13 | bukan_warna | warna       | 94.85%         |\n",
      "| 21428 | HER     | ASH           |           2 |            3 | warna       | bukan_warna | 1.12%          |\n",
      "| 42214 | NIK     | NAVY          |           7 |            9 | warna       | bukan_warna | 8.11%          |\n",
      "|   235 | ADI     | ASHSIL        |           6 |            7 | warna       | bukan_warna | 24.08%         |\n",
      "| 24199 | NIK     | BROWN         |           5 |            6 | warna       | bukan_warna | 39.65%         |\n",
      "|  3977 | ADI     | CLONIX        |           8 |            8 | warna       | bukan_warna | 14.34%         |\n",
      "| 11634 | ADI     | ALTASWIM      |           1 |            9 | bukan_warna | warna       | 60.68%         |\n",
      "|  7279 | ADI     | CWHITE        |           3 |            4 | warna       | bukan_warna | 34.19%         |\n",
      "| 23752 | NIK     | NAVY          |           6 |           10 | warna       | bukan_warna | 8.11%          |\n",
      "|  6532 | ADI     | SESAME        |           6 |            7 | warna       | bukan_warna | 3.41%          |\n",
      "|  6870 | ADI     | BLUBIR        |           5 |            5 | warna       | bukan_warna | 25.92%         |\n",
      "| 32913 | NIK     | HYPERVENOM    |           1 |            8 | bukan_warna | warna       | 94.85%         |\n",
      "| 25371 | NIK     | 23            |           6 |            6 | warna       | bukan_warna | 1.88%          |\n",
      "| 13895 | ADI     | FORTARUN      |           1 |            7 | bukan_warna | warna       | 63.57%         |\n",
      "| 21687 | HER     | DARK          |           2 |            4 | warna       | bukan_warna | 27.8%          |\n",
      "| 22291 | KIP     | BROWN         |           3 |            4 | warna       | bukan_warna | 39.65%         |\n",
      "|  3981 | ADI     | GREFIV        |           5 |            6 | warna       | bukan_warna | 10.86%         |\n",
      "| 22804 | KIP     | POWDER        |           2 |            4 | warna       | bukan_warna | 5.1%           |\n",
      "| 35787 | NIK     | VARSITY       |           2 |           10 | warna       | bukan_warna | 2.61%          |\n",
      "| 15445 | ADI     | CORE          |           2 |            3 | warna       | bukan_warna | 12.15%         |\n",
      "| 25943 | NIK     | ESSENTIALIST  |           2 |            7 | bukan_warna | warna       | 56.6%          |\n",
      "|  1673 | ADI     | SHOPNK        |           4 |            6 | warna       | bukan_warna | 17.0%          |\n",
      "|  3487 | ADI     | FUTUREPACER   |           1 |            4 | bukan_warna | warna       | 53.18%         |\n",
      "| 47988 | PSB     | PERSIB        |           2 |            4 | bukan_warna | warna       | 77.61%         |\n",
      "|  5873 | ADI     | ASHSIL        |           5 |            7 | warna       | bukan_warna | 24.08%         |\n",
      "| 22176 | KIP     | BROWN         |           3 |            4 | warna       | bukan_warna | 39.65%         |\n",
      "| 30182 | NIK     | NAVY          |           5 |            9 | warna       | bukan_warna | 8.11%          |\n",
      "| 24674 | NIK     | FUTSLIDE      |           1 |            8 | bukan_warna | warna       | 50.7%          |\n",
      "|  8776 | ADI     | CONEXT19      |           1 |            4 | bukan_warna | warna       | 68.85%         |\n",
      "| 10083 | ADI     | NAVY          |           3 |            3 | warna       | bukan_warna | 8.11%          |\n",
      "|  1664 | ADI     | ONIX          |           8 |            8 | warna       | bukan_warna | 2.87%          |\n",
      "| 21051 | HER     | NAVY          |           4 |            4 | warna       | bukan_warna | 8.11%          |\n",
      "|  7370 | ADI     | SHOYEL        |           5 |            5 | warna       | bukan_warna | 28.61%         |\n",
      "|  5576 | ADI     | RAWGRE        |           4 |            6 | warna       | bukan_warna | 27.69%         |\n",
      "|  3844 | ADI     | PETNIT        |           5 |            6 | warna       | bukan_warna | 7.57%          |\n",
      "| 15727 | ADI     | NAVY          |           5 |            5 | warna       | bukan_warna | 8.11%          |\n",
      "|  7241 | ADI     | CWHITE        |           4 |            5 | warna       | bukan_warna | 34.19%         |\n",
      "| 15367 | ADI     | TIRO          |           1 |            3 | bukan_warna | warna       | 58.89%         |\n",
      "|  4623 | ADI     | SBROWN        |           3 |            5 | warna       | bukan_warna | 32.06%         |\n",
      "|   652 | ADI     | STLT          |           3 |            7 | bukan_warna | warna       | 62.02%         |\n",
      "|  8894 | ADI     | ONIX          |           6 |            8 | warna       | bukan_warna | 2.87%          |\n",
      "|  7170 | ADI     | SHOYEL        |           3 |            5 | warna       | bukan_warna | 28.61%         |\n",
      "|  1017 | ADI     | NTGREY        |           4 |            5 | warna       | bukan_warna | 44.82%         |\n",
      "| 37383 | NIK     | ACDMY         |           2 |            8 | bukan_warna | warna       | 74.72%         |\n",
      "| 13380 | ADI     | CORE          |           2 |            3 | warna       | bukan_warna | 12.15%         |\n"
     ]
    }
   ],
   "source": [
    "# Menampilkan kesalahan prediksi dalam dataframe\n",
    "df_kesalahan_prediksi(label_encoder=label_encoder,\n",
    "                      test_data=test_data_mnb,\n",
    "                      prediksi=model_2_pred,\n",
    "                      probabilitas_prediksi=model_2_pred_prob,\n",
    "                      order_ulang_header=['brand',\n",
    "                                          'kata',\n",
    "                                          'urut_kata',\n",
    "                                          'total_kata',\n",
    "                                          'label'])"
   ]
  },
  {
   "cell_type": "code",
   "execution_count": 110,
   "metadata": {},
   "outputs": [
    {
     "data": {
      "text/plain": [
       "17409"
      ]
     },
     "execution_count": 110,
     "metadata": {},
     "output_type": "execute_result"
    }
   ],
   "source": [
    "# selesai dengan model 2, bersihkan memori di GPU terkait model_2\n",
    "del model_2\n",
    "gc.collect()"
   ]
  },
  {
   "cell_type": "markdown",
   "metadata": {},
   "source": [
    "## Model 3: Menggunakan Posisi Kata, Tipe Brand dan Lapisan Embed Custom yang diconcatenate\n",
    "\n",
    "Pada skenario training ini, kita akan mencoba untuk tidak hanya menggunakan input data kata dan label saja, tetapi juga menambahkan posisi kata dalam kalimat dan juga tipe brand sebagai variabel independen (fitur) yang mungkin dapat menentukan apakah sebuah kata adalah `bukan_warna` atau `warna`.\n",
    "Pada dasarnya kita akan membuat tumpukan layer yang mempelajari input data per kata dan juga mempelajari posisi dari kata dan juga tipe brand yang kemudian akan ditumpuk (*stack*) menjadi satu lapisan baru."
   ]
  },
  {
   "cell_type": "markdown",
   "metadata": {},
   "source": [
    "### Preprocessing untuk `urut_kata` dan `total_kata`?\n",
    "Sebelum kita melakukan *training* pada variabel `urut_kata` dan juga `total_kata`. Terdapat setidaknya dua opsi untuk menggunakan variabel independen ini:\n",
    "\n",
    "1. Melakukan pembagian `urut_kata` dan `total_kata` sehingga nilai dari posisi adalah diantara 0 sampai dengan 1, dimana ~0 menunjukkan posisi kata yang berada dekat dengan awal kalimat dan ~1 adalah posisi kata yang berada dengan akhir kalimat. Namun hal ini akan menyebabkan kita akan kehilangan beberapa informasi dari input data, sebagai contoh nilai 0.5 bisa diartikan sebagai kata pertama dalam kalimat yang terdiri dari dua kata (1/2) atau bisa juga berarti kata kelima dalam kalimat yang terdiri dari sepuluh kata (5/10).\n",
    "2. Menggunakan `urut_kata` dan `total_kata` sebagaimana adanya tanpa melakukan pembagian dan membiarkan model berusaha mempelajari makna dari variabel independen ini.\n",
    "\n",
    "Pada bagian ini, kita akan mencoba untuk menggunakan opsi pertama.\n"
   ]
  },
  {
   "cell_type": "markdown",
   "metadata": {},
   "source": [
    "### USE atau Custom Embedding?\n",
    "Dikarenakan pada model_2 kita dapat melihat bahwa penggunaan lapisan fitur esktraktor USE tidak dapat dengan baik memprediksi label kata (hal ini bisa disebabkan oleh beberapa hal, seperti fakta bahwa USE dilatih pada dataset *corpus* bahasa internasional yang mungkin lebih baku), maka kita akan kembali menggunakan lapisan *custom embedding* menggunakan Conv1D atau lapisan LSTM dua arah (*bi-directional LSTM*) seperti pada model_1."
   ]
  },
  {
   "cell_type": "markdown",
   "metadata": {},
   "source": [
    "### `urut_kata` dan `total_kata` Embedding\n",
    "\n",
    "Pada bagian ini kita akan melakukan embedding untuk posisional dari sebuah kata dalam kalimat seperti apa yang direpresentasikan oleh kolom `urut_kata` dan `total_kata`."
   ]
  },
  {
   "cell_type": "code",
   "execution_count": 111,
   "metadata": {},
   "outputs": [
    {
     "data": {
      "text/plain": [
       "2.0     11981\n",
       "1.0     11950\n",
       "5.0      3770\n",
       "3.0      3638\n",
       "4.0      3540\n",
       "6.0      3237\n",
       "7.0      2568\n",
       "8.0      1907\n",
       "9.0      1273\n",
       "10.0      858\n",
       "11.0      444\n",
       "12.0      172\n",
       "13.0       46\n",
       "14.0       12\n",
       "15.0        4\n",
       "Name: urut_kata, dtype: int64"
      ]
     },
     "execution_count": 111,
     "metadata": {},
     "output_type": "execute_result"
    }
   ],
   "source": [
    "# Distribusi jumlah kata dalam artikel - artikel\n",
    "train_data['urut_kata'].value_counts()"
   ]
  },
  {
   "cell_type": "code",
   "execution_count": 112,
   "metadata": {},
   "outputs": [
    {
     "data": {
      "image/png": "[encoded data removed]",
      "text/plain": [
       "<Figure size 432x288 with 1 Axes>"
      ]
     },
     "metadata": {},
     "output_type": "display_data"
    }
   ],
   "source": [
    "train_data['urut_kata'].plot.hist()\n",
    "plt.title('Distribusi Jumlah Kata dalam Artikel', fontsize=18)\n",
    "plt.show()"
   ]
  },
  {
   "cell_type": "code",
   "execution_count": 113,
   "metadata": {},
   "outputs": [
    {
     "data": {
      "text/plain": [
       "(<tf.Tensor: shape=(15, 15), dtype=float32, numpy=\n",
       " array([[0., 0., 0., 0., 0., 0., 0., 0., 0., 0., 0., 0., 1., 0., 0.],\n",
       "        [0., 0., 0., 0., 1., 0., 0., 0., 0., 0., 0., 0., 0., 0., 0.],\n",
       "        [0., 1., 0., 0., 0., 0., 0., 0., 0., 0., 0., 0., 0., 0., 0.],\n",
       "        [0., 0., 1., 0., 0., 0., 0., 0., 0., 0., 0., 0., 0., 0., 0.],\n",
       "        [0., 0., 0., 1., 0., 0., 0., 0., 0., 0., 0., 0., 0., 0., 0.],\n",
       "        [0., 0., 0., 0., 0., 1., 0., 0., 0., 0., 0., 0., 0., 0., 0.],\n",
       "        [0., 0., 1., 0., 0., 0., 0., 0., 0., 0., 0., 0., 0., 0., 0.],\n",
       "        [0., 0., 1., 0., 0., 0., 0., 0., 0., 0., 0., 0., 0., 0., 0.],\n",
       "        [0., 0., 0., 1., 0., 0., 0., 0., 0., 0., 0., 0., 0., 0., 0.],\n",
       "        [0., 0., 0., 0., 0., 0., 0., 0., 0., 0., 0., 1., 0., 0., 0.],\n",
       "        [0., 0., 0., 0., 0., 0., 0., 0., 1., 0., 0., 0., 0., 0., 0.],\n",
       "        [0., 1., 0., 0., 0., 0., 0., 0., 0., 0., 0., 0., 0., 0., 0.],\n",
       "        [0., 0., 1., 0., 0., 0., 0., 0., 0., 0., 0., 0., 0., 0., 0.],\n",
       "        [0., 0., 1., 0., 0., 0., 0., 0., 0., 0., 0., 0., 0., 0., 0.],\n",
       "        [0., 1., 0., 0., 0., 0., 0., 0., 0., 0., 0., 0., 0., 0., 0.]],\n",
       "       dtype=float32)>,\n",
       " TensorShape([45400, 15]))"
      ]
     },
     "execution_count": 113,
     "metadata": {},
     "output_type": "execute_result"
    }
   ],
   "source": [
    "# Karena panjang kata berbeda - beda, maka kita akan menggunakan one_hot encoding\n",
    "# dengan depth max\n",
    "max_kata = int(np.max(train_data['urut_kata']))\n",
    "\n",
    "# Membuat one_hot tensor untuk kolom 'urut_kata'\n",
    "train_data_urut_kata_one_hot = tf.one_hot(train_data['urut_kata'].to_numpy(), \n",
    "                                          depth=max_kata)\n",
    "test_data_urut_kata_one_hot = tf.one_hot(test_data['urut_kata'].to_numpy(),\n",
    "                                         depth=max_kata)\n",
    "train_data_urut_kata_one_hot[:15], train_data_urut_kata_one_hot.shape"
   ]
  },
  {
   "cell_type": "code",
   "execution_count": 114,
   "metadata": {},
   "outputs": [
    {
     "data": {
      "text/plain": [
       "6.0     6476\n",
       "5.0     6063\n",
       "7.0     5918\n",
       "8.0     5555\n",
       "9.0     5009\n",
       "4.0     4497\n",
       "10.0    4494\n",
       "11.0    2924\n",
       "3.0     2452\n",
       "12.0    1222\n",
       "13.0     405\n",
       "2.0      270\n",
       "14.0      77\n",
       "15.0      29\n",
       "1.0        9\n",
       "Name: total_kata, dtype: int64"
      ]
     },
     "execution_count": 114,
     "metadata": {},
     "output_type": "execute_result"
    }
   ],
   "source": [
    "# Distribusi 'total_kata'\n",
    "train_data['total_kata'].value_counts()"
   ]
  },
  {
   "cell_type": "code",
   "execution_count": 115,
   "metadata": {},
   "outputs": [
    {
     "data": {
      "image/png": "[encoded data removed]",
      "text/plain": [
       "<Figure size 432x288 with 1 Axes>"
      ]
     },
     "metadata": {},
     "output_type": "display_data"
    }
   ],
   "source": [
    "train_data['total_kata'].plot.hist()\n",
    "plt.title('Distribusi Panjang Kalimat dalam Artikel', fontsize=18)\n",
    "plt.show()"
   ]
  },
  {
   "cell_type": "code",
   "execution_count": 116,
   "metadata": {},
   "outputs": [
    {
     "data": {
      "text/plain": [
       "(<tf.Tensor: shape=(15, 15), dtype=float32, numpy=\n",
       " array([[0., 0., 0., 0., 0., 0., 0., 0., 0., 0., 0., 0., 1., 0., 0.],\n",
       "        [0., 0., 0., 0., 1., 0., 0., 0., 0., 0., 0., 0., 0., 0., 0.],\n",
       "        [0., 0., 0., 0., 0., 0., 0., 1., 0., 0., 0., 0., 0., 0., 0.],\n",
       "        [0., 0., 0., 0., 1., 0., 0., 0., 0., 0., 0., 0., 0., 0., 0.],\n",
       "        [0., 0., 0., 0., 1., 0., 0., 0., 0., 0., 0., 0., 0., 0., 0.],\n",
       "        [0., 0., 0., 0., 0., 0., 0., 0., 1., 0., 0., 0., 0., 0., 0.],\n",
       "        [0., 0., 0., 0., 0., 0., 1., 0., 0., 0., 0., 0., 0., 0., 0.],\n",
       "        [0., 0., 0., 0., 0., 0., 0., 0., 0., 1., 0., 0., 0., 0., 0.],\n",
       "        [0., 0., 0., 0., 1., 0., 0., 0., 0., 0., 0., 0., 0., 0., 0.],\n",
       "        [0., 0., 0., 0., 0., 0., 0., 0., 0., 0., 0., 0., 1., 0., 0.],\n",
       "        [0., 0., 0., 0., 0., 0., 0., 0., 1., 0., 0., 0., 0., 0., 0.],\n",
       "        [0., 0., 0., 0., 0., 1., 0., 0., 0., 0., 0., 0., 0., 0., 0.],\n",
       "        [0., 0., 0., 0., 1., 0., 0., 0., 0., 0., 0., 0., 0., 0., 0.],\n",
       "        [0., 0., 0., 0., 0., 0., 0., 0., 1., 0., 0., 0., 0., 0., 0.],\n",
       "        [0., 0., 0., 0., 0., 0., 1., 0., 0., 0., 0., 0., 0., 0., 0.]],\n",
       "       dtype=float32)>,\n",
       " TensorShape([45400, 15]))"
      ]
     },
     "execution_count": 116,
     "metadata": {},
     "output_type": "execute_result"
    }
   ],
   "source": [
    "max_kalimat = int(np.max(train_data['total_kata']))\n",
    "\n",
    "# Membuat one_hot tensor untuk kolom 'total_kata'\n",
    "train_data_total_kata_one_hot = tf.one_hot(train_data['total_kata'].to_numpy(),\n",
    "                                           depth=max_kalimat)\n",
    "test_data_total_kata_one_hot = tf.one_hot(test_data['total_kata'].to_numpy(),\n",
    "                                          depth=max_kalimat)\n",
    "train_data_total_kata_one_hot[:15], train_data_total_kata_one_hot.shape\n"
   ]
  },
  {
   "cell_type": "markdown",
   "metadata": {},
   "source": [
    "#### Membuat TensorFlow Dataset, Batching dan Preteching untuk Model 3"
   ]
  },
  {
   "cell_type": "code",
   "execution_count": 117,
   "metadata": {},
   "outputs": [],
   "source": [
    "# Membuat train dan test dataset (dengan 4 jenis input data)\n",
    "# Urutan dataset disesuaikan dengan urutan input data pada tf.keras.Model akhir (model_3)\n",
    "train_fitur_data = from_tensor_slices((train_data.iloc[:, 0],\n",
    "                                      train_data.iloc[:, 3:].to_numpy(),\n",
    "                                      train_data_urut_kata_one_hot,\n",
    "                                      train_data_total_kata_one_hot))\n",
    "train_target_data = from_tensor_slices(train_target)\n",
    "train_dataset = zip((train_fitur_data,\n",
    "                     train_target_data))\n",
    "train_dataset = train_dataset.batch(UKURAN_BATCH).prefetch(tf.data.AUTOTUNE)\n",
    "\n",
    "test_fitur_data = from_tensor_slices((test_data.iloc[:, 0],\n",
    "                                      test_data.iloc[:, 3:].to_numpy(),\n",
    "                                      test_data_urut_kata_one_hot,\n",
    "                                      test_data_total_kata_one_hot))\n",
    "test_target_data = from_tensor_slices(test_target)\n",
    "test_dataset = zip((test_fitur_data,\n",
    "                    test_target_data))\n",
    "test_dataset = test_dataset.batch(UKURAN_BATCH).prefetch(tf.data.AUTOTUNE)"
   ]
  },
  {
   "cell_type": "code",
   "execution_count": 118,
   "metadata": {},
   "outputs": [
    {
     "data": {
      "text/plain": [
       "(<BatchDataset element_spec=((TensorSpec(shape=(None,), dtype=tf.string, name=None), TensorSpec(shape=(None, 37), dtype=tf.float64, name=None), TensorSpec(shape=(None, 15), dtype=tf.float32, name=None), TensorSpec(shape=(None, 15), dtype=tf.float32, name=None)), TensorSpec(shape=(None,), dtype=tf.int32, name=None))>,\n",
       " <BatchDataset element_spec=((TensorSpec(shape=(None,), dtype=tf.string, name=None), TensorSpec(shape=(None, 37), dtype=tf.float64, name=None), TensorSpec(shape=(None, 15), dtype=tf.float32, name=None), TensorSpec(shape=(None, 15), dtype=tf.float32, name=None)), TensorSpec(shape=(None,), dtype=tf.int32, name=None))>)"
      ]
     },
     "execution_count": 118,
     "metadata": {},
     "output_type": "execute_result"
    }
   ],
   "source": [
    "# Check ukuran dan dimensi dataset\n",
    "train_dataset, test_dataset"
   ]
  },
  {
   "cell_type": "markdown",
   "metadata": {},
   "source": [
    "### Membangun dan Menjalankan Training Model 3\n",
    "\n",
    "1. Membuat model untuk `kata`\n",
    "2. Membuat model untuk `brand`\n",
    "3. Membuat model untuk `urut_kata`\n",
    "4. Membuat model untuk `total_kata`\n",
    "5. Mengkombinasikan output 1 & 2 menggunakan `tf.keras.layers.Concatenate`\n",
    "6. Menambahkan Dense dan Dropout layer untuk poin 5\n",
    "7. Mengkombinasikan output dari poin 3 & 4 menggunakan `tf.keras.layers.Concatenate`\n",
    "8. Mengkombinasikan output 6 & 7 menggunakan `tf.keras.layers.Concatenate`\n",
    "9. Membuat lapisan output yang menerima input dari 2 lapisan embedding di poin 8 dan menghasilkan output probabilitas\n",
    "8. Mengkombinasikan input 1, 2, 3, 4 dan output 9 dalam `tf.keras.Model`"
   ]
  },
  {
   "cell_type": "code",
   "execution_count": 119,
   "metadata": {},
   "outputs": [],
   "source": [
    "# Jika folder dengan path 'colorskim_checkpoint/{model.name}' sudah ada, maka skip fit model \n",
    "# untuk menghemat waktu pengembangan dan hanya load model yang sudah ada dalam folder tersebut \n",
    "# saja\n",
    "if not os.path.isdir(f'colorskim_checkpoint/{MODEL[3]}'):\n",
    "        # set random seed\n",
    "        tf.random.set_seed(RANDOM_STATE)\n",
    "        \n",
    "        # 1. model kata\n",
    "        input_kata = Input(shape=(1,), dtype=tf.string, name='lapisan_input_kata')\n",
    "        lapisan_vektorisasi_kata = lapisan_vektorisasi(input_kata)\n",
    "        lapisan_embedding_kata = lapisan_embedding(lapisan_vektorisasi_kata)\n",
    "        lapisan_bi_lstm_kata = Bidirectional(LSTM(units=UKURAN_BATCH), \n",
    "                                        name='lapisan_bidirectional_lstm_kata')(lapisan_embedding_kata)\n",
    "        # ubah bi_lstm menjadi Conv1D dengan GlobalMaxPooling\n",
    "        # lapisan_Conv1D = Conv1D(filters=UKURAN_BATCH,\n",
    "        #                         kernel_size=5,\n",
    "        #                         padding='same',\n",
    "        #                         activation='relu',\n",
    "        #                         name='lapisan_konvolusional_1D')(lapisan_embedding_kata)\n",
    "        # lapisan_max_pooling = GlobalMaxPooling1D(name='lapisan_max_pooling')(lapisan_Conv1D)\n",
    "        model_kata = Model(input_kata,\n",
    "                        lapisan_bi_lstm_kata,\n",
    "                        name='model_kata')\n",
    "\n",
    "        # 2. model brand\n",
    "        input_brand = Input(shape=(train_data.iloc[:, 3:].shape[1],), \n",
    "                        dtype=tf.float32,\n",
    "                        name='lapisan_input_brand')\n",
    "        x = Dense(units=UKURAN_BATCH, \n",
    "                activation='relu',\n",
    "                name='lapisan_dense_rectified_linear_unit_brand')(input_brand)\n",
    "        model_brand = Model(input_brand,\n",
    "                        x,\n",
    "                        name='model_brand')\n",
    "\n",
    "        # 3. model urut_kata\n",
    "        input_urut_kata = Input(shape=(max_kata,),\n",
    "                                dtype=tf.float32,\n",
    "                                name='lapisan_input_urut_kata')\n",
    "        x = Dense(units=UKURAN_BATCH,\n",
    "                activation='relu',\n",
    "                name='lapisan_dense_rectified_linear_unit_urut_kata')(input_urut_kata)\n",
    "        model_urut_kata = Model(input_urut_kata,\n",
    "                                x,\n",
    "                                name='model_urut_kata')\n",
    "\n",
    "        # 4. model total_kata\n",
    "        input_total_kata = Input(shape=(max_kalimat,),\n",
    "                                dtype=tf.float32,\n",
    "                                name='lapisan_input_total_kata')\n",
    "        x = Dense(units=UKURAN_BATCH,\n",
    "                activation='relu',\n",
    "                name='lapisan_dense_rectified_linear_unit_total_kata')(input_total_kata)\n",
    "        model_total_kata = Model(input_total_kata,\n",
    "                                x,\n",
    "                                name='model_total_kata')\n",
    "\n",
    "        # 5. Mengkombinasikan model kata dan brand\n",
    "        kombinasi_kata_brand = Concatenate(name='lapisan_kombinasi_kata_brand')([model_kata.output, \n",
    "                                                                                model_brand.output])\n",
    "\n",
    "        # 6. Menambahkan lapisan dense dan dropout dari output kombinasi kata dan brand\n",
    "        z = Dense(256, \n",
    "                activation='relu',\n",
    "                name='lapisan_dense_kombinasi_kata_brand')(kombinasi_kata_brand)\n",
    "        z = Dropout(0.5)(z)\n",
    "\n",
    "        # 7. Mengkombinasikan model 3 dan 4\n",
    "        kombinasi_urut_total_kata = Concatenate(name='lapisan_kombinasi_urut_total_kata')([model_urut_kata.output, \n",
    "                                                                                        model_total_kata.output])\n",
    "\n",
    "        # 8. Mengkombinasikan output di poin 6 dengan lapisan_kombinasi_urut_total_kata\n",
    "        kombinasi_kata_brand_urut_total_kata = Concatenate(name='lapisan_kombinasi_kata_brand_urut_total_kata')([z,\n",
    "                                                                                                                kombinasi_urut_total_kata])\n",
    "\n",
    "        # 9. Membuat lapisan output final\n",
    "        lapisan_output = Dense(units=1,\n",
    "                        activation='sigmoid',\n",
    "                        name='lapisan_output_final')(kombinasi_kata_brand_urut_total_kata)\n",
    "\n",
    "        # 10. Menyatukan semua model dari berbagai input\n",
    "        model_3 = Model(inputs=[model_kata.input,\n",
    "                                model_brand.input,\n",
    "                                model_urut_kata.input,\n",
    "                                model_total_kata.input],\n",
    "                        outputs=lapisan_output,\n",
    "                        name=MODEL[3])\n",
    "\n",
    "        # Compile model_3\n",
    "        model_3.compile(loss=BinaryCrossentropy(),\n",
    "                        optimizer=Adam(),\n",
    "                        metrics=['accuracy'])\n",
    "\n",
    "        # Setup wandb init dan config\n",
    "        wb.init(project=wandb['proyek'],\n",
    "                entity=wandb['user'],\n",
    "                name=model_3.name,\n",
    "                config={'epochs': EPOCHS,\n",
    "                        'n_layers': len(model_3.layers)})\n",
    "\n",
    "\n",
    "        # Fit model_3\n",
    "        model_3.fit(train_dataset,\n",
    "                    epochs=EPOCHS,\n",
    "                    validation_data=test_dataset,\n",
    "                    callbacks=[wandb_callback(train_dataset),\n",
    "                               model_checkpoint(model_3.name),\n",
    "                               reduce_lr_on_plateau(),\n",
    "                               early_stopping()])\n",
    "        \n",
    "        # tutup logging wandb\n",
    "        wb.finish()\n",
    "        \n",
    "        # load model_3\n",
    "        model_3 = load_model(f'colorskim_checkpoint/{MODEL[3]}')\n",
    "else:\n",
    "        # load model_3\n",
    "        model_3 = load_model(f'colorskim_checkpoint/{MODEL[3]}')"
   ]
  },
  {
   "cell_type": "code",
   "execution_count": 120,
   "metadata": {},
   "outputs": [
    {
     "name": "stdout",
     "output_type": "stream",
     "text": [
      "Model: \"model_3_quadbrid_embedding\"\n",
      "__________________________________________________________________________________________________\n",
      " Layer (type)                   Output Shape         Param #     Connected to                     \n",
      "==================================================================================================\n",
      " lapisan_input_kata (InputLayer  [(None, 1)]         0           []                               \n",
      " )                                                                                                \n",
      "                                                                                                  \n",
      " lapisan_vektorisasi (TextVecto  (None, 1)           0           ['lapisan_input_kata[0][0]']     \n",
      " rization)                                                                                        \n",
      "                                                                                                  \n",
      " lapisan_embedding (Embedding)  (None, 1, 32)        92992       ['lapisan_vektorisasi[0][0]']    \n",
      "                                                                                                  \n",
      " lapisan_input_brand (InputLaye  [(None, 37)]        0           []                               \n",
      " r)                                                                                               \n",
      "                                                                                                  \n",
      " lapisan_bidirectional_lstm_kat  (None, 64)          16640       ['lapisan_embedding[0][0]']      \n",
      " a (Bidirectional)                                                                                \n",
      "                                                                                                  \n",
      " lapisan_dense_rectified_linear  (None, 32)          1216        ['lapisan_input_brand[0][0]']    \n",
      " _unit_brand (Dense)                                                                              \n",
      "                                                                                                  \n",
      " lapisan_kombinasi_kata_brand (  (None, 96)          0           ['lapisan_bidirectional_lstm_kata\n",
      " Concatenate)                                                    [0][0]',                         \n",
      "                                                                  'lapisan_dense_rectified_linear_\n",
      "                                                                 unit_brand[0][0]']               \n",
      "                                                                                                  \n",
      " lapisan_input_urut_kata (Input  [(None, 15)]        0           []                               \n",
      " Layer)                                                                                           \n",
      "                                                                                                  \n",
      " lapisan_input_total_kata (Inpu  [(None, 15)]        0           []                               \n",
      " tLayer)                                                                                          \n",
      "                                                                                                  \n",
      " lapisan_dense_kombinasi_kata_b  (None, 256)         24832       ['lapisan_kombinasi_kata_brand[0]\n",
      " rand (Dense)                                                    [0]']                            \n",
      "                                                                                                  \n",
      " lapisan_dense_rectified_linear  (None, 32)          512         ['lapisan_input_urut_kata[0][0]']\n",
      " _unit_urut_kata (Dense)                                                                          \n",
      "                                                                                                  \n",
      " lapisan_dense_rectified_linear  (None, 32)          512         ['lapisan_input_total_kata[0][0]'\n",
      " _unit_total_kata (Dense)                                        ]                                \n",
      "                                                                                                  \n",
      " dropout (Dropout)              (None, 256)          0           ['lapisan_dense_kombinasi_kata_br\n",
      "                                                                 and[0][0]']                      \n",
      "                                                                                                  \n",
      " lapisan_kombinasi_urut_total_k  (None, 64)          0           ['lapisan_dense_rectified_linear_\n",
      " ata (Concatenate)                                               unit_urut_kata[0][0]',           \n",
      "                                                                  'lapisan_dense_rectified_linear_\n",
      "                                                                 unit_total_kata[0][0]']          \n",
      "                                                                                                  \n",
      " lapisan_kombinasi_kata_brand_u  (None, 320)         0           ['dropout[0][0]',                \n",
      " rut_total_kata (Concatenate)                                     'lapisan_kombinasi_urut_total_ka\n",
      "                                                                 ta[0][0]']                       \n",
      "                                                                                                  \n",
      " lapisan_output_final (Dense)   (None, 1)            321         ['lapisan_kombinasi_kata_brand_ur\n",
      "                                                                 ut_total_kata[0][0]']            \n",
      "                                                                                                  \n",
      "==================================================================================================\n",
      "Total params: 137,025\n",
      "Trainable params: 137,025\n",
      "Non-trainable params: 0\n",
      "__________________________________________________________________________________________________\n"
     ]
    }
   ],
   "source": [
    "# Ringkasan dari model_3\n",
    "model_3.summary()"
   ]
  },
  {
   "cell_type": "code",
   "execution_count": 121,
   "metadata": {},
   "outputs": [
    {
     "data": {
      "image/png": "[encoded data removed]",
      "text/plain": [
       "<IPython.core.display.Image object>"
      ]
     },
     "execution_count": 121,
     "metadata": {},
     "output_type": "execute_result"
    }
   ],
   "source": [
    "# plot struktur model_3\n",
    "plot_model(model_3, show_shapes=True)"
   ]
  },
  {
   "cell_type": "markdown",
   "metadata": {},
   "source": [
    "### Eksplorasi Hasil Model 3"
   ]
  },
  {
   "cell_type": "code",
   "execution_count": 122,
   "metadata": {},
   "outputs": [
    {
     "name": "stdout",
     "output_type": "stream",
     "text": [
      "355/355 [==============================] - 27s 76ms/step - loss: 0.0214 - accuracy: 0.9944\n"
     ]
    },
    {
     "data": {
      "text/plain": [
       "[0.021449144929647446, 0.9944498538970947]"
      ]
     },
     "execution_count": 122,
     "metadata": {},
     "output_type": "execute_result"
    }
   ],
   "source": [
    "# evaluasi model_3\n",
    "model_3.evaluate(test_dataset)"
   ]
  },
  {
   "cell_type": "code",
   "execution_count": 123,
   "metadata": {},
   "outputs": [
    {
     "data": {
      "text/plain": [
       "array([[9.9962115e-01],\n",
       "       [5.4790482e-05],\n",
       "       [9.9976093e-01],\n",
       "       ...,\n",
       "       [2.4132943e-08],\n",
       "       [3.0743347e-08],\n",
       "       [3.4280158e-05]], dtype=float32)"
      ]
     },
     "execution_count": 123,
     "metadata": {},
     "output_type": "execute_result"
    }
   ],
   "source": [
    "# prediksi probabilitas model_3\n",
    "model_3_pred_prob = model_3.predict(test_dataset)\n",
    "model_3_pred_prob"
   ]
  },
  {
   "cell_type": "code",
   "execution_count": 124,
   "metadata": {},
   "outputs": [
    {
     "data": {
      "text/plain": [
       "<tf.Tensor: shape=(11351,), dtype=float32, numpy=array([1., 0., 1., ..., 0., 0., 0.], dtype=float32)>"
      ]
     },
     "execution_count": 124,
     "metadata": {},
     "output_type": "execute_result"
    }
   ],
   "source": [
    "# membuat prediksi model_3\n",
    "model_3_pred = tf.squeeze(tf.round(model_3_pred_prob))\n",
    "model_3_pred"
   ]
  },
  {
   "cell_type": "code",
   "execution_count": 125,
   "metadata": {},
   "outputs": [
    {
     "data": {
      "text/plain": [
       "{'akurasi': 0.9944498282089683,\n",
       " 'presisi': 0.9944503482062841,\n",
       " 'recall': 0.9944498282089683,\n",
       " 'f1-score': 0.9944482769856459}"
      ]
     },
     "execution_count": 125,
     "metadata": {},
     "output_type": "execute_result"
    }
   ],
   "source": [
    "# metriks skor model_3\n",
    "model_3_metrik = hitung_metrik(target=test_target,\n",
    "                               prediksi=model_3_pred)\n",
    "model_3_metrik"
   ]
  },
  {
   "cell_type": "code",
   "execution_count": 126,
   "metadata": {},
   "outputs": [
    {
     "data": {
      "image/png": "[encoded data removed]",
      "text/plain": [
       "<Figure size 432x288 with 1 Axes>"
      ]
     },
     "metadata": {},
     "output_type": "display_data"
    }
   ],
   "source": [
    "# plot residual model_3\n",
    "residual_plot_logr(test_target=test_target,\n",
    "                   model=model_3,\n",
    "                   nama_model=MODEL[3],\n",
    "                   model_akurasi=model_3_metrik['akurasi'],\n",
    "                   probabilitas_prediksi_model=tf.squeeze(model_3_pred_prob))"
   ]
  },
  {
   "cell_type": "code",
   "execution_count": 127,
   "metadata": {},
   "outputs": [
    {
     "data": {
      "image/png": "[encoded data removed]",
      "text/plain": [
       "<Figure size 432x288 with 2 Axes>"
      ]
     },
     "metadata": {},
     "output_type": "display_data"
    }
   ],
   "source": [
    "# plot confusion matrix\n",
    "plot_conf_matrix(target_label=test_target,\n",
    "                 prediksi_label=model_3_pred,\n",
    "                 nama_model=MODEL[3],\n",
    "                 akurasi=model_3_metrik['akurasi'],\n",
    "                 label_titik_x=['bukan_warna', 'warna'],\n",
    "                 label_titik_y=['bukan_warna', 'warna'])"
   ]
  },
  {
   "cell_type": "code",
   "execution_count": 128,
   "metadata": {},
   "outputs": [
    {
     "name": "stdout",
     "output_type": "stream",
     "text": [
      "|       | brand   | kata        |   urut_kata |   total_kata | label       | prediksi    | probabilitas   |\n",
      "|------:|:--------|:------------|------------:|-------------:|:------------|:------------|:---------------|\n",
      "| 55259 | STN     | AQUA        |           3 |            3 | warna       | bukan_warna | 0.01%          |\n",
      "| 23355 | NIC     | 7           |          11 |           11 | warna       | bukan_warna | 3.41%          |\n",
      "| 56444 | WAR     | OREO        |           2 |            3 | warna       | bukan_warna | 1.82%          |\n",
      "| 14605 | ADI     | REPEAT      |           2 |            3 | bukan_warna | warna       | 50.28%         |\n",
      "| 46960 | NIK     | FTR10PURE   |           2 |            7 | warna       | bukan_warna | 0.32%          |\n",
      "| 13918 | ADI     | CARDBOARD   |           2 |            2 | warna       | bukan_warna | 44.58%         |\n",
      "| 12202 | ADI     | COM         |           2 |            3 | bukan_warna | warna       | 50.28%         |\n",
      "|  8735 | ADI     | FULL        |           1 |            3 | bukan_warna | warna       | 82.15%         |\n",
      "| 31091 | NIK     | VIALEBLACK  |           2 |            4 | warna       | bukan_warna | 0.51%          |\n",
      "|  5964 | ADI     | CLOUD       |           2 |            3 | warna       | bukan_warna | 19.68%         |\n",
      "| 21176 | HER     | ANGELS      |           2 |            3 | bukan_warna | warna       | 62.74%         |\n",
      "| 21451 | HER     | MEDIUM      |           2 |            3 | bukan_warna | warna       | 83.72%         |\n",
      "| 56083 | WAR     | GLOW        |           2 |            6 | bukan_warna | warna       | 67.72%         |\n",
      "| 55981 | STN     | OATMEAL     |           2 |            2 | warna       | bukan_warna | 18.83%         |\n",
      "| 33831 | NIK     | EXPX14WHITE |           2 |            4 | warna       | bukan_warna | 0.51%          |\n",
      "| 12345 | ADI     | FESTIV      |           2 |            3 | bukan_warna | warna       | 50.28%         |\n",
      "| 56746 | WAR     | PAISLEY     |           2 |            4 | warna       | bukan_warna | 0.88%          |\n",
      "|  1405 | ADI     | PK          |           2 |            4 | warna       | bukan_warna | 0.01%          |\n",
      "| 56086 | WAR     | GLOW        |           2 |            6 | bukan_warna | warna       | 67.72%         |\n",
      "| 17275 | AGL     | 5           |           5 |            6 | warna       | bukan_warna | 1.61%          |\n",
      "| 26752 | NIK     | PEELORANGE  |           6 |            7 | warna       | bukan_warna | 1.37%          |\n",
      "| 55804 | STN     | VOLT        |           2 |            2 | warna       | bukan_warna | 18.83%         |\n",
      "| 12023 | ADI     | LEGEND      |           2 |            3 | warna       | bukan_warna | 28.49%         |\n",
      "|  8962 | ADI     | CORE        |           2 |            4 | bukan_warna | warna       | 78.66%         |\n",
      "| 13740 | ADI     | MAROON      |           2 |            2 | warna       | bukan_warna | 44.58%         |\n",
      "| 10573 | ADI     | METAL       |           2 |            3 | warna       | bukan_warna | 0.05%          |\n",
      "| 56484 | WAR     | NEON        |           2 |            5 | warna       | bukan_warna | 0.11%          |\n",
      "| 46940 | NIK     | REACTBRIGHT |           2 |            7 | warna       | bukan_warna | 0.32%          |\n",
      "|  9992 | ADI     | TECH        |           2 |            4 | bukan_warna | warna       | 64.85%         |\n",
      "|  1403 | ADI     | F17         |           4 |            4 | warna       | bukan_warna | 1.2%           |\n",
      "| 52652 | PUM     | GLOW        |           4 |            6 | warna       | bukan_warna | 32.14%         |\n",
      "|  2592 | ADI     | ICEPUR      |           2 |            4 | warna       | bukan_warna | 38.93%         |\n",
      "|  7372 | ADI     | SGREEN      |           2 |            4 | warna       | bukan_warna | 38.93%         |\n",
      "| 10336 | ADI     | MAROON      |           2 |            2 | warna       | bukan_warna | 44.58%         |\n",
      "| 15466 | ADI     | SAVANNAH    |           2 |            2 | warna       | bukan_warna | 44.58%         |\n",
      "| 54951 | SAU     | TAN         |           2 |            3 | warna       | bukan_warna | 0.0%           |\n",
      "| 22780 | KIP     | SHADOW      |           2 |            4 | warna       | bukan_warna | 7.41%          |\n",
      "| 56226 | WAR     | ORANGE      |           2 |            5 | bukan_warna | warna       | 81.07%         |\n",
      "| 17198 | AGL     | YELLOW      |           2 |            5 | bukan_warna | warna       | 97.89%         |\n",
      "| 50395 | PUM     | PUMA        |           2 |            5 | warna       | bukan_warna | 0.01%          |\n",
      "| 48075 | PTG     | ORANGE      |           2 |            3 | bukan_warna | warna       | 97.78%         |\n",
      "| 54953 | SAU     | BRN         |           2 |            3 | warna       | bukan_warna | 4.62%          |\n",
      "| 56661 | WAR     | THE         |           2 |            5 | warna       | bukan_warna | 23.55%         |\n",
      "|  8968 | ADI     | CORE        |           2 |            4 | bukan_warna | warna       | 78.66%         |\n",
      "|  1407 | ADI     | CARGO       |           4 |            4 | warna       | bukan_warna | 1.22%          |\n",
      "| 16273 | ADI     | SWEATSHIRT  |           2 |            3 | bukan_warna | warna       | 50.28%         |\n",
      "|  3490 | ADI     | SHOCK       |           2 |            3 | warna       | bukan_warna | 0.09%          |\n",
      "| 14727 | ADI     | LEGEND      |           2 |            3 | warna       | bukan_warna | 28.49%         |\n",
      "| 33814 | NIK     | EXPZ07WHITE |           2 |            3 | warna       | bukan_warna | 0.8%           |\n",
      "|  8965 | ADI     | CORE        |           2 |            4 | bukan_warna | warna       | 78.66%         |\n",
      "|  4659 | ADI     | BOAQUA      |           2 |            4 | warna       | bukan_warna | 38.93%         |\n",
      "| 14574 | ADI     | OFF         |           2 |            4 | bukan_warna | warna       | 66.82%         |\n",
      "| 21982 | HER     | FLORAL      |           2 |            3 | warna       | bukan_warna | 3.38%          |\n",
      "| 21091 | HER     | 600D        |           3 |            6 | bukan_warna | warna       | 99.94%         |\n",
      "|  7224 | ADI     | SPR         |           2 |            3 | bukan_warna | warna       | 50.28%         |\n",
      "| 17520 | AGL     | BROWN       |           1 |            4 | bukan_warna | warna       | 77.41%         |\n",
      "| 48153 | PTG     | DOVE        |           2 |            3 | bukan_warna | warna       | 94.19%         |\n",
      "| 19643 | BEA     | 35          |           2 |            3 | bukan_warna | warna       | 60.07%         |\n",
      "| 16288 | ADI     | BLK         |           2 |            5 | bukan_warna | warna       | 99.4%          |\n",
      "| 21174 | HER     | RED         |           4 |            8 | bukan_warna | warna       | 99.77%         |\n",
      "| 29098 | NIK     | 8ASHEN      |           3 |            6 | warna       | bukan_warna | 0.93%          |\n",
      "| 55759 | STN     | RASTA       |           2 |            2 | warna       | bukan_warna | 18.83%         |\n",
      "| 31572 | NIK     | LIGHTCARBON |           4 |            6 | warna       | bukan_warna | 0.82%          |\n"
     ]
    }
   ],
   "source": [
    "# dataframe kesalahan prediksi model_3\n",
    "df_kesalahan_prediksi(label_encoder=label_encoder,\n",
    "                      test_data=test_data_mnb,\n",
    "                      prediksi=model_3_pred,\n",
    "                      probabilitas_prediksi=model_3_pred_prob,\n",
    "                      order_ulang_header=['brand',\n",
    "                                          'kata',\n",
    "                                          'urut_kata',\n",
    "                                          'total_kata',\n",
    "                                          'label'])"
   ]
  },
  {
   "cell_type": "code",
   "execution_count": 129,
   "metadata": {},
   "outputs": [
    {
     "data": {
      "text/plain": [
       "46876"
      ]
     },
     "execution_count": 129,
     "metadata": {},
     "output_type": "execute_result"
    }
   ],
   "source": [
    "# selesai dengan model 3, bersihkan memori di GPU terkait model_3\n",
    "del model_3\n",
    "gc.collect()"
   ]
  },
  {
   "cell_type": "code",
   "execution_count": 130,
   "metadata": {},
   "outputs": [
    {
     "data": {
      "text/plain": [
       "{'current': 25289984, 'peak': 2058732800}"
      ]
     },
     "execution_count": 130,
     "metadata": {},
     "output_type": "execute_result"
    }
   ],
   "source": [
    "tf.config.experimental.get_memory_info('GPU:0')"
   ]
  },
  {
   "cell_type": "code",
   "execution_count": 142,
   "metadata": {},
   "outputs": [],
   "source": [
    "# Membuat fungsi untuk mengambil bobot masing - masing kata dalam neuron model dengan embedding\n",
    "def get_bobot_kata(model_list,\n",
    "                   lapisan_vektorisasi=lapisan_vektorisasi):\n",
    "    \"\"\"\n",
    "    Fungsi ini akan menerima list model dengan lapisan embedding dan menghasilkan file\n",
    "    vectors_{model.name}.tsv serta file metadata.tsv untuk diproyeksikan\n",
    "    dalam bidang 3D tensorboard atau projector.tensorflow.org\n",
    "    \n",
    "    Args:\n",
    "        model_list (list): List model yang akan diekstrak bobot neuronnya dan dipergunakan sebagai input di bidang 3D\n",
    "        lapisan_vektorisasi (tf.keras.layers.TextVectorization): Lapisan text vektorisasi yang akan diambil vocabularynya untuk file metadata.tsv\n",
    "    \"\"\"\n",
    "    kata_dalam_vektorizer = lapisan_vektorisasi.get_vocabulary()\n",
    "    \n",
    "    for model in model_list:\n",
    "        model = load_model(f'colorskim_checkpoint/{model}')\n",
    "        bobot_kata_embed = model.get_layer('lapisan_embedding').get_weights()[0]\n",
    "        file_vektor = io.open(f'vectors_{model.name}.tsv', 'w', encoding='utf-8')\n",
    "        for indeks, _ in enumerate(kata_dalam_vektorizer):\n",
    "            if indeks == 0:\n",
    "                continue\n",
    "            vektor = bobot_kata_embed[indeks]\n",
    "            file_vektor.write('\\t'.join([str(x) for x in vektor]) + '\\n')\n",
    "        file_vektor.close()\n",
    "        del model\n",
    "        gc.collect()\n",
    "    \n",
    "    file_metadata = io.open(f'metadata.tsv', 'w', encoding='utf-8')\n",
    "    for kata in kata_dalam_vektorizer:\n",
    "        file_metadata.write(kata + '\\n')\n",
    "    file_metadata.close()         "
   ]
  },
  {
   "cell_type": "code",
   "execution_count": 143,
   "metadata": {},
   "outputs": [],
   "source": [
    "# Mengekstrak bobot masing - masing kata dalam neuron dengan model embedding\n",
    "get_bobot_kata([MODEL[1], MODEL[3]], lapisan_vektorisasi)"
   ]
  },
  {
   "cell_type": "code",
   "execution_count": null,
   "metadata": {},
   "outputs": [],
   "source": []
  }
 ],
 "metadata": {
  "kernelspec": {
   "display_name": "tf-py39",
   "language": "python",
   "name": "tf-py39"
  },
  "language_info": {
   "codemirror_mode": {
    "name": "ipython",
    "version": 3
   },
   "file_extension": ".py",
   "mimetype": "text/x-python",
   "name": "python",
   "nbconvert_exporter": "python",
   "pygments_lexer": "ipython3",
   "version": "3.9.12"
  },
  "orig_nbformat": 4,
  "vscode": {
   "interpreter": {
    "hash": "79d93ff88d3400081c5bbc856760c635900de0c16bb50c43f47156b09020e5ea"
   }
  }
 },
 "nbformat": 4,
 "nbformat_minor": 2
}
